{
 "cells": [
  {
   "cell_type": "markdown",
   "metadata": {},
   "source": [
    "<h1 align=\"center\">MSIN0114: Business Analytics Consulting Project</h1>\n",
    "<h2 align=\"center\">S2R Analytics</h2>"
   ]
  },
  {
   "cell_type": "markdown",
   "metadata": {},
   "source": [
    "# Table of Contents\n",
    "\n",
    "**Predictive analytics (ML pipeline)**\n",
    "\n",
    "* [Part 3](#part3): Exploratory data analysis\n",
    "<br />\n",
    "<br />\n",
    "* [Part 4](#part4): Preprocessing\n",
    "    * [4.1](#4_1): Outliers\n",
    "    * [4.2](#4_2): Missing values\n",
    "    * [4.3](#4_3): Encoding\n",
    "    * [4.4](#4_4): Scaling\n",
    "    * [4.5](#4_5): Splitting\n",
    "<br />\n",
    "<br />\n",
    "* [Part 5](#part5): Model training\n",
    "* [Part 6](#part6): Performance evaluation\n",
    "* [Part 7](#part7): Feature importance and statistical tests\n",
    "* [Part 8](#part8): Converting the output\n",
    "* [Part 9](#part9): Pipeline creation"
   ]
  },
  {
   "cell_type": "markdown",
   "metadata": {},
   "source": [
    "## Notebook Setup"
   ]
  },
  {
   "cell_type": "code",
   "execution_count": 1,
   "metadata": {},
   "outputs": [],
   "source": [
    "#Essentials\n",
    "import pandas as pd\n",
    "from pandas import Series, DataFrame\n",
    "from pandas.api.types import CategoricalDtype\n",
    "pd.options.display.max_columns = None\n",
    "import numpy as np; np.random.seed(2022)\n",
    "import random\n",
    "import sqlite3\n",
    "import pyodbc\n",
    "\n",
    "#Image creation and display\n",
    "import seaborn as sns\n",
    "import matplotlib.pyplot as plt\n",
    "import matplotlib.ticker as mtick\n",
    "import matplotlib.patches as mpatches\n",
    "from matplotlib import pyplot\n",
    "import plotly.express as px\n",
    "import plotly.graph_objects as go\n",
    "#from image import image, display\n",
    "\n",
    "#Preprocessing\n",
    "from sklearn.model_selection import train_test_split\n",
    "from sklearn.preprocessing import StandardScaler\n",
    "from sklearn.preprocessing import LabelEncoder\n",
    "from sklearn.compose import ColumnTransformer\n",
    "from sklearn.compose import make_column_transformer\n",
    "from sklearn.pipeline import Pipeline\n",
    "from sklearn.pipeline import make_pipeline\n",
    "\n",
    "#Models\n",
    "from sklearn.linear_model import LogisticRegression\n",
    "from sklearn.neighbors import KNeighborsClassifier\n",
    "from sklearn.tree import DecisionTreeClassifier\n",
    "from sklearn.ensemble import RandomForestClassifier\n",
    "from xgboost import XGBClassifier\n",
    "from sklearn.svm import SVC\n",
    "from sklearn import svm\n",
    "from sklearn.naive_bayes import GaussianNB\n",
    "from sklearn.base import clone\n",
    "from sklearn.ensemble import StackingClassifier\n",
    "from sklearn.ensemble import BaggingClassifier\n",
    "\n",
    "#Other\n",
    "import itertools as it\n",
    "import io\n",
    "import os\n",
    "os.sys.path\n",
    "import sys\n",
    "import glob\n",
    "import concurrent.futures\n",
    "from __future__ import print_function\n",
    "import binascii\n",
    "import struct\n",
    "from PIL import Image\n",
    "import scipy\n",
    "import scipy.misc\n",
    "import scipy.cluster\n",
    "import datetime, time\n",
    "import functools, operator\n",
    "from datetime import datetime"
   ]
  },
  {
   "cell_type": "code",
   "execution_count": 4,
   "metadata": {},
   "outputs": [
    {
     "data": {
      "text/html": [
       "<div>\n",
       "<style scoped>\n",
       "    .dataframe tbody tr th:only-of-type {\n",
       "        vertical-align: middle;\n",
       "    }\n",
       "\n",
       "    .dataframe tbody tr th {\n",
       "        vertical-align: top;\n",
       "    }\n",
       "\n",
       "    .dataframe thead th {\n",
       "        text-align: right;\n",
       "    }\n",
       "</style>\n",
       "<table border=\"1\" class=\"dataframe\">\n",
       "  <thead>\n",
       "    <tr style=\"text-align: right;\">\n",
       "      <th></th>\n",
       "      <th>Project_ID</th>\n",
       "      <th>Country</th>\n",
       "      <th>Office</th>\n",
       "      <th>Sector</th>\n",
       "      <th>Project_Size_Sort_Order</th>\n",
       "      <th>Is_Multi_Discipline_Project</th>\n",
       "      <th>Is_First_Client_Project</th>\n",
       "      <th>Default_Rate_Group</th>\n",
       "      <th>Perc_of_Stages_with_Fixed_Fee</th>\n",
       "      <th>Manager_Is_Recent</th>\n",
       "      <th>Project_Director</th>\n",
       "      <th>Perc_of_Subcontractors</th>\n",
       "      <th>Project_Duration_Weeks</th>\n",
       "      <th>Is_Front_Loaded</th>\n",
       "      <th>Delivered_on_Time</th>\n",
       "      <th>Fully_In_Lockdown</th>\n",
       "      <th>Partially_In_Lockdown</th>\n",
       "      <th>Suffered_Data_Loss</th>\n",
       "      <th>Total_Data_Issues</th>\n",
       "      <th>Staff_ID</th>\n",
       "      <th>Synergy_Team</th>\n",
       "      <th>Employment_Total_Months</th>\n",
       "    </tr>\n",
       "  </thead>\n",
       "  <tbody>\n",
       "    <tr>\n",
       "      <th>0</th>\n",
       "      <td>367704</td>\n",
       "      <td>Australia</td>\n",
       "      <td>Whyalla</td>\n",
       "      <td>Ports &amp; Marine</td>\n",
       "      <td>4.0</td>\n",
       "      <td>False</td>\n",
       "      <td>True</td>\n",
       "      <td>Standard</td>\n",
       "      <td>100.0</td>\n",
       "      <td>False</td>\n",
       "      <td>Mark Gilbert</td>\n",
       "      <td>0.0</td>\n",
       "      <td>4.0</td>\n",
       "      <td>True</td>\n",
       "      <td>NaN</td>\n",
       "      <td>False</td>\n",
       "      <td>False</td>\n",
       "      <td>False</td>\n",
       "      <td>2.0</td>\n",
       "      <td>7612852.0</td>\n",
       "      <td>SA - Industrial</td>\n",
       "      <td>117.0</td>\n",
       "    </tr>\n",
       "  </tbody>\n",
       "</table>\n",
       "</div>"
      ],
      "text/plain": [
       "   Project_ID    Country   Office          Sector  Project_Size_Sort_Order  \\\n",
       "0      367704  Australia  Whyalla  Ports & Marine                      4.0   \n",
       "\n",
       "  Is_Multi_Discipline_Project Is_First_Client_Project Default_Rate_Group  \\\n",
       "0                       False                    True           Standard   \n",
       "\n",
       "   Perc_of_Stages_with_Fixed_Fee Manager_Is_Recent Project_Director  \\\n",
       "0                          100.0             False     Mark Gilbert   \n",
       "\n",
       "   Perc_of_Subcontractors  Project_Duration_Weeks Is_Front_Loaded  \\\n",
       "0                     0.0                     4.0            True   \n",
       "\n",
       "  Delivered_on_Time  Fully_In_Lockdown  Partially_In_Lockdown  \\\n",
       "0               NaN              False                  False   \n",
       "\n",
       "  Suffered_Data_Loss  Total_Data_Issues   Staff_ID     Synergy_Team  \\\n",
       "0              False                2.0  7612852.0  SA - Industrial   \n",
       "\n",
       "   Employment_Total_Months  \n",
       "0                    117.0  "
      ]
     },
     "execution_count": 4,
     "metadata": {},
     "output_type": "execute_result"
    }
   ],
   "source": [
    "df = pd.read_csv('project_lvl.csv')\n",
    "df.head(1)"
   ]
  },
  {
   "cell_type": "code",
   "execution_count": 5,
   "metadata": {},
   "outputs": [
    {
     "data": {
      "text/html": [
       "<div>\n",
       "<style scoped>\n",
       "    .dataframe tbody tr th:only-of-type {\n",
       "        vertical-align: middle;\n",
       "    }\n",
       "\n",
       "    .dataframe tbody tr th {\n",
       "        vertical-align: top;\n",
       "    }\n",
       "\n",
       "    .dataframe thead th {\n",
       "        text-align: right;\n",
       "    }\n",
       "</style>\n",
       "<table border=\"1\" class=\"dataframe\">\n",
       "  <thead>\n",
       "    <tr style=\"text-align: right;\">\n",
       "      <th></th>\n",
       "      <th>Project_ID</th>\n",
       "      <th>Project_Size_Sort_Order</th>\n",
       "      <th>Perc_of_Stages_with_Fixed_Fee</th>\n",
       "      <th>Perc_of_Subcontractors</th>\n",
       "      <th>Project_Duration_Weeks</th>\n",
       "      <th>Total_Data_Issues</th>\n",
       "      <th>Staff_ID</th>\n",
       "      <th>Employment_Total_Months</th>\n",
       "    </tr>\n",
       "  </thead>\n",
       "  <tbody>\n",
       "    <tr>\n",
       "      <th>count</th>\n",
       "      <td>9.755000e+03</td>\n",
       "      <td>9754.000000</td>\n",
       "      <td>3231.000000</td>\n",
       "      <td>9160.000000</td>\n",
       "      <td>4009.000000</td>\n",
       "      <td>9752.000000</td>\n",
       "      <td>9.320000e+03</td>\n",
       "      <td>9320.000000</td>\n",
       "    </tr>\n",
       "    <tr>\n",
       "      <th>mean</th>\n",
       "      <td>5.480319e+05</td>\n",
       "      <td>2.546135</td>\n",
       "      <td>80.990430</td>\n",
       "      <td>0.070596</td>\n",
       "      <td>41.355949</td>\n",
       "      <td>2.492207</td>\n",
       "      <td>7.658976e+06</td>\n",
       "      <td>168.939270</td>\n",
       "    </tr>\n",
       "    <tr>\n",
       "      <th>std</th>\n",
       "      <td>3.053365e+05</td>\n",
       "      <td>1.867324</td>\n",
       "      <td>23.787892</td>\n",
       "      <td>1.003214</td>\n",
       "      <td>55.534198</td>\n",
       "      <td>4.480148</td>\n",
       "      <td>2.734940e+05</td>\n",
       "      <td>96.876734</td>\n",
       "    </tr>\n",
       "    <tr>\n",
       "      <th>min</th>\n",
       "      <td>3.677040e+05</td>\n",
       "      <td>1.000000</td>\n",
       "      <td>1.920000</td>\n",
       "      <td>0.000000</td>\n",
       "      <td>0.000000</td>\n",
       "      <td>0.000000</td>\n",
       "      <td>7.612683e+06</td>\n",
       "      <td>-4.000000</td>\n",
       "    </tr>\n",
       "    <tr>\n",
       "      <th>25%</th>\n",
       "      <td>3.706165e+05</td>\n",
       "      <td>1.000000</td>\n",
       "      <td>66.670000</td>\n",
       "      <td>0.000000</td>\n",
       "      <td>5.000000</td>\n",
       "      <td>1.000000</td>\n",
       "      <td>7.612748e+06</td>\n",
       "      <td>86.000000</td>\n",
       "    </tr>\n",
       "    <tr>\n",
       "      <th>50%</th>\n",
       "      <td>3.741820e+05</td>\n",
       "      <td>2.000000</td>\n",
       "      <td>96.150000</td>\n",
       "      <td>0.000000</td>\n",
       "      <td>18.000000</td>\n",
       "      <td>1.000000</td>\n",
       "      <td>7.612838e+06</td>\n",
       "      <td>172.000000</td>\n",
       "    </tr>\n",
       "    <tr>\n",
       "      <th>75%</th>\n",
       "      <td>6.036160e+05</td>\n",
       "      <td>4.000000</td>\n",
       "      <td>100.000000</td>\n",
       "      <td>0.000000</td>\n",
       "      <td>58.000000</td>\n",
       "      <td>3.000000</td>\n",
       "      <td>7.612922e+06</td>\n",
       "      <td>230.000000</td>\n",
       "    </tr>\n",
       "    <tr>\n",
       "      <th>max</th>\n",
       "      <td>1.567895e+06</td>\n",
       "      <td>8.000000</td>\n",
       "      <td>100.000000</td>\n",
       "      <td>50.000000</td>\n",
       "      <td>584.000000</td>\n",
       "      <td>143.000000</td>\n",
       "      <td>1.009472e+07</td>\n",
       "      <td>436.000000</td>\n",
       "    </tr>\n",
       "  </tbody>\n",
       "</table>\n",
       "</div>"
      ],
      "text/plain": [
       "         Project_ID  Project_Size_Sort_Order  Perc_of_Stages_with_Fixed_Fee  \\\n",
       "count  9.755000e+03              9754.000000                    3231.000000   \n",
       "mean   5.480319e+05                 2.546135                      80.990430   \n",
       "std    3.053365e+05                 1.867324                      23.787892   \n",
       "min    3.677040e+05                 1.000000                       1.920000   \n",
       "25%    3.706165e+05                 1.000000                      66.670000   \n",
       "50%    3.741820e+05                 2.000000                      96.150000   \n",
       "75%    6.036160e+05                 4.000000                     100.000000   \n",
       "max    1.567895e+06                 8.000000                     100.000000   \n",
       "\n",
       "       Perc_of_Subcontractors  Project_Duration_Weeks  Total_Data_Issues  \\\n",
       "count             9160.000000             4009.000000        9752.000000   \n",
       "mean                 0.070596               41.355949           2.492207   \n",
       "std                  1.003214               55.534198           4.480148   \n",
       "min                  0.000000                0.000000           0.000000   \n",
       "25%                  0.000000                5.000000           1.000000   \n",
       "50%                  0.000000               18.000000           1.000000   \n",
       "75%                  0.000000               58.000000           3.000000   \n",
       "max                 50.000000              584.000000         143.000000   \n",
       "\n",
       "           Staff_ID  Employment_Total_Months  \n",
       "count  9.320000e+03              9320.000000  \n",
       "mean   7.658976e+06               168.939270  \n",
       "std    2.734940e+05                96.876734  \n",
       "min    7.612683e+06                -4.000000  \n",
       "25%    7.612748e+06                86.000000  \n",
       "50%    7.612838e+06               172.000000  \n",
       "75%    7.612922e+06               230.000000  \n",
       "max    1.009472e+07               436.000000  "
      ]
     },
     "execution_count": 5,
     "metadata": {},
     "output_type": "execute_result"
    }
   ],
   "source": [
    "df.describe()"
   ]
  },
  {
   "cell_type": "markdown",
   "metadata": {},
   "source": [
    "## Part 3: <a class=\"anchor\" id=\"part3\"></a> Preprocessing"
   ]
  },
  {
   "cell_type": "markdown",
   "metadata": {},
   "source": [
    "### 3.1 <a class=\"anchor\" id=\"3_1\"></a> Outliers"
   ]
  },
  {
   "cell_type": "code",
   "execution_count": 3,
   "metadata": {},
   "outputs": [
    {
     "ename": "KeyError",
     "evalue": "'Recoverability'",
     "output_type": "error",
     "traceback": [
      "\u001b[1;31m---------------------------------------------------------------------------\u001b[0m",
      "\u001b[1;31mKeyError\u001b[0m                                  Traceback (most recent call last)",
      "File \u001b[1;32mc:\\Users\\MarfaPopova\\S2R Analytics\\Development & Support Team - Power BI for Synergy - Advanced Analytics\\DataFlowExtract\\venv\\lib\\site-packages\\pandas\\core\\indexes\\base.py:3361\u001b[0m, in \u001b[0;36mIndex.get_loc\u001b[1;34m(self, key, method, tolerance)\u001b[0m\n\u001b[0;32m   <a href='file:///c%3A/Users/MarfaPopova/S2R%20Analytics/Development%20%26%20Support%20Team%20-%20Power%20BI%20for%20Synergy%20-%20Advanced%20Analytics/DataFlowExtract/venv/lib/site-packages/pandas/core/indexes/base.py?line=3359'>3360</a>\u001b[0m \u001b[39mtry\u001b[39;00m:\n\u001b[1;32m-> <a href='file:///c%3A/Users/MarfaPopova/S2R%20Analytics/Development%20%26%20Support%20Team%20-%20Power%20BI%20for%20Synergy%20-%20Advanced%20Analytics/DataFlowExtract/venv/lib/site-packages/pandas/core/indexes/base.py?line=3360'>3361</a>\u001b[0m     \u001b[39mreturn\u001b[39;00m \u001b[39mself\u001b[39;49m\u001b[39m.\u001b[39;49m_engine\u001b[39m.\u001b[39;49mget_loc(casted_key)\n\u001b[0;32m   <a href='file:///c%3A/Users/MarfaPopova/S2R%20Analytics/Development%20%26%20Support%20Team%20-%20Power%20BI%20for%20Synergy%20-%20Advanced%20Analytics/DataFlowExtract/venv/lib/site-packages/pandas/core/indexes/base.py?line=3361'>3362</a>\u001b[0m \u001b[39mexcept\u001b[39;00m \u001b[39mKeyError\u001b[39;00m \u001b[39mas\u001b[39;00m err:\n",
      "File \u001b[1;32mc:\\Users\\MarfaPopova\\S2R Analytics\\Development & Support Team - Power BI for Synergy - Advanced Analytics\\DataFlowExtract\\venv\\lib\\site-packages\\pandas\\_libs\\index.pyx:76\u001b[0m, in \u001b[0;36mpandas._libs.index.IndexEngine.get_loc\u001b[1;34m()\u001b[0m\n",
      "File \u001b[1;32mc:\\Users\\MarfaPopova\\S2R Analytics\\Development & Support Team - Power BI for Synergy - Advanced Analytics\\DataFlowExtract\\venv\\lib\\site-packages\\pandas\\_libs\\index.pyx:108\u001b[0m, in \u001b[0;36mpandas._libs.index.IndexEngine.get_loc\u001b[1;34m()\u001b[0m\n",
      "File \u001b[1;32mpandas\\_libs\\hashtable_class_helper.pxi:5198\u001b[0m, in \u001b[0;36mpandas._libs.hashtable.PyObjectHashTable.get_item\u001b[1;34m()\u001b[0m\n",
      "File \u001b[1;32mpandas\\_libs\\hashtable_class_helper.pxi:5206\u001b[0m, in \u001b[0;36mpandas._libs.hashtable.PyObjectHashTable.get_item\u001b[1;34m()\u001b[0m\n",
      "\u001b[1;31mKeyError\u001b[0m: 'Recoverability'",
      "\nThe above exception was the direct cause of the following exception:\n",
      "\u001b[1;31mKeyError\u001b[0m                                  Traceback (most recent call last)",
      "\u001b[1;32mc:\\Users\\MarfaPopova\\S2R Analytics\\Development & Support Team - Power BI for Synergy - Advanced Analytics\\DataFlowExtract\\ML\\ml_pipeline.ipynb Cell 8'\u001b[0m in \u001b[0;36m<cell line: 1>\u001b[1;34m()\u001b[0m\n\u001b[0;32m      <a href='vscode-notebook-cell:/c%3A/Users/MarfaPopova/S2R%20Analytics/Development%20%26%20Support%20Team%20-%20Power%20BI%20for%20Synergy%20-%20Advanced%20Analytics/DataFlowExtract/ML/ml_pipeline.ipynb#ch0000007?line=0'>1</a>\u001b[0m \u001b[39mfor\u001b[39;00m x \u001b[39min\u001b[39;00m [\u001b[39m'\u001b[39m\u001b[39mRecoverability\u001b[39m\u001b[39m'\u001b[39m]:\n\u001b[1;32m----> <a href='vscode-notebook-cell:/c%3A/Users/MarfaPopova/S2R%20Analytics/Development%20%26%20Support%20Team%20-%20Power%20BI%20for%20Synergy%20-%20Advanced%20Analytics/DataFlowExtract/ML/ml_pipeline.ipynb#ch0000007?line=1'>2</a>\u001b[0m     q75,q25 \u001b[39m=\u001b[39m np\u001b[39m.\u001b[39mpercentile(projects\u001b[39m.\u001b[39;49mloc[:,x],[\u001b[39m75\u001b[39m,\u001b[39m25\u001b[39m])\n\u001b[0;32m      <a href='vscode-notebook-cell:/c%3A/Users/MarfaPopova/S2R%20Analytics/Development%20%26%20Support%20Team%20-%20Power%20BI%20for%20Synergy%20-%20Advanced%20Analytics/DataFlowExtract/ML/ml_pipeline.ipynb#ch0000007?line=2'>3</a>\u001b[0m     intr_qr \u001b[39m=\u001b[39m q75\u001b[39m-\u001b[39mq25\n\u001b[0;32m      <a href='vscode-notebook-cell:/c%3A/Users/MarfaPopova/S2R%20Analytics/Development%20%26%20Support%20Team%20-%20Power%20BI%20for%20Synergy%20-%20Advanced%20Analytics/DataFlowExtract/ML/ml_pipeline.ipynb#ch0000007?line=4'>5</a>\u001b[0m     \u001b[39mmax\u001b[39m \u001b[39m=\u001b[39m q75\u001b[39m+\u001b[39m(\u001b[39m1.5\u001b[39m\u001b[39m*\u001b[39mintr_qr)\n",
      "File \u001b[1;32mc:\\Users\\MarfaPopova\\S2R Analytics\\Development & Support Team - Power BI for Synergy - Advanced Analytics\\DataFlowExtract\\venv\\lib\\site-packages\\pandas\\core\\indexing.py:925\u001b[0m, in \u001b[0;36m_LocationIndexer.__getitem__\u001b[1;34m(self, key)\u001b[0m\n\u001b[0;32m    <a href='file:///c%3A/Users/MarfaPopova/S2R%20Analytics/Development%20%26%20Support%20Team%20-%20Power%20BI%20for%20Synergy%20-%20Advanced%20Analytics/DataFlowExtract/venv/lib/site-packages/pandas/core/indexing.py?line=922'>923</a>\u001b[0m         \u001b[39mwith\u001b[39;00m suppress(\u001b[39mKeyError\u001b[39;00m, \u001b[39mIndexError\u001b[39;00m):\n\u001b[0;32m    <a href='file:///c%3A/Users/MarfaPopova/S2R%20Analytics/Development%20%26%20Support%20Team%20-%20Power%20BI%20for%20Synergy%20-%20Advanced%20Analytics/DataFlowExtract/venv/lib/site-packages/pandas/core/indexing.py?line=923'>924</a>\u001b[0m             \u001b[39mreturn\u001b[39;00m \u001b[39mself\u001b[39m\u001b[39m.\u001b[39mobj\u001b[39m.\u001b[39m_get_value(\u001b[39m*\u001b[39mkey, takeable\u001b[39m=\u001b[39m\u001b[39mself\u001b[39m\u001b[39m.\u001b[39m_takeable)\n\u001b[1;32m--> <a href='file:///c%3A/Users/MarfaPopova/S2R%20Analytics/Development%20%26%20Support%20Team%20-%20Power%20BI%20for%20Synergy%20-%20Advanced%20Analytics/DataFlowExtract/venv/lib/site-packages/pandas/core/indexing.py?line=924'>925</a>\u001b[0m     \u001b[39mreturn\u001b[39;00m \u001b[39mself\u001b[39;49m\u001b[39m.\u001b[39;49m_getitem_tuple(key)\n\u001b[0;32m    <a href='file:///c%3A/Users/MarfaPopova/S2R%20Analytics/Development%20%26%20Support%20Team%20-%20Power%20BI%20for%20Synergy%20-%20Advanced%20Analytics/DataFlowExtract/venv/lib/site-packages/pandas/core/indexing.py?line=925'>926</a>\u001b[0m \u001b[39melse\u001b[39;00m:\n\u001b[0;32m    <a href='file:///c%3A/Users/MarfaPopova/S2R%20Analytics/Development%20%26%20Support%20Team%20-%20Power%20BI%20for%20Synergy%20-%20Advanced%20Analytics/DataFlowExtract/venv/lib/site-packages/pandas/core/indexing.py?line=926'>927</a>\u001b[0m     \u001b[39m# we by definition only have the 0th axis\u001b[39;00m\n\u001b[0;32m    <a href='file:///c%3A/Users/MarfaPopova/S2R%20Analytics/Development%20%26%20Support%20Team%20-%20Power%20BI%20for%20Synergy%20-%20Advanced%20Analytics/DataFlowExtract/venv/lib/site-packages/pandas/core/indexing.py?line=927'>928</a>\u001b[0m     axis \u001b[39m=\u001b[39m \u001b[39mself\u001b[39m\u001b[39m.\u001b[39maxis \u001b[39mor\u001b[39;00m \u001b[39m0\u001b[39m\n",
      "File \u001b[1;32mc:\\Users\\MarfaPopova\\S2R Analytics\\Development & Support Team - Power BI for Synergy - Advanced Analytics\\DataFlowExtract\\venv\\lib\\site-packages\\pandas\\core\\indexing.py:1100\u001b[0m, in \u001b[0;36m_LocIndexer._getitem_tuple\u001b[1;34m(self, tup)\u001b[0m\n\u001b[0;32m   <a href='file:///c%3A/Users/MarfaPopova/S2R%20Analytics/Development%20%26%20Support%20Team%20-%20Power%20BI%20for%20Synergy%20-%20Advanced%20Analytics/DataFlowExtract/venv/lib/site-packages/pandas/core/indexing.py?line=1097'>1098</a>\u001b[0m \u001b[39mdef\u001b[39;00m \u001b[39m_getitem_tuple\u001b[39m(\u001b[39mself\u001b[39m, tup: \u001b[39mtuple\u001b[39m):\n\u001b[0;32m   <a href='file:///c%3A/Users/MarfaPopova/S2R%20Analytics/Development%20%26%20Support%20Team%20-%20Power%20BI%20for%20Synergy%20-%20Advanced%20Analytics/DataFlowExtract/venv/lib/site-packages/pandas/core/indexing.py?line=1098'>1099</a>\u001b[0m     \u001b[39mwith\u001b[39;00m suppress(IndexingError):\n\u001b[1;32m-> <a href='file:///c%3A/Users/MarfaPopova/S2R%20Analytics/Development%20%26%20Support%20Team%20-%20Power%20BI%20for%20Synergy%20-%20Advanced%20Analytics/DataFlowExtract/venv/lib/site-packages/pandas/core/indexing.py?line=1099'>1100</a>\u001b[0m         \u001b[39mreturn\u001b[39;00m \u001b[39mself\u001b[39;49m\u001b[39m.\u001b[39;49m_getitem_lowerdim(tup)\n\u001b[0;32m   <a href='file:///c%3A/Users/MarfaPopova/S2R%20Analytics/Development%20%26%20Support%20Team%20-%20Power%20BI%20for%20Synergy%20-%20Advanced%20Analytics/DataFlowExtract/venv/lib/site-packages/pandas/core/indexing.py?line=1101'>1102</a>\u001b[0m     \u001b[39m# no multi-index, so validate all of the indexers\u001b[39;00m\n\u001b[0;32m   <a href='file:///c%3A/Users/MarfaPopova/S2R%20Analytics/Development%20%26%20Support%20Team%20-%20Power%20BI%20for%20Synergy%20-%20Advanced%20Analytics/DataFlowExtract/venv/lib/site-packages/pandas/core/indexing.py?line=1102'>1103</a>\u001b[0m     \u001b[39mself\u001b[39m\u001b[39m.\u001b[39m_has_valid_tuple(tup)\n",
      "File \u001b[1;32mc:\\Users\\MarfaPopova\\S2R Analytics\\Development & Support Team - Power BI for Synergy - Advanced Analytics\\DataFlowExtract\\venv\\lib\\site-packages\\pandas\\core\\indexing.py:838\u001b[0m, in \u001b[0;36m_LocationIndexer._getitem_lowerdim\u001b[1;34m(self, tup)\u001b[0m\n\u001b[0;32m    <a href='file:///c%3A/Users/MarfaPopova/S2R%20Analytics/Development%20%26%20Support%20Team%20-%20Power%20BI%20for%20Synergy%20-%20Advanced%20Analytics/DataFlowExtract/venv/lib/site-packages/pandas/core/indexing.py?line=833'>834</a>\u001b[0m \u001b[39mfor\u001b[39;00m i, key \u001b[39min\u001b[39;00m \u001b[39menumerate\u001b[39m(tup):\n\u001b[0;32m    <a href='file:///c%3A/Users/MarfaPopova/S2R%20Analytics/Development%20%26%20Support%20Team%20-%20Power%20BI%20for%20Synergy%20-%20Advanced%20Analytics/DataFlowExtract/venv/lib/site-packages/pandas/core/indexing.py?line=834'>835</a>\u001b[0m     \u001b[39mif\u001b[39;00m is_label_like(key):\n\u001b[0;32m    <a href='file:///c%3A/Users/MarfaPopova/S2R%20Analytics/Development%20%26%20Support%20Team%20-%20Power%20BI%20for%20Synergy%20-%20Advanced%20Analytics/DataFlowExtract/venv/lib/site-packages/pandas/core/indexing.py?line=835'>836</a>\u001b[0m         \u001b[39m# We don't need to check for tuples here because those are\u001b[39;00m\n\u001b[0;32m    <a href='file:///c%3A/Users/MarfaPopova/S2R%20Analytics/Development%20%26%20Support%20Team%20-%20Power%20BI%20for%20Synergy%20-%20Advanced%20Analytics/DataFlowExtract/venv/lib/site-packages/pandas/core/indexing.py?line=836'>837</a>\u001b[0m         \u001b[39m#  caught by the _is_nested_tuple_indexer check above.\u001b[39;00m\n\u001b[1;32m--> <a href='file:///c%3A/Users/MarfaPopova/S2R%20Analytics/Development%20%26%20Support%20Team%20-%20Power%20BI%20for%20Synergy%20-%20Advanced%20Analytics/DataFlowExtract/venv/lib/site-packages/pandas/core/indexing.py?line=837'>838</a>\u001b[0m         section \u001b[39m=\u001b[39m \u001b[39mself\u001b[39;49m\u001b[39m.\u001b[39;49m_getitem_axis(key, axis\u001b[39m=\u001b[39;49mi)\n\u001b[0;32m    <a href='file:///c%3A/Users/MarfaPopova/S2R%20Analytics/Development%20%26%20Support%20Team%20-%20Power%20BI%20for%20Synergy%20-%20Advanced%20Analytics/DataFlowExtract/venv/lib/site-packages/pandas/core/indexing.py?line=839'>840</a>\u001b[0m         \u001b[39m# We should never have a scalar section here, because\u001b[39;00m\n\u001b[0;32m    <a href='file:///c%3A/Users/MarfaPopova/S2R%20Analytics/Development%20%26%20Support%20Team%20-%20Power%20BI%20for%20Synergy%20-%20Advanced%20Analytics/DataFlowExtract/venv/lib/site-packages/pandas/core/indexing.py?line=840'>841</a>\u001b[0m         \u001b[39m#  _getitem_lowerdim is only called after a check for\u001b[39;00m\n\u001b[0;32m    <a href='file:///c%3A/Users/MarfaPopova/S2R%20Analytics/Development%20%26%20Support%20Team%20-%20Power%20BI%20for%20Synergy%20-%20Advanced%20Analytics/DataFlowExtract/venv/lib/site-packages/pandas/core/indexing.py?line=841'>842</a>\u001b[0m         \u001b[39m#  is_scalar_access, which that would be.\u001b[39;00m\n\u001b[0;32m    <a href='file:///c%3A/Users/MarfaPopova/S2R%20Analytics/Development%20%26%20Support%20Team%20-%20Power%20BI%20for%20Synergy%20-%20Advanced%20Analytics/DataFlowExtract/venv/lib/site-packages/pandas/core/indexing.py?line=842'>843</a>\u001b[0m         \u001b[39mif\u001b[39;00m section\u001b[39m.\u001b[39mndim \u001b[39m==\u001b[39m \u001b[39mself\u001b[39m\u001b[39m.\u001b[39mndim:\n\u001b[0;32m    <a href='file:///c%3A/Users/MarfaPopova/S2R%20Analytics/Development%20%26%20Support%20Team%20-%20Power%20BI%20for%20Synergy%20-%20Advanced%20Analytics/DataFlowExtract/venv/lib/site-packages/pandas/core/indexing.py?line=843'>844</a>\u001b[0m             \u001b[39m# we're in the middle of slicing through a MultiIndex\u001b[39;00m\n\u001b[0;32m    <a href='file:///c%3A/Users/MarfaPopova/S2R%20Analytics/Development%20%26%20Support%20Team%20-%20Power%20BI%20for%20Synergy%20-%20Advanced%20Analytics/DataFlowExtract/venv/lib/site-packages/pandas/core/indexing.py?line=844'>845</a>\u001b[0m             \u001b[39m# revise the key wrt to `section` by inserting an _NS\u001b[39;00m\n",
      "File \u001b[1;32mc:\\Users\\MarfaPopova\\S2R Analytics\\Development & Support Team - Power BI for Synergy - Advanced Analytics\\DataFlowExtract\\venv\\lib\\site-packages\\pandas\\core\\indexing.py:1164\u001b[0m, in \u001b[0;36m_LocIndexer._getitem_axis\u001b[1;34m(self, key, axis)\u001b[0m\n\u001b[0;32m   <a href='file:///c%3A/Users/MarfaPopova/S2R%20Analytics/Development%20%26%20Support%20Team%20-%20Power%20BI%20for%20Synergy%20-%20Advanced%20Analytics/DataFlowExtract/venv/lib/site-packages/pandas/core/indexing.py?line=1161'>1162</a>\u001b[0m \u001b[39m# fall thru to straight lookup\u001b[39;00m\n\u001b[0;32m   <a href='file:///c%3A/Users/MarfaPopova/S2R%20Analytics/Development%20%26%20Support%20Team%20-%20Power%20BI%20for%20Synergy%20-%20Advanced%20Analytics/DataFlowExtract/venv/lib/site-packages/pandas/core/indexing.py?line=1162'>1163</a>\u001b[0m \u001b[39mself\u001b[39m\u001b[39m.\u001b[39m_validate_key(key, axis)\n\u001b[1;32m-> <a href='file:///c%3A/Users/MarfaPopova/S2R%20Analytics/Development%20%26%20Support%20Team%20-%20Power%20BI%20for%20Synergy%20-%20Advanced%20Analytics/DataFlowExtract/venv/lib/site-packages/pandas/core/indexing.py?line=1163'>1164</a>\u001b[0m \u001b[39mreturn\u001b[39;00m \u001b[39mself\u001b[39;49m\u001b[39m.\u001b[39;49m_get_label(key, axis\u001b[39m=\u001b[39;49maxis)\n",
      "File \u001b[1;32mc:\\Users\\MarfaPopova\\S2R Analytics\\Development & Support Team - Power BI for Synergy - Advanced Analytics\\DataFlowExtract\\venv\\lib\\site-packages\\pandas\\core\\indexing.py:1113\u001b[0m, in \u001b[0;36m_LocIndexer._get_label\u001b[1;34m(self, label, axis)\u001b[0m\n\u001b[0;32m   <a href='file:///c%3A/Users/MarfaPopova/S2R%20Analytics/Development%20%26%20Support%20Team%20-%20Power%20BI%20for%20Synergy%20-%20Advanced%20Analytics/DataFlowExtract/venv/lib/site-packages/pandas/core/indexing.py?line=1110'>1111</a>\u001b[0m \u001b[39mdef\u001b[39;00m \u001b[39m_get_label\u001b[39m(\u001b[39mself\u001b[39m, label, axis: \u001b[39mint\u001b[39m):\n\u001b[0;32m   <a href='file:///c%3A/Users/MarfaPopova/S2R%20Analytics/Development%20%26%20Support%20Team%20-%20Power%20BI%20for%20Synergy%20-%20Advanced%20Analytics/DataFlowExtract/venv/lib/site-packages/pandas/core/indexing.py?line=1111'>1112</a>\u001b[0m     \u001b[39m# GH#5667 this will fail if the label is not present in the axis.\u001b[39;00m\n\u001b[1;32m-> <a href='file:///c%3A/Users/MarfaPopova/S2R%20Analytics/Development%20%26%20Support%20Team%20-%20Power%20BI%20for%20Synergy%20-%20Advanced%20Analytics/DataFlowExtract/venv/lib/site-packages/pandas/core/indexing.py?line=1112'>1113</a>\u001b[0m     \u001b[39mreturn\u001b[39;00m \u001b[39mself\u001b[39;49m\u001b[39m.\u001b[39;49mobj\u001b[39m.\u001b[39;49mxs(label, axis\u001b[39m=\u001b[39;49maxis)\n",
      "File \u001b[1;32mc:\\Users\\MarfaPopova\\S2R Analytics\\Development & Support Team - Power BI for Synergy - Advanced Analytics\\DataFlowExtract\\venv\\lib\\site-packages\\pandas\\core\\generic.py:3761\u001b[0m, in \u001b[0;36mNDFrame.xs\u001b[1;34m(self, key, axis, level, drop_level)\u001b[0m\n\u001b[0;32m   <a href='file:///c%3A/Users/MarfaPopova/S2R%20Analytics/Development%20%26%20Support%20Team%20-%20Power%20BI%20for%20Synergy%20-%20Advanced%20Analytics/DataFlowExtract/venv/lib/site-packages/pandas/core/generic.py?line=3758'>3759</a>\u001b[0m \u001b[39mif\u001b[39;00m axis \u001b[39m==\u001b[39m \u001b[39m1\u001b[39m:\n\u001b[0;32m   <a href='file:///c%3A/Users/MarfaPopova/S2R%20Analytics/Development%20%26%20Support%20Team%20-%20Power%20BI%20for%20Synergy%20-%20Advanced%20Analytics/DataFlowExtract/venv/lib/site-packages/pandas/core/generic.py?line=3759'>3760</a>\u001b[0m     \u001b[39mif\u001b[39;00m drop_level:\n\u001b[1;32m-> <a href='file:///c%3A/Users/MarfaPopova/S2R%20Analytics/Development%20%26%20Support%20Team%20-%20Power%20BI%20for%20Synergy%20-%20Advanced%20Analytics/DataFlowExtract/venv/lib/site-packages/pandas/core/generic.py?line=3760'>3761</a>\u001b[0m         \u001b[39mreturn\u001b[39;00m \u001b[39mself\u001b[39;49m[key]\n\u001b[0;32m   <a href='file:///c%3A/Users/MarfaPopova/S2R%20Analytics/Development%20%26%20Support%20Team%20-%20Power%20BI%20for%20Synergy%20-%20Advanced%20Analytics/DataFlowExtract/venv/lib/site-packages/pandas/core/generic.py?line=3761'>3762</a>\u001b[0m     index \u001b[39m=\u001b[39m \u001b[39mself\u001b[39m\u001b[39m.\u001b[39mcolumns\n\u001b[0;32m   <a href='file:///c%3A/Users/MarfaPopova/S2R%20Analytics/Development%20%26%20Support%20Team%20-%20Power%20BI%20for%20Synergy%20-%20Advanced%20Analytics/DataFlowExtract/venv/lib/site-packages/pandas/core/generic.py?line=3762'>3763</a>\u001b[0m \u001b[39melse\u001b[39;00m:\n",
      "File \u001b[1;32mc:\\Users\\MarfaPopova\\S2R Analytics\\Development & Support Team - Power BI for Synergy - Advanced Analytics\\DataFlowExtract\\venv\\lib\\site-packages\\pandas\\core\\frame.py:3458\u001b[0m, in \u001b[0;36mDataFrame.__getitem__\u001b[1;34m(self, key)\u001b[0m\n\u001b[0;32m   <a href='file:///c%3A/Users/MarfaPopova/S2R%20Analytics/Development%20%26%20Support%20Team%20-%20Power%20BI%20for%20Synergy%20-%20Advanced%20Analytics/DataFlowExtract/venv/lib/site-packages/pandas/core/frame.py?line=3455'>3456</a>\u001b[0m \u001b[39mif\u001b[39;00m \u001b[39mself\u001b[39m\u001b[39m.\u001b[39mcolumns\u001b[39m.\u001b[39mnlevels \u001b[39m>\u001b[39m \u001b[39m1\u001b[39m:\n\u001b[0;32m   <a href='file:///c%3A/Users/MarfaPopova/S2R%20Analytics/Development%20%26%20Support%20Team%20-%20Power%20BI%20for%20Synergy%20-%20Advanced%20Analytics/DataFlowExtract/venv/lib/site-packages/pandas/core/frame.py?line=3456'>3457</a>\u001b[0m     \u001b[39mreturn\u001b[39;00m \u001b[39mself\u001b[39m\u001b[39m.\u001b[39m_getitem_multilevel(key)\n\u001b[1;32m-> <a href='file:///c%3A/Users/MarfaPopova/S2R%20Analytics/Development%20%26%20Support%20Team%20-%20Power%20BI%20for%20Synergy%20-%20Advanced%20Analytics/DataFlowExtract/venv/lib/site-packages/pandas/core/frame.py?line=3457'>3458</a>\u001b[0m indexer \u001b[39m=\u001b[39m \u001b[39mself\u001b[39;49m\u001b[39m.\u001b[39;49mcolumns\u001b[39m.\u001b[39;49mget_loc(key)\n\u001b[0;32m   <a href='file:///c%3A/Users/MarfaPopova/S2R%20Analytics/Development%20%26%20Support%20Team%20-%20Power%20BI%20for%20Synergy%20-%20Advanced%20Analytics/DataFlowExtract/venv/lib/site-packages/pandas/core/frame.py?line=3458'>3459</a>\u001b[0m \u001b[39mif\u001b[39;00m is_integer(indexer):\n\u001b[0;32m   <a href='file:///c%3A/Users/MarfaPopova/S2R%20Analytics/Development%20%26%20Support%20Team%20-%20Power%20BI%20for%20Synergy%20-%20Advanced%20Analytics/DataFlowExtract/venv/lib/site-packages/pandas/core/frame.py?line=3459'>3460</a>\u001b[0m     indexer \u001b[39m=\u001b[39m [indexer]\n",
      "File \u001b[1;32mc:\\Users\\MarfaPopova\\S2R Analytics\\Development & Support Team - Power BI for Synergy - Advanced Analytics\\DataFlowExtract\\venv\\lib\\site-packages\\pandas\\core\\indexes\\base.py:3363\u001b[0m, in \u001b[0;36mIndex.get_loc\u001b[1;34m(self, key, method, tolerance)\u001b[0m\n\u001b[0;32m   <a href='file:///c%3A/Users/MarfaPopova/S2R%20Analytics/Development%20%26%20Support%20Team%20-%20Power%20BI%20for%20Synergy%20-%20Advanced%20Analytics/DataFlowExtract/venv/lib/site-packages/pandas/core/indexes/base.py?line=3360'>3361</a>\u001b[0m         \u001b[39mreturn\u001b[39;00m \u001b[39mself\u001b[39m\u001b[39m.\u001b[39m_engine\u001b[39m.\u001b[39mget_loc(casted_key)\n\u001b[0;32m   <a href='file:///c%3A/Users/MarfaPopova/S2R%20Analytics/Development%20%26%20Support%20Team%20-%20Power%20BI%20for%20Synergy%20-%20Advanced%20Analytics/DataFlowExtract/venv/lib/site-packages/pandas/core/indexes/base.py?line=3361'>3362</a>\u001b[0m     \u001b[39mexcept\u001b[39;00m \u001b[39mKeyError\u001b[39;00m \u001b[39mas\u001b[39;00m err:\n\u001b[1;32m-> <a href='file:///c%3A/Users/MarfaPopova/S2R%20Analytics/Development%20%26%20Support%20Team%20-%20Power%20BI%20for%20Synergy%20-%20Advanced%20Analytics/DataFlowExtract/venv/lib/site-packages/pandas/core/indexes/base.py?line=3362'>3363</a>\u001b[0m         \u001b[39mraise\u001b[39;00m \u001b[39mKeyError\u001b[39;00m(key) \u001b[39mfrom\u001b[39;00m \u001b[39merr\u001b[39;00m\n\u001b[0;32m   <a href='file:///c%3A/Users/MarfaPopova/S2R%20Analytics/Development%20%26%20Support%20Team%20-%20Power%20BI%20for%20Synergy%20-%20Advanced%20Analytics/DataFlowExtract/venv/lib/site-packages/pandas/core/indexes/base.py?line=3364'>3365</a>\u001b[0m \u001b[39mif\u001b[39;00m is_scalar(key) \u001b[39mand\u001b[39;00m isna(key) \u001b[39mand\u001b[39;00m \u001b[39mnot\u001b[39;00m \u001b[39mself\u001b[39m\u001b[39m.\u001b[39mhasnans:\n\u001b[0;32m   <a href='file:///c%3A/Users/MarfaPopova/S2R%20Analytics/Development%20%26%20Support%20Team%20-%20Power%20BI%20for%20Synergy%20-%20Advanced%20Analytics/DataFlowExtract/venv/lib/site-packages/pandas/core/indexes/base.py?line=3365'>3366</a>\u001b[0m     \u001b[39mraise\u001b[39;00m \u001b[39mKeyError\u001b[39;00m(key)\n",
      "\u001b[1;31mKeyError\u001b[0m: 'Recoverability'"
     ]
    }
   ],
   "source": [
    "for x in ['Recoverability']:\n",
    "    q75,q25 = np.percentile(projects.loc[:,x],[75,25])\n",
    "    intr_qr = q75-q25\n",
    " \n",
    "    max = q75+(1.5*intr_qr)\n",
    "    min = q25-(1.5*intr_qr)\n",
    " \n",
    "    projects.loc[projects[x] < min,x] = np.nan\n",
    "\n",
    "    projects.loc[projects[x] > max,x] = np.nan\n",
    "\n",
    "projects.boxplot('Recoverability')"
   ]
  },
  {
   "cell_type": "code",
   "execution_count": 9,
   "metadata": {},
   "outputs": [
    {
     "data": {
      "text/plain": [
       "<AxesSubplot:>"
      ]
     },
     "execution_count": 9,
     "metadata": {},
     "output_type": "execute_result"
    },
    {
     "data": {
      "image/png": "[encoded data removed]",
      "text/plain": [
       "<Figure size 640x480 with 1 Axes>"
      ]
     },
     "metadata": {},
     "output_type": "display_data"
    }
   ],
   "source": [
    "for x in ['Profit_Measure']:\n",
    "    q75,q25 = np.percentile(projects.loc[:,x],[75,25])\n",
    "    intr_qr = q75-q25\n",
    " \n",
    "    max = q75+(1.5*intr_qr)\n",
    "    min = q25-(1.5*intr_qr)\n",
    " \n",
    "    projects.loc[projects[x] < min,x] = np.nan\n",
    "\n",
    "    projects.loc[projects[x] > max,x] = np.nan\n",
    "\n",
    "projects.boxplot('Profit_Measure')"
   ]
  },
  {
   "cell_type": "markdown",
   "metadata": {},
   "source": [
    "Interpretation: https://www.mathbootcamps.com/how-to-read-a-boxplot/"
   ]
  },
  {
   "cell_type": "markdown",
   "metadata": {},
   "source": [
    "### 3.2 <a class=\"anchor\" id=\"3_2\"></a> Missing values"
   ]
  },
  {
   "cell_type": "code",
   "execution_count": 31,
   "metadata": {},
   "outputs": [
    {
     "name": "stderr",
     "output_type": "stream",
     "text": [
      "C:\\Users\\MarfaPopova\\AppData\\Local\\Temp\\ipykernel_14612\\2231829664.py:1: FutureWarning: Indexing with multiple keys (implicitly converted to a tuple of keys) will be deprecated, use a list instead.\n",
      "  df_grouped = pd.DataFrame(df.groupby(['Project_ID', 'Stage_ID'])['Recoverability', 'Profit_Measure'].sum()).reset_index()\n"
     ]
    },
    {
     "data": {
      "text/html": [
       "<div>\n",
       "<style scoped>\n",
       "    .dataframe tbody tr th:only-of-type {\n",
       "        vertical-align: middle;\n",
       "    }\n",
       "\n",
       "    .dataframe tbody tr th {\n",
       "        vertical-align: top;\n",
       "    }\n",
       "\n",
       "    .dataframe thead th {\n",
       "        text-align: right;\n",
       "    }\n",
       "</style>\n",
       "<table border=\"1\" class=\"dataframe\">\n",
       "  <thead>\n",
       "    <tr style=\"text-align: right;\">\n",
       "      <th></th>\n",
       "      <th>Project_ID</th>\n",
       "      <th>Stage_ID</th>\n",
       "      <th>Recoverability</th>\n",
       "      <th>Profit_Measure</th>\n",
       "    </tr>\n",
       "  </thead>\n",
       "  <tbody>\n",
       "    <tr>\n",
       "      <th>0</th>\n",
       "      <td>367704.0</td>\n",
       "      <td>1388262.0</td>\n",
       "      <td>70.089817</td>\n",
       "      <td>57.019199</td>\n",
       "    </tr>\n",
       "    <tr>\n",
       "      <th>1</th>\n",
       "      <td>367711.0</td>\n",
       "      <td>1388295.0</td>\n",
       "      <td>16.655101</td>\n",
       "      <td>16.655101</td>\n",
       "    </tr>\n",
       "    <tr>\n",
       "      <th>2</th>\n",
       "      <td>367711.0</td>\n",
       "      <td>1388296.0</td>\n",
       "      <td>60.293234</td>\n",
       "      <td>24.276015</td>\n",
       "    </tr>\n",
       "    <tr>\n",
       "      <th>3</th>\n",
       "      <td>367711.0</td>\n",
       "      <td>2096626.0</td>\n",
       "      <td>12.451831</td>\n",
       "      <td>12.451831</td>\n",
       "    </tr>\n",
       "    <tr>\n",
       "      <th>4</th>\n",
       "      <td>367711.0</td>\n",
       "      <td>4063518.0</td>\n",
       "      <td>6.338760</td>\n",
       "      <td>7.362404</td>\n",
       "    </tr>\n",
       "    <tr>\n",
       "      <th>...</th>\n",
       "      <td>...</td>\n",
       "      <td>...</td>\n",
       "      <td>...</td>\n",
       "      <td>...</td>\n",
       "    </tr>\n",
       "    <tr>\n",
       "      <th>21408</th>\n",
       "      <td>1524776.0</td>\n",
       "      <td>6014965.0</td>\n",
       "      <td>0.000000</td>\n",
       "      <td>0.000000</td>\n",
       "    </tr>\n",
       "    <tr>\n",
       "      <th>21409</th>\n",
       "      <td>1529864.0</td>\n",
       "      <td>5998563.0</td>\n",
       "      <td>0.000000</td>\n",
       "      <td>0.000000</td>\n",
       "    </tr>\n",
       "    <tr>\n",
       "      <th>21410</th>\n",
       "      <td>1529864.0</td>\n",
       "      <td>5998564.0</td>\n",
       "      <td>0.000000</td>\n",
       "      <td>0.000000</td>\n",
       "    </tr>\n",
       "    <tr>\n",
       "      <th>21411</th>\n",
       "      <td>1538446.0</td>\n",
       "      <td>6009400.0</td>\n",
       "      <td>0.000000</td>\n",
       "      <td>0.000000</td>\n",
       "    </tr>\n",
       "    <tr>\n",
       "      <th>21412</th>\n",
       "      <td>1538447.0</td>\n",
       "      <td>6009401.0</td>\n",
       "      <td>0.000000</td>\n",
       "      <td>0.000000</td>\n",
       "    </tr>\n",
       "  </tbody>\n",
       "</table>\n",
       "<p>21413 rows × 4 columns</p>\n",
       "</div>"
      ],
      "text/plain": [
       "       Project_ID   Stage_ID  Recoverability  Profit_Measure\n",
       "0        367704.0  1388262.0       70.089817       57.019199\n",
       "1        367711.0  1388295.0       16.655101       16.655101\n",
       "2        367711.0  1388296.0       60.293234       24.276015\n",
       "3        367711.0  2096626.0       12.451831       12.451831\n",
       "4        367711.0  4063518.0        6.338760        7.362404\n",
       "...           ...        ...             ...             ...\n",
       "21408   1524776.0  6014965.0        0.000000        0.000000\n",
       "21409   1529864.0  5998563.0        0.000000        0.000000\n",
       "21410   1529864.0  5998564.0        0.000000        0.000000\n",
       "21411   1538446.0  6009400.0        0.000000        0.000000\n",
       "21412   1538447.0  6009401.0        0.000000        0.000000\n",
       "\n",
       "[21413 rows x 4 columns]"
      ]
     },
     "execution_count": 31,
     "metadata": {},
     "output_type": "execute_result"
    }
   ],
   "source": [
    "stage_lvl = pd.DataFrame(df.groupby(['Project_ID', 'Stage_ID'])['Recoverability', 'Profit_Measure'].sum()).reset_index()\n",
    "stage_lvl"
   ]
  },
  {
   "cell_type": "code",
   "execution_count": 32,
   "metadata": {},
   "outputs": [
    {
     "name": "stderr",
     "output_type": "stream",
     "text": [
      "C:\\Users\\MarfaPopova\\AppData\\Local\\Temp\\ipykernel_14612\\2321089568.py:1: FutureWarning: Indexing with multiple keys (implicitly converted to a tuple of keys) will be deprecated, use a list instead.\n",
      "  project_lvl = pd.DataFrame(df.groupby(['Project_ID'])['Recoverability', 'Profit_Measure'].sum()).reset_index()\n"
     ]
    },
    {
     "data": {
      "text/html": [
       "<div>\n",
       "<style scoped>\n",
       "    .dataframe tbody tr th:only-of-type {\n",
       "        vertical-align: middle;\n",
       "    }\n",
       "\n",
       "    .dataframe tbody tr th {\n",
       "        vertical-align: top;\n",
       "    }\n",
       "\n",
       "    .dataframe thead th {\n",
       "        text-align: right;\n",
       "    }\n",
       "</style>\n",
       "<table border=\"1\" class=\"dataframe\">\n",
       "  <thead>\n",
       "    <tr style=\"text-align: right;\">\n",
       "      <th></th>\n",
       "      <th>Project_ID</th>\n",
       "      <th>Recoverability</th>\n",
       "      <th>Profit_Measure</th>\n",
       "    </tr>\n",
       "  </thead>\n",
       "  <tbody>\n",
       "    <tr>\n",
       "      <th>0</th>\n",
       "      <td>367704.0</td>\n",
       "      <td>70.089817</td>\n",
       "      <td>57.019199</td>\n",
       "    </tr>\n",
       "    <tr>\n",
       "      <th>1</th>\n",
       "      <td>367705.0</td>\n",
       "      <td>0.000000</td>\n",
       "      <td>0.000000</td>\n",
       "    </tr>\n",
       "    <tr>\n",
       "      <th>2</th>\n",
       "      <td>367706.0</td>\n",
       "      <td>0.000000</td>\n",
       "      <td>0.000000</td>\n",
       "    </tr>\n",
       "    <tr>\n",
       "      <th>3</th>\n",
       "      <td>367707.0</td>\n",
       "      <td>0.000000</td>\n",
       "      <td>0.000000</td>\n",
       "    </tr>\n",
       "    <tr>\n",
       "      <th>4</th>\n",
       "      <td>367708.0</td>\n",
       "      <td>0.000000</td>\n",
       "      <td>0.000000</td>\n",
       "    </tr>\n",
       "    <tr>\n",
       "      <th>...</th>\n",
       "      <td>...</td>\n",
       "      <td>...</td>\n",
       "      <td>...</td>\n",
       "    </tr>\n",
       "    <tr>\n",
       "      <th>9750</th>\n",
       "      <td>1524776.0</td>\n",
       "      <td>0.000000</td>\n",
       "      <td>0.000000</td>\n",
       "    </tr>\n",
       "    <tr>\n",
       "      <th>9751</th>\n",
       "      <td>1529864.0</td>\n",
       "      <td>0.000000</td>\n",
       "      <td>0.000000</td>\n",
       "    </tr>\n",
       "    <tr>\n",
       "      <th>9752</th>\n",
       "      <td>1538446.0</td>\n",
       "      <td>0.000000</td>\n",
       "      <td>0.000000</td>\n",
       "    </tr>\n",
       "    <tr>\n",
       "      <th>9753</th>\n",
       "      <td>1538447.0</td>\n",
       "      <td>0.000000</td>\n",
       "      <td>0.000000</td>\n",
       "    </tr>\n",
       "    <tr>\n",
       "      <th>9754</th>\n",
       "      <td>1567895.0</td>\n",
       "      <td>0.000000</td>\n",
       "      <td>0.000000</td>\n",
       "    </tr>\n",
       "  </tbody>\n",
       "</table>\n",
       "<p>9755 rows × 3 columns</p>\n",
       "</div>"
      ],
      "text/plain": [
       "      Project_ID  Recoverability  Profit_Measure\n",
       "0       367704.0       70.089817       57.019199\n",
       "1       367705.0        0.000000        0.000000\n",
       "2       367706.0        0.000000        0.000000\n",
       "3       367707.0        0.000000        0.000000\n",
       "4       367708.0        0.000000        0.000000\n",
       "...          ...             ...             ...\n",
       "9750   1524776.0        0.000000        0.000000\n",
       "9751   1529864.0        0.000000        0.000000\n",
       "9752   1538446.0        0.000000        0.000000\n",
       "9753   1538447.0        0.000000        0.000000\n",
       "9754   1567895.0        0.000000        0.000000\n",
       "\n",
       "[9755 rows x 3 columns]"
      ]
     },
     "execution_count": 32,
     "metadata": {},
     "output_type": "execute_result"
    }
   ],
   "source": [
    "project_lvl = pd.DataFrame(df.groupby(['Project_ID'])['Recoverability', 'Profit_Measure'].sum()).reset_index()\n",
    "project_lvl"
   ]
  },
  {
   "cell_type": "code",
   "execution_count": 29,
   "metadata": {},
   "outputs": [
    {
     "data": {
      "text/plain": [
       "0.000000       5995\n",
       "4.607823         25\n",
       "6.143764         21\n",
       "7.679705         14\n",
       "10.751587        11\n",
       "               ... \n",
       "11.111749         1\n",
       "1992.148048       1\n",
       "59.705823         1\n",
       "568.378120        1\n",
       "1.439539          1\n",
       "Name: Recoverability, Length: 3555, dtype: int64"
      ]
     },
     "execution_count": 29,
     "metadata": {},
     "output_type": "execute_result"
    }
   ],
   "source": [
    "df_grouped['Recoverability'].value_counts()"
   ]
  },
  {
   "cell_type": "code",
   "execution_count": 30,
   "metadata": {},
   "outputs": [
    {
     "data": {
      "text/plain": [
       "0.000000       6267\n",
       "2.702815          4\n",
       "4.607823          4\n",
       "4.151100          3\n",
       "4.710219          3\n",
       "               ... \n",
       "46.497626         1\n",
       "2081.157165       1\n",
       "60.910573         1\n",
       "1046.129354       1\n",
       "2.423949          1\n",
       "Name: Profit_Measure, Length: 3451, dtype: int64"
      ]
     },
     "execution_count": 30,
     "metadata": {},
     "output_type": "execute_result"
    }
   ],
   "source": [
    "df_grouped['Profit_Measure'].value_counts()"
   ]
  },
  {
   "cell_type": "code",
   "execution_count": 18,
   "metadata": {},
   "outputs": [
    {
     "name": "stdout",
     "output_type": "stream",
     "text": [
      "Country 12731\n",
      "Project_Size_Sort_Order 1\n",
      "Total_Num_Stages 37874\n",
      "Is_Multi_Discipline_Project 1\n",
      "Is_First_Client_Project 1\n",
      "Perc_of_Stages_with_Fixed_Fee 37874\n",
      "Project_Director 1\n",
      "Project_Manager 5694\n",
      "Synergy_Team 5694\n",
      "Employment_Total_Months 5694\n",
      "Manager_Is_Recent 11048\n",
      "Perc_of_Subcontractors 847\n",
      "Project_Duration_Weeks 5978\n",
      "Is_Front_Loaded 512\n",
      "Delivered_on_Time 324536\n",
      "Suffered_Data_Loss 5719\n",
      "Total_Data_Issues 3\n",
      "Client_ID 353931\n",
      "Client_Projects_Total_No 353931\n",
      "Client_Is_Repeated 353931\n",
      "Client_Duration_Months 353931\n",
      "Client_Is_Recent 353931\n",
      "Stage_ID 5731\n",
      "Stage_Discipline 5731\n",
      "Stage_Duration_Weeks 5731\n",
      "Recoverability 17693\n",
      "Profit_Measure 26460\n"
     ]
    }
   ],
   "source": [
    "# Number of columns having null values in the old dataset\n",
    "cols = df.columns[df.isnull().any()].to_list()\n",
    "\n",
    "for c in cols:\n",
    "    print(c, df[c].isnull().sum())"
   ]
  },
  {
   "cell_type": "markdown",
   "metadata": {},
   "source": [
    "### 3.3 <a class=\"anchor\" id=\"3_3\"></a> Feature engineering"
   ]
  },
  {
   "cell_type": "code",
   "execution_count": null,
   "metadata": {},
   "outputs": [],
   "source": []
  },
  {
   "cell_type": "markdown",
   "metadata": {},
   "source": [
    "### 3.3 <a class=\"anchor\" id=\"3_3\"></a> Encoding"
   ]
  },
  {
   "cell_type": "code",
   "execution_count": null,
   "metadata": {},
   "outputs": [],
   "source": []
  },
  {
   "cell_type": "markdown",
   "metadata": {},
   "source": [
    "### 3.4 <a class=\"anchor\" id=\"3_4\"></a> Scaling"
   ]
  },
  {
   "cell_type": "code",
   "execution_count": null,
   "metadata": {},
   "outputs": [],
   "source": []
  },
  {
   "cell_type": "markdown",
   "metadata": {},
   "source": [
    "### 3.5 <a class=\"anchor\" id=\"3_5\"></a> Splitting"
   ]
  },
  {
   "cell_type": "code",
   "execution_count": null,
   "metadata": {},
   "outputs": [],
   "source": []
  },
  {
   "cell_type": "markdown",
   "metadata": {},
   "source": [
    "## Part 4: <a class=\"anchor\" id=\"part4\"></a> Exploratory data analysis"
   ]
  },
  {
   "cell_type": "markdown",
   "metadata": {},
   "source": []
  }
 ],
 "metadata": {
  "interpreter": {
   "hash": "32faf87829e52f10b3379fa51fb017496aba8a2082e84bf41be67a5b199752f4"
  },
  "kernelspec": {
   "display_name": "Python 3.10.2 ('venv': venv)",
   "language": "python",
   "name": "python3"
  },
  "language_info": {
   "codemirror_mode": {
    "name": "ipython",
    "version": 3
   },
   "file_extension": ".py",
   "mimetype": "text/x-python",
   "name": "python",
   "nbconvert_exporter": "python",
   "pygments_lexer": "ipython3",
   "version": "3.10.2"
  },
  "orig_nbformat": 4
 },
 "nbformat": 4,
 "nbformat_minor": 2
}
