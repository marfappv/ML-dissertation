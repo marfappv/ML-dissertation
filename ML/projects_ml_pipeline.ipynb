{
 "cells": [
  {
   "cell_type": "markdown",
   "metadata": {},
   "source": [
    "<h1 align=\"center\">MSIN0114: Business Analytics Consulting Project</h1>\n",
    "<h2 align=\"center\">S2R Analytics</h2>"
   ]
  },
  {
   "cell_type": "markdown",
   "metadata": {},
   "source": [
    "# Table of Contents\n",
    "\n",
    "**Predictive analytics (ML pipeline)**\n",
    "\n",
    "* [Part 3](#part3): Exploratory data analysis\n",
    "<br />\n",
    "<br />\n",
    "* [Part 4](#part4): Preprocessing\n",
    "    * [4.1](#4_1): Outliers\n",
    "    * [4.2](#4_2): Missing values\n",
    "    * [4.3](#4_3): Encoding\n",
    "    * [4.4](#4_4): Scaling\n",
    "    * [4.5](#4_5): Splitting\n",
    "<br />\n",
    "<br />\n",
    "* [Part 5](#part5): Model training\n",
    "* [Part 6](#part6): Performance evaluation\n",
    "* [Part 7](#part7): Feature importance and statistical tests\n",
    "* [Part 8](#part8): Converting the output\n",
    "* [Part 9](#part9): Pipeline creation"
   ]
  },
  {
   "cell_type": "markdown",
   "metadata": {},
   "source": [
    "## Notebook Setup"
   ]
  },
  {
   "cell_type": "code",
   "execution_count": 119,
   "metadata": {},
   "outputs": [],
   "source": [
    "#Essentials\n",
    "import pandas as pd\n",
    "from pandas import Series, DataFrame\n",
    "from pandas.api.types import CategoricalDtype\n",
    "pd.options.display.max_columns = None\n",
    "import sqlite3\n",
    "import pyodbc\n",
    "\n",
    "#Image creation and display\n",
    "import seaborn as sns\n",
    "import matplotlib.pyplot as plt\n",
    "import matplotlib.ticker as mtick\n",
    "import matplotlib.patches as mpatches\n",
    "from matplotlib import pyplot\n",
    "import plotly.express as px\n",
    "import plotly.graph_objects as go\n",
    "#from image import image, display\n",
    "\n",
    "#Preprocessing\n",
    "from sklearn.model_selection import train_test_split\n",
    "from sklearn.preprocessing import StandardScaler\n",
    "from sklearn.preprocessing import LabelEncoder\n",
    "from sklearn.compose import ColumnTransformer\n",
    "from sklearn.compose import make_column_transformer\n",
    "from sklearn.pipeline import Pipeline\n",
    "from sklearn.pipeline import make_pipeline\n",
    "\n",
    "#Models\n",
    "from sklearn.linear_model import LogisticRegression\n",
    "from sklearn.neighbors import KNeighborsClassifier\n",
    "from sklearn.tree import DecisionTreeClassifier\n",
    "from sklearn.ensemble import RandomForestClassifier\n",
    "from xgboost import XGBClassifier\n",
    "from sklearn.svm import SVC\n",
    "from sklearn import svm\n",
    "from sklearn.naive_bayes import GaussianNB\n",
    "from sklearn.base import clone\n",
    "from sklearn.ensemble import StackingClassifier\n",
    "from sklearn.ensemble import BaggingClassifier\n",
    "\n",
    "#Other\n",
    "import itertools as it\n",
    "import io\n",
    "import os\n",
    "os.sys.path\n",
    "import sys\n",
    "import glob\n",
    "import concurrent.futures\n",
    "from __future__ import print_function\n",
    "import binascii\n",
    "import struct\n",
    "from PIL import Image\n",
    "import scipy\n",
    "import scipy.misc\n",
    "import scipy.cluster\n",
    "import datetime, time\n",
    "import functools, operator\n",
    "from datetime import datetime\n",
    "from numpy.random import seed\n",
    "from numpy.random import randn\n",
    "from numpy import percentile"
   ]
  },
  {
   "cell_type": "code",
   "execution_count": 145,
   "metadata": {},
   "outputs": [
    {
     "data": {
      "text/html": [
       "<div>\n",
       "<style scoped>\n",
       "    .dataframe tbody tr th:only-of-type {\n",
       "        vertical-align: middle;\n",
       "    }\n",
       "\n",
       "    .dataframe tbody tr th {\n",
       "        vertical-align: top;\n",
       "    }\n",
       "\n",
       "    .dataframe thead th {\n",
       "        text-align: right;\n",
       "    }\n",
       "</style>\n",
       "<table border=\"1\" class=\"dataframe\">\n",
       "  <thead>\n",
       "    <tr style=\"text-align: right;\">\n",
       "      <th></th>\n",
       "      <th>Project_ID</th>\n",
       "      <th>Country</th>\n",
       "      <th>Office</th>\n",
       "      <th>Sector</th>\n",
       "      <th>Project_Size_Sort_Order</th>\n",
       "      <th>Is_Multi_Discipline_Project</th>\n",
       "      <th>Is_First_Client_Project</th>\n",
       "      <th>Default_Rate_Group</th>\n",
       "      <th>Perc_of_Stages_with_Fixed_Fee</th>\n",
       "      <th>Manager_Is_Recent</th>\n",
       "      <th>Project_Director</th>\n",
       "      <th>Perc_of_Subcontractors</th>\n",
       "      <th>Project_Duration_Weeks</th>\n",
       "      <th>Is_Front_Loaded</th>\n",
       "      <th>Delivered_on_Time</th>\n",
       "      <th>Fully_In_Lockdown</th>\n",
       "      <th>Partially_In_Lockdown</th>\n",
       "      <th>Suffered_Data_Loss</th>\n",
       "      <th>Total_Data_Issues</th>\n",
       "      <th>Avg_Rec</th>\n",
       "      <th>Avg_Profit</th>\n",
       "      <th>Staff_ID</th>\n",
       "      <th>Synergy_Team</th>\n",
       "      <th>Employment_Total_Months</th>\n",
       "    </tr>\n",
       "  </thead>\n",
       "  <tbody>\n",
       "    <tr>\n",
       "      <th>0</th>\n",
       "      <td>367704</td>\n",
       "      <td>Australia</td>\n",
       "      <td>Whyalla</td>\n",
       "      <td>Ports &amp; Marine</td>\n",
       "      <td>4.0</td>\n",
       "      <td>False</td>\n",
       "      <td>True</td>\n",
       "      <td>Standard</td>\n",
       "      <td>100.0</td>\n",
       "      <td>False</td>\n",
       "      <td>Mark Gilbert</td>\n",
       "      <td>0.0</td>\n",
       "      <td>4.0</td>\n",
       "      <td>True</td>\n",
       "      <td>NaN</td>\n",
       "      <td>False</td>\n",
       "      <td>False</td>\n",
       "      <td>False</td>\n",
       "      <td>2.0</td>\n",
       "      <td>2.070711</td>\n",
       "      <td>0.991479</td>\n",
       "      <td>7612852.0</td>\n",
       "      <td>SA - Industrial</td>\n",
       "      <td>117.0</td>\n",
       "    </tr>\n",
       "    <tr>\n",
       "      <th>1</th>\n",
       "      <td>367705</td>\n",
       "      <td>Australia</td>\n",
       "      <td>WGASA Pty Ltd</td>\n",
       "      <td>Civic &amp; Education Buildings</td>\n",
       "      <td>1.0</td>\n",
       "      <td>False</td>\n",
       "      <td>True</td>\n",
       "      <td>Standard</td>\n",
       "      <td>NaN</td>\n",
       "      <td>NaN</td>\n",
       "      <td>Geoff Wallbridge</td>\n",
       "      <td>0.0</td>\n",
       "      <td>NaN</td>\n",
       "      <td>False</td>\n",
       "      <td>NaN</td>\n",
       "      <td>False</td>\n",
       "      <td>False</td>\n",
       "      <td>NaN</td>\n",
       "      <td>2.0</td>\n",
       "      <td>1.926671</td>\n",
       "      <td>0.000000</td>\n",
       "      <td>7612773.0</td>\n",
       "      <td>SA - Buildings</td>\n",
       "      <td>310.0</td>\n",
       "    </tr>\n",
       "    <tr>\n",
       "      <th>2</th>\n",
       "      <td>367706</td>\n",
       "      <td>Australia</td>\n",
       "      <td>WGASA Pty Ltd</td>\n",
       "      <td>Civic &amp; Education Buildings</td>\n",
       "      <td>1.0</td>\n",
       "      <td>False</td>\n",
       "      <td>True</td>\n",
       "      <td>Standard</td>\n",
       "      <td>NaN</td>\n",
       "      <td>NaN</td>\n",
       "      <td>Loreto Taglienti</td>\n",
       "      <td>0.0</td>\n",
       "      <td>NaN</td>\n",
       "      <td>False</td>\n",
       "      <td>NaN</td>\n",
       "      <td>False</td>\n",
       "      <td>False</td>\n",
       "      <td>NaN</td>\n",
       "      <td>0.0</td>\n",
       "      <td>1.936449</td>\n",
       "      <td>1.290966</td>\n",
       "      <td>7612773.0</td>\n",
       "      <td>SA - Buildings</td>\n",
       "      <td>310.0</td>\n",
       "    </tr>\n",
       "    <tr>\n",
       "      <th>3</th>\n",
       "      <td>367707</td>\n",
       "      <td>Australia</td>\n",
       "      <td>WGASA Pty Ltd</td>\n",
       "      <td>Commercial &amp; Retail Buildings</td>\n",
       "      <td>3.0</td>\n",
       "      <td>False</td>\n",
       "      <td>True</td>\n",
       "      <td>Standard</td>\n",
       "      <td>NaN</td>\n",
       "      <td>NaN</td>\n",
       "      <td>Mark Gilbert</td>\n",
       "      <td>0.0</td>\n",
       "      <td>NaN</td>\n",
       "      <td>False</td>\n",
       "      <td>NaN</td>\n",
       "      <td>False</td>\n",
       "      <td>False</td>\n",
       "      <td>NaN</td>\n",
       "      <td>1.0</td>\n",
       "      <td>2.053392</td>\n",
       "      <td>1.631426</td>\n",
       "      <td>7612773.0</td>\n",
       "      <td>SA - Buildings</td>\n",
       "      <td>310.0</td>\n",
       "    </tr>\n",
       "    <tr>\n",
       "      <th>4</th>\n",
       "      <td>367708</td>\n",
       "      <td>Australia</td>\n",
       "      <td>WGASA Pty Ltd</td>\n",
       "      <td>Civic &amp; Education Buildings</td>\n",
       "      <td>7.0</td>\n",
       "      <td>False</td>\n",
       "      <td>True</td>\n",
       "      <td>Standard</td>\n",
       "      <td>NaN</td>\n",
       "      <td>NaN</td>\n",
       "      <td>Peter McBean</td>\n",
       "      <td>0.0</td>\n",
       "      <td>NaN</td>\n",
       "      <td>False</td>\n",
       "      <td>NaN</td>\n",
       "      <td>False</td>\n",
       "      <td>False</td>\n",
       "      <td>NaN</td>\n",
       "      <td>3.0</td>\n",
       "      <td>1.082860</td>\n",
       "      <td>0.000000</td>\n",
       "      <td>7612695.0</td>\n",
       "      <td>SA - Buildings</td>\n",
       "      <td>420.0</td>\n",
       "    </tr>\n",
       "  </tbody>\n",
       "</table>\n",
       "</div>"
      ],
      "text/plain": [
       "   Project_ID    Country         Office                         Sector  \\\n",
       "0      367704  Australia        Whyalla                 Ports & Marine   \n",
       "1      367705  Australia  WGASA Pty Ltd    Civic & Education Buildings   \n",
       "2      367706  Australia  WGASA Pty Ltd    Civic & Education Buildings   \n",
       "3      367707  Australia  WGASA Pty Ltd  Commercial & Retail Buildings   \n",
       "4      367708  Australia  WGASA Pty Ltd    Civic & Education Buildings   \n",
       "\n",
       "   Project_Size_Sort_Order Is_Multi_Discipline_Project  \\\n",
       "0                      4.0                       False   \n",
       "1                      1.0                       False   \n",
       "2                      1.0                       False   \n",
       "3                      3.0                       False   \n",
       "4                      7.0                       False   \n",
       "\n",
       "  Is_First_Client_Project Default_Rate_Group  Perc_of_Stages_with_Fixed_Fee  \\\n",
       "0                    True           Standard                          100.0   \n",
       "1                    True           Standard                            NaN   \n",
       "2                    True           Standard                            NaN   \n",
       "3                    True           Standard                            NaN   \n",
       "4                    True           Standard                            NaN   \n",
       "\n",
       "  Manager_Is_Recent  Project_Director  Perc_of_Subcontractors  \\\n",
       "0             False      Mark Gilbert                     0.0   \n",
       "1               NaN  Geoff Wallbridge                     0.0   \n",
       "2               NaN  Loreto Taglienti                     0.0   \n",
       "3               NaN      Mark Gilbert                     0.0   \n",
       "4               NaN      Peter McBean                     0.0   \n",
       "\n",
       "   Project_Duration_Weeks Is_Front_Loaded Delivered_on_Time  \\\n",
       "0                     4.0            True               NaN   \n",
       "1                     NaN           False               NaN   \n",
       "2                     NaN           False               NaN   \n",
       "3                     NaN           False               NaN   \n",
       "4                     NaN           False               NaN   \n",
       "\n",
       "   Fully_In_Lockdown  Partially_In_Lockdown Suffered_Data_Loss  \\\n",
       "0              False                  False              False   \n",
       "1              False                  False                NaN   \n",
       "2              False                  False                NaN   \n",
       "3              False                  False                NaN   \n",
       "4              False                  False                NaN   \n",
       "\n",
       "   Total_Data_Issues   Avg_Rec  Avg_Profit   Staff_ID     Synergy_Team  \\\n",
       "0                2.0  2.070711    0.991479  7612852.0  SA - Industrial   \n",
       "1                2.0  1.926671    0.000000  7612773.0   SA - Buildings   \n",
       "2                0.0  1.936449    1.290966  7612773.0   SA - Buildings   \n",
       "3                1.0  2.053392    1.631426  7612773.0   SA - Buildings   \n",
       "4                3.0  1.082860    0.000000  7612695.0   SA - Buildings   \n",
       "\n",
       "   Employment_Total_Months  \n",
       "0                    117.0  \n",
       "1                    310.0  \n",
       "2                    310.0  \n",
       "3                    310.0  \n",
       "4                    420.0  "
      ]
     },
     "execution_count": 145,
     "metadata": {},
     "output_type": "execute_result"
    }
   ],
   "source": [
    "df = pd.read_csv('project_lvl.csv')\n",
    "df.head()"
   ]
  },
  {
   "cell_type": "markdown",
   "metadata": {},
   "source": [
    "## Part 3: <a class=\"anchor\" id=\"part3\"></a> Preprocessing"
   ]
  },
  {
   "cell_type": "markdown",
   "metadata": {},
   "source": [
    "### 3.1 <a class=\"anchor\" id=\"3_1\"></a> Missing values"
   ]
  },
  {
   "cell_type": "code",
   "execution_count": 146,
   "metadata": {},
   "outputs": [
    {
     "data": {
      "text/plain": [
       "24"
      ]
     },
     "execution_count": 146,
     "metadata": {},
     "output_type": "execute_result"
    }
   ],
   "source": [
    "len(df.columns)"
   ]
  },
  {
   "cell_type": "code",
   "execution_count": 147,
   "metadata": {},
   "outputs": [
    {
     "data": {
      "text/plain": [
       "19    4814\n",
       "23    1904\n",
       "24    1324\n",
       "16     608\n",
       "22     513\n",
       "20     338\n",
       "15     117\n",
       "21      44\n",
       "17      41\n",
       "18      31\n",
       "13      15\n",
       "12       4\n",
       "14       2\n",
       "Name: non_missing_count, dtype: int64"
      ]
     },
     "execution_count": 147,
     "metadata": {},
     "output_type": "execute_result"
    }
   ],
   "source": [
    "# URL: https://datascience.stackexchange.com/questions/12645/how-to-count-the-number-of-missing-values-in-each-row-in-pandas-dataframe\n",
    "df['non_missing_count'] = df.apply(lambda x: x.count(), axis=1)\n",
    "df['non_missing_count'].value_counts()"
   ]
  },
  {
   "cell_type": "markdown",
   "metadata": {},
   "source": [
    "Rows with more than 7 empty columns will be dropped, so the minimum number of non-missing columns per row should be 17."
   ]
  },
  {
   "cell_type": "code",
   "execution_count": 148,
   "metadata": {},
   "outputs": [
    {
     "data": {
      "text/plain": [
       "9009"
      ]
     },
     "execution_count": 148,
     "metadata": {},
     "output_type": "execute_result"
    }
   ],
   "source": [
    "df = df[(df['non_missing_count']) >= 17]\n",
    "len(df)"
   ]
  },
  {
   "cell_type": "code",
   "execution_count": 149,
   "metadata": {},
   "outputs": [
    {
     "name": "stdout",
     "output_type": "stream",
     "text": [
      "Country 115\n",
      "Perc_of_Stages_with_Fixed_Fee 5778\n",
      "Manager_Is_Recent 5046\n",
      "Project_Director 1\n",
      "Perc_of_Subcontractors 159\n",
      "Project_Duration_Weeks 5000\n",
      "Is_Front_Loaded 145\n",
      "Delivered_on_Time 7038\n",
      "Suffered_Data_Loss 4975\n",
      "Avg_Rec 191\n",
      "Avg_Profit 191\n",
      "Staff_ID 106\n",
      "Synergy_Team 106\n",
      "Employment_Total_Months 106\n"
     ]
    }
   ],
   "source": [
    "# Number of columns having null values in the dataset\n",
    "cols = df.columns[df.isnull().any()].to_list()\n",
    "\n",
    "for c in cols:\n",
    "    print(c, df[c].isnull().sum())"
   ]
  },
  {
   "cell_type": "code",
   "execution_count": 150,
   "metadata": {},
   "outputs": [
    {
     "name": "stdout",
     "output_type": "stream",
     "text": [
      "Minimum values each coumn should have is set to e at least half of the dataset, i.e. 4504 rows.\n"
     ]
    }
   ],
   "source": [
    "print('Minimum values each coumn should have is set to e at least half of the dataset, i.e. '+ str(round(len(df)/2))+' rows.')"
   ]
  },
  {
   "cell_type": "code",
   "execution_count": 151,
   "metadata": {},
   "outputs": [],
   "source": [
    "# Drop ID columns and those with too many missing values\n",
    "df.drop(columns = ['Staff_ID', 'Perc_of_Stages_with_Fixed_Fee', 'Project_Duration_Weeks', 'Delivered_on_Time', 'Suffered_Data_Loss'], inplace = True)\n",
    "\n",
    "# Replacing null values with the most frequent strings and booleans\n",
    "df['Country'].fillna(df['Country'].value_counts().idxmax(), inplace = True)\n",
    "df['Project_Director'].fillna(df['Project_Director'].value_counts().idxmax(), inplace = True)\n",
    "df['Is_First_Client_Project'].fillna(df['Is_First_Client_Project'].value_counts().idxmax(), inplace = True)\n",
    "df['Manager_Is_Recent'].fillna(df['Manager_Is_Recent'].value_counts().idxmax(), inplace = True)\n",
    "df['Is_Front_Loaded'].fillna(df['Is_Front_Loaded'].value_counts().idxmax(), inplace = True)\n",
    "df['Synergy_Team'].fillna(df['Synergy_Team'].value_counts().idxmax(), inplace = True)"
   ]
  },
  {
   "cell_type": "markdown",
   "metadata": {},
   "source": [
    "Whether to perform imputatipon of missed vakues with median or mean, always depends on your data and your task.\n",
    "If there is a dataset that have great outliers, I'll prefer median. E.x.: 99% of household income is below 100, and 1% is above 500.\n",
    "\n",
    "First, let's deal with small amoun of nulls. Check: df.boxplot('Perc_of_Stages_with_Fixed_Fee')"
   ]
  },
  {
   "cell_type": "code",
   "execution_count": 152,
   "metadata": {},
   "outputs": [],
   "source": [
    "# Using median to impute the missing values\n",
    "missing_size = ['Project_Size_Sort_Order']\n",
    "for s in missing_size:\n",
    "    df.loc[df.loc[:,s].isnull(),s]=df.loc[:,s].median()\n",
    "\n",
    "missing_rec = ['Avg_Rec']\n",
    "for r in missing_rec:\n",
    "    df.loc[df.loc[:,r].isnull(),r]=df.loc[:,r].median()\n",
    "    \n",
    "missing_profit = ['Avg_Profit']\n",
    "for p in missing_profit:\n",
    "    df.loc[df.loc[:,p].isnull(),p]=int(df.loc[:,p].median())\n",
    "\n",
    "missing_subcontractors = ['Perc_of_Subcontractors']\n",
    "for s in missing_subcontractors:\n",
    "    df.loc[df.loc[:,s].isnull(),s]=int(df.loc[:,s].median())\n",
    "\n",
    "missing_months = ['Employment_Total_Months']\n",
    "for m in missing_months:\n",
    "    df.loc[df.loc[:,m].isnull(),m]=int(df.loc[:,m].median())\n",
    "\n",
    "missing_months = ['Employment_Total_Months']\n",
    "for m in missing_months:\n",
    "    df.loc[df.loc[:,m].isnull(),m]=int(df.loc[:,m].median())"
   ]
  },
  {
   "cell_type": "code",
   "execution_count": 153,
   "metadata": {},
   "outputs": [
    {
     "data": {
      "text/plain": [
       "Project_ID                     0\n",
       "Country                        0\n",
       "Office                         0\n",
       "Sector                         0\n",
       "Project_Size_Sort_Order        0\n",
       "Is_Multi_Discipline_Project    0\n",
       "Is_First_Client_Project        0\n",
       "Default_Rate_Group             0\n",
       "Manager_Is_Recent              0\n",
       "Project_Director               0\n",
       "Perc_of_Subcontractors         0\n",
       "Is_Front_Loaded                0\n",
       "Fully_In_Lockdown              0\n",
       "Partially_In_Lockdown          0\n",
       "Total_Data_Issues              0\n",
       "Avg_Rec                        0\n",
       "Avg_Profit                     0\n",
       "Synergy_Team                   0\n",
       "Employment_Total_Months        0\n",
       "non_missing_count              0\n",
       "dtype: int64"
      ]
     },
     "execution_count": 153,
     "metadata": {},
     "output_type": "execute_result"
    }
   ],
   "source": [
    "# Verify the changes\n",
    "df.isnull().sum()"
   ]
  },
  {
   "cell_type": "markdown",
   "metadata": {},
   "source": [
    "### 3.2 <a class=\"anchor\" id=\"3_2\"></a> Outliers"
   ]
  },
  {
   "cell_type": "code",
   "execution_count": 154,
   "metadata": {},
   "outputs": [
    {
     "name": "stdout",
     "output_type": "stream",
     "text": [
      "Percentiles: 25th=1.492, 75th=1.811, IQR=0.320\n",
      "Identified outliers: 218\n",
      "Non-outlier observations: 8791\n"
     ]
    }
   ],
   "source": [
    "# URL: https://machinelearningmastery.com/how-to-use-statistics-to-identify-outliers-in-data/\n",
    "\n",
    "# seed the random number generator\n",
    "seed(1)\n",
    "\n",
    "# calculate interquartile range\n",
    "q25, q75 = percentile(df['Avg_Rec'], 25), percentile(df['Avg_Rec'], 75)\n",
    "iqr = q75 - q25\n",
    "print('Percentiles: 25th=%.3f, 75th=%.3f, IQR=%.3f' % (q25, q75, iqr))\n",
    "# calculate the outlier cutoff\n",
    "cut_off = iqr * 1.5\n",
    "lower, upper = q25 - cut_off, q75 + cut_off\n",
    "# identify outliers\n",
    "outliers = [x for x in df['Avg_Rec'] if x < lower or x > upper]\n",
    "print('Identified outliers: %d' % len(outliers))\n",
    "# remove outliers\n",
    "outliers_removed = [x for x in df['Avg_Rec'] if x >= lower and x <= upper]\n",
    "print('Non-outlier observations: %d' % len(outliers_removed))"
   ]
  },
  {
   "cell_type": "code",
   "execution_count": 155,
   "metadata": {},
   "outputs": [
    {
     "name": "stdout",
     "output_type": "stream",
     "text": [
      "Percentiles: 25th=1.093, 75th=1.996, IQR=0.903\n",
      "Identified outliers: 562\n",
      "Non-outlier observations: 8447\n"
     ]
    }
   ],
   "source": [
    "# seed the random number generator\n",
    "seed(1)\n",
    "\n",
    "# calculate interquartile range\n",
    "q25, q75 = percentile(df['Avg_Profit'], 25), percentile(df['Avg_Profit'], 75)\n",
    "iqr = q75 - q25\n",
    "print('Percentiles: 25th=%.3f, 75th=%.3f, IQR=%.3f' % (q25, q75, iqr))\n",
    "# calculate the outlier cutoff\n",
    "cut_off = iqr * 1.5\n",
    "lower, upper = q25 - cut_off, q75 + cut_off\n",
    "# identify outliers\n",
    "outliers = [x for x in df['Avg_Profit'] if x < lower or x > upper]\n",
    "print('Identified outliers: %d' % len(outliers))\n",
    "# remove outliers\n",
    "outliers_removed = [x for x in df['Avg_Profit'] if x >= lower and x <= upper]\n",
    "print('Non-outlier observations: %d' % len(outliers_removed))"
   ]
  },
  {
   "cell_type": "markdown",
   "metadata": {},
   "source": [
    "Interpretation: https://www.mathbootcamps.com/how-to-read-a-boxplot/"
   ]
  },
  {
   "cell_type": "markdown",
   "metadata": {},
   "source": [
    "### 3.3 <a class=\"anchor\" id=\"3_3\"></a> Feature engineering"
   ]
  },
  {
   "cell_type": "code",
   "execution_count": 156,
   "metadata": {},
   "outputs": [
    {
     "data": {
      "text/html": [
       "<div>\n",
       "<style scoped>\n",
       "    .dataframe tbody tr th:only-of-type {\n",
       "        vertical-align: middle;\n",
       "    }\n",
       "\n",
       "    .dataframe tbody tr th {\n",
       "        vertical-align: top;\n",
       "    }\n",
       "\n",
       "    .dataframe thead th {\n",
       "        text-align: right;\n",
       "    }\n",
       "</style>\n",
       "<table border=\"1\" class=\"dataframe\">\n",
       "  <thead>\n",
       "    <tr style=\"text-align: right;\">\n",
       "      <th></th>\n",
       "      <th>Avg_Rec</th>\n",
       "      <th>Avg_Profit</th>\n",
       "    </tr>\n",
       "  </thead>\n",
       "  <tbody>\n",
       "    <tr>\n",
       "      <th>0</th>\n",
       "      <td>2.070711</td>\n",
       "      <td>0.991479</td>\n",
       "    </tr>\n",
       "    <tr>\n",
       "      <th>1</th>\n",
       "      <td>1.926671</td>\n",
       "      <td>0.000000</td>\n",
       "    </tr>\n",
       "    <tr>\n",
       "      <th>2</th>\n",
       "      <td>1.936449</td>\n",
       "      <td>1.290966</td>\n",
       "    </tr>\n",
       "    <tr>\n",
       "      <th>3</th>\n",
       "      <td>2.053392</td>\n",
       "      <td>1.631426</td>\n",
       "    </tr>\n",
       "    <tr>\n",
       "      <th>4</th>\n",
       "      <td>1.082860</td>\n",
       "      <td>0.000000</td>\n",
       "    </tr>\n",
       "    <tr>\n",
       "      <th>...</th>\n",
       "      <td>...</td>\n",
       "      <td>...</td>\n",
       "    </tr>\n",
       "    <tr>\n",
       "      <th>9749</th>\n",
       "      <td>1.646714</td>\n",
       "      <td>1.000000</td>\n",
       "    </tr>\n",
       "    <tr>\n",
       "      <th>9750</th>\n",
       "      <td>1.646714</td>\n",
       "      <td>1.000000</td>\n",
       "    </tr>\n",
       "    <tr>\n",
       "      <th>9751</th>\n",
       "      <td>1.646714</td>\n",
       "      <td>1.000000</td>\n",
       "    </tr>\n",
       "    <tr>\n",
       "      <th>9752</th>\n",
       "      <td>1.646714</td>\n",
       "      <td>1.000000</td>\n",
       "    </tr>\n",
       "    <tr>\n",
       "      <th>9753</th>\n",
       "      <td>1.646714</td>\n",
       "      <td>1.000000</td>\n",
       "    </tr>\n",
       "  </tbody>\n",
       "</table>\n",
       "<p>9009 rows × 2 columns</p>\n",
       "</div>"
      ],
      "text/plain": [
       "       Avg_Rec  Avg_Profit\n",
       "0     2.070711    0.991479\n",
       "1     1.926671    0.000000\n",
       "2     1.936449    1.290966\n",
       "3     2.053392    1.631426\n",
       "4     1.082860    0.000000\n",
       "...        ...         ...\n",
       "9749  1.646714    1.000000\n",
       "9750  1.646714    1.000000\n",
       "9751  1.646714    1.000000\n",
       "9752  1.646714    1.000000\n",
       "9753  1.646714    1.000000\n",
       "\n",
       "[9009 rows x 2 columns]"
      ]
     },
     "execution_count": 156,
     "metadata": {},
     "output_type": "execute_result"
    }
   ],
   "source": [
    "all_bins = pd.DataFrame(df, columns = ['Avg_Rec', 'Avg_Profit'])\n",
    "all_bins"
   ]
  },
  {
   "cell_type": "code",
   "execution_count": 169,
   "metadata": {},
   "outputs": [
    {
     "data": {
      "text/plain": [
       "(0.5876204854256184, 1.6467137666848868, 10816.242165914766)"
      ]
     },
     "execution_count": 169,
     "metadata": {},
     "output_type": "execute_result"
    }
   ],
   "source": [
    "df['Avg_Rec'].min(), df['Avg_Rec'].median(), df['Avg_Rec'].max()"
   ]
  },
  {
   "cell_type": "code",
   "execution_count": 157,
   "metadata": {},
   "outputs": [
    {
     "data": {
      "text/plain": [
       "<AxesSubplot:>"
      ]
     },
     "execution_count": 157,
     "metadata": {},
     "output_type": "execute_result"
    },
    {
     "data": {
      "image/png": "[encoded data removed]",
      "text/plain": [
       "<Figure size 432x288 with 1 Axes>"
      ]
     },
     "metadata": {
      "needs_background": "light"
     },
     "output_type": "display_data"
    }
   ],
   "source": [
    "df.boxplot('Avg_Rec')"
   ]
  },
  {
   "cell_type": "markdown",
   "metadata": {},
   "source": [
    "Now we can create 3 recoverability classes based on the median recoverability as our threshold."
   ]
  },
  {
   "cell_type": "code",
   "execution_count": 172,
   "metadata": {},
   "outputs": [],
   "source": [
    "rec_class = {}\n",
    "\n",
    "for rec in df['Avg_Rec']:\n",
    "  for project_id in df['Project_ID']:\n",
    "    if rec <= 1.65:\n",
    "      rec_class[project_id] = 0 # unprofitable\n",
    "    elif rec >= 2000:\n",
    "      rec_class[project_id]  = 2 # extremely profitable\n",
    "    else:\n",
    "      rec_class[project_id]  = 1 # average profitable"
   ]
  },
  {
   "cell_type": "code",
   "execution_count": 173,
   "metadata": {},
   "outputs": [
    {
     "data": {
      "text/html": [
       "<div>\n",
       "<style scoped>\n",
       "    .dataframe tbody tr th:only-of-type {\n",
       "        vertical-align: middle;\n",
       "    }\n",
       "\n",
       "    .dataframe tbody tr th {\n",
       "        vertical-align: top;\n",
       "    }\n",
       "\n",
       "    .dataframe thead th {\n",
       "        text-align: right;\n",
       "    }\n",
       "</style>\n",
       "<table border=\"1\" class=\"dataframe\">\n",
       "  <thead>\n",
       "    <tr style=\"text-align: right;\">\n",
       "      <th></th>\n",
       "      <th>Project_ID</th>\n",
       "      <th>Rec_Class</th>\n",
       "    </tr>\n",
       "  </thead>\n",
       "  <tbody>\n",
       "    <tr>\n",
       "      <th>0</th>\n",
       "      <td>367704</td>\n",
       "      <td>0</td>\n",
       "    </tr>\n",
       "    <tr>\n",
       "      <th>1</th>\n",
       "      <td>367705</td>\n",
       "      <td>0</td>\n",
       "    </tr>\n",
       "    <tr>\n",
       "      <th>2</th>\n",
       "      <td>367706</td>\n",
       "      <td>0</td>\n",
       "    </tr>\n",
       "    <tr>\n",
       "      <th>3</th>\n",
       "      <td>367707</td>\n",
       "      <td>0</td>\n",
       "    </tr>\n",
       "    <tr>\n",
       "      <th>4</th>\n",
       "      <td>367708</td>\n",
       "      <td>0</td>\n",
       "    </tr>\n",
       "  </tbody>\n",
       "</table>\n",
       "</div>"
      ],
      "text/plain": [
       "   Project_ID  Rec_Class\n",
       "0      367704          0\n",
       "1      367705          0\n",
       "2      367706          0\n",
       "3      367707          0\n",
       "4      367708          0"
      ]
     },
     "execution_count": 173,
     "metadata": {},
     "output_type": "execute_result"
    }
   ],
   "source": [
    "rec_df = pd.DataFrame([{'Project_ID': project_id, 'Rec_Class': rec_class} for (project_id, rec_class) in rec_class.items()])\n",
    "rec_df.head()"
   ]
  },
  {
   "cell_type": "code",
   "execution_count": 170,
   "metadata": {},
   "outputs": [
    {
     "data": {
      "text/plain": [
       "(0.0, 1.51034200286709, 16389.220348073926)"
      ]
     },
     "execution_count": 170,
     "metadata": {},
     "output_type": "execute_result"
    }
   ],
   "source": [
    "df['Avg_Profit'].min(), df['Avg_Profit'].median(), df['Avg_Profit'].max()"
   ]
  },
  {
   "cell_type": "code",
   "execution_count": 171,
   "metadata": {},
   "outputs": [
    {
     "data": {
      "text/plain": [
       "<AxesSubplot:>"
      ]
     },
     "execution_count": 171,
     "metadata": {},
     "output_type": "execute_result"
    },
    {
     "data": {
      "image/png": "[encoded data removed]",
      "text/plain": [
       "<Figure size 432x288 with 1 Axes>"
      ]
     },
     "metadata": {
      "needs_background": "light"
     },
     "output_type": "display_data"
    }
   ],
   "source": [
    "df.boxplot('Avg_Profit')"
   ]
  },
  {
   "cell_type": "markdown",
   "metadata": {},
   "source": [
    "Now we can create 3 profit measure classes based on the median profit measurement as our threshold."
   ]
  },
  {
   "cell_type": "code",
   "execution_count": 175,
   "metadata": {},
   "outputs": [],
   "source": [
    "profit_class = {}\n",
    "\n",
    "for profit in df['Avg_Profit']:\n",
    "  for project_id in df['Project_ID']:\n",
    "    if profit <= 1.51:\n",
    "      profit_class[project_id] = 0 # unprofitable\n",
    "    elif profit >= 2500:\n",
    "      profit_class[project_id]  = 2 # extremely profitable\n",
    "    else:\n",
    "      profit_class[project_id]  = 1 # average profitable"
   ]
  },
  {
   "cell_type": "code",
   "execution_count": 176,
   "metadata": {},
   "outputs": [
    {
     "data": {
      "text/html": [
       "<div>\n",
       "<style scoped>\n",
       "    .dataframe tbody tr th:only-of-type {\n",
       "        vertical-align: middle;\n",
       "    }\n",
       "\n",
       "    .dataframe tbody tr th {\n",
       "        vertical-align: top;\n",
       "    }\n",
       "\n",
       "    .dataframe thead th {\n",
       "        text-align: right;\n",
       "    }\n",
       "</style>\n",
       "<table border=\"1\" class=\"dataframe\">\n",
       "  <thead>\n",
       "    <tr style=\"text-align: right;\">\n",
       "      <th></th>\n",
       "      <th>Project_ID</th>\n",
       "      <th>Profit_Class</th>\n",
       "    </tr>\n",
       "  </thead>\n",
       "  <tbody>\n",
       "    <tr>\n",
       "      <th>0</th>\n",
       "      <td>367704</td>\n",
       "      <td>0</td>\n",
       "    </tr>\n",
       "    <tr>\n",
       "      <th>1</th>\n",
       "      <td>367705</td>\n",
       "      <td>0</td>\n",
       "    </tr>\n",
       "    <tr>\n",
       "      <th>2</th>\n",
       "      <td>367706</td>\n",
       "      <td>0</td>\n",
       "    </tr>\n",
       "    <tr>\n",
       "      <th>3</th>\n",
       "      <td>367707</td>\n",
       "      <td>0</td>\n",
       "    </tr>\n",
       "    <tr>\n",
       "      <th>4</th>\n",
       "      <td>367708</td>\n",
       "      <td>0</td>\n",
       "    </tr>\n",
       "  </tbody>\n",
       "</table>\n",
       "</div>"
      ],
      "text/plain": [
       "   Project_ID  Profit_Class\n",
       "0      367704             0\n",
       "1      367705             0\n",
       "2      367706             0\n",
       "3      367707             0\n",
       "4      367708             0"
      ]
     },
     "execution_count": 176,
     "metadata": {},
     "output_type": "execute_result"
    }
   ],
   "source": [
    "profit_df = pd.DataFrame([{'Project_ID': project_id, 'Profit_Class': profit_class} for (project_id, profit_class) in profit_class.items()])\n",
    "profit_df.head()"
   ]
  },
  {
   "cell_type": "code",
   "execution_count": 179,
   "metadata": {},
   "outputs": [
    {
     "data": {
      "text/html": [
       "<div>\n",
       "<style scoped>\n",
       "    .dataframe tbody tr th:only-of-type {\n",
       "        vertical-align: middle;\n",
       "    }\n",
       "\n",
       "    .dataframe tbody tr th {\n",
       "        vertical-align: top;\n",
       "    }\n",
       "\n",
       "    .dataframe thead th {\n",
       "        text-align: right;\n",
       "    }\n",
       "</style>\n",
       "<table border=\"1\" class=\"dataframe\">\n",
       "  <thead>\n",
       "    <tr style=\"text-align: right;\">\n",
       "      <th></th>\n",
       "      <th>Project_ID</th>\n",
       "      <th>Rec_Class</th>\n",
       "      <th>Profit_Class</th>\n",
       "      <th>Profitability_Class</th>\n",
       "    </tr>\n",
       "  </thead>\n",
       "  <tbody>\n",
       "    <tr>\n",
       "      <th>0</th>\n",
       "      <td>367704</td>\n",
       "      <td>0</td>\n",
       "      <td>0</td>\n",
       "      <td>0</td>\n",
       "    </tr>\n",
       "    <tr>\n",
       "      <th>1</th>\n",
       "      <td>367705</td>\n",
       "      <td>0</td>\n",
       "      <td>0</td>\n",
       "      <td>0</td>\n",
       "    </tr>\n",
       "    <tr>\n",
       "      <th>2</th>\n",
       "      <td>367706</td>\n",
       "      <td>0</td>\n",
       "      <td>0</td>\n",
       "      <td>0</td>\n",
       "    </tr>\n",
       "    <tr>\n",
       "      <th>3</th>\n",
       "      <td>367707</td>\n",
       "      <td>0</td>\n",
       "      <td>0</td>\n",
       "      <td>0</td>\n",
       "    </tr>\n",
       "    <tr>\n",
       "      <th>4</th>\n",
       "      <td>367708</td>\n",
       "      <td>0</td>\n",
       "      <td>0</td>\n",
       "      <td>0</td>\n",
       "    </tr>\n",
       "    <tr>\n",
       "      <th>...</th>\n",
       "      <td>...</td>\n",
       "      <td>...</td>\n",
       "      <td>...</td>\n",
       "      <td>...</td>\n",
       "    </tr>\n",
       "    <tr>\n",
       "      <th>9004</th>\n",
       "      <td>1523716</td>\n",
       "      <td>0</td>\n",
       "      <td>0</td>\n",
       "      <td>0</td>\n",
       "    </tr>\n",
       "    <tr>\n",
       "      <th>9005</th>\n",
       "      <td>1524776</td>\n",
       "      <td>0</td>\n",
       "      <td>0</td>\n",
       "      <td>0</td>\n",
       "    </tr>\n",
       "    <tr>\n",
       "      <th>9006</th>\n",
       "      <td>1529864</td>\n",
       "      <td>0</td>\n",
       "      <td>0</td>\n",
       "      <td>0</td>\n",
       "    </tr>\n",
       "    <tr>\n",
       "      <th>9007</th>\n",
       "      <td>1538446</td>\n",
       "      <td>0</td>\n",
       "      <td>0</td>\n",
       "      <td>0</td>\n",
       "    </tr>\n",
       "    <tr>\n",
       "      <th>9008</th>\n",
       "      <td>1538447</td>\n",
       "      <td>0</td>\n",
       "      <td>0</td>\n",
       "      <td>0</td>\n",
       "    </tr>\n",
       "  </tbody>\n",
       "</table>\n",
       "<p>9009 rows × 4 columns</p>\n",
       "</div>"
      ],
      "text/plain": [
       "      Project_ID  Rec_Class  Profit_Class  Profitability_Class\n",
       "0         367704          0             0                    0\n",
       "1         367705          0             0                    0\n",
       "2         367706          0             0                    0\n",
       "3         367707          0             0                    0\n",
       "4         367708          0             0                    0\n",
       "...          ...        ...           ...                  ...\n",
       "9004     1523716          0             0                    0\n",
       "9005     1524776          0             0                    0\n",
       "9006     1529864          0             0                    0\n",
       "9007     1538446          0             0                    0\n",
       "9008     1538447          0             0                    0\n",
       "\n",
       "[9009 rows x 4 columns]"
      ]
     },
     "execution_count": 179,
     "metadata": {},
     "output_type": "execute_result"
    }
   ],
   "source": [
    "profitability_df = pd.merge(rec_df, profit_df, how='left', left_on='Project_ID', right_on='Project_ID')\n",
    "profitability_df['Profitability_Class'] = profitability_df['Rec_Class'] + profitability_df['Profit_Class']\n",
    "profitability_df "
   ]
  },
  {
   "cell_type": "code",
   "execution_count": 183,
   "metadata": {},
   "outputs": [
    {
     "data": {
      "text/plain": [
       "0    9009\n",
       "Name: Profitability_Class, dtype: int64"
      ]
     },
     "execution_count": 183,
     "metadata": {},
     "output_type": "execute_result"
    }
   ],
   "source": [
    "profitability_df['Profitability_Class'].value_counts()"
   ]
  },
  {
   "cell_type": "code",
   "execution_count": 181,
   "metadata": {},
   "outputs": [
    {
     "data": {
      "text/plain": [
       "0"
      ]
     },
     "execution_count": 181,
     "metadata": {},
     "output_type": "execute_result"
    }
   ],
   "source": [
    "prep_classes = profitability_df['Profitability_Class'].sum()\n",
    "#prep_classes.rename(columns={0:'NFT_count'},inplace=True)\n",
    "#prep_classes.rename(columns={'index': 'category'}, inplace=True)\n",
    "prep_classes"
   ]
  },
  {
   "cell_type": "markdown",
   "metadata": {},
   "source": [
    "### 3.3 <a class=\"anchor\" id=\"3_3\"></a> Encoding"
   ]
  },
  {
   "cell_type": "code",
   "execution_count": null,
   "metadata": {},
   "outputs": [],
   "source": [
    "# select the float columns\n",
    "categorical = df.copy()\n",
    "test = categorical.select_dtypes(include=['object'])"
   ]
  },
  {
   "cell_type": "code",
   "execution_count": null,
   "metadata": {},
   "outputs": [],
   "source": [
    "le = LabelEncoder()\n",
    "categorical['creator'] = le.fit_transform(categorical['creator'])\n",
    "categorical.head()"
   ]
  },
  {
   "cell_type": "markdown",
   "metadata": {},
   "source": [
    "### 3.4 <a class=\"anchor\" id=\"3_4\"></a> Scaling"
   ]
  },
  {
   "cell_type": "markdown",
   "metadata": {},
   "source": [
    "“To ensure that the gradient descent moves smoothly towards the minima and that the steps for gradient descent are updated at the same rate for all the features, we scale the data before feeding it to the model.” (Analytics Vidhya, 2020) In our case, normalisation works better than standardisation, as outliers have been handled, and data does not seem to follow a normal distribution."
   ]
  },
  {
   "cell_type": "code",
   "execution_count": null,
   "metadata": {},
   "outputs": [],
   "source": [
    "from sklearn import preprocessing\n",
    "d = preprocessing.normalize(encoded_df)\n",
    "normal_df = pd.DataFrame(d, columns = encoded_df.columns)\n",
    "normal_df.head()\n",
    "len(normal_df)"
   ]
  },
  {
   "cell_type": "markdown",
   "metadata": {},
   "source": [
    "### 3.5 <a class=\"anchor\" id=\"3_5\"></a> Splitting"
   ]
  },
  {
   "cell_type": "code",
   "execution_count": null,
   "metadata": {},
   "outputs": [],
   "source": [
    "# Split dataset into features and labels\n",
    "X = df[['creator', 'artwork_name', 'collection',\n",
    "           'art_series', 'media', 'likes', 'nsfw',\n",
    "           'tokens','year', 'rights', 'artwork_counts']]  # Removed original price\n",
    "y = df['price_class']\n",
    "\n",
    "# Split dataset into training set and test set\n",
    "X_train, X_test, y_train, y_test = train_test_split(X, y, test_size=0.2, random_state=2022) # 80% training and 20% test\n",
    "print(f\"No. of training data: {X_train.shape[0]}\")\n",
    "print(f\"No. of training targets: {y_train.shape[0]}\")\n",
    "print(f\"No. of testing data: {X_test.shape[0]}\")\n",
    "print(f\"No. of testing targets: {y_test.shape[0]}\")"
   ]
  },
  {
   "cell_type": "markdown",
   "metadata": {},
   "source": [
    "## Part 4: <a class=\"anchor\" id=\"part4\"></a> Exploratory data analysis"
   ]
  },
  {
   "cell_type": "markdown",
   "metadata": {},
   "source": []
  }
 ],
 "metadata": {
  "interpreter": {
   "hash": "32faf87829e52f10b3379fa51fb017496aba8a2082e84bf41be67a5b199752f4"
  },
  "kernelspec": {
   "display_name": "Python 3.10.2 ('venv': venv)",
   "language": "python",
   "name": "python3"
  },
  "language_info": {
   "codemirror_mode": {
    "name": "ipython",
    "version": 3
   },
   "file_extension": ".py",
   "mimetype": "text/x-python",
   "name": "python",
   "nbconvert_exporter": "python",
   "pygments_lexer": "ipython3",
   "version": "3.10.2"
  },
  "orig_nbformat": 4
 },
 "nbformat": 4,
 "nbformat_minor": 2
}
