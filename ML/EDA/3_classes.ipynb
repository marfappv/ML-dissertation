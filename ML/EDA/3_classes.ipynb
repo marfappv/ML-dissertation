{
 "cells": [
  {
   "cell_type": "markdown",
   "metadata": {},
   "source": [
    "<h1 align=\"center\">MSIN0114: Business Analytics Consulting Project</h1>\n",
    "<h2 align=\"center\">EDA and pre-processing for multi-classification</h2>"
   ]
  },
  {
   "cell_type": "markdown",
   "metadata": {},
   "source": [
    "# Table of Contents\n",
    "\n",
    "* [Part 3](#part3): Pre-processing\n",
    "    * [3.1](#3_1): Missing values\n",
    "    * [3.2](#3_2): Conversion\n",
    "    * [3.3](#3_3): Scaling\n",
    "    * [3.4](#3_4): Feature engineering\n",
    "    * [3.5](#3_5): Encoding\n",
    "<br />\n",
    "<br />\n",
    "* [Part 4](#part4): Exploratory data analysis\n",
    "    * [4.1](#3_1): Target variables\n",
    "    * [4.2](#3_2): Extended dataframe\n",
    "    * [4.3](#3_3): Compact dataframe\n",
    "    * [4.4](#3_4): Outliers"
   ]
  },
  {
   "cell_type": "markdown",
   "metadata": {},
   "source": [
    "## Notebook Setup"
   ]
  },
  {
   "cell_type": "code",
   "execution_count": 1,
   "metadata": {},
   "outputs": [],
   "source": [
    "# Essentials\n",
    "import pandas as pd\n",
    "from pandas import Series, DataFrame\n",
    "from pandas.api.types import CategoricalDtype\n",
    "pd.options.display.max_columns = None\n",
    "import sqlite3\n",
    "import pyodbc\n",
    "import numpy as np\n",
    "\n",
    "# Image creation and display\n",
    "import seaborn as sns\n",
    "import matplotlib.pyplot as plt\n",
    "import matplotlib.ticker as mtick\n",
    "import matplotlib.patches as mpatches\n",
    "from matplotlib import pyplot\n",
    "import plotly.express as px\n",
    "import plotly.graph_objects as go\n",
    "\n",
    "# Preprocessing\n",
    "from sklearn import preprocessing\n",
    "from sklearn.model_selection import train_test_split\n",
    "from sklearn.preprocessing import StandardScaler\n",
    "from sklearn.preprocessing import RobustScaler\n",
    "from sklearn.preprocessing import MinMaxScaler\n",
    "from sklearn.preprocessing import OrdinalEncoder, LabelEncoder\n",
    "from sklearn.compose import ColumnTransformer\n",
    "from sklearn.compose import make_column_transformer\n",
    "\n",
    "# Other\n",
    "import itertools as it\n",
    "import io\n",
    "import os\n",
    "os.sys.path\n",
    "import sys\n",
    "import glob\n",
    "import concurrent.futures\n",
    "from __future__ import print_function\n",
    "import binascii\n",
    "import struct\n",
    "from PIL import Image\n",
    "import scipy\n",
    "import scipy.misc\n",
    "import scipy.cluster\n",
    "import datetime, time\n",
    "import functools, operator\n",
    "from datetime import datetime\n",
    "from numpy.random import seed\n",
    "from numpy.random import randn\n",
    "from numpy import percentile"
   ]
  },
  {
   "cell_type": "code",
   "execution_count": 2,
   "metadata": {},
   "outputs": [],
   "source": [
    "df = pd.read_csv('../csv-files/project_lvl.csv')"
   ]
  },
  {
   "cell_type": "markdown",
   "metadata": {},
   "source": [
    "## Part 3: <a class=\"anchor\" id=\"part3\"></a> Pre-processing"
   ]
  },
  {
   "cell_type": "markdown",
   "metadata": {},
   "source": [
    "### 3.1 <a class=\"anchor\" id=\"3_1\"></a> Missing values"
   ]
  },
  {
   "cell_type": "code",
   "execution_count": 97,
   "metadata": {},
   "outputs": [
    {
     "name": "stdout",
     "output_type": "stream",
     "text": [
      "Country 115\n",
      "Project_Size_Sort_Order 1\n",
      "Project_Duration_Weeks 456\n",
      "Total_Num_Stages 3\n",
      "Is_Multi_Discipline_Project 1\n",
      "Is_First_Client_Project 1\n",
      "Perc_of_Stages_with_Fixed_Fee 3\n",
      "Manager_Is_Recent 455\n",
      "Director_ID 1\n",
      "Director_Team 1\n",
      "Director_Is_Recent 456\n",
      "Director_Empl_Months 1\n",
      "Perc_of_Subcontractors 595\n",
      "Is_Front_Loaded 275\n",
      "Delivered_on_Time 531\n",
      "Suffered_Data_Loss 456\n",
      "Total_Data_Issues 3\n",
      "Avg_Rec 627\n",
      "Avg_Profit 627\n",
      "Project_Start_Date 455\n",
      "Project_End_Date 456\n"
     ]
    }
   ],
   "source": [
    "# Number of columns having null values in the dataset\n",
    "cols = df.columns[df.isnull().any()].to_list()\n",
    "\n",
    "for c in cols:\n",
    "    print(c, df[c].isnull().sum())"
   ]
  },
  {
   "cell_type": "code",
   "execution_count": 98,
   "metadata": {},
   "outputs": [
    {
     "data": {
      "text/plain": [
       "28    9017\n",
       "18     312\n",
       "17     121\n",
       "27     110\n",
       "24      82\n",
       "23      68\n",
       "19      22\n",
       "25      18\n",
       "20       2\n",
       "14       1\n",
       "22       1\n",
       "26       1\n",
       "Name: non_missing_count, dtype: int64"
      ]
     },
     "execution_count": 98,
     "metadata": {},
     "output_type": "execute_result"
    }
   ],
   "source": [
    "# URL: https://datascience.stackexchange.com/questions/12645/how-to-count-the-number-of-missing-values-in-each-row-in-pandas-dataframe\n",
    "df['non_missing_count'] = df.apply(lambda x: x.count(), axis=1)\n",
    "df['non_missing_count'].value_counts()"
   ]
  },
  {
   "cell_type": "markdown",
   "metadata": {},
   "source": [
    "Rows with more than 5 empty columns will be dropped, so the minimum number of non-missing columns per row should be 17."
   ]
  },
  {
   "cell_type": "code",
   "execution_count": 99,
   "metadata": {},
   "outputs": [
    {
     "name": "stdout",
     "output_type": "stream",
     "text": [
      "Minimum values each column should have is set to be at least half of the dataset, i.e. 20 rows.\n"
     ]
    }
   ],
   "source": [
    "print('Minimum values each column should have is set to be at least half of the dataset, i.e. '+ str(round(0.70 * len(df.columns)))+' rows.')"
   ]
  },
  {
   "cell_type": "code",
   "execution_count": 100,
   "metadata": {},
   "outputs": [
    {
     "data": {
      "text/plain": [
       "9299"
      ]
     },
     "execution_count": 100,
     "metadata": {},
     "output_type": "execute_result"
    }
   ],
   "source": [
    "df1 = df[(df['non_missing_count']) >= 20]\n",
    "len(df1)"
   ]
  },
  {
   "cell_type": "code",
   "execution_count": 101,
   "metadata": {},
   "outputs": [
    {
     "data": {
      "text/plain": [
       "456"
      ]
     },
     "execution_count": 101,
     "metadata": {},
     "output_type": "execute_result"
    }
   ],
   "source": [
    "len(df) - len(df1)"
   ]
  },
  {
   "cell_type": "code",
   "execution_count": 102,
   "metadata": {},
   "outputs": [
    {
     "name": "stdout",
     "output_type": "stream",
     "text": [
      "Country 115\n",
      "Project_Duration_Weeks 1\n",
      "Total_Num_Stages 1\n",
      "Perc_of_Stages_with_Fixed_Fee 1\n",
      "Director_ID 1\n",
      "Director_Team 1\n",
      "Director_Is_Recent 1\n",
      "Director_Empl_Months 1\n",
      "Perc_of_Subcontractors 156\n",
      "Is_Front_Loaded 147\n",
      "Delivered_on_Time 86\n",
      "Suffered_Data_Loss 1\n",
      "Total_Data_Issues 1\n",
      "Avg_Rec 171\n",
      "Avg_Profit 171\n",
      "Project_End_Date 1\n"
     ]
    }
   ],
   "source": [
    "# Number of columns having null values in the dataset\n",
    "df = df1\n",
    "cols = df.columns[df.isnull().any()].to_list()\n",
    "\n",
    "for c in cols:\n",
    "    print(c, df[c].isnull().sum())"
   ]
  },
  {
   "cell_type": "markdown",
   "metadata": {},
   "source": [
    "First, let's deal with small amount of nulls."
   ]
  },
  {
   "cell_type": "code",
   "execution_count": 103,
   "metadata": {},
   "outputs": [],
   "source": [
    "# Drop ID columns and those with too many missing values\n",
    "df = df1\n",
    "\n",
    "# Replacing null values with the most frequent strings and booleans - look up how to distribute them randomly, instead of most popular!\n",
    "df['Country'].fillna(df['Country'].value_counts().idxmax(), inplace = True)\n",
    "df['Director_ID'].fillna(df['Director_ID'].value_counts().idxmax(), inplace = True)\n",
    "df['Director_Team'].fillna(df['Director_Team'].value_counts().idxmax(), inplace = True)\n",
    "df['Director_Is_Recent'].fillna(df['Director_Is_Recent'].value_counts().idxmax(), inplace = True)\n",
    "df['Manager_Is_Recent'].fillna(df['Manager_Is_Recent'].value_counts().idxmax(), inplace = True)\n",
    "df['Director_Empl_Months'].fillna(df['Director_Empl_Months'].value_counts().idxmax(), inplace = True)\n",
    "df['Is_Front_Loaded'].fillna(df['Is_Front_Loaded'].value_counts().idxmax(), inplace = True)\n",
    "df['Delivered_on_Time'].fillna(df['Delivered_on_Time'].value_counts().idxmax(), inplace = True)"
   ]
  },
  {
   "cell_type": "markdown",
   "metadata": {},
   "source": [
    "Whether to perform imputatipon of missed values with median or mean, always depends on data and task.If there is a dataset that have great outliers, or the distribution oof values does not follow the normal distribution, medians are preferred."
   ]
  },
  {
   "cell_type": "code",
   "execution_count": 104,
   "metadata": {},
   "outputs": [],
   "source": [
    "# Using median to impute the missing float values\n",
    "\n",
    "missing_weeks = ['Project_Duration_Weeks']\n",
    "for s in missing_weeks:\n",
    "    df.loc[df.loc[:,s].isnull(),s]=int(df.loc[:,s].median())\n",
    "\n",
    "missing_subcontractors = ['Perc_of_Subcontractors']\n",
    "for s in missing_subcontractors:\n",
    "    df.loc[df.loc[:,s].isnull(),s]=int(df.loc[:,s].median())\n",
    "\n",
    "missing_rec = ['Avg_Rec']\n",
    "for r in missing_rec:\n",
    "    df.loc[df.loc[:,r].isnull(),r]=df.loc[:,r].median()\n",
    "    \n",
    "missing_profit = ['Avg_Profit']\n",
    "for p in missing_profit:\n",
    "    df.loc[df.loc[:,p].isnull(),p]=int(df.loc[:,p].median())"
   ]
  },
  {
   "cell_type": "code",
   "execution_count": 105,
   "metadata": {},
   "outputs": [
    {
     "data": {
      "text/plain": [
       "Project_ID                       0\n",
       "Country                          0\n",
       "Office                           0\n",
       "Sector                           0\n",
       "Project_Size_Sort_Order          0\n",
       "Project_Duration_Weeks           0\n",
       "Total_Num_Stages                 1\n",
       "Is_Multi_Discipline_Project      0\n",
       "Is_First_Client_Project          0\n",
       "Default_Rate_Group               0\n",
       "Perc_of_Stages_with_Fixed_Fee    1\n",
       "Manager_ID                       0\n",
       "Manager_Team                     0\n",
       "Manager_Is_Recent                0\n",
       "Manager_Empl_Months              0\n",
       "Director_ID                      0\n",
       "Director_Team                    0\n",
       "Director_Is_Recent               0\n",
       "Director_Empl_Months             0\n",
       "Perc_of_Subcontractors           0\n",
       "Is_Front_Loaded                  0\n",
       "Delivered_on_Time                0\n",
       "Suffered_Data_Loss               1\n",
       "Total_Data_Issues                1\n",
       "Avg_Rec                          0\n",
       "Avg_Profit                       0\n",
       "Project_Start_Date               0\n",
       "Project_End_Date                 1\n",
       "non_missing_count                0\n",
       "dtype: int64"
      ]
     },
     "execution_count": 105,
     "metadata": {},
     "output_type": "execute_result"
    }
   ],
   "source": [
    "# Verify the changes\n",
    "df.isnull().sum()"
   ]
  },
  {
   "cell_type": "code",
   "execution_count": 106,
   "metadata": {},
   "outputs": [],
   "source": [
    "df.drop(columns = ['non_missing_count', 'Project_ID', 'Project_Start_Date', 'Project_End_Date'], inplace = True)"
   ]
  },
  {
   "cell_type": "markdown",
   "metadata": {},
   "source": [
    "### 3.2 <a class=\"anchor\" id=\"3_2\"></a> Conversion"
   ]
  },
  {
   "cell_type": "code",
   "execution_count": 107,
   "metadata": {},
   "outputs": [],
   "source": [
    "# Convert the object column to boolean\n",
    "df['Manager_Is_Recent'] = df['Manager_Is_Recent'].astype(int)\n",
    "df['Is_Front_Loaded'] = df['Is_Front_Loaded'].astype(int)\n",
    "df['Suffered_Data_Loss'] = df['Is_Front_Loaded'].astype(int)"
   ]
  },
  {
   "cell_type": "markdown",
   "metadata": {},
   "source": [
    "### 3.3 <a class=\"anchor\" id=\"3_3\"></a> Scaling"
   ]
  },
  {
   "cell_type": "code",
   "execution_count": 108,
   "metadata": {},
   "outputs": [
    {
     "data": {
      "text/plain": [
       "<AxesSubplot:title={'center':'Relationship between profit and recoverability'}, xlabel='Avg_Rec', ylabel='Avg_Profit'>"
      ]
     },
     "execution_count": 108,
     "metadata": {},
     "output_type": "execute_result"
    },
    {
     "data": {
      "image/png": "[encoded data removed]",
      "text/plain": [
       "<Figure size 432x288 with 1 Axes>"
      ]
     },
     "metadata": {
      "needs_background": "light"
     },
     "output_type": "display_data"
    }
   ],
   "source": [
    "# No scaling\n",
    "df.plot.scatter(x ='Avg_Rec', y ='Avg_Profit', title = 'Relationship between profit and recoverability')"
   ]
  },
  {
   "cell_type": "code",
   "execution_count": 109,
   "metadata": {},
   "outputs": [
    {
     "data": {
      "text/plain": [
       "<AxesSubplot:title={'center':'Relationship between profit and recoverability'}, xlabel='Avg_Rec', ylabel='Avg_Profit'>"
      ]
     },
     "execution_count": 109,
     "metadata": {},
     "output_type": "execute_result"
    },
    {
     "data": {
      "image/png": "[encoded data removed]",
      "text/plain": [
       "<Figure size 432x288 with 1 Axes>"
      ]
     },
     "metadata": {
      "needs_background": "light"
     },
     "output_type": "display_data"
    }
   ],
   "source": [
    "# Standardisation\n",
    "df_std = df.copy()\n",
    "df_std[['Avg_Rec', 'Avg_Profit']] = StandardScaler().fit_transform(df_std[['Avg_Rec', 'Avg_Profit']])\n",
    "df_std.plot.scatter(x ='Avg_Rec', y ='Avg_Profit', title = 'Relationship between profit and recoverability')"
   ]
  },
  {
   "cell_type": "code",
   "execution_count": 110,
   "metadata": {},
   "outputs": [
    {
     "data": {
      "image/png": "[encoded data removed]",
      "text/plain": [
       "<Figure size 432x288 with 1 Axes>"
      ]
     },
     "metadata": {
      "needs_background": "light"
     },
     "output_type": "display_data"
    }
   ],
   "source": [
    "# Normalization\n",
    "df_norm = df.copy()\n",
    "df_norm[['Avg_Rec', 'Avg_Profit']] = preprocessing.normalize(df_norm[['Avg_Rec', 'Avg_Profit']])\n",
    "df_norm.plot.scatter(x ='Avg_Rec', y ='Avg_Profit', title = 'Relationship between profit and recoverability')\n",
    "df = df_norm"
   ]
  },
  {
   "cell_type": "markdown",
   "metadata": {},
   "source": [
    "### 3.4 <a class=\"anchor\" id=\"3_4\"></a> Feature engineering"
   ]
  },
  {
   "cell_type": "markdown",
   "metadata": {},
   "source": [
    "#### 3.4.1 <a class=\"anchor\" id=\"3_4_1\"></a> Recoverability"
   ]
  },
  {
   "cell_type": "code",
   "execution_count": 111,
   "metadata": {},
   "outputs": [
    {
     "data": {
      "image/png": "[encoded data removed]",
      "text/plain": [
       "<Figure size 432x432 with 1 Axes>"
      ]
     },
     "metadata": {
      "needs_background": "light"
     },
     "output_type": "display_data"
    }
   ],
   "source": [
    "# Distribution of count of all points, with outliers\n",
    "plt.figure(figsize=(6,6))\n",
    "sns.histplot(df['Avg_Rec'], kde=True, linewidth=0)\n",
    "plt.xlabel('Average Recoverability')\n",
    "plt.title('Count Distribution', size=14)\n",
    "plt.savefig('figures/eda/Recoverability count distribution.png')\n",
    "plt.show()"
   ]
  },
  {
   "cell_type": "code",
   "execution_count": 112,
   "metadata": {},
   "outputs": [
    {
     "data": {
      "text/plain": [
       "<AxesSubplot:>"
      ]
     },
     "execution_count": 112,
     "metadata": {},
     "output_type": "execute_result"
    },
    {
     "data": {
      "image/png": "[encoded data removed]",
      "text/plain": [
       "<Figure size 432x288 with 1 Axes>"
      ]
     },
     "metadata": {
      "needs_background": "light"
     },
     "output_type": "display_data"
    }
   ],
   "source": [
    "df.boxplot('Avg_Rec', showfliers=False) # boxplot without outliers, the green line corresponds to the median"
   ]
  },
  {
   "cell_type": "markdown",
   "metadata": {},
   "source": [
    "Interpretation: https://www.mathbootcamps.com/how-to-read-a-boxplot/"
   ]
  },
  {
   "cell_type": "code",
   "execution_count": 113,
   "metadata": {},
   "outputs": [
    {
     "data": {
      "text/plain": [
       "<AxesSubplot:>"
      ]
     },
     "execution_count": 113,
     "metadata": {},
     "output_type": "execute_result"
    },
    {
     "data": {
      "image/png": "[encoded data removed]",
      "text/plain": [
       "<Figure size 432x288 with 1 Axes>"
      ]
     },
     "metadata": {
      "needs_background": "light"
     },
     "output_type": "display_data"
    }
   ],
   "source": [
    "df.boxplot('Avg_Rec')"
   ]
  },
  {
   "cell_type": "code",
   "execution_count": 114,
   "metadata": {},
   "outputs": [
    {
     "name": "stdout",
     "output_type": "stream",
     "text": [
      "0.3812026637360993 1.0945939828618954 0.7273934194103241\n"
     ]
    }
   ],
   "source": [
    "# Calculate the minimum and maximum bounds aside outliers\n",
    "q25, q75 = percentile(df['Avg_Rec'], 25), percentile(df['Avg_Rec'], 75)\n",
    "iqr = q75 - q25\n",
    "cut_off = iqr * 1.5\n",
    "lower, upper = q25 - cut_off, q75 + cut_off\n",
    "print(lower, upper, df['Avg_Rec'].median())"
   ]
  },
  {
   "cell_type": "markdown",
   "metadata": {},
   "source": [
    "Now we can create 3 recoverability classes based on the median recoverability as our threshold."
   ]
  },
  {
   "cell_type": "code",
   "execution_count": 115,
   "metadata": {},
   "outputs": [],
   "source": [
    "rec_class = {}\n",
    "for rec in df['Avg_Rec']:\n",
    "  if rec < 0.36815858766524:\n",
    "    rec_class[rec] = 0  # nearly unrecoverable projects are all outliers below the lower bound\n",
    "  elif rec > 0.7327905817411604:\n",
    "    rec_class[rec] = 2 # very recoverable projects are higher than median\n",
    "  else:\n",
    "    rec_class[rec] = 1 # average recoverable projects are those between the median and lower bound"
   ]
  },
  {
   "cell_type": "code",
   "execution_count": 116,
   "metadata": {},
   "outputs": [
    {
     "data": {
      "text/html": [
       "<div>\n",
       "<style scoped>\n",
       "    .dataframe tbody tr th:only-of-type {\n",
       "        vertical-align: middle;\n",
       "    }\n",
       "\n",
       "    .dataframe tbody tr th {\n",
       "        vertical-align: top;\n",
       "    }\n",
       "\n",
       "    .dataframe thead th {\n",
       "        text-align: right;\n",
       "    }\n",
       "</style>\n",
       "<table border=\"1\" class=\"dataframe\">\n",
       "  <thead>\n",
       "    <tr style=\"text-align: right;\">\n",
       "      <th></th>\n",
       "      <th>Avg_Rec</th>\n",
       "      <th>Rec_Class</th>\n",
       "    </tr>\n",
       "  </thead>\n",
       "  <tbody>\n",
       "    <tr>\n",
       "      <th>0</th>\n",
       "      <td>0.901941</td>\n",
       "      <td>2</td>\n",
       "    </tr>\n",
       "    <tr>\n",
       "      <th>1</th>\n",
       "      <td>1.000000</td>\n",
       "      <td>2</td>\n",
       "    </tr>\n",
       "    <tr>\n",
       "      <th>2</th>\n",
       "      <td>0.832050</td>\n",
       "      <td>2</td>\n",
       "    </tr>\n",
       "    <tr>\n",
       "      <th>3</th>\n",
       "      <td>0.782964</td>\n",
       "      <td>2</td>\n",
       "    </tr>\n",
       "    <tr>\n",
       "      <th>4</th>\n",
       "      <td>0.750596</td>\n",
       "      <td>2</td>\n",
       "    </tr>\n",
       "    <tr>\n",
       "      <th>...</th>\n",
       "      <td>...</td>\n",
       "      <td>...</td>\n",
       "    </tr>\n",
       "    <tr>\n",
       "      <th>7913</th>\n",
       "      <td>0.955782</td>\n",
       "      <td>2</td>\n",
       "    </tr>\n",
       "    <tr>\n",
       "      <th>7914</th>\n",
       "      <td>0.755472</td>\n",
       "      <td>2</td>\n",
       "    </tr>\n",
       "    <tr>\n",
       "      <th>7915</th>\n",
       "      <td>0.642735</td>\n",
       "      <td>1</td>\n",
       "    </tr>\n",
       "    <tr>\n",
       "      <th>7916</th>\n",
       "      <td>0.716994</td>\n",
       "      <td>1</td>\n",
       "    </tr>\n",
       "    <tr>\n",
       "      <th>7917</th>\n",
       "      <td>0.481919</td>\n",
       "      <td>1</td>\n",
       "    </tr>\n",
       "  </tbody>\n",
       "</table>\n",
       "<p>7918 rows × 2 columns</p>\n",
       "</div>"
      ],
      "text/plain": [
       "       Avg_Rec  Rec_Class\n",
       "0     0.901941          2\n",
       "1     1.000000          2\n",
       "2     0.832050          2\n",
       "3     0.782964          2\n",
       "4     0.750596          2\n",
       "...        ...        ...\n",
       "7913  0.955782          2\n",
       "7914  0.755472          2\n",
       "7915  0.642735          1\n",
       "7916  0.716994          1\n",
       "7917  0.481919          1\n",
       "\n",
       "[7918 rows x 2 columns]"
      ]
     },
     "execution_count": 116,
     "metadata": {},
     "output_type": "execute_result"
    }
   ],
   "source": [
    "rec_class_df = pd.DataFrame([{'Avg_Rec': rec, 'Rec_Class': rec_class} for (rec, rec_class) in rec_class.items()])\n",
    "rec_class_df"
   ]
  },
  {
   "cell_type": "markdown",
   "metadata": {},
   "source": [
    "#### 3.4.2 <a class=\"anchor\" id=\"3_4_2\"></a> Profit"
   ]
  },
  {
   "cell_type": "code",
   "execution_count": 117,
   "metadata": {},
   "outputs": [
    {
     "data": {
      "image/png": "[encoded data removed]",
      "text/plain": [
       "<Figure size 432x432 with 1 Axes>"
      ]
     },
     "metadata": {
      "needs_background": "light"
     },
     "output_type": "display_data"
    }
   ],
   "source": [
    "# Distribution of count of all points, with outliers\n",
    "plt.figure(figsize=(6,6))\n",
    "sns.histplot(df['Avg_Profit'], kde=True, linewidth=0)\n",
    "plt.xlabel('Average Recoverability')\n",
    "plt.title('Count Distribution', size=14)\n",
    "plt.savefig('figures/eda/Profitability count distribution.png')\n",
    "plt.show()"
   ]
  },
  {
   "cell_type": "code",
   "execution_count": 118,
   "metadata": {},
   "outputs": [
    {
     "data": {
      "text/plain": [
       "<AxesSubplot:>"
      ]
     },
     "execution_count": 118,
     "metadata": {},
     "output_type": "execute_result"
    },
    {
     "data": {
      "image/png": "[encoded data removed]",
      "text/plain": [
       "<Figure size 432x288 with 1 Axes>"
      ]
     },
     "metadata": {
      "needs_background": "light"
     },
     "output_type": "display_data"
    }
   ],
   "source": [
    "df.boxplot('Avg_Profit', showfliers=False) # boxplot without outliers, the green line corresponds to the median"
   ]
  },
  {
   "cell_type": "code",
   "execution_count": 119,
   "metadata": {},
   "outputs": [
    {
     "data": {
      "text/plain": [
       "<AxesSubplot:>"
      ]
     },
     "execution_count": 119,
     "metadata": {},
     "output_type": "execute_result"
    },
    {
     "data": {
      "image/png": "[encoded data removed]",
      "text/plain": [
       "<Figure size 432x288 with 1 Axes>"
      ]
     },
     "metadata": {
      "needs_background": "light"
     },
     "output_type": "display_data"
    }
   ],
   "source": [
    "df.boxplot('Avg_Profit')"
   ]
  },
  {
   "cell_type": "code",
   "execution_count": 120,
   "metadata": {},
   "outputs": [
    {
     "name": "stdout",
     "output_type": "stream",
     "text": [
      "0.26370398338102413 1.0594150778273055 0.686220673980722\n"
     ]
    }
   ],
   "source": [
    "# Calculate the minimum and maximum bounds aside outliers\n",
    "q25, q75 = percentile(df['Avg_Profit'], 25), percentile(df['Avg_Profit'], 75)\n",
    "iqr = q75 - q25\n",
    "cut_off = iqr * 1.5\n",
    "lower, upper = q25 - cut_off, q75 + cut_off\n",
    "print(lower, upper, df['Avg_Profit'].median())"
   ]
  },
  {
   "cell_type": "markdown",
   "metadata": {},
   "source": [
    "Now we can create 3 profit measure classes based on the median profit measurement as our threshold."
   ]
  },
  {
   "cell_type": "code",
   "execution_count": 121,
   "metadata": {},
   "outputs": [],
   "source": [
    "profit_class = {}\n",
    "for pr in df['Avg_Profit']:\n",
    "  if pr < 0.21301326350608785:\n",
    "    profit_class[pr] = 0  # nearly unprofitable projects are all outliers below the lower bound\n",
    "  elif pr > 0.6804542330762973:\n",
    "    profit_class[pr] = 2 # very profitable projects are higher than median\n",
    "  else:\n",
    "    profit_class[pr] = 1 # average profitable projects are those between the median and lower bound"
   ]
  },
  {
   "cell_type": "code",
   "execution_count": 122,
   "metadata": {},
   "outputs": [
    {
     "data": {
      "text/html": [
       "<div>\n",
       "<style scoped>\n",
       "    .dataframe tbody tr th:only-of-type {\n",
       "        vertical-align: middle;\n",
       "    }\n",
       "\n",
       "    .dataframe tbody tr th {\n",
       "        vertical-align: top;\n",
       "    }\n",
       "\n",
       "    .dataframe thead th {\n",
       "        text-align: right;\n",
       "    }\n",
       "</style>\n",
       "<table border=\"1\" class=\"dataframe\">\n",
       "  <thead>\n",
       "    <tr style=\"text-align: right;\">\n",
       "      <th></th>\n",
       "      <th>Avg_Profit</th>\n",
       "      <th>Profit_Class</th>\n",
       "    </tr>\n",
       "  </thead>\n",
       "  <tbody>\n",
       "    <tr>\n",
       "      <th>0</th>\n",
       "      <td>0.431859</td>\n",
       "      <td>1</td>\n",
       "    </tr>\n",
       "    <tr>\n",
       "      <th>1</th>\n",
       "      <td>0.000000</td>\n",
       "      <td>0</td>\n",
       "    </tr>\n",
       "    <tr>\n",
       "      <th>2</th>\n",
       "      <td>0.554700</td>\n",
       "      <td>1</td>\n",
       "    </tr>\n",
       "    <tr>\n",
       "      <th>3</th>\n",
       "      <td>0.622067</td>\n",
       "      <td>1</td>\n",
       "    </tr>\n",
       "    <tr>\n",
       "      <th>4</th>\n",
       "      <td>0.660761</td>\n",
       "      <td>1</td>\n",
       "    </tr>\n",
       "    <tr>\n",
       "      <th>...</th>\n",
       "      <td>...</td>\n",
       "      <td>...</td>\n",
       "    </tr>\n",
       "    <tr>\n",
       "      <th>7911</th>\n",
       "      <td>0.294077</td>\n",
       "      <td>1</td>\n",
       "    </tr>\n",
       "    <tr>\n",
       "      <th>7912</th>\n",
       "      <td>0.655181</td>\n",
       "      <td>1</td>\n",
       "    </tr>\n",
       "    <tr>\n",
       "      <th>7913</th>\n",
       "      <td>0.766088</td>\n",
       "      <td>2</td>\n",
       "    </tr>\n",
       "    <tr>\n",
       "      <th>7914</th>\n",
       "      <td>0.697079</td>\n",
       "      <td>2</td>\n",
       "    </tr>\n",
       "    <tr>\n",
       "      <th>7915</th>\n",
       "      <td>0.876216</td>\n",
       "      <td>2</td>\n",
       "    </tr>\n",
       "  </tbody>\n",
       "</table>\n",
       "<p>7916 rows × 2 columns</p>\n",
       "</div>"
      ],
      "text/plain": [
       "      Avg_Profit  Profit_Class\n",
       "0       0.431859             1\n",
       "1       0.000000             0\n",
       "2       0.554700             1\n",
       "3       0.622067             1\n",
       "4       0.660761             1\n",
       "...          ...           ...\n",
       "7911    0.294077             1\n",
       "7912    0.655181             1\n",
       "7913    0.766088             2\n",
       "7914    0.697079             2\n",
       "7915    0.876216             2\n",
       "\n",
       "[7916 rows x 2 columns]"
      ]
     },
     "execution_count": 122,
     "metadata": {},
     "output_type": "execute_result"
    }
   ],
   "source": [
    "pr_class_df = pd.DataFrame([{'Avg_Profit': pr, 'Profit_Class': profit_class} for (pr, profit_class) in profit_class.items()])\n",
    "pr_class_df"
   ]
  },
  {
   "cell_type": "markdown",
   "metadata": {},
   "source": [
    "#### 3.4.3 <a class=\"anchor\" id=\"3_4_3\"></a> Incorporation of new classes"
   ]
  },
  {
   "cell_type": "code",
   "execution_count": 123,
   "metadata": {},
   "outputs": [],
   "source": [
    "df = pd.merge(df, rec_class_df,  how='left', on='Avg_Rec')\n",
    "df = pd.merge(df, pr_class_df,  how='left', on='Avg_Profit')"
   ]
  },
  {
   "cell_type": "markdown",
   "metadata": {},
   "source": [
    "### 3.5 <a class=\"anchor\" id=\"3_3\"></a> Encoding"
   ]
  },
  {
   "cell_type": "markdown",
   "metadata": {},
   "source": [
    "#### 3.5.1 <a class=\"anchor\" id=\"3_5_1\"></a> One hot encoding"
   ]
  },
  {
   "cell_type": "code",
   "execution_count": 125,
   "metadata": {},
   "outputs": [
    {
     "data": {
      "text/plain": [
       "Index(['Country', 'Office', 'Sector', 'Default_Rate_Group', 'Manager_Team',\n",
       "       'Director_Team'],\n",
       "      dtype='object')"
      ]
     },
     "execution_count": 125,
     "metadata": {},
     "output_type": "execute_result"
    }
   ],
   "source": [
    "cat_vars = (df.select_dtypes(include=object))\n",
    "cat_vars.columns"
   ]
  },
  {
   "cell_type": "code",
   "execution_count": 126,
   "metadata": {},
   "outputs": [
    {
     "data": {
      "text/plain": [
       "11"
      ]
     },
     "execution_count": 126,
     "metadata": {},
     "output_type": "execute_result"
    }
   ],
   "source": [
    "df['Country'].nunique()"
   ]
  },
  {
   "cell_type": "code",
   "execution_count": 127,
   "metadata": {},
   "outputs": [
    {
     "data": {
      "text/plain": [
       "8"
      ]
     },
     "execution_count": 127,
     "metadata": {},
     "output_type": "execute_result"
    }
   ],
   "source": [
    "df['Office'].nunique()"
   ]
  },
  {
   "cell_type": "code",
   "execution_count": 128,
   "metadata": {},
   "outputs": [
    {
     "data": {
      "text/plain": [
       "12"
      ]
     },
     "execution_count": 128,
     "metadata": {},
     "output_type": "execute_result"
    }
   ],
   "source": [
    "df['Sector'].nunique()"
   ]
  },
  {
   "cell_type": "code",
   "execution_count": 129,
   "metadata": {},
   "outputs": [
    {
     "data": {
      "text/plain": [
       "2"
      ]
     },
     "execution_count": 129,
     "metadata": {},
     "output_type": "execute_result"
    }
   ],
   "source": [
    "df['Default_Rate_Group'].nunique()"
   ]
  },
  {
   "cell_type": "code",
   "execution_count": 130,
   "metadata": {},
   "outputs": [
    {
     "data": {
      "text/plain": [
       "22"
      ]
     },
     "execution_count": 130,
     "metadata": {},
     "output_type": "execute_result"
    }
   ],
   "source": [
    "df['Manager_Team'].nunique()"
   ]
  },
  {
   "cell_type": "code",
   "execution_count": 131,
   "metadata": {},
   "outputs": [
    {
     "data": {
      "text/plain": [
       "SA - Civil                         2149\n",
       "SA - Industrial                    1748\n",
       "SA - Buildings                     1720\n",
       "VIC - Buildings                    1046\n",
       "All Staff                           413\n",
       "VIC - Support Services              333\n",
       "Group - Support Services            299\n",
       "WA - Structural                     240\n",
       "WA - Industrial                     200\n",
       "WA - Maritime                       188\n",
       "NZ - Water                          138\n",
       "QLD - QLD                           125\n",
       "WA - Civil                          124\n",
       "VIC - Traffic                       122\n",
       "WA - Project Delivery Services      108\n",
       "SA - Project Delivery Services       88\n",
       "VIC - Infrastructure                 83\n",
       "VIC - Industrial                     81\n",
       "VIC - Project Delivery Services      52\n",
       "WA - Support Services                21\n",
       "VIC - Geotechnical                   20\n",
       "SA - Finance                          1\n",
       "Name: Manager_Team, dtype: int64"
      ]
     },
     "execution_count": 131,
     "metadata": {},
     "output_type": "execute_result"
    }
   ],
   "source": [
    "df['Manager_Team'].value_counts()"
   ]
  },
  {
   "cell_type": "code",
   "execution_count": 132,
   "metadata": {},
   "outputs": [],
   "source": [
    "for x in df['Manager_Team']:\n",
    "    if x.startswith('SA') == True:\n",
    "        df['Manager_Team'].mask(df['Manager_Team'] == x, 'SA', inplace=True)\n",
    "    elif x.startswith('VIC') == True:\n",
    "        df['Manager_Team'].mask(df['Manager_Team'] == x, 'VIC', inplace=True)\n",
    "    elif x.startswith('WA') == True:\n",
    "        df['Manager_Team'].mask(df['Manager_Team'] == x, 'WA', inplace=True)\n",
    "    elif x.startswith('NZ') == True:\n",
    "        df['Manager_Team'].mask(df['Manager_Team'] == x, 'NZ', inplace=True)\n",
    "    elif x.startswith('QLD') == True:\n",
    "        df['Manager_Team'].mask(df['Manager_Team'] == x, 'QLD', inplace=True)"
   ]
  },
  {
   "cell_type": "code",
   "execution_count": 133,
   "metadata": {},
   "outputs": [
    {
     "data": {
      "text/plain": [
       "SA                          5706\n",
       "VIC                         1737\n",
       "WA                           881\n",
       "All Staff                    413\n",
       "Group - Support Services     299\n",
       "NZ                           138\n",
       "QLD                          125\n",
       "Name: Manager_Team, dtype: int64"
      ]
     },
     "execution_count": 133,
     "metadata": {},
     "output_type": "execute_result"
    }
   ],
   "source": [
    "df['Manager_Team'].value_counts()"
   ]
  },
  {
   "cell_type": "code",
   "execution_count": 134,
   "metadata": {},
   "outputs": [
    {
     "data": {
      "text/plain": [
       "7"
      ]
     },
     "execution_count": 134,
     "metadata": {},
     "output_type": "execute_result"
    }
   ],
   "source": [
    "df['Manager_Team'].nunique()"
   ]
  },
  {
   "cell_type": "code",
   "execution_count": 135,
   "metadata": {},
   "outputs": [
    {
     "data": {
      "text/plain": [
       "16"
      ]
     },
     "execution_count": 135,
     "metadata": {},
     "output_type": "execute_result"
    }
   ],
   "source": [
    "df['Director_Team'].nunique()"
   ]
  },
  {
   "cell_type": "code",
   "execution_count": 136,
   "metadata": {},
   "outputs": [
    {
     "data": {
      "text/plain": [
       "SA - Buildings                    2381\n",
       "SA - Industrial                   1919\n",
       "SA - Civil                        1667\n",
       "VIC - Support Services            1448\n",
       "WA - Maritime                      666\n",
       "Group - Support Services           601\n",
       "VIC - Buildings                    184\n",
       "WA - Structural                    136\n",
       "SA - Project Delivery Services      87\n",
       "WA - Civil                          73\n",
       "VIC - Traffic                       61\n",
       "VIC - Infrastructure                47\n",
       "VIC - Geotechnical                  10\n",
       "All Staff                            8\n",
       "QLD - QLD                            6\n",
       "NZ - Water                           5\n",
       "Name: Director_Team, dtype: int64"
      ]
     },
     "execution_count": 136,
     "metadata": {},
     "output_type": "execute_result"
    }
   ],
   "source": [
    "df['Director_Team'].value_counts()"
   ]
  },
  {
   "cell_type": "code",
   "execution_count": 137,
   "metadata": {},
   "outputs": [],
   "source": [
    "for x in df['Director_Team']:\n",
    "    if x.startswith('SA') == True:\n",
    "        df['Director_Team'].mask(df['Director_Team'] == x, 'SA', inplace=True)\n",
    "    elif x.startswith('VIC') == True:\n",
    "        df['Director_Team'].mask(df['Director_Team'] == x, 'VIC', inplace=True)\n",
    "    elif x.startswith('WA') == True:\n",
    "        df['Director_Team'].mask(df['Director_Team'] == x, 'WA', inplace=True)\n",
    "    elif x.startswith('NZ') == True:\n",
    "        df['Director_Team'].mask(df['Director_Team'] == x, 'NZ', inplace=True)\n",
    "    elif x.startswith('QLD') == True:\n",
    "        df['Director_Team'].mask(df['Director_Team'] == x, 'QLD', inplace=True)"
   ]
  },
  {
   "cell_type": "code",
   "execution_count": 138,
   "metadata": {},
   "outputs": [
    {
     "data": {
      "text/plain": [
       "SA                          6054\n",
       "VIC                         1750\n",
       "WA                           875\n",
       "Group - Support Services     601\n",
       "All Staff                      8\n",
       "QLD                            6\n",
       "NZ                             5\n",
       "Name: Director_Team, dtype: int64"
      ]
     },
     "execution_count": 138,
     "metadata": {},
     "output_type": "execute_result"
    }
   ],
   "source": [
    "df['Director_Team'].value_counts()"
   ]
  },
  {
   "cell_type": "code",
   "execution_count": 139,
   "metadata": {},
   "outputs": [
    {
     "data": {
      "text/plain": [
       "7"
      ]
     },
     "execution_count": 139,
     "metadata": {},
     "output_type": "execute_result"
    }
   ],
   "source": [
    "df['Director_Team'].nunique()"
   ]
  },
  {
   "cell_type": "code",
   "execution_count": 140,
   "metadata": {},
   "outputs": [
    {
     "data": {
      "text/html": [
       "<div>\n",
       "<style scoped>\n",
       "    .dataframe tbody tr th:only-of-type {\n",
       "        vertical-align: middle;\n",
       "    }\n",
       "\n",
       "    .dataframe tbody tr th {\n",
       "        vertical-align: top;\n",
       "    }\n",
       "\n",
       "    .dataframe thead th {\n",
       "        text-align: right;\n",
       "    }\n",
       "</style>\n",
       "<table border=\"1\" class=\"dataframe\">\n",
       "  <thead>\n",
       "    <tr style=\"text-align: right;\">\n",
       "      <th></th>\n",
       "      <th>Project_Size_Sort_Order</th>\n",
       "      <th>Project_Duration_Weeks</th>\n",
       "      <th>Total_Num_Stages</th>\n",
       "      <th>Is_Multi_Discipline_Project</th>\n",
       "      <th>Is_First_Client_Project</th>\n",
       "      <th>Perc_of_Stages_with_Fixed_Fee</th>\n",
       "      <th>Manager_ID</th>\n",
       "      <th>Manager_Is_Recent</th>\n",
       "      <th>Manager_Empl_Months</th>\n",
       "      <th>Director_ID</th>\n",
       "      <th>Director_Is_Recent</th>\n",
       "      <th>Director_Empl_Months</th>\n",
       "      <th>Perc_of_Subcontractors</th>\n",
       "      <th>Is_Front_Loaded</th>\n",
       "      <th>Delivered_on_Time</th>\n",
       "      <th>Suffered_Data_Loss</th>\n",
       "      <th>Total_Data_Issues</th>\n",
       "      <th>Avg_Rec</th>\n",
       "      <th>Avg_Profit</th>\n",
       "      <th>Rec_Class</th>\n",
       "      <th>Profit_Class</th>\n",
       "      <th>Country_Botswana</th>\n",
       "      <th>Country_China</th>\n",
       "      <th>Country_New Zealand</th>\n",
       "      <th>Country_Papua New Guinea</th>\n",
       "      <th>Country_Peru</th>\n",
       "      <th>Country_Samoa</th>\n",
       "      <th>Country_Saudi Arabia</th>\n",
       "      <th>Country_Tonga</th>\n",
       "      <th>Country_United Arab Emirates</th>\n",
       "      <th>Country_Zambia</th>\n",
       "      <th>Office_Inception Consulting Engineers Pty Ltd</th>\n",
       "      <th>Office_WGANZ Pty Ltd</th>\n",
       "      <th>Office_WGAQLD Pty Ltd</th>\n",
       "      <th>Office_WGASA Pty Ltd</th>\n",
       "      <th>Office_WGAVIC Pty Ltd</th>\n",
       "      <th>Office_WGAWA Pty Ltd</th>\n",
       "      <th>Office_Whyalla</th>\n",
       "      <th>Sector_Commercial &amp; Retail Buildings</th>\n",
       "      <th>Sector_Defence &amp; Space</th>\n",
       "      <th>Sector_Energy</th>\n",
       "      <th>Sector_Health &amp; Aged Care</th>\n",
       "      <th>Sector_Justice, Corrections &amp; Emergency Services</th>\n",
       "      <th>Sector_Ports &amp; Marine</th>\n",
       "      <th>Sector_Resources</th>\n",
       "      <th>Sector_Sport &amp; Recreation Facilities</th>\n",
       "      <th>Sector_Traffic Transport (Bridges)</th>\n",
       "      <th>Sector_Urban development</th>\n",
       "      <th>Sector_Water/Waste</th>\n",
       "      <th>Default_Rate_Group_Standard</th>\n",
       "      <th>Manager_Team_Group - Support Services</th>\n",
       "      <th>Manager_Team_NZ</th>\n",
       "      <th>Manager_Team_QLD</th>\n",
       "      <th>Manager_Team_SA</th>\n",
       "      <th>Manager_Team_VIC</th>\n",
       "      <th>Manager_Team_WA</th>\n",
       "      <th>Director_Team_Group - Support Services</th>\n",
       "      <th>Director_Team_NZ</th>\n",
       "      <th>Director_Team_QLD</th>\n",
       "      <th>Director_Team_SA</th>\n",
       "      <th>Director_Team_VIC</th>\n",
       "      <th>Director_Team_WA</th>\n",
       "    </tr>\n",
       "  </thead>\n",
       "  <tbody>\n",
       "    <tr>\n",
       "      <th>0</th>\n",
       "      <td>4.0</td>\n",
       "      <td>4.0</td>\n",
       "      <td>5.0</td>\n",
       "      <td>0.0</td>\n",
       "      <td>1.0</td>\n",
       "      <td>0.80</td>\n",
       "      <td>7612852</td>\n",
       "      <td>0</td>\n",
       "      <td>127.0</td>\n",
       "      <td>7612709.0</td>\n",
       "      <td>False</td>\n",
       "      <td>433.0</td>\n",
       "      <td>0.0</td>\n",
       "      <td>1</td>\n",
       "      <td>True</td>\n",
       "      <td>1</td>\n",
       "      <td>2.0</td>\n",
       "      <td>0.901941</td>\n",
       "      <td>0.431859</td>\n",
       "      <td>2</td>\n",
       "      <td>1</td>\n",
       "      <td>0</td>\n",
       "      <td>0</td>\n",
       "      <td>0</td>\n",
       "      <td>0</td>\n",
       "      <td>0</td>\n",
       "      <td>0</td>\n",
       "      <td>0</td>\n",
       "      <td>0</td>\n",
       "      <td>0</td>\n",
       "      <td>0</td>\n",
       "      <td>0</td>\n",
       "      <td>0</td>\n",
       "      <td>0</td>\n",
       "      <td>0</td>\n",
       "      <td>0</td>\n",
       "      <td>0</td>\n",
       "      <td>1</td>\n",
       "      <td>0</td>\n",
       "      <td>0</td>\n",
       "      <td>0</td>\n",
       "      <td>0</td>\n",
       "      <td>0</td>\n",
       "      <td>1</td>\n",
       "      <td>0</td>\n",
       "      <td>0</td>\n",
       "      <td>0</td>\n",
       "      <td>0</td>\n",
       "      <td>0</td>\n",
       "      <td>1</td>\n",
       "      <td>0</td>\n",
       "      <td>0</td>\n",
       "      <td>0</td>\n",
       "      <td>1</td>\n",
       "      <td>0</td>\n",
       "      <td>0</td>\n",
       "      <td>0</td>\n",
       "      <td>0</td>\n",
       "      <td>0</td>\n",
       "      <td>1</td>\n",
       "      <td>0</td>\n",
       "      <td>0</td>\n",
       "    </tr>\n",
       "    <tr>\n",
       "      <th>1</th>\n",
       "      <td>1.0</td>\n",
       "      <td>238.0</td>\n",
       "      <td>4.0</td>\n",
       "      <td>0.0</td>\n",
       "      <td>1.0</td>\n",
       "      <td>0.00</td>\n",
       "      <td>7612773</td>\n",
       "      <td>0</td>\n",
       "      <td>319.0</td>\n",
       "      <td>7612747.0</td>\n",
       "      <td>False</td>\n",
       "      <td>433.0</td>\n",
       "      <td>0.0</td>\n",
       "      <td>0</td>\n",
       "      <td>True</td>\n",
       "      <td>0</td>\n",
       "      <td>2.0</td>\n",
       "      <td>1.000000</td>\n",
       "      <td>0.000000</td>\n",
       "      <td>2</td>\n",
       "      <td>0</td>\n",
       "      <td>0</td>\n",
       "      <td>0</td>\n",
       "      <td>0</td>\n",
       "      <td>0</td>\n",
       "      <td>0</td>\n",
       "      <td>0</td>\n",
       "      <td>0</td>\n",
       "      <td>0</td>\n",
       "      <td>0</td>\n",
       "      <td>0</td>\n",
       "      <td>0</td>\n",
       "      <td>0</td>\n",
       "      <td>0</td>\n",
       "      <td>1</td>\n",
       "      <td>0</td>\n",
       "      <td>0</td>\n",
       "      <td>0</td>\n",
       "      <td>0</td>\n",
       "      <td>0</td>\n",
       "      <td>0</td>\n",
       "      <td>0</td>\n",
       "      <td>0</td>\n",
       "      <td>0</td>\n",
       "      <td>0</td>\n",
       "      <td>0</td>\n",
       "      <td>0</td>\n",
       "      <td>0</td>\n",
       "      <td>0</td>\n",
       "      <td>1</td>\n",
       "      <td>0</td>\n",
       "      <td>0</td>\n",
       "      <td>0</td>\n",
       "      <td>1</td>\n",
       "      <td>0</td>\n",
       "      <td>0</td>\n",
       "      <td>0</td>\n",
       "      <td>0</td>\n",
       "      <td>0</td>\n",
       "      <td>1</td>\n",
       "      <td>0</td>\n",
       "      <td>0</td>\n",
       "    </tr>\n",
       "    <tr>\n",
       "      <th>2</th>\n",
       "      <td>1.0</td>\n",
       "      <td>0.0</td>\n",
       "      <td>2.0</td>\n",
       "      <td>0.0</td>\n",
       "      <td>1.0</td>\n",
       "      <td>0.00</td>\n",
       "      <td>7612773</td>\n",
       "      <td>0</td>\n",
       "      <td>319.0</td>\n",
       "      <td>7612768.0</td>\n",
       "      <td>False</td>\n",
       "      <td>339.0</td>\n",
       "      <td>0.0</td>\n",
       "      <td>0</td>\n",
       "      <td>True</td>\n",
       "      <td>0</td>\n",
       "      <td>0.0</td>\n",
       "      <td>0.832050</td>\n",
       "      <td>0.554700</td>\n",
       "      <td>2</td>\n",
       "      <td>1</td>\n",
       "      <td>0</td>\n",
       "      <td>0</td>\n",
       "      <td>0</td>\n",
       "      <td>0</td>\n",
       "      <td>0</td>\n",
       "      <td>0</td>\n",
       "      <td>0</td>\n",
       "      <td>0</td>\n",
       "      <td>0</td>\n",
       "      <td>0</td>\n",
       "      <td>0</td>\n",
       "      <td>0</td>\n",
       "      <td>0</td>\n",
       "      <td>1</td>\n",
       "      <td>0</td>\n",
       "      <td>0</td>\n",
       "      <td>0</td>\n",
       "      <td>0</td>\n",
       "      <td>0</td>\n",
       "      <td>0</td>\n",
       "      <td>0</td>\n",
       "      <td>0</td>\n",
       "      <td>0</td>\n",
       "      <td>0</td>\n",
       "      <td>0</td>\n",
       "      <td>0</td>\n",
       "      <td>0</td>\n",
       "      <td>0</td>\n",
       "      <td>1</td>\n",
       "      <td>0</td>\n",
       "      <td>0</td>\n",
       "      <td>0</td>\n",
       "      <td>1</td>\n",
       "      <td>0</td>\n",
       "      <td>0</td>\n",
       "      <td>0</td>\n",
       "      <td>0</td>\n",
       "      <td>0</td>\n",
       "      <td>1</td>\n",
       "      <td>0</td>\n",
       "      <td>0</td>\n",
       "    </tr>\n",
       "    <tr>\n",
       "      <th>3</th>\n",
       "      <td>3.0</td>\n",
       "      <td>121.0</td>\n",
       "      <td>4.0</td>\n",
       "      <td>0.0</td>\n",
       "      <td>1.0</td>\n",
       "      <td>0.25</td>\n",
       "      <td>7612773</td>\n",
       "      <td>0</td>\n",
       "      <td>319.0</td>\n",
       "      <td>7612709.0</td>\n",
       "      <td>False</td>\n",
       "      <td>433.0</td>\n",
       "      <td>0.0</td>\n",
       "      <td>0</td>\n",
       "      <td>True</td>\n",
       "      <td>0</td>\n",
       "      <td>1.0</td>\n",
       "      <td>0.782964</td>\n",
       "      <td>0.622067</td>\n",
       "      <td>2</td>\n",
       "      <td>1</td>\n",
       "      <td>0</td>\n",
       "      <td>0</td>\n",
       "      <td>0</td>\n",
       "      <td>0</td>\n",
       "      <td>0</td>\n",
       "      <td>0</td>\n",
       "      <td>0</td>\n",
       "      <td>0</td>\n",
       "      <td>0</td>\n",
       "      <td>0</td>\n",
       "      <td>0</td>\n",
       "      <td>0</td>\n",
       "      <td>0</td>\n",
       "      <td>1</td>\n",
       "      <td>0</td>\n",
       "      <td>0</td>\n",
       "      <td>0</td>\n",
       "      <td>1</td>\n",
       "      <td>0</td>\n",
       "      <td>0</td>\n",
       "      <td>0</td>\n",
       "      <td>0</td>\n",
       "      <td>0</td>\n",
       "      <td>0</td>\n",
       "      <td>0</td>\n",
       "      <td>0</td>\n",
       "      <td>0</td>\n",
       "      <td>0</td>\n",
       "      <td>1</td>\n",
       "      <td>0</td>\n",
       "      <td>0</td>\n",
       "      <td>0</td>\n",
       "      <td>1</td>\n",
       "      <td>0</td>\n",
       "      <td>0</td>\n",
       "      <td>0</td>\n",
       "      <td>0</td>\n",
       "      <td>0</td>\n",
       "      <td>1</td>\n",
       "      <td>0</td>\n",
       "      <td>0</td>\n",
       "    </tr>\n",
       "    <tr>\n",
       "      <th>4</th>\n",
       "      <td>7.0</td>\n",
       "      <td>2.0</td>\n",
       "      <td>6.0</td>\n",
       "      <td>0.0</td>\n",
       "      <td>1.0</td>\n",
       "      <td>0.00</td>\n",
       "      <td>7612695</td>\n",
       "      <td>0</td>\n",
       "      <td>421.0</td>\n",
       "      <td>7612695.0</td>\n",
       "      <td>False</td>\n",
       "      <td>421.0</td>\n",
       "      <td>0.0</td>\n",
       "      <td>0</td>\n",
       "      <td>True</td>\n",
       "      <td>0</td>\n",
       "      <td>3.0</td>\n",
       "      <td>1.000000</td>\n",
       "      <td>0.000000</td>\n",
       "      <td>2</td>\n",
       "      <td>0</td>\n",
       "      <td>0</td>\n",
       "      <td>0</td>\n",
       "      <td>0</td>\n",
       "      <td>0</td>\n",
       "      <td>0</td>\n",
       "      <td>0</td>\n",
       "      <td>0</td>\n",
       "      <td>0</td>\n",
       "      <td>0</td>\n",
       "      <td>0</td>\n",
       "      <td>0</td>\n",
       "      <td>0</td>\n",
       "      <td>0</td>\n",
       "      <td>1</td>\n",
       "      <td>0</td>\n",
       "      <td>0</td>\n",
       "      <td>0</td>\n",
       "      <td>0</td>\n",
       "      <td>0</td>\n",
       "      <td>0</td>\n",
       "      <td>0</td>\n",
       "      <td>0</td>\n",
       "      <td>0</td>\n",
       "      <td>0</td>\n",
       "      <td>0</td>\n",
       "      <td>0</td>\n",
       "      <td>0</td>\n",
       "      <td>0</td>\n",
       "      <td>1</td>\n",
       "      <td>0</td>\n",
       "      <td>0</td>\n",
       "      <td>0</td>\n",
       "      <td>1</td>\n",
       "      <td>0</td>\n",
       "      <td>0</td>\n",
       "      <td>0</td>\n",
       "      <td>0</td>\n",
       "      <td>0</td>\n",
       "      <td>1</td>\n",
       "      <td>0</td>\n",
       "      <td>0</td>\n",
       "    </tr>\n",
       "    <tr>\n",
       "      <th>...</th>\n",
       "      <td>...</td>\n",
       "      <td>...</td>\n",
       "      <td>...</td>\n",
       "      <td>...</td>\n",
       "      <td>...</td>\n",
       "      <td>...</td>\n",
       "      <td>...</td>\n",
       "      <td>...</td>\n",
       "      <td>...</td>\n",
       "      <td>...</td>\n",
       "      <td>...</td>\n",
       "      <td>...</td>\n",
       "      <td>...</td>\n",
       "      <td>...</td>\n",
       "      <td>...</td>\n",
       "      <td>...</td>\n",
       "      <td>...</td>\n",
       "      <td>...</td>\n",
       "      <td>...</td>\n",
       "      <td>...</td>\n",
       "      <td>...</td>\n",
       "      <td>...</td>\n",
       "      <td>...</td>\n",
       "      <td>...</td>\n",
       "      <td>...</td>\n",
       "      <td>...</td>\n",
       "      <td>...</td>\n",
       "      <td>...</td>\n",
       "      <td>...</td>\n",
       "      <td>...</td>\n",
       "      <td>...</td>\n",
       "      <td>...</td>\n",
       "      <td>...</td>\n",
       "      <td>...</td>\n",
       "      <td>...</td>\n",
       "      <td>...</td>\n",
       "      <td>...</td>\n",
       "      <td>...</td>\n",
       "      <td>...</td>\n",
       "      <td>...</td>\n",
       "      <td>...</td>\n",
       "      <td>...</td>\n",
       "      <td>...</td>\n",
       "      <td>...</td>\n",
       "      <td>...</td>\n",
       "      <td>...</td>\n",
       "      <td>...</td>\n",
       "      <td>...</td>\n",
       "      <td>...</td>\n",
       "      <td>...</td>\n",
       "      <td>...</td>\n",
       "      <td>...</td>\n",
       "      <td>...</td>\n",
       "      <td>...</td>\n",
       "      <td>...</td>\n",
       "      <td>...</td>\n",
       "      <td>...</td>\n",
       "      <td>...</td>\n",
       "      <td>...</td>\n",
       "      <td>...</td>\n",
       "      <td>...</td>\n",
       "      <td>...</td>\n",
       "    </tr>\n",
       "    <tr>\n",
       "      <th>9294</th>\n",
       "      <td>3.0</td>\n",
       "      <td>18.0</td>\n",
       "      <td>2.0</td>\n",
       "      <td>0.0</td>\n",
       "      <td>0.0</td>\n",
       "      <td>1.00</td>\n",
       "      <td>7612752</td>\n",
       "      <td>0</td>\n",
       "      <td>178.0</td>\n",
       "      <td>7612691.0</td>\n",
       "      <td>False</td>\n",
       "      <td>176.0</td>\n",
       "      <td>0.0</td>\n",
       "      <td>0</td>\n",
       "      <td>True</td>\n",
       "      <td>0</td>\n",
       "      <td>1.0</td>\n",
       "      <td>0.853686</td>\n",
       "      <td>0.520788</td>\n",
       "      <td>2</td>\n",
       "      <td>1</td>\n",
       "      <td>0</td>\n",
       "      <td>0</td>\n",
       "      <td>0</td>\n",
       "      <td>0</td>\n",
       "      <td>0</td>\n",
       "      <td>0</td>\n",
       "      <td>0</td>\n",
       "      <td>0</td>\n",
       "      <td>0</td>\n",
       "      <td>0</td>\n",
       "      <td>0</td>\n",
       "      <td>0</td>\n",
       "      <td>0</td>\n",
       "      <td>1</td>\n",
       "      <td>0</td>\n",
       "      <td>0</td>\n",
       "      <td>0</td>\n",
       "      <td>0</td>\n",
       "      <td>0</td>\n",
       "      <td>0</td>\n",
       "      <td>0</td>\n",
       "      <td>0</td>\n",
       "      <td>0</td>\n",
       "      <td>0</td>\n",
       "      <td>0</td>\n",
       "      <td>1</td>\n",
       "      <td>0</td>\n",
       "      <td>0</td>\n",
       "      <td>0</td>\n",
       "      <td>0</td>\n",
       "      <td>0</td>\n",
       "      <td>0</td>\n",
       "      <td>1</td>\n",
       "      <td>0</td>\n",
       "      <td>0</td>\n",
       "      <td>0</td>\n",
       "      <td>0</td>\n",
       "      <td>0</td>\n",
       "      <td>1</td>\n",
       "      <td>0</td>\n",
       "      <td>0</td>\n",
       "    </tr>\n",
       "    <tr>\n",
       "      <th>9295</th>\n",
       "      <td>1.0</td>\n",
       "      <td>1.0</td>\n",
       "      <td>3.0</td>\n",
       "      <td>0.0</td>\n",
       "      <td>0.0</td>\n",
       "      <td>0.67</td>\n",
       "      <td>9501752</td>\n",
       "      <td>0</td>\n",
       "      <td>12.0</td>\n",
       "      <td>7859152.0</td>\n",
       "      <td>False</td>\n",
       "      <td>29.0</td>\n",
       "      <td>0.0</td>\n",
       "      <td>0</td>\n",
       "      <td>True</td>\n",
       "      <td>0</td>\n",
       "      <td>1.0</td>\n",
       "      <td>0.853686</td>\n",
       "      <td>0.520788</td>\n",
       "      <td>2</td>\n",
       "      <td>1</td>\n",
       "      <td>0</td>\n",
       "      <td>0</td>\n",
       "      <td>0</td>\n",
       "      <td>0</td>\n",
       "      <td>0</td>\n",
       "      <td>0</td>\n",
       "      <td>0</td>\n",
       "      <td>0</td>\n",
       "      <td>0</td>\n",
       "      <td>0</td>\n",
       "      <td>0</td>\n",
       "      <td>0</td>\n",
       "      <td>0</td>\n",
       "      <td>0</td>\n",
       "      <td>1</td>\n",
       "      <td>0</td>\n",
       "      <td>0</td>\n",
       "      <td>0</td>\n",
       "      <td>0</td>\n",
       "      <td>0</td>\n",
       "      <td>0</td>\n",
       "      <td>0</td>\n",
       "      <td>0</td>\n",
       "      <td>0</td>\n",
       "      <td>0</td>\n",
       "      <td>0</td>\n",
       "      <td>0</td>\n",
       "      <td>0</td>\n",
       "      <td>0</td>\n",
       "      <td>0</td>\n",
       "      <td>0</td>\n",
       "      <td>0</td>\n",
       "      <td>0</td>\n",
       "      <td>1</td>\n",
       "      <td>0</td>\n",
       "      <td>0</td>\n",
       "      <td>0</td>\n",
       "      <td>0</td>\n",
       "      <td>0</td>\n",
       "      <td>1</td>\n",
       "      <td>0</td>\n",
       "    </tr>\n",
       "    <tr>\n",
       "      <th>9296</th>\n",
       "      <td>1.0</td>\n",
       "      <td>1.0</td>\n",
       "      <td>2.0</td>\n",
       "      <td>0.0</td>\n",
       "      <td>0.0</td>\n",
       "      <td>0.50</td>\n",
       "      <td>7809410</td>\n",
       "      <td>0</td>\n",
       "      <td>29.0</td>\n",
       "      <td>10018105.0</td>\n",
       "      <td>True</td>\n",
       "      <td>6.0</td>\n",
       "      <td>0.0</td>\n",
       "      <td>0</td>\n",
       "      <td>True</td>\n",
       "      <td>0</td>\n",
       "      <td>1.0</td>\n",
       "      <td>0.853686</td>\n",
       "      <td>0.520788</td>\n",
       "      <td>2</td>\n",
       "      <td>1</td>\n",
       "      <td>0</td>\n",
       "      <td>0</td>\n",
       "      <td>0</td>\n",
       "      <td>0</td>\n",
       "      <td>0</td>\n",
       "      <td>0</td>\n",
       "      <td>0</td>\n",
       "      <td>0</td>\n",
       "      <td>0</td>\n",
       "      <td>0</td>\n",
       "      <td>0</td>\n",
       "      <td>0</td>\n",
       "      <td>0</td>\n",
       "      <td>0</td>\n",
       "      <td>0</td>\n",
       "      <td>1</td>\n",
       "      <td>0</td>\n",
       "      <td>0</td>\n",
       "      <td>0</td>\n",
       "      <td>0</td>\n",
       "      <td>0</td>\n",
       "      <td>0</td>\n",
       "      <td>0</td>\n",
       "      <td>0</td>\n",
       "      <td>0</td>\n",
       "      <td>0</td>\n",
       "      <td>0</td>\n",
       "      <td>0</td>\n",
       "      <td>0</td>\n",
       "      <td>0</td>\n",
       "      <td>0</td>\n",
       "      <td>0</td>\n",
       "      <td>0</td>\n",
       "      <td>0</td>\n",
       "      <td>1</td>\n",
       "      <td>0</td>\n",
       "      <td>0</td>\n",
       "      <td>0</td>\n",
       "      <td>1</td>\n",
       "      <td>0</td>\n",
       "      <td>0</td>\n",
       "    </tr>\n",
       "    <tr>\n",
       "      <th>9297</th>\n",
       "      <td>1.0</td>\n",
       "      <td>3.0</td>\n",
       "      <td>1.0</td>\n",
       "      <td>0.0</td>\n",
       "      <td>0.0</td>\n",
       "      <td>1.00</td>\n",
       "      <td>7612860</td>\n",
       "      <td>0</td>\n",
       "      <td>170.0</td>\n",
       "      <td>7612841.0</td>\n",
       "      <td>False</td>\n",
       "      <td>288.0</td>\n",
       "      <td>0.0</td>\n",
       "      <td>0</td>\n",
       "      <td>True</td>\n",
       "      <td>0</td>\n",
       "      <td>0.0</td>\n",
       "      <td>0.853686</td>\n",
       "      <td>0.520788</td>\n",
       "      <td>2</td>\n",
       "      <td>1</td>\n",
       "      <td>0</td>\n",
       "      <td>0</td>\n",
       "      <td>0</td>\n",
       "      <td>0</td>\n",
       "      <td>0</td>\n",
       "      <td>0</td>\n",
       "      <td>0</td>\n",
       "      <td>0</td>\n",
       "      <td>0</td>\n",
       "      <td>0</td>\n",
       "      <td>0</td>\n",
       "      <td>0</td>\n",
       "      <td>0</td>\n",
       "      <td>0</td>\n",
       "      <td>1</td>\n",
       "      <td>0</td>\n",
       "      <td>0</td>\n",
       "      <td>0</td>\n",
       "      <td>0</td>\n",
       "      <td>1</td>\n",
       "      <td>0</td>\n",
       "      <td>0</td>\n",
       "      <td>0</td>\n",
       "      <td>0</td>\n",
       "      <td>0</td>\n",
       "      <td>0</td>\n",
       "      <td>0</td>\n",
       "      <td>0</td>\n",
       "      <td>0</td>\n",
       "      <td>0</td>\n",
       "      <td>0</td>\n",
       "      <td>0</td>\n",
       "      <td>0</td>\n",
       "      <td>1</td>\n",
       "      <td>0</td>\n",
       "      <td>0</td>\n",
       "      <td>0</td>\n",
       "      <td>0</td>\n",
       "      <td>0</td>\n",
       "      <td>1</td>\n",
       "      <td>0</td>\n",
       "    </tr>\n",
       "    <tr>\n",
       "      <th>9298</th>\n",
       "      <td>1.0</td>\n",
       "      <td>4.0</td>\n",
       "      <td>1.0</td>\n",
       "      <td>0.0</td>\n",
       "      <td>0.0</td>\n",
       "      <td>1.00</td>\n",
       "      <td>7612860</td>\n",
       "      <td>0</td>\n",
       "      <td>170.0</td>\n",
       "      <td>7612841.0</td>\n",
       "      <td>False</td>\n",
       "      <td>288.0</td>\n",
       "      <td>0.0</td>\n",
       "      <td>0</td>\n",
       "      <td>True</td>\n",
       "      <td>0</td>\n",
       "      <td>1.0</td>\n",
       "      <td>0.853686</td>\n",
       "      <td>0.520788</td>\n",
       "      <td>2</td>\n",
       "      <td>1</td>\n",
       "      <td>0</td>\n",
       "      <td>0</td>\n",
       "      <td>0</td>\n",
       "      <td>0</td>\n",
       "      <td>0</td>\n",
       "      <td>0</td>\n",
       "      <td>0</td>\n",
       "      <td>0</td>\n",
       "      <td>0</td>\n",
       "      <td>0</td>\n",
       "      <td>0</td>\n",
       "      <td>0</td>\n",
       "      <td>0</td>\n",
       "      <td>0</td>\n",
       "      <td>1</td>\n",
       "      <td>0</td>\n",
       "      <td>0</td>\n",
       "      <td>0</td>\n",
       "      <td>0</td>\n",
       "      <td>1</td>\n",
       "      <td>0</td>\n",
       "      <td>0</td>\n",
       "      <td>0</td>\n",
       "      <td>0</td>\n",
       "      <td>0</td>\n",
       "      <td>0</td>\n",
       "      <td>0</td>\n",
       "      <td>0</td>\n",
       "      <td>0</td>\n",
       "      <td>0</td>\n",
       "      <td>0</td>\n",
       "      <td>0</td>\n",
       "      <td>0</td>\n",
       "      <td>1</td>\n",
       "      <td>0</td>\n",
       "      <td>0</td>\n",
       "      <td>0</td>\n",
       "      <td>0</td>\n",
       "      <td>0</td>\n",
       "      <td>1</td>\n",
       "      <td>0</td>\n",
       "    </tr>\n",
       "  </tbody>\n",
       "</table>\n",
       "<p>9299 rows × 62 columns</p>\n",
       "</div>"
      ],
      "text/plain": [
       "      Project_Size_Sort_Order  Project_Duration_Weeks  Total_Num_Stages  \\\n",
       "0                         4.0                     4.0               5.0   \n",
       "1                         1.0                   238.0               4.0   \n",
       "2                         1.0                     0.0               2.0   \n",
       "3                         3.0                   121.0               4.0   \n",
       "4                         7.0                     2.0               6.0   \n",
       "...                       ...                     ...               ...   \n",
       "9294                      3.0                    18.0               2.0   \n",
       "9295                      1.0                     1.0               3.0   \n",
       "9296                      1.0                     1.0               2.0   \n",
       "9297                      1.0                     3.0               1.0   \n",
       "9298                      1.0                     4.0               1.0   \n",
       "\n",
       "      Is_Multi_Discipline_Project  Is_First_Client_Project  \\\n",
       "0                             0.0                      1.0   \n",
       "1                             0.0                      1.0   \n",
       "2                             0.0                      1.0   \n",
       "3                             0.0                      1.0   \n",
       "4                             0.0                      1.0   \n",
       "...                           ...                      ...   \n",
       "9294                          0.0                      0.0   \n",
       "9295                          0.0                      0.0   \n",
       "9296                          0.0                      0.0   \n",
       "9297                          0.0                      0.0   \n",
       "9298                          0.0                      0.0   \n",
       "\n",
       "      Perc_of_Stages_with_Fixed_Fee  Manager_ID  Manager_Is_Recent  \\\n",
       "0                              0.80     7612852                  0   \n",
       "1                              0.00     7612773                  0   \n",
       "2                              0.00     7612773                  0   \n",
       "3                              0.25     7612773                  0   \n",
       "4                              0.00     7612695                  0   \n",
       "...                             ...         ...                ...   \n",
       "9294                           1.00     7612752                  0   \n",
       "9295                           0.67     9501752                  0   \n",
       "9296                           0.50     7809410                  0   \n",
       "9297                           1.00     7612860                  0   \n",
       "9298                           1.00     7612860                  0   \n",
       "\n",
       "      Manager_Empl_Months  Director_ID  Director_Is_Recent  \\\n",
       "0                   127.0    7612709.0               False   \n",
       "1                   319.0    7612747.0               False   \n",
       "2                   319.0    7612768.0               False   \n",
       "3                   319.0    7612709.0               False   \n",
       "4                   421.0    7612695.0               False   \n",
       "...                   ...          ...                 ...   \n",
       "9294                178.0    7612691.0               False   \n",
       "9295                 12.0    7859152.0               False   \n",
       "9296                 29.0   10018105.0                True   \n",
       "9297                170.0    7612841.0               False   \n",
       "9298                170.0    7612841.0               False   \n",
       "\n",
       "      Director_Empl_Months  Perc_of_Subcontractors  Is_Front_Loaded  \\\n",
       "0                    433.0                     0.0                1   \n",
       "1                    433.0                     0.0                0   \n",
       "2                    339.0                     0.0                0   \n",
       "3                    433.0                     0.0                0   \n",
       "4                    421.0                     0.0                0   \n",
       "...                    ...                     ...              ...   \n",
       "9294                 176.0                     0.0                0   \n",
       "9295                  29.0                     0.0                0   \n",
       "9296                   6.0                     0.0                0   \n",
       "9297                 288.0                     0.0                0   \n",
       "9298                 288.0                     0.0                0   \n",
       "\n",
       "      Delivered_on_Time  Suffered_Data_Loss  Total_Data_Issues   Avg_Rec  \\\n",
       "0                  True                   1                2.0  0.901941   \n",
       "1                  True                   0                2.0  1.000000   \n",
       "2                  True                   0                0.0  0.832050   \n",
       "3                  True                   0                1.0  0.782964   \n",
       "4                  True                   0                3.0  1.000000   \n",
       "...                 ...                 ...                ...       ...   \n",
       "9294               True                   0                1.0  0.853686   \n",
       "9295               True                   0                1.0  0.853686   \n",
       "9296               True                   0                1.0  0.853686   \n",
       "9297               True                   0                0.0  0.853686   \n",
       "9298               True                   0                1.0  0.853686   \n",
       "\n",
       "      Avg_Profit  Rec_Class  Profit_Class  Country_Botswana  Country_China  \\\n",
       "0       0.431859          2             1                 0              0   \n",
       "1       0.000000          2             0                 0              0   \n",
       "2       0.554700          2             1                 0              0   \n",
       "3       0.622067          2             1                 0              0   \n",
       "4       0.000000          2             0                 0              0   \n",
       "...          ...        ...           ...               ...            ...   \n",
       "9294    0.520788          2             1                 0              0   \n",
       "9295    0.520788          2             1                 0              0   \n",
       "9296    0.520788          2             1                 0              0   \n",
       "9297    0.520788          2             1                 0              0   \n",
       "9298    0.520788          2             1                 0              0   \n",
       "\n",
       "      Country_New Zealand  Country_Papua New Guinea  Country_Peru  \\\n",
       "0                       0                         0             0   \n",
       "1                       0                         0             0   \n",
       "2                       0                         0             0   \n",
       "3                       0                         0             0   \n",
       "4                       0                         0             0   \n",
       "...                   ...                       ...           ...   \n",
       "9294                    0                         0             0   \n",
       "9295                    0                         0             0   \n",
       "9296                    0                         0             0   \n",
       "9297                    0                         0             0   \n",
       "9298                    0                         0             0   \n",
       "\n",
       "      Country_Samoa  Country_Saudi Arabia  Country_Tonga  \\\n",
       "0                 0                     0              0   \n",
       "1                 0                     0              0   \n",
       "2                 0                     0              0   \n",
       "3                 0                     0              0   \n",
       "4                 0                     0              0   \n",
       "...             ...                   ...            ...   \n",
       "9294              0                     0              0   \n",
       "9295              0                     0              0   \n",
       "9296              0                     0              0   \n",
       "9297              0                     0              0   \n",
       "9298              0                     0              0   \n",
       "\n",
       "      Country_United Arab Emirates  Country_Zambia  \\\n",
       "0                                0               0   \n",
       "1                                0               0   \n",
       "2                                0               0   \n",
       "3                                0               0   \n",
       "4                                0               0   \n",
       "...                            ...             ...   \n",
       "9294                             0               0   \n",
       "9295                             0               0   \n",
       "9296                             0               0   \n",
       "9297                             0               0   \n",
       "9298                             0               0   \n",
       "\n",
       "      Office_Inception Consulting Engineers Pty Ltd  Office_WGANZ Pty Ltd  \\\n",
       "0                                                 0                     0   \n",
       "1                                                 0                     0   \n",
       "2                                                 0                     0   \n",
       "3                                                 0                     0   \n",
       "4                                                 0                     0   \n",
       "...                                             ...                   ...   \n",
       "9294                                              0                     0   \n",
       "9295                                              0                     0   \n",
       "9296                                              0                     0   \n",
       "9297                                              0                     0   \n",
       "9298                                              0                     0   \n",
       "\n",
       "      Office_WGAQLD Pty Ltd  Office_WGASA Pty Ltd  Office_WGAVIC Pty Ltd  \\\n",
       "0                         0                     0                      0   \n",
       "1                         0                     1                      0   \n",
       "2                         0                     1                      0   \n",
       "3                         0                     1                      0   \n",
       "4                         0                     1                      0   \n",
       "...                     ...                   ...                    ...   \n",
       "9294                      0                     1                      0   \n",
       "9295                      0                     0                      1   \n",
       "9296                      0                     0                      0   \n",
       "9297                      0                     0                      1   \n",
       "9298                      0                     0                      1   \n",
       "\n",
       "      Office_WGAWA Pty Ltd  Office_Whyalla  \\\n",
       "0                        0               1   \n",
       "1                        0               0   \n",
       "2                        0               0   \n",
       "3                        0               0   \n",
       "4                        0               0   \n",
       "...                    ...             ...   \n",
       "9294                     0               0   \n",
       "9295                     0               0   \n",
       "9296                     1               0   \n",
       "9297                     0               0   \n",
       "9298                     0               0   \n",
       "\n",
       "      Sector_Commercial & Retail Buildings  Sector_Defence & Space  \\\n",
       "0                                        0                       0   \n",
       "1                                        0                       0   \n",
       "2                                        0                       0   \n",
       "3                                        1                       0   \n",
       "4                                        0                       0   \n",
       "...                                    ...                     ...   \n",
       "9294                                     0                       0   \n",
       "9295                                     0                       0   \n",
       "9296                                     0                       0   \n",
       "9297                                     0                       0   \n",
       "9298                                     0                       0   \n",
       "\n",
       "      Sector_Energy  Sector_Health & Aged Care  \\\n",
       "0                 0                          0   \n",
       "1                 0                          0   \n",
       "2                 0                          0   \n",
       "3                 0                          0   \n",
       "4                 0                          0   \n",
       "...             ...                        ...   \n",
       "9294              0                          0   \n",
       "9295              0                          0   \n",
       "9296              0                          0   \n",
       "9297              1                          0   \n",
       "9298              1                          0   \n",
       "\n",
       "      Sector_Justice, Corrections & Emergency Services  Sector_Ports & Marine  \\\n",
       "0                                                    0                      1   \n",
       "1                                                    0                      0   \n",
       "2                                                    0                      0   \n",
       "3                                                    0                      0   \n",
       "4                                                    0                      0   \n",
       "...                                                ...                    ...   \n",
       "9294                                                 0                      0   \n",
       "9295                                                 0                      0   \n",
       "9296                                                 0                      0   \n",
       "9297                                                 0                      0   \n",
       "9298                                                 0                      0   \n",
       "\n",
       "      Sector_Resources  Sector_Sport & Recreation Facilities  \\\n",
       "0                    0                                     0   \n",
       "1                    0                                     0   \n",
       "2                    0                                     0   \n",
       "3                    0                                     0   \n",
       "4                    0                                     0   \n",
       "...                ...                                   ...   \n",
       "9294                 0                                     0   \n",
       "9295                 0                                     0   \n",
       "9296                 0                                     0   \n",
       "9297                 0                                     0   \n",
       "9298                 0                                     0   \n",
       "\n",
       "      Sector_Traffic Transport (Bridges)  Sector_Urban development  \\\n",
       "0                                      0                         0   \n",
       "1                                      0                         0   \n",
       "2                                      0                         0   \n",
       "3                                      0                         0   \n",
       "4                                      0                         0   \n",
       "...                                  ...                       ...   \n",
       "9294                                   1                         0   \n",
       "9295                                   0                         0   \n",
       "9296                                   0                         0   \n",
       "9297                                   0                         0   \n",
       "9298                                   0                         0   \n",
       "\n",
       "      Sector_Water/Waste  Default_Rate_Group_Standard  \\\n",
       "0                      0                            1   \n",
       "1                      0                            1   \n",
       "2                      0                            1   \n",
       "3                      0                            1   \n",
       "4                      0                            1   \n",
       "...                  ...                          ...   \n",
       "9294                   0                            0   \n",
       "9295                   0                            0   \n",
       "9296                   0                            0   \n",
       "9297                   0                            0   \n",
       "9298                   0                            0   \n",
       "\n",
       "      Manager_Team_Group - Support Services  Manager_Team_NZ  \\\n",
       "0                                         0                0   \n",
       "1                                         0                0   \n",
       "2                                         0                0   \n",
       "3                                         0                0   \n",
       "4                                         0                0   \n",
       "...                                     ...              ...   \n",
       "9294                                      0                0   \n",
       "9295                                      0                0   \n",
       "9296                                      0                0   \n",
       "9297                                      0                0   \n",
       "9298                                      0                0   \n",
       "\n",
       "      Manager_Team_QLD  Manager_Team_SA  Manager_Team_VIC  Manager_Team_WA  \\\n",
       "0                    0                1                 0                0   \n",
       "1                    0                1                 0                0   \n",
       "2                    0                1                 0                0   \n",
       "3                    0                1                 0                0   \n",
       "4                    0                1                 0                0   \n",
       "...                ...              ...               ...              ...   \n",
       "9294                 0                1                 0                0   \n",
       "9295                 0                0                 1                0   \n",
       "9296                 0                0                 0                1   \n",
       "9297                 0                0                 1                0   \n",
       "9298                 0                0                 1                0   \n",
       "\n",
       "      Director_Team_Group - Support Services  Director_Team_NZ  \\\n",
       "0                                          0                 0   \n",
       "1                                          0                 0   \n",
       "2                                          0                 0   \n",
       "3                                          0                 0   \n",
       "4                                          0                 0   \n",
       "...                                      ...               ...   \n",
       "9294                                       0                 0   \n",
       "9295                                       0                 0   \n",
       "9296                                       0                 0   \n",
       "9297                                       0                 0   \n",
       "9298                                       0                 0   \n",
       "\n",
       "      Director_Team_QLD  Director_Team_SA  Director_Team_VIC  Director_Team_WA  \n",
       "0                     0                 1                  0                 0  \n",
       "1                     0                 1                  0                 0  \n",
       "2                     0                 1                  0                 0  \n",
       "3                     0                 1                  0                 0  \n",
       "4                     0                 1                  0                 0  \n",
       "...                 ...               ...                ...               ...  \n",
       "9294                  0                 1                  0                 0  \n",
       "9295                  0                 0                  1                 0  \n",
       "9296                  0                 1                  0                 0  \n",
       "9297                  0                 0                  1                 0  \n",
       "9298                  0                 0                  1                 0  \n",
       "\n",
       "[9299 rows x 62 columns]"
      ]
     },
     "execution_count": 140,
     "metadata": {},
     "output_type": "execute_result"
    }
   ],
   "source": [
    "df_extended = pd.get_dummies(df, prefix=None, prefix_sep='_', dummy_na=False, columns=None, sparse=False, drop_first=True, dtype=None)\n",
    "df_extended"
   ]
  },
  {
   "cell_type": "markdown",
   "metadata": {},
   "source": [
    "#### 3.5.2 <a class=\"anchor\" id=\"3_5_2\"></a> Label encoding"
   ]
  },
  {
   "cell_type": "code",
   "execution_count": 141,
   "metadata": {},
   "outputs": [],
   "source": [
    "le = LabelEncoder()\n",
    "df['Country'] = le.fit_transform(df['Country'])\n",
    "df['Office'] = le.fit_transform(df['Office'])\n",
    "df['Sector'] = le.fit_transform(df['Sector'])\n",
    "df['Default_Rate_Group'] = le.fit_transform(df['Default_Rate_Group'])\n",
    "df['Manager_Team'] = le.fit_transform(df['Manager_Team'])\n",
    "df['Director_Team'] = le.fit_transform(df['Director_Team'])\n",
    "df['Director_Is_Recent'] = df['Director_Is_Recent']*1\n",
    "df['Delivered_on_Time'] = df['Delivered_on_Time']*1"
   ]
  },
  {
   "cell_type": "markdown",
   "metadata": {},
   "source": [
    "## Part 4: <a class=\"anchor\" id=\"part4\"></a> Exploratory data analysis"
   ]
  },
  {
   "cell_type": "markdown",
   "metadata": {},
   "source": [
    "### 4.1 <a class=\"anchor\" id=\"4_1\"></a> Target variables"
   ]
  },
  {
   "cell_type": "code",
   "execution_count": 142,
   "metadata": {},
   "outputs": [
    {
     "data": {
      "text/html": [
       "<div>\n",
       "<style scoped>\n",
       "    .dataframe tbody tr th:only-of-type {\n",
       "        vertical-align: middle;\n",
       "    }\n",
       "\n",
       "    .dataframe tbody tr th {\n",
       "        vertical-align: top;\n",
       "    }\n",
       "\n",
       "    .dataframe thead th {\n",
       "        text-align: right;\n",
       "    }\n",
       "</style>\n",
       "<table border=\"1\" class=\"dataframe\">\n",
       "  <thead>\n",
       "    <tr style=\"text-align: right;\">\n",
       "      <th></th>\n",
       "      <th>Avg_Rec</th>\n",
       "      <th>Avg_Profit</th>\n",
       "      <th>Rec_Class</th>\n",
       "      <th>Profit_Class</th>\n",
       "    </tr>\n",
       "  </thead>\n",
       "  <tbody>\n",
       "    <tr>\n",
       "      <th>0</th>\n",
       "      <td>0.901941</td>\n",
       "      <td>0.431859</td>\n",
       "      <td>2</td>\n",
       "      <td>1</td>\n",
       "    </tr>\n",
       "    <tr>\n",
       "      <th>1</th>\n",
       "      <td>1.000000</td>\n",
       "      <td>0.000000</td>\n",
       "      <td>2</td>\n",
       "      <td>0</td>\n",
       "    </tr>\n",
       "    <tr>\n",
       "      <th>2</th>\n",
       "      <td>0.832050</td>\n",
       "      <td>0.554700</td>\n",
       "      <td>2</td>\n",
       "      <td>1</td>\n",
       "    </tr>\n",
       "    <tr>\n",
       "      <th>3</th>\n",
       "      <td>0.782964</td>\n",
       "      <td>0.622067</td>\n",
       "      <td>2</td>\n",
       "      <td>1</td>\n",
       "    </tr>\n",
       "    <tr>\n",
       "      <th>4</th>\n",
       "      <td>1.000000</td>\n",
       "      <td>0.000000</td>\n",
       "      <td>2</td>\n",
       "      <td>0</td>\n",
       "    </tr>\n",
       "    <tr>\n",
       "      <th>...</th>\n",
       "      <td>...</td>\n",
       "      <td>...</td>\n",
       "      <td>...</td>\n",
       "      <td>...</td>\n",
       "    </tr>\n",
       "    <tr>\n",
       "      <th>9294</th>\n",
       "      <td>0.853686</td>\n",
       "      <td>0.520788</td>\n",
       "      <td>2</td>\n",
       "      <td>1</td>\n",
       "    </tr>\n",
       "    <tr>\n",
       "      <th>9295</th>\n",
       "      <td>0.853686</td>\n",
       "      <td>0.520788</td>\n",
       "      <td>2</td>\n",
       "      <td>1</td>\n",
       "    </tr>\n",
       "    <tr>\n",
       "      <th>9296</th>\n",
       "      <td>0.853686</td>\n",
       "      <td>0.520788</td>\n",
       "      <td>2</td>\n",
       "      <td>1</td>\n",
       "    </tr>\n",
       "    <tr>\n",
       "      <th>9297</th>\n",
       "      <td>0.853686</td>\n",
       "      <td>0.520788</td>\n",
       "      <td>2</td>\n",
       "      <td>1</td>\n",
       "    </tr>\n",
       "    <tr>\n",
       "      <th>9298</th>\n",
       "      <td>0.853686</td>\n",
       "      <td>0.520788</td>\n",
       "      <td>2</td>\n",
       "      <td>1</td>\n",
       "    </tr>\n",
       "  </tbody>\n",
       "</table>\n",
       "<p>9299 rows × 4 columns</p>\n",
       "</div>"
      ],
      "text/plain": [
       "       Avg_Rec  Avg_Profit  Rec_Class  Profit_Class\n",
       "0     0.901941    0.431859          2             1\n",
       "1     1.000000    0.000000          2             0\n",
       "2     0.832050    0.554700          2             1\n",
       "3     0.782964    0.622067          2             1\n",
       "4     1.000000    0.000000          2             0\n",
       "...        ...         ...        ...           ...\n",
       "9294  0.853686    0.520788          2             1\n",
       "9295  0.853686    0.520788          2             1\n",
       "9296  0.853686    0.520788          2             1\n",
       "9297  0.853686    0.520788          2             1\n",
       "9298  0.853686    0.520788          2             1\n",
       "\n",
       "[9299 rows x 4 columns]"
      ]
     },
     "execution_count": 142,
     "metadata": {},
     "output_type": "execute_result"
    }
   ],
   "source": [
    "all_bins = pd.DataFrame(df, columns = ['Avg_Rec', 'Avg_Profit'])\n",
    "bins_prep = pd.merge(all_bins, rec_class_df,  how='left', on='Avg_Rec')\n",
    "bins_prep = pd.merge(bins_prep, pr_class_df,  how='left', on='Avg_Profit')\n",
    "bins_prep"
   ]
  },
  {
   "cell_type": "code",
   "execution_count": 143,
   "metadata": {},
   "outputs": [
    {
     "data": {
      "text/plain": [
       "1    4529\n",
       "2    4483\n",
       "0     287\n",
       "Name: Rec_Class, dtype: int64"
      ]
     },
     "execution_count": 143,
     "metadata": {},
     "output_type": "execute_result"
    }
   ],
   "source": [
    "bins_prep['Rec_Class'].value_counts()"
   ]
  },
  {
   "cell_type": "code",
   "execution_count": 144,
   "metadata": {},
   "outputs": [],
   "source": [
    "rec_classes = pd.DataFrame({'categories': ['unrecoverable', 'average', 'highly recoverable'],\n",
    "                              'project_count': [287, 4529, 4815]})"
   ]
  },
  {
   "cell_type": "code",
   "execution_count": 145,
   "metadata": {},
   "outputs": [
    {
     "data": {
      "text/plain": [
       "Text(0.5, 0, 'Recoverability category')"
      ]
     },
     "execution_count": 145,
     "metadata": {},
     "output_type": "execute_result"
    },
    {
     "data": {
      "image/png": "[encoded data removed]",
      "text/plain": [
       "<Figure size 1152x504 with 1 Axes>"
      ]
     },
     "metadata": {
      "needs_background": "light"
     },
     "output_type": "display_data"
    }
   ],
   "source": [
    "plt.figure(figsize=(16,7))\n",
    "ax = sns.barplot(x = 'categories', y = 'project_count', data = rec_classes)\n",
    "plt.title('Number of projects in each recoverability class', fontsize=24)\n",
    "plt.ylabel('Number of projects', fontsize=18)\n",
    "plt.xlabel('Recoverability category', fontsize=18)"
   ]
  },
  {
   "cell_type": "code",
   "execution_count": 146,
   "metadata": {},
   "outputs": [
    {
     "data": {
      "text/plain": [
       "2    4815\n",
       "1    3783\n",
       "0     701\n",
       "Name: Profit_Class, dtype: int64"
      ]
     },
     "execution_count": 146,
     "metadata": {},
     "output_type": "execute_result"
    }
   ],
   "source": [
    "bins_prep['Profit_Class'].value_counts()"
   ]
  },
  {
   "cell_type": "code",
   "execution_count": 147,
   "metadata": {},
   "outputs": [],
   "source": [
    "pr_classes = pd.DataFrame({'categories': ['unprofitable', 'average', 'highly profitable'],\n",
    "                              'project_count': [701, 4115, 4815]})"
   ]
  },
  {
   "cell_type": "code",
   "execution_count": 148,
   "metadata": {},
   "outputs": [
    {
     "data": {
      "text/plain": [
       "Text(0.5, 0, 'Profitability category')"
      ]
     },
     "execution_count": 148,
     "metadata": {},
     "output_type": "execute_result"
    },
    {
     "data": {
      "image/png": "[encoded data removed]",
      "text/plain": [
       "<Figure size 1152x504 with 1 Axes>"
      ]
     },
     "metadata": {
      "needs_background": "light"
     },
     "output_type": "display_data"
    }
   ],
   "source": [
    "plt.figure(figsize=(16,7))\n",
    "ax = sns.barplot(x = 'categories', y = 'project_count', data = pr_classes)\n",
    "plt.title('Number of projects in each profitability class', fontsize=24)\n",
    "plt.ylabel('Number of projects', fontsize=18)\n",
    "plt.xlabel('Profitability category', fontsize=18)"
   ]
  },
  {
   "cell_type": "markdown",
   "metadata": {},
   "source": [
    "### 4.2 <a class=\"anchor\" id=\"4_2\"></a> Extended dataframe"
   ]
  },
  {
   "cell_type": "code",
   "execution_count": 149,
   "metadata": {},
   "outputs": [
    {
     "name": "stderr",
     "output_type": "stream",
     "text": [
      "C:\\Users\\MarfaPopova\\AppData\\Local\\Temp\\ipykernel_13448\\1043530953.py:8: MatplotlibDeprecationWarning: The 'b' parameter of grid() has been renamed 'visible' since Matplotlib 3.5; support for the old name will be dropped two minor releases later.\n",
      "  plt.grid(b=True, color='#f68c1f', alpha=0.1)\n"
     ]
    },
    {
     "data": {
      "image/png": "[encoded data removed]",
      "text/plain": [
       "<Figure size 864x720 with 2 Axes>"
      ]
     },
     "metadata": {
      "needs_background": "light"
     },
     "output_type": "display_data"
    }
   ],
   "source": [
    "X = df_extended.drop(['Avg_Rec', 'Avg_Profit', 'Rec_Class', 'Profit_Class'], axis = 1).copy()\n",
    "X['Avg_Rec'] = df['Avg_Rec']\n",
    "\n",
    "corr = X.corr()\n",
    "plt.figure(figsize = (12,10))\n",
    "\n",
    "sns.heatmap(round(corr, 3), vmin=-1, vmax=1, cmap='YlGnBu', linewidths=.2)\n",
    "plt.grid(b=True, color='#f68c1f', alpha=0.1)\n",
    "plt.show()"
   ]
  },
  {
   "cell_type": "markdown",
   "metadata": {},
   "source": [
    "### 4.3 <a class=\"anchor\" id=\"4_3\"></a> Compact dataframe"
   ]
  },
  {
   "cell_type": "code",
   "execution_count": 153,
   "metadata": {},
   "outputs": [
    {
     "name": "stderr",
     "output_type": "stream",
     "text": [
      "C:\\Users\\MarfaPopova\\AppData\\Local\\Temp\\ipykernel_13448\\448219302.py:8: MatplotlibDeprecationWarning: The 'b' parameter of grid() has been renamed 'visible' since Matplotlib 3.5; support for the old name will be dropped two minor releases later.\n",
      "  plt.grid(b=True, color='#f68c1f', alpha=0.1)\n"
     ]
    },
    {
     "data": {
      "image/png": "[encoded data removed]",
      "text/plain": [
       "<Figure size 864x720 with 2 Axes>"
      ]
     },
     "metadata": {
      "needs_background": "light"
     },
     "output_type": "display_data"
    }
   ],
   "source": [
    "X = df.drop(['Avg_Rec', 'Avg_Profit', 'Rec_Class', 'Profit_Class'], axis = 1).copy()\n",
    "X['Avg_Rec'] = df['Avg_Rec']\n",
    "\n",
    "corr = X.corr()\n",
    "plt.figure(figsize = (12,10))\n",
    "\n",
    "sns.heatmap(round(corr, 3), vmin=-1, vmax=1, cmap='YlGnBu', linewidths=.2)\n",
    "plt.grid(b=True, color='#f68c1f', alpha=0.1)\n",
    "plt.show()"
   ]
  },
  {
   "cell_type": "code",
   "execution_count": 154,
   "metadata": {},
   "outputs": [
    {
     "name": "stdout",
     "output_type": "stream",
     "text": [
      "Director_Empl_Months  Sector                    -0.438896\n",
      "Director_Team         Sector                    -0.358693\n",
      "Manager_Empl_Months   Manager_Is_Recent         -0.281878\n",
      "                      Manager_ID                -0.266675\n",
      "Manager_ID            Default_Rate_Group        -0.254002\n",
      "                                                   ...   \n",
      "Total_Num_Stages      Project_Size_Sort_Order    0.581123\n",
      "Director_Team         Office                     0.650240\n",
      "Director_Is_Recent    Director_ID                0.735133\n",
      "Total_Data_Issues     Total_Num_Stages           0.911368\n",
      "Suffered_Data_Loss    Is_Front_Loaded            1.000000\n",
      "Length: 276, dtype: float64\n"
     ]
    },
    {
     "name": "stderr",
     "output_type": "stream",
     "text": [
      "C:\\Users\\MarfaPopova\\AppData\\Local\\Temp\\ipykernel_13448\\3050897398.py:7: DeprecationWarning: `np.bool` is a deprecated alias for the builtin `bool`. To silence this warning, use `bool` by itself. Doing this will not modify any behavior and is safe. If you specifically wanted the numpy scalar type, use `np.bool_` here.\n",
      "Deprecated in NumPy 1.20; for more details and guidance: https://numpy.org/devdocs/release/1.20.0-notes.html#deprecations\n",
      "  upper_corr_mat = corr_mat.where(np.triu(np.ones(corr_mat.shape), k=1).astype(np.bool))\n"
     ]
    }
   ],
   "source": [
    "# URL: https://www.geeksforgeeks.org/sort-correlation-matrix-in-python/\n",
    "\n",
    "# Create correlation matrix\n",
    "corr_mat = X.corr(method='pearson')\n",
    "  \n",
    "# Retain upper triangular values of correlation matrix and make Lower triangular values Null\n",
    "upper_corr_mat = corr_mat.where(np.triu(np.ones(corr_mat.shape), k=1).astype(np.bool))\n",
    "  \n",
    "# Convert to 1-D series and drop Null values\n",
    "unique_corr_pairs = upper_corr_mat.unstack().dropna()\n",
    "  \n",
    "# Sort correlation pairs\n",
    "sorted_mat = unique_corr_pairs.sort_values()\n",
    "print(sorted_mat)"
   ]
  },
  {
   "cell_type": "markdown",
   "metadata": {},
   "source": [
    "### 4.4 <a class=\"anchor\" id=\"4_4\"></a> Outliers"
   ]
  },
  {
   "cell_type": "code",
   "execution_count": 155,
   "metadata": {},
   "outputs": [
    {
     "name": "stdout",
     "output_type": "stream",
     "text": [
      "Percentiles: 25th=0.649, 75th=0.827, IQR=0.178\n",
      "Identified outliers: 315\n",
      "Non-outlier observations: 8984\n"
     ]
    }
   ],
   "source": [
    "# URL: https://machinelearningmastery.com/how-to-use-statistics-to-identify-outliers-in-data/\n",
    "\n",
    "# seed the random number generator\n",
    "seed(1)\n",
    "\n",
    "# calculate interquartile range\n",
    "q25, q75 = percentile(df['Avg_Rec'], 25), percentile(df['Avg_Rec'], 75)\n",
    "iqr = q75 - q25\n",
    "print('Percentiles: 25th=%.3f, 75th=%.3f, IQR=%.3f' % (q25, q75, iqr))\n",
    "# calculate the outlier cutoff\n",
    "cut_off = iqr * 1.5\n",
    "lower, upper = q25 - cut_off, q75 + cut_off\n",
    "# identify outliers\n",
    "outliers = [x for x in df['Avg_Rec'] if x < lower or x > upper]\n",
    "print('Identified outliers: %d' % len(outliers))\n",
    "# remove outliers\n",
    "outliers_removed = [x for x in df['Avg_Rec'] if x >= lower and x <= upper]\n",
    "print('Non-outlier observations: %d' % len(outliers_removed))"
   ]
  },
  {
   "cell_type": "code",
   "execution_count": 156,
   "metadata": {},
   "outputs": [
    {
     "name": "stdout",
     "output_type": "stream",
     "text": [
      "Percentiles: 25th=0.562, 75th=0.761, IQR=0.199\n",
      "Identified outliers: 751\n",
      "Non-outlier observations: 8548\n"
     ]
    }
   ],
   "source": [
    "# seed the random number generator\n",
    "seed(1)\n",
    "\n",
    "# calculate interquartile range\n",
    "q25, q75 = percentile(df['Avg_Profit'], 25), percentile(df['Avg_Profit'], 75)\n",
    "iqr = q75 - q25\n",
    "print('Percentiles: 25th=%.3f, 75th=%.3f, IQR=%.3f' % (q25, q75, iqr))\n",
    "# calculate the outlier cutoff\n",
    "cut_off = iqr * 1.5\n",
    "lower, upper = q25 - cut_off, q75 + cut_off\n",
    "# identify outliers\n",
    "outliers = [x for x in df['Avg_Profit'] if x < lower or x > upper]\n",
    "print('Identified outliers: %d' % len(outliers))\n",
    "# remove outliers\n",
    "outliers_removed = [x for x in df['Avg_Profit'] if x >= lower and x <= upper]\n",
    "print('Non-outlier observations: %d' % len(outliers_removed))"
   ]
  },
  {
   "cell_type": "code",
   "execution_count": 157,
   "metadata": {},
   "outputs": [],
   "source": [
    "#URL: https://stats.stackexchange.com/questions/155028/how-to-systematically-remove-collinear-variables-pandas-columns-in-python\n",
    "from statsmodels.stats.outliers_influence import variance_inflation_factor    \n",
    "\n",
    "def calculate_vif_(X, thresh=5.0):\n",
    "    variables = list(range(X.shape[1]))\n",
    "    dropped = True\n",
    "    while dropped:\n",
    "        dropped = False\n",
    "        vif = [variance_inflation_factor(X.iloc[:, variables].values, ix)\n",
    "               for ix in range(X.iloc[:, variables].shape[1])]\n",
    "\n",
    "        maxloc = vif.index(max(vif))\n",
    "        if max(vif) > thresh:\n",
    "            print('dropping \\'' + X.iloc[:, variables].columns[maxloc] +\n",
    "                  '\\' at index: ' + str(maxloc))\n",
    "            del variables[maxloc]\n",
    "            dropped = True\n",
    "\n",
    "    print('Remaining variables:')\n",
    "    print(X.columns[variables])\n",
    "    return X.iloc[:, variables]"
   ]
  },
  {
   "cell_type": "code",
   "execution_count": 159,
   "metadata": {},
   "outputs": [],
   "source": [
    "df.to_csv('../csv-files/multiclass_data.csv', index=False)"
   ]
  }
 ],
 "metadata": {
  "interpreter": {
   "hash": "32faf87829e52f10b3379fa51fb017496aba8a2082e84bf41be67a5b199752f4"
  },
  "kernelspec": {
   "display_name": "Python 3.10.2 ('venv': venv)",
   "language": "python",
   "name": "python3"
  },
  "language_info": {
   "codemirror_mode": {
    "name": "ipython",
    "version": 3
   },
   "file_extension": ".py",
   "mimetype": "text/x-python",
   "name": "python",
   "nbconvert_exporter": "python",
   "pygments_lexer": "ipython3",
   "version": "3.10.2"
  },
  "orig_nbformat": 4
 },
 "nbformat": 4,
 "nbformat_minor": 2
}
