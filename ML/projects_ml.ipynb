{
 "cells": [
  {
   "cell_type": "markdown",
   "metadata": {},
   "source": [
    "<h1 align=\"center\">MSIN0114: Business Analytics Consulting Project</h1>\n",
    "<h2 align=\"center\">S2R Analytics</h2>"
   ]
  },
  {
   "cell_type": "markdown",
   "metadata": {},
   "source": [
    "# Table of Contents\n",
    "\n",
    "**Predictive analytics (ML pipeline)**\n",
    "\n",
    "* [Part 3](#part3): Preprocessing\n",
    "    * [3.1](#3_1): Missing values\n",
    "    * [3.2](#3_2): Outliers\n",
    "    * [3.3](#3_3): Conversion\n",
    "    * [3.4](#3_4): Scaling\n",
    "    * [3.5](#3_5): Feature engineering\n",
    "    * [3.6](#3_6): Encoding\n",
    "<br />\n",
    "<br />\n",
    "* [Part 4](#part4): Exploratory data analysis\n",
    "* [Part 5](#part5): Model training\n",
    "    * [5.1](#5_1): Splitting\n",
    "<br />\n",
    "<br />\n",
    "* [Part 6](#part6): Performance evaluation\n",
    "* [Part 7](#part7): Feature importance and statistical tests\n",
    "* [Part 8](#part8): Converting the output\n",
    "* [Part 9](#part9): Pipeline creation"
   ]
  },
  {
   "cell_type": "markdown",
   "metadata": {},
   "source": [
    "## Notebook Setup"
   ]
  },
  {
   "cell_type": "code",
   "execution_count": 1,
   "metadata": {},
   "outputs": [],
   "source": [
    "#Essentials\n",
    "import pandas as pd\n",
    "from pandas import Series, DataFrame\n",
    "from pandas.api.types import CategoricalDtype\n",
    "pd.options.display.max_columns = None\n",
    "import sqlite3\n",
    "import pyodbc\n",
    "import numpy as np\n",
    "\n",
    "#Image creation and display\n",
    "import seaborn as sns\n",
    "import matplotlib.pyplot as plt\n",
    "import matplotlib.ticker as mtick\n",
    "import matplotlib.patches as mpatches\n",
    "from matplotlib import pyplot\n",
    "import plotly.express as px\n",
    "import plotly.graph_objects as go\n",
    "#from image import image, display\n",
    "\n",
    "#Preprocessing\n",
    "from sklearn import preprocessing\n",
    "from sklearn.model_selection import train_test_split\n",
    "from sklearn.preprocessing import StandardScaler\n",
    "from sklearn.preprocessing import MinMaxScaler\n",
    "from sklearn.preprocessing import LabelEncoder\n",
    "from sklearn.compose import ColumnTransformer\n",
    "from sklearn.compose import make_column_transformer\n",
    "from sklearn.pipeline import Pipeline\n",
    "from sklearn.pipeline import make_pipeline\n",
    "\n",
    "#Models\n",
    "from sklearn.linear_model import LogisticRegression\n",
    "from sklearn.neighbors import KNeighborsClassifier\n",
    "from sklearn.tree import DecisionTreeClassifier\n",
    "from sklearn.ensemble import RandomForestClassifier\n",
    "from xgboost import XGBClassifier\n",
    "from sklearn.svm import SVC\n",
    "from sklearn import svm\n",
    "from sklearn.naive_bayes import GaussianNB\n",
    "from sklearn.base import clone\n",
    "from sklearn.ensemble import StackingClassifier\n",
    "from sklearn.ensemble import BaggingClassifier\n",
    "\n",
    "#Other\n",
    "import itertools as it\n",
    "import io\n",
    "import os\n",
    "os.sys.path\n",
    "import sys\n",
    "import glob\n",
    "import concurrent.futures\n",
    "from __future__ import print_function\n",
    "import binascii\n",
    "import struct\n",
    "from PIL import Image\n",
    "import scipy\n",
    "import scipy.misc\n",
    "import scipy.cluster\n",
    "import datetime, time\n",
    "import functools, operator\n",
    "from datetime import datetime\n",
    "from numpy.random import seed\n",
    "from numpy.random import randn\n",
    "from numpy import percentile"
   ]
  },
  {
   "cell_type": "code",
   "execution_count": 2,
   "metadata": {},
   "outputs": [
    {
     "data": {
      "text/html": [
       "<div>\n",
       "<style scoped>\n",
       "    .dataframe tbody tr th:only-of-type {\n",
       "        vertical-align: middle;\n",
       "    }\n",
       "\n",
       "    .dataframe tbody tr th {\n",
       "        vertical-align: top;\n",
       "    }\n",
       "\n",
       "    .dataframe thead th {\n",
       "        text-align: right;\n",
       "    }\n",
       "</style>\n",
       "<table border=\"1\" class=\"dataframe\">\n",
       "  <thead>\n",
       "    <tr style=\"text-align: right;\">\n",
       "      <th></th>\n",
       "      <th>Project_ID</th>\n",
       "      <th>Country</th>\n",
       "      <th>Office</th>\n",
       "      <th>Sector</th>\n",
       "      <th>Project_Size_Sort_Order</th>\n",
       "      <th>Project_Duration_Weeks</th>\n",
       "      <th>Total_Num_Stages</th>\n",
       "      <th>Is_Multi_Discipline_Project</th>\n",
       "      <th>Is_First_Client_Project</th>\n",
       "      <th>Default_Rate_Group</th>\n",
       "      <th>Perc_of_Stages_with_Fixed_Fee</th>\n",
       "      <th>Manager_Is_Recent</th>\n",
       "      <th>Project_Director</th>\n",
       "      <th>Perc_of_Subcontractors</th>\n",
       "      <th>Is_Front_Loaded</th>\n",
       "      <th>Delivered_on_Time</th>\n",
       "      <th>Total_Data_Issues</th>\n",
       "      <th>Avg_Rec</th>\n",
       "      <th>Avg_Profit</th>\n",
       "      <th>Staff_ID</th>\n",
       "      <th>Synergy_Team</th>\n",
       "      <th>Employment_Total_Months</th>\n",
       "    </tr>\n",
       "  </thead>\n",
       "  <tbody>\n",
       "    <tr>\n",
       "      <th>0</th>\n",
       "      <td>367704</td>\n",
       "      <td>Australia</td>\n",
       "      <td>Whyalla</td>\n",
       "      <td>Ports &amp; Marine</td>\n",
       "      <td>4.0</td>\n",
       "      <td>4.0</td>\n",
       "      <td>5.0</td>\n",
       "      <td>False</td>\n",
       "      <td>True</td>\n",
       "      <td>Standard</td>\n",
       "      <td>0.80</td>\n",
       "      <td>False</td>\n",
       "      <td>Mark Gilbert</td>\n",
       "      <td>0.0</td>\n",
       "      <td>True</td>\n",
       "      <td>True</td>\n",
       "      <td>2.0</td>\n",
       "      <td>2.070711</td>\n",
       "      <td>0.991479</td>\n",
       "      <td>7612852.0</td>\n",
       "      <td>SA - Industrial</td>\n",
       "      <td>117.0</td>\n",
       "    </tr>\n",
       "    <tr>\n",
       "      <th>1</th>\n",
       "      <td>367705</td>\n",
       "      <td>Australia</td>\n",
       "      <td>WGASA Pty Ltd</td>\n",
       "      <td>Civic &amp; Education Buildings</td>\n",
       "      <td>1.0</td>\n",
       "      <td>238.0</td>\n",
       "      <td>4.0</td>\n",
       "      <td>False</td>\n",
       "      <td>True</td>\n",
       "      <td>Standard</td>\n",
       "      <td>0.00</td>\n",
       "      <td>False</td>\n",
       "      <td>Geoff Wallbridge</td>\n",
       "      <td>0.0</td>\n",
       "      <td>False</td>\n",
       "      <td>True</td>\n",
       "      <td>2.0</td>\n",
       "      <td>1.926671</td>\n",
       "      <td>0.000000</td>\n",
       "      <td>7612773.0</td>\n",
       "      <td>SA - Buildings</td>\n",
       "      <td>310.0</td>\n",
       "    </tr>\n",
       "    <tr>\n",
       "      <th>2</th>\n",
       "      <td>367706</td>\n",
       "      <td>Australia</td>\n",
       "      <td>WGASA Pty Ltd</td>\n",
       "      <td>Civic &amp; Education Buildings</td>\n",
       "      <td>1.0</td>\n",
       "      <td>0.0</td>\n",
       "      <td>2.0</td>\n",
       "      <td>False</td>\n",
       "      <td>True</td>\n",
       "      <td>Standard</td>\n",
       "      <td>0.00</td>\n",
       "      <td>False</td>\n",
       "      <td>Loreto Taglienti</td>\n",
       "      <td>0.0</td>\n",
       "      <td>False</td>\n",
       "      <td>True</td>\n",
       "      <td>0.0</td>\n",
       "      <td>1.936449</td>\n",
       "      <td>1.290966</td>\n",
       "      <td>7612773.0</td>\n",
       "      <td>SA - Buildings</td>\n",
       "      <td>310.0</td>\n",
       "    </tr>\n",
       "    <tr>\n",
       "      <th>3</th>\n",
       "      <td>367707</td>\n",
       "      <td>Australia</td>\n",
       "      <td>WGASA Pty Ltd</td>\n",
       "      <td>Commercial &amp; Retail Buildings</td>\n",
       "      <td>3.0</td>\n",
       "      <td>121.0</td>\n",
       "      <td>4.0</td>\n",
       "      <td>False</td>\n",
       "      <td>True</td>\n",
       "      <td>Standard</td>\n",
       "      <td>0.25</td>\n",
       "      <td>False</td>\n",
       "      <td>Mark Gilbert</td>\n",
       "      <td>0.0</td>\n",
       "      <td>False</td>\n",
       "      <td>True</td>\n",
       "      <td>1.0</td>\n",
       "      <td>2.053392</td>\n",
       "      <td>1.631426</td>\n",
       "      <td>7612773.0</td>\n",
       "      <td>SA - Buildings</td>\n",
       "      <td>310.0</td>\n",
       "    </tr>\n",
       "    <tr>\n",
       "      <th>4</th>\n",
       "      <td>367708</td>\n",
       "      <td>Australia</td>\n",
       "      <td>WGASA Pty Ltd</td>\n",
       "      <td>Civic &amp; Education Buildings</td>\n",
       "      <td>7.0</td>\n",
       "      <td>2.0</td>\n",
       "      <td>6.0</td>\n",
       "      <td>False</td>\n",
       "      <td>True</td>\n",
       "      <td>Standard</td>\n",
       "      <td>0.00</td>\n",
       "      <td>False</td>\n",
       "      <td>Peter McBean</td>\n",
       "      <td>0.0</td>\n",
       "      <td>False</td>\n",
       "      <td>True</td>\n",
       "      <td>3.0</td>\n",
       "      <td>1.082860</td>\n",
       "      <td>0.000000</td>\n",
       "      <td>7612695.0</td>\n",
       "      <td>SA - Buildings</td>\n",
       "      <td>420.0</td>\n",
       "    </tr>\n",
       "    <tr>\n",
       "      <th>...</th>\n",
       "      <td>...</td>\n",
       "      <td>...</td>\n",
       "      <td>...</td>\n",
       "      <td>...</td>\n",
       "      <td>...</td>\n",
       "      <td>...</td>\n",
       "      <td>...</td>\n",
       "      <td>...</td>\n",
       "      <td>...</td>\n",
       "      <td>...</td>\n",
       "      <td>...</td>\n",
       "      <td>...</td>\n",
       "      <td>...</td>\n",
       "      <td>...</td>\n",
       "      <td>...</td>\n",
       "      <td>...</td>\n",
       "      <td>...</td>\n",
       "      <td>...</td>\n",
       "      <td>...</td>\n",
       "      <td>...</td>\n",
       "      <td>...</td>\n",
       "      <td>...</td>\n",
       "    </tr>\n",
       "    <tr>\n",
       "      <th>9750</th>\n",
       "      <td>1524776</td>\n",
       "      <td>Australia</td>\n",
       "      <td>WGAVIC Pty Ltd</td>\n",
       "      <td>Civic &amp; Education Buildings</td>\n",
       "      <td>1.0</td>\n",
       "      <td>1.0</td>\n",
       "      <td>3.0</td>\n",
       "      <td>False</td>\n",
       "      <td>False</td>\n",
       "      <td>Non-standard</td>\n",
       "      <td>0.67</td>\n",
       "      <td>False</td>\n",
       "      <td>James Brownlie</td>\n",
       "      <td>NaN</td>\n",
       "      <td>NaN</td>\n",
       "      <td>True</td>\n",
       "      <td>1.0</td>\n",
       "      <td>NaN</td>\n",
       "      <td>NaN</td>\n",
       "      <td>9501752.0</td>\n",
       "      <td>VIC - Traffic</td>\n",
       "      <td>11.0</td>\n",
       "    </tr>\n",
       "    <tr>\n",
       "      <th>9751</th>\n",
       "      <td>1529864</td>\n",
       "      <td>Australia</td>\n",
       "      <td>WGAWA Pty Ltd</td>\n",
       "      <td>Civic &amp; Education Buildings</td>\n",
       "      <td>1.0</td>\n",
       "      <td>1.0</td>\n",
       "      <td>2.0</td>\n",
       "      <td>False</td>\n",
       "      <td>False</td>\n",
       "      <td>Non-standard</td>\n",
       "      <td>0.50</td>\n",
       "      <td>False</td>\n",
       "      <td>James Davidson</td>\n",
       "      <td>NaN</td>\n",
       "      <td>NaN</td>\n",
       "      <td>NaN</td>\n",
       "      <td>1.0</td>\n",
       "      <td>NaN</td>\n",
       "      <td>NaN</td>\n",
       "      <td>7809410.0</td>\n",
       "      <td>WA - Civil</td>\n",
       "      <td>20.0</td>\n",
       "    </tr>\n",
       "    <tr>\n",
       "      <th>9752</th>\n",
       "      <td>1538446</td>\n",
       "      <td>Australia</td>\n",
       "      <td>WGAVIC Pty Ltd</td>\n",
       "      <td>Energy</td>\n",
       "      <td>1.0</td>\n",
       "      <td>3.0</td>\n",
       "      <td>1.0</td>\n",
       "      <td>False</td>\n",
       "      <td>False</td>\n",
       "      <td>Non-standard</td>\n",
       "      <td>1.00</td>\n",
       "      <td>False</td>\n",
       "      <td>Cameron Jackson (MPD)</td>\n",
       "      <td>NaN</td>\n",
       "      <td>NaN</td>\n",
       "      <td>True</td>\n",
       "      <td>0.0</td>\n",
       "      <td>NaN</td>\n",
       "      <td>NaN</td>\n",
       "      <td>7612860.0</td>\n",
       "      <td>VIC - Buildings</td>\n",
       "      <td>172.0</td>\n",
       "    </tr>\n",
       "    <tr>\n",
       "      <th>9753</th>\n",
       "      <td>1538447</td>\n",
       "      <td>Australia</td>\n",
       "      <td>WGAVIC Pty Ltd</td>\n",
       "      <td>Energy</td>\n",
       "      <td>1.0</td>\n",
       "      <td>4.0</td>\n",
       "      <td>1.0</td>\n",
       "      <td>False</td>\n",
       "      <td>False</td>\n",
       "      <td>Non-standard</td>\n",
       "      <td>1.00</td>\n",
       "      <td>False</td>\n",
       "      <td>Cameron Jackson (MPD)</td>\n",
       "      <td>NaN</td>\n",
       "      <td>NaN</td>\n",
       "      <td>True</td>\n",
       "      <td>1.0</td>\n",
       "      <td>NaN</td>\n",
       "      <td>NaN</td>\n",
       "      <td>7612860.0</td>\n",
       "      <td>VIC - Buildings</td>\n",
       "      <td>172.0</td>\n",
       "    </tr>\n",
       "    <tr>\n",
       "      <th>9754</th>\n",
       "      <td>1567895</td>\n",
       "      <td>Australia</td>\n",
       "      <td>WGASA Pty Ltd</td>\n",
       "      <td>Commercial &amp; Retail Buildings</td>\n",
       "      <td>NaN</td>\n",
       "      <td>1.0</td>\n",
       "      <td>NaN</td>\n",
       "      <td>NaN</td>\n",
       "      <td>NaN</td>\n",
       "      <td>Non-standard</td>\n",
       "      <td>NaN</td>\n",
       "      <td>False</td>\n",
       "      <td>Nick Lelos (MPD)</td>\n",
       "      <td>NaN</td>\n",
       "      <td>NaN</td>\n",
       "      <td>True</td>\n",
       "      <td>NaN</td>\n",
       "      <td>NaN</td>\n",
       "      <td>NaN</td>\n",
       "      <td>7612773.0</td>\n",
       "      <td>SA - Buildings</td>\n",
       "      <td>310.0</td>\n",
       "    </tr>\n",
       "  </tbody>\n",
       "</table>\n",
       "<p>9755 rows × 22 columns</p>\n",
       "</div>"
      ],
      "text/plain": [
       "      Project_ID    Country          Office                         Sector  \\\n",
       "0         367704  Australia         Whyalla                 Ports & Marine   \n",
       "1         367705  Australia   WGASA Pty Ltd    Civic & Education Buildings   \n",
       "2         367706  Australia   WGASA Pty Ltd    Civic & Education Buildings   \n",
       "3         367707  Australia   WGASA Pty Ltd  Commercial & Retail Buildings   \n",
       "4         367708  Australia   WGASA Pty Ltd    Civic & Education Buildings   \n",
       "...          ...        ...             ...                            ...   \n",
       "9750     1524776  Australia  WGAVIC Pty Ltd    Civic & Education Buildings   \n",
       "9751     1529864  Australia   WGAWA Pty Ltd    Civic & Education Buildings   \n",
       "9752     1538446  Australia  WGAVIC Pty Ltd                         Energy   \n",
       "9753     1538447  Australia  WGAVIC Pty Ltd                         Energy   \n",
       "9754     1567895  Australia   WGASA Pty Ltd  Commercial & Retail Buildings   \n",
       "\n",
       "      Project_Size_Sort_Order  Project_Duration_Weeks  Total_Num_Stages  \\\n",
       "0                         4.0                     4.0               5.0   \n",
       "1                         1.0                   238.0               4.0   \n",
       "2                         1.0                     0.0               2.0   \n",
       "3                         3.0                   121.0               4.0   \n",
       "4                         7.0                     2.0               6.0   \n",
       "...                       ...                     ...               ...   \n",
       "9750                      1.0                     1.0               3.0   \n",
       "9751                      1.0                     1.0               2.0   \n",
       "9752                      1.0                     3.0               1.0   \n",
       "9753                      1.0                     4.0               1.0   \n",
       "9754                      NaN                     1.0               NaN   \n",
       "\n",
       "     Is_Multi_Discipline_Project Is_First_Client_Project Default_Rate_Group  \\\n",
       "0                          False                    True           Standard   \n",
       "1                          False                    True           Standard   \n",
       "2                          False                    True           Standard   \n",
       "3                          False                    True           Standard   \n",
       "4                          False                    True           Standard   \n",
       "...                          ...                     ...                ...   \n",
       "9750                       False                   False       Non-standard   \n",
       "9751                       False                   False       Non-standard   \n",
       "9752                       False                   False       Non-standard   \n",
       "9753                       False                   False       Non-standard   \n",
       "9754                         NaN                     NaN       Non-standard   \n",
       "\n",
       "      Perc_of_Stages_with_Fixed_Fee Manager_Is_Recent       Project_Director  \\\n",
       "0                              0.80             False           Mark Gilbert   \n",
       "1                              0.00             False       Geoff Wallbridge   \n",
       "2                              0.00             False       Loreto Taglienti   \n",
       "3                              0.25             False           Mark Gilbert   \n",
       "4                              0.00             False           Peter McBean   \n",
       "...                             ...               ...                    ...   \n",
       "9750                           0.67             False         James Brownlie   \n",
       "9751                           0.50             False         James Davidson   \n",
       "9752                           1.00             False  Cameron Jackson (MPD)   \n",
       "9753                           1.00             False  Cameron Jackson (MPD)   \n",
       "9754                            NaN             False       Nick Lelos (MPD)   \n",
       "\n",
       "      Perc_of_Subcontractors Is_Front_Loaded Delivered_on_Time  \\\n",
       "0                        0.0            True              True   \n",
       "1                        0.0           False              True   \n",
       "2                        0.0           False              True   \n",
       "3                        0.0           False              True   \n",
       "4                        0.0           False              True   \n",
       "...                      ...             ...               ...   \n",
       "9750                     NaN             NaN              True   \n",
       "9751                     NaN             NaN               NaN   \n",
       "9752                     NaN             NaN              True   \n",
       "9753                     NaN             NaN              True   \n",
       "9754                     NaN             NaN              True   \n",
       "\n",
       "      Total_Data_Issues   Avg_Rec  Avg_Profit   Staff_ID     Synergy_Team  \\\n",
       "0                   2.0  2.070711    0.991479  7612852.0  SA - Industrial   \n",
       "1                   2.0  1.926671    0.000000  7612773.0   SA - Buildings   \n",
       "2                   0.0  1.936449    1.290966  7612773.0   SA - Buildings   \n",
       "3                   1.0  2.053392    1.631426  7612773.0   SA - Buildings   \n",
       "4                   3.0  1.082860    0.000000  7612695.0   SA - Buildings   \n",
       "...                 ...       ...         ...        ...              ...   \n",
       "9750                1.0       NaN         NaN  9501752.0    VIC - Traffic   \n",
       "9751                1.0       NaN         NaN  7809410.0       WA - Civil   \n",
       "9752                0.0       NaN         NaN  7612860.0  VIC - Buildings   \n",
       "9753                1.0       NaN         NaN  7612860.0  VIC - Buildings   \n",
       "9754                NaN       NaN         NaN  7612773.0   SA - Buildings   \n",
       "\n",
       "      Employment_Total_Months  \n",
       "0                       117.0  \n",
       "1                       310.0  \n",
       "2                       310.0  \n",
       "3                       310.0  \n",
       "4                       420.0  \n",
       "...                       ...  \n",
       "9750                     11.0  \n",
       "9751                     20.0  \n",
       "9752                    172.0  \n",
       "9753                    172.0  \n",
       "9754                    310.0  \n",
       "\n",
       "[9755 rows x 22 columns]"
      ]
     },
     "execution_count": 2,
     "metadata": {},
     "output_type": "execute_result"
    }
   ],
   "source": [
    "df = pd.read_csv('project_lvl.csv')\n",
    "df"
   ]
  },
  {
   "cell_type": "code",
   "execution_count": 3,
   "metadata": {},
   "outputs": [
    {
     "data": {
      "image/png": "[encoded data removed]",
      "text/plain": [
       "<Figure size 864x432 with 2 Axes>"
      ]
     },
     "metadata": {
      "needs_background": "light"
     },
     "output_type": "display_data"
    }
   ],
   "source": [
    "# Corelation matrix\n",
    "\n",
    "corr_matrix = df.corr().round(1)\n",
    "fig, ax = plt.subplots(figsize = (12, 6), ncols = 1, nrows = 1)\n",
    "fig.suptitle(\"Correlation matrix\",\n",
    "             color = \"#696969\",\n",
    "             weight = \"bold\",\n",
    "             size = 12)\n",
    "colors = sns.diverging_palette(37, 12.5, as_cmap = True)\n",
    "mask = np.triu(np.ones_like(corr_matrix, dtype=bool))\n",
    "labels = [name.capitalize().replace(\"_\", \" \") for name in corr_matrix.columns]\n",
    "\n",
    "ax = sns.heatmap(data = corr_matrix, \n",
    "                 mask = mask,\n",
    "                 vmin = -1,\n",
    "                 vmax = 1,\n",
    "                 square = True, \n",
    "                 annot = True,\n",
    "                 xticklabels = labels,\n",
    "                 yticklabels = labels,\n",
    "                 cmap = sns.diverging_palette(115, 220, l = 60, s = 90, sep = 10, as_cmap = True),\n",
    "                 cbar_kws = {\n",
    "                     \"orientation\" : \"vertical\", \n",
    "                     \"shrink\" : 1,\n",
    "                     \"aspect\" : 40})\n",
    "\n",
    "colorbar = ax.collections[0].colorbar\n",
    "colorbar.set_ticks([-1.0, 0, 1.0])"
   ]
  },
  {
   "cell_type": "markdown",
   "metadata": {},
   "source": [
    "## Part 3: <a class=\"anchor\" id=\"part3\"></a> Preprocessing"
   ]
  },
  {
   "cell_type": "markdown",
   "metadata": {},
   "source": [
    "### 3.1 <a class=\"anchor\" id=\"3_1\"></a> Missing values"
   ]
  },
  {
   "cell_type": "code",
   "execution_count": 4,
   "metadata": {},
   "outputs": [
    {
     "name": "stdout",
     "output_type": "stream",
     "text": [
      "Country 115\n",
      "Project_Size_Sort_Order 1\n",
      "Project_Duration_Weeks 456\n",
      "Total_Num_Stages 3\n",
      "Is_Multi_Discipline_Project 1\n",
      "Is_First_Client_Project 1\n",
      "Perc_of_Stages_with_Fixed_Fee 3\n",
      "Manager_Is_Recent 871\n",
      "Project_Director 1\n",
      "Perc_of_Subcontractors 595\n",
      "Is_Front_Loaded 275\n",
      "Delivered_on_Time 531\n",
      "Total_Data_Issues 3\n",
      "Avg_Rec 627\n",
      "Avg_Profit 627\n",
      "Staff_ID 435\n",
      "Synergy_Team 435\n",
      "Employment_Total_Months 435\n"
     ]
    }
   ],
   "source": [
    "# Number of columns having null values in the dataset\n",
    "cols = df.columns[df.isnull().any()].to_list()\n",
    "\n",
    "for c in cols:\n",
    "    print(c, df[c].isnull().sum())"
   ]
  },
  {
   "cell_type": "code",
   "execution_count": 5,
   "metadata": {},
   "outputs": [
    {
     "data": {
      "text/plain": [
       "22"
      ]
     },
     "execution_count": 5,
     "metadata": {},
     "output_type": "execute_result"
    }
   ],
   "source": [
    "len(df.columns)"
   ]
  },
  {
   "cell_type": "code",
   "execution_count": 6,
   "metadata": {},
   "outputs": [
    {
     "data": {
      "text/plain": [
       "22    8602\n",
       "18     496\n",
       "16     298\n",
       "15     117\n",
       "21     110\n",
       "17      91\n",
       "19      18\n",
       "13      15\n",
       "12       6\n",
       "20       1\n",
       "14       1\n",
       "Name: non_missing_count, dtype: int64"
      ]
     },
     "execution_count": 6,
     "metadata": {},
     "output_type": "execute_result"
    }
   ],
   "source": [
    "# URL: https://datascience.stackexchange.com/questions/12645/how-to-count-the-number-of-missing-values-in-each-row-in-pandas-dataframe\n",
    "df['non_missing_count'] = df.apply(lambda x: x.count(), axis=1)\n",
    "df['non_missing_count'].value_counts()"
   ]
  },
  {
   "cell_type": "markdown",
   "metadata": {},
   "source": [
    "Rows with more than 5 empty columns will be dropped, so the minimum number of non-missing columns per row should be 17."
   ]
  },
  {
   "cell_type": "code",
   "execution_count": 21,
   "metadata": {},
   "outputs": [
    {
     "name": "stdout",
     "output_type": "stream",
     "text": [
      "Minimum values each column should have is set to be at least half of the dataset, i.e. 18 rows.\n"
     ]
    }
   ],
   "source": [
    "print('Minimum values each column should have is set to be at least half of the dataset, i.e. '+ str(round(0.8 * len(df.columns)))+' rows.')"
   ]
  },
  {
   "cell_type": "code",
   "execution_count": 19,
   "metadata": {},
   "outputs": [
    {
     "data": {
      "text/plain": [
       "9227"
      ]
     },
     "execution_count": 19,
     "metadata": {},
     "output_type": "execute_result"
    }
   ],
   "source": [
    "df1 = df[(df['non_missing_count']) >= 18]\n",
    "len(df1)"
   ]
  },
  {
   "cell_type": "code",
   "execution_count": 20,
   "metadata": {},
   "outputs": [
    {
     "data": {
      "text/plain": [
       "528"
      ]
     },
     "execution_count": 20,
     "metadata": {},
     "output_type": "execute_result"
    }
   ],
   "source": [
    "len(df) - len(df1)"
   ]
  },
  {
   "cell_type": "code",
   "execution_count": 22,
   "metadata": {},
   "outputs": [
    {
     "name": "stdout",
     "output_type": "stream",
     "text": [
      "Country 115\n",
      "Project_Size_Sort_Order 1\n",
      "Project_Duration_Weeks 456\n",
      "Total_Num_Stages 3\n",
      "Is_Multi_Discipline_Project 1\n",
      "Is_First_Client_Project 1\n",
      "Perc_of_Stages_with_Fixed_Fee 3\n",
      "Manager_Is_Recent 871\n",
      "Project_Director 1\n",
      "Perc_of_Subcontractors 595\n",
      "Is_Front_Loaded 275\n",
      "Delivered_on_Time 531\n",
      "Total_Data_Issues 3\n",
      "Avg_Rec 627\n",
      "Avg_Profit 627\n",
      "Staff_ID 435\n",
      "Synergy_Team 435\n",
      "Employment_Total_Months 435\n"
     ]
    }
   ],
   "source": [
    "# Number of columns having null values in the dataset\n",
    "cols = df.columns[df.isnull().any()].to_list()\n",
    "\n",
    "for c in cols:\n",
    "    print(c, df[c].isnull().sum())"
   ]
  },
  {
   "cell_type": "code",
   "execution_count": null,
   "metadata": {},
   "outputs": [],
   "source": [
    "# Drop ID columns and those with too many missing values\n",
    "df = df1\n",
    "#df.drop(columns = ['Staff_ID', 'Project_Duration_Weeks', 'Delivered_on_Time'], inplace = True)\n",
    "\n",
    "# Replacing null values with the most frequent strings and booleans\n",
    "df['Country'].fillna(df['Country'].value_counts().idxmax(), inplace = True)\n",
    "df['Project_Director'].fillna(df['Project_Director'].value_counts().idxmax(), inplace = True)\n",
    "df['Is_First_Client_Project'].fillna(df['Is_First_Client_Project'].value_counts().idxmax(), inplace = True)\n",
    "df['Manager_Is_Recent'].fillna(df['Manager_Is_Recent'].value_counts().idxmax(), inplace = True)\n",
    "df['Is_Front_Loaded'].fillna(df['Is_Front_Loaded'].value_counts().idxmax(), inplace = True)\n",
    "df['Synergy_Team'].fillna(df['Synergy_Team'].value_counts().idxmax(), inplace = True)"
   ]
  },
  {
   "cell_type": "markdown",
   "metadata": {},
   "source": [
    "Whether to perform imputatipon of missed vakues with median or mean, always depends on your data and your task.\n",
    "If there is a dataset that have great outliers, I'll prefer median. E.x.: 99% of household income is below 100, and 1% is above 500.\n",
    "\n",
    "First, let's deal with small amoun of nulls. Check: df.boxplot('Perc_of_Stages_with_Fixed_Fee')"
   ]
  },
  {
   "cell_type": "code",
   "execution_count": null,
   "metadata": {},
   "outputs": [],
   "source": [
    "# Using median to impute the missing values\n",
    "missing_size = ['Project_Size_Sort_Order']\n",
    "for s in missing_size:\n",
    "    df.loc[df.loc[:,s].isnull(),s]=df.loc[:,s].median()\n",
    "\n",
    "missing_rec = ['Avg_Rec']\n",
    "for r in missing_rec:\n",
    "    df.loc[df.loc[:,r].isnull(),r]=df.loc[:,r].median()\n",
    "    \n",
    "missing_profit = ['Avg_Profit']\n",
    "for p in missing_profit:\n",
    "    df.loc[df.loc[:,p].isnull(),p]=int(df.loc[:,p].median())\n",
    "\n",
    "missing_subcontractors = ['Perc_of_Subcontractors']\n",
    "for s in missing_subcontractors:\n",
    "    df.loc[df.loc[:,s].isnull(),s]=int(df.loc[:,s].median())\n",
    "\n",
    "missing_months = ['Employment_Total_Months']\n",
    "for m in missing_months:\n",
    "    df.loc[df.loc[:,m].isnull(),m]=int(df.loc[:,m].median())\n",
    "\n",
    "missing_months = ['Employment_Total_Months']\n",
    "for m in missing_months:\n",
    "    df.loc[df.loc[:,m].isnull(),m]=int(df.loc[:,m].median())"
   ]
  },
  {
   "cell_type": "code",
   "execution_count": null,
   "metadata": {},
   "outputs": [],
   "source": [
    "# Verify the changes\n",
    "df.isnull().sum()"
   ]
  },
  {
   "cell_type": "code",
   "execution_count": null,
   "metadata": {},
   "outputs": [],
   "source": [
    "df.drop(columns = 'non_missing_count', inplace = True)\n",
    "df.head()"
   ]
  },
  {
   "cell_type": "markdown",
   "metadata": {},
   "source": [
    "### 3.2 <a class=\"anchor\" id=\"3_2\"></a> Outliers"
   ]
  },
  {
   "cell_type": "code",
   "execution_count": null,
   "metadata": {},
   "outputs": [],
   "source": [
    "# URL: https://machinelearningmastery.com/how-to-use-statistics-to-identify-outliers-in-data/\n",
    "\n",
    "# seed the random number generator\n",
    "seed(1)\n",
    "\n",
    "# calculate interquartile range\n",
    "q25, q75 = percentile(df['Avg_Rec'], 25), percentile(df['Avg_Rec'], 75)\n",
    "iqr = q75 - q25\n",
    "print('Percentiles: 25th=%.3f, 75th=%.3f, IQR=%.3f' % (q25, q75, iqr))\n",
    "# calculate the outlier cutoff\n",
    "cut_off = iqr * 1.5\n",
    "lower, upper = q25 - cut_off, q75 + cut_off\n",
    "# identify outliers\n",
    "outliers = [x for x in df['Avg_Rec'] if x < lower or x > upper]\n",
    "print('Identified outliers: %d' % len(outliers))\n",
    "# remove outliers\n",
    "outliers_removed = [x for x in df['Avg_Rec'] if x >= lower and x <= upper]\n",
    "print('Non-outlier observations: %d' % len(outliers_removed))"
   ]
  },
  {
   "cell_type": "code",
   "execution_count": null,
   "metadata": {},
   "outputs": [],
   "source": [
    "# seed the random number generator\n",
    "seed(1)\n",
    "\n",
    "# calculate interquartile range\n",
    "q25, q75 = percentile(df['Avg_Profit'], 25), percentile(df['Avg_Profit'], 75)\n",
    "iqr = q75 - q25\n",
    "print('Percentiles: 25th=%.3f, 75th=%.3f, IQR=%.3f' % (q25, q75, iqr))\n",
    "# calculate the outlier cutoff\n",
    "cut_off = iqr * 1.5\n",
    "lower, upper = q25 - cut_off, q75 + cut_off\n",
    "# identify outliers\n",
    "outliers = [x for x in df['Avg_Profit'] if x < lower or x > upper]\n",
    "print('Identified outliers: %d' % len(outliers))\n",
    "# remove outliers\n",
    "outliers_removed = [x for x in df['Avg_Profit'] if x >= lower and x <= upper]\n",
    "print('Non-outlier observations: %d' % len(outliers_removed))"
   ]
  },
  {
   "cell_type": "markdown",
   "metadata": {},
   "source": [
    "### 3.3 <a class=\"anchor\" id=\"3_3\"></a> Conversion"
   ]
  },
  {
   "cell_type": "code",
   "execution_count": null,
   "metadata": {},
   "outputs": [],
   "source": [
    "# Convert the object column to boolean\n",
    "df['Is_Multi_Discipline_Project'] = df['Is_Multi_Discipline_Project'].astype(bool)\n",
    "df['Is_Multi_Discipline_Project'] = df['Is_Multi_Discipline_Project'].astype(int)\n",
    "df['Is_First_Client_Project'] = df['Is_First_Client_Project'].astype(int)\n",
    "df['Manager_Is_Recent'] = df['Manager_Is_Recent'].astype(int)\n",
    "df['Is_Front_Loaded'] = df['Is_Front_Loaded'].astype(int)"
   ]
  },
  {
   "cell_type": "markdown",
   "metadata": {},
   "source": [
    "### 3.4 <a class=\"anchor\" id=\"3_3\"></a> Scaling"
   ]
  },
  {
   "cell_type": "markdown",
   "metadata": {},
   "source": [
    "“To ensure that the gradient descent moves smoothly towards the minima and that the steps for gradient descent are updated at the same rate for all the features, we scale the data before feeding it to the model.” (Analytics Vidhya, 2020) In our case, normalisation works better than standardisation, as outliers have been handled, and data does not seem to follow a normal distribution."
   ]
  },
  {
   "cell_type": "code",
   "execution_count": null,
   "metadata": {},
   "outputs": [],
   "source": [
    "# Select the numerical columns only\n",
    "floats = df.select_dtypes(include=['float64'])\n",
    "\n",
    "# Scale the numerical columns\n",
    "d = preprocessing.normalize(floats)\n",
    "floats = pd.DataFrame(d, columns = floats.columns)\n",
    "\n",
    "bools = df.select_dtypes(include=['int32']).reset_index(col_level=0, drop=True)\n",
    "num = pd.concat([floats, bools], axis=1) # concatenating dataframes horizontally\n",
    "num"
   ]
  },
  {
   "cell_type": "markdown",
   "metadata": {},
   "source": [
    "### 3.5 <a class=\"anchor\" id=\"3_5\"></a> Feature engineering"
   ]
  },
  {
   "cell_type": "code",
   "execution_count": null,
   "metadata": {},
   "outputs": [],
   "source": [
    "all_bins = pd.DataFrame(num, columns = ['Avg_Rec', 'Avg_Profit'])\n",
    "all_bins"
   ]
  },
  {
   "cell_type": "code",
   "execution_count": null,
   "metadata": {},
   "outputs": [],
   "source": [
    "#Distribution of count of all points, with outliers\n",
    "plt.figure(figsize=(6,6))\n",
    "sns.distplot(num['Avg_Rec'])\n",
    "plt.title('Count Distribution')\n",
    "plt.show()"
   ]
  },
  {
   "cell_type": "code",
   "execution_count": null,
   "metadata": {},
   "outputs": [],
   "source": [
    "num['Avg_Rec'].value_counts().describe()"
   ]
  },
  {
   "cell_type": "code",
   "execution_count": null,
   "metadata": {},
   "outputs": [],
   "source": [
    "num['Avg_Rec'].median()"
   ]
  },
  {
   "cell_type": "code",
   "execution_count": null,
   "metadata": {},
   "outputs": [],
   "source": [
    "# calculate the minimum and maximum bounds aside outliers\n",
    "q25, q75 = percentile(num['Avg_Rec'], 25), percentile(num['Avg_Rec'], 75)\n",
    "iqr = q75 - q25\n",
    "cut_off = iqr * 1.5\n",
    "lower, upper = q25 - cut_off, q75 + cut_off\n",
    "print(lower, upper)"
   ]
  },
  {
   "cell_type": "code",
   "execution_count": null,
   "metadata": {},
   "outputs": [],
   "source": [
    "num.boxplot('Avg_Rec', showfliers=False) # boxplot without outliers, the green line corresponds to the abovemntionned median of 0.010753288485757217"
   ]
  },
  {
   "cell_type": "markdown",
   "metadata": {},
   "source": [
    "Interpretation: https://www.mathbootcamps.com/how-to-read-a-boxplot/"
   ]
  },
  {
   "cell_type": "code",
   "execution_count": null,
   "metadata": {},
   "outputs": [],
   "source": [
    "num.boxplot('Avg_Rec')"
   ]
  },
  {
   "cell_type": "markdown",
   "metadata": {},
   "source": [
    "Now we can create 3 recoverability classes based on the median recoverability as our threshold."
   ]
  },
  {
   "cell_type": "code",
   "execution_count": null,
   "metadata": {},
   "outputs": [],
   "source": [
    "project_ids = df[['Project_ID']]\n",
    "project_ids.reset_index(drop=True, inplace = True)\n",
    "num = pd.concat([project_ids, num], axis=1) # concatenating dataframes horizontally\n",
    "len(num)"
   ]
  },
  {
   "cell_type": "code",
   "execution_count": null,
   "metadata": {},
   "outputs": [],
   "source": [
    "rec_class = {}\n",
    "\n",
    "for rec in num['Avg_Rec']:\n",
    "  for project_id in num['Project_ID']:\n",
    "    if rec < 0.0075975769981518285:\n",
    "      rec_class[project_id] = 0 # unprofitable projects are lower than median\n",
    "    elif rec > 0.01892991329247442:\n",
    "      rec_class[project_id]  = 2 # very profitable projects are higher than upper bond\n",
    "    else:\n",
    "      rec_class[project_id]  = 1 # average profitable projects are those between the median and upper bound"
   ]
  },
  {
   "cell_type": "code",
   "execution_count": null,
   "metadata": {},
   "outputs": [],
   "source": [
    "rec_df = pd.DataFrame([{'Project_ID': project_id, 'Rec_Class': rec_class} for (project_id, rec_class) in rec_class.items()])\n",
    "rec_df.head()"
   ]
  },
  {
   "cell_type": "code",
   "execution_count": null,
   "metadata": {},
   "outputs": [],
   "source": [
    "rec_df['Rec_Class'].value_counts()"
   ]
  },
  {
   "cell_type": "code",
   "execution_count": null,
   "metadata": {},
   "outputs": [],
   "source": [
    "df['Avg_Profit'].min(), df['Avg_Profit'].median(), df['Avg_Profit'].max()"
   ]
  },
  {
   "cell_type": "code",
   "execution_count": null,
   "metadata": {},
   "outputs": [],
   "source": [
    "df.boxplot('Avg_Profit')"
   ]
  },
  {
   "cell_type": "markdown",
   "metadata": {},
   "source": [
    "Now we can create 3 profit measure classes based on the median profit measurement as our threshold."
   ]
  },
  {
   "cell_type": "code",
   "execution_count": null,
   "metadata": {},
   "outputs": [],
   "source": [
    "profit_class = {}\n",
    "\n",
    "for profit in df['Avg_Profit']:\n",
    "  for project_id in df['Project_ID']:\n",
    "    if profit <= 1.51:\n",
    "      profit_class[project_id] = 0 # unprofitable\n",
    "    elif profit >= 2500:\n",
    "      profit_class[project_id]  = 2 # extremely profitable\n",
    "    else:\n",
    "      profit_class[project_id]  = 1 # average profitable"
   ]
  },
  {
   "cell_type": "code",
   "execution_count": null,
   "metadata": {},
   "outputs": [],
   "source": [
    "profit_df = pd.DataFrame([{'Project_ID': project_id, 'Profit_Class': profit_class} for (project_id, profit_class) in profit_class.items()])\n",
    "profit_df.head()"
   ]
  },
  {
   "cell_type": "code",
   "execution_count": null,
   "metadata": {},
   "outputs": [],
   "source": [
    "profitability_df = pd.merge(rec_df, profit_df, how='left', left_on='Project_ID', right_on='Project_ID')\n",
    "profitability_df['Profitability_Class'] = profitability_df['Rec_Class'] + profitability_df['Profit_Class']\n",
    "profitability_df "
   ]
  },
  {
   "cell_type": "code",
   "execution_count": null,
   "metadata": {},
   "outputs": [],
   "source": [
    "profitability_df['Profitability_Class'].value_counts()"
   ]
  },
  {
   "cell_type": "code",
   "execution_count": null,
   "metadata": {},
   "outputs": [],
   "source": [
    "prep_classes = profitability_df['Profitability_Class'].sum()\n",
    "#prep_classes.rename(columns={0:'NFT_count'},inplace=True)\n",
    "#prep_classes.rename(columns={'index': 'category'}, inplace=True)\n",
    "prep_classes"
   ]
  },
  {
   "cell_type": "markdown",
   "metadata": {},
   "source": [
    "### 3.6 <a class=\"anchor\" id=\"3_6\"></a> Encoding"
   ]
  },
  {
   "cell_type": "code",
   "execution_count": null,
   "metadata": {},
   "outputs": [],
   "source": [
    "# Select the object columns\n",
    "cat = df.select_dtypes(include=['object']).reset_index(col_level=0, drop=True)\n",
    "\n",
    "#Retype code below to iterate through columns\n",
    "le = LabelEncoder()\n",
    "cat['Country'] = le.fit_transform(cat['Country'])\n",
    "cat['Office'] = le.fit_transform(cat['Office'])\n",
    "cat['Sector'] = le.fit_transform(cat['Sector'])\n",
    "cat['Default_Rate_Group'] = le.fit_transform(cat['Default_Rate_Group'])\n",
    "cat['Project_Director'] = le.fit_transform(cat['Project_Director'])\n",
    "cat['Synergy_Team'] = le.fit_transform(cat['Synergy_Team'])\n",
    "\n",
    "# Merge numerical and categorical columns together\n",
    "full = pd.concat([num, cat], axis=1) # concatenating dataframes horizontally\n",
    "full"
   ]
  },
  {
   "cell_type": "markdown",
   "metadata": {},
   "source": [
    "## Part 4: <a class=\"anchor\" id=\"part4\"></a> Exploratory data analysis"
   ]
  },
  {
   "cell_type": "code",
   "execution_count": null,
   "metadata": {},
   "outputs": [],
   "source": [
    "# Corelation matrix\n",
    "\n",
    "corr_matrix = df.corr().round(1)\n",
    "fig, ax = plt.subplots(figsize = (12, 6), ncols = 1, nrows = 1)\n",
    "fig.suptitle(\"Correlation matrix\",\n",
    "             color = \"#696969\",\n",
    "             weight = \"bold\",\n",
    "             size = 12)\n",
    "colors = sns.diverging_palette(37, 12.5, as_cmap = True)\n",
    "mask = np.triu(np.ones_like(corr_matrix, dtype=bool))\n",
    "labels = [name.capitalize().replace(\"_\", \" \") for name in corr_matrix.columns]\n",
    "\n",
    "ax = sns.heatmap(data = corr_matrix, \n",
    "                 mask = mask,\n",
    "                 vmin = -1,\n",
    "                 vmax = 1,\n",
    "                 square = True, \n",
    "                 annot = True,\n",
    "                 xticklabels = labels,\n",
    "                 yticklabels = labels,\n",
    "                 cmap = sns.diverging_palette(115, 220, l = 60, s = 90, sep = 10, as_cmap = True),\n",
    "                 cbar_kws = {\n",
    "                     \"orientation\" : \"vertical\", \n",
    "                     \"shrink\" : 1,\n",
    "                     \"aspect\" : 40})\n",
    "\n",
    "colorbar = ax.collections[0].colorbar\n",
    "colorbar.set_ticks([-1.0, 0, 1.0])"
   ]
  },
  {
   "cell_type": "code",
   "execution_count": null,
   "metadata": {},
   "outputs": [],
   "source": [
    "num.plot.scatter(x='Avg_Rec', y='Avg_Profit', title= \"Scatter plot between two variables X and Y\")"
   ]
  },
  {
   "cell_type": "markdown",
   "metadata": {},
   "source": [
    "## Part 5: <a class=\"anchor\" id=\"part5\"></a> Model training"
   ]
  },
  {
   "cell_type": "markdown",
   "metadata": {},
   "source": [
    "### 5.1 <a class=\"anchor\" id=\"5_1\"></a> Splitting"
   ]
  },
  {
   "cell_type": "code",
   "execution_count": null,
   "metadata": {},
   "outputs": [],
   "source": [
    "# Split dataset into features and labels\n",
    "X = df[['creator', 'artwork_name', 'collection',\n",
    "           'art_series', 'media', 'likes', 'nsfw',\n",
    "           'tokens','year', 'rights', 'artwork_counts']]  # Removed original price\n",
    "y = df['price_class']\n",
    "\n",
    "# Split dataset into training set and test set\n",
    "X_train, X_test, y_train, y_test = train_test_split(X, y, test_size=0.2, random_state=2022) # 80% training and 20% test\n",
    "print(f\"No. of training data: {X_train.shape[0]}\")\n",
    "print(f\"No. of training targets: {y_train.shape[0]}\")\n",
    "print(f\"No. of testing data: {X_test.shape[0]}\")\n",
    "print(f\"No. of testing targets: {y_test.shape[0]}\")"
   ]
  },
  {
   "cell_type": "markdown",
   "metadata": {},
   "source": [
    "### 5.2 <a class=\"anchor\" id=\"5_2\"></a> Method 1"
   ]
  },
  {
   "cell_type": "markdown",
   "metadata": {},
   "source": []
  }
 ],
 "metadata": {
  "interpreter": {
   "hash": "32faf87829e52f10b3379fa51fb017496aba8a2082e84bf41be67a5b199752f4"
  },
  "kernelspec": {
   "display_name": "Python 3.10.2 ('venv': venv)",
   "language": "python",
   "name": "python3"
  },
  "language_info": {
   "codemirror_mode": {
    "name": "ipython",
    "version": 3
   },
   "file_extension": ".py",
   "mimetype": "text/x-python",
   "name": "python",
   "nbconvert_exporter": "python",
   "pygments_lexer": "ipython3",
   "version": "3.10.2"
  },
  "orig_nbformat": 4
 },
 "nbformat": 4,
 "nbformat_minor": 2
}
