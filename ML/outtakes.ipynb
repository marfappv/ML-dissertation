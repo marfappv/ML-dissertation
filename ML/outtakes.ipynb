{
 "cells": [
  {
   "cell_type": "code",
   "execution_count": null,
   "metadata": {},
   "outputs": [],
   "source": [
    "### 5.3 <a class=\"anchor\" id=\"5_3\"></a> Support vector machine\n",
    "svr = SVR(kernel='linear')\n",
    "svr.fit(X_train, Y_train)\n",
    "\n",
    "# Predicting price using SVR model on train data set\n",
    "y_pred_train_svr = svr.predict(X_train)\n",
    "svr_mse_train = mean_squared_error(Y_train, y_pred_train_svr)\n",
    "svr_rmse_train = np.sqrt(svr_mse_train)\n",
    "svr_R2_train = metrics.r2_score(Y_train, y_pred_train_svr)\n",
    "print(\"SVR MSE: \",svr_mse_train)\n",
    "print(\"SVR RMSE: \",svr_rmse_train)\n",
    "print(\"SVR R2: \",svr_R2_train)\n",
    "\n",
    "# Predicting price using SVR model on test data set\n",
    "y_pred_test_svr = svr.predict(X_test)\n",
    "svr_mse_test = mean_squared_error(Y_test, y_pred_test_svr)\n",
    "svr_rmse_test = np.sqrt(svr_mse_test)\n",
    "svr_R2_test = metrics.r2_score(Y_test, y_pred_test_svr)\n",
    "print(\"SVR MSE: \",svr_mse_test)\n",
    "print(\"SVR RMSE: \",svr_rmse_test)\n",
    "print(\"SVR R2: \",svr_R2_test)"
   ]
  }
 ],
 "metadata": {
  "language_info": {
   "name": "python"
  },
  "orig_nbformat": 4
 },
 "nbformat": 4,
 "nbformat_minor": 2
}
