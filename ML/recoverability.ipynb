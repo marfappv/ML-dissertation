{
 "cells": [
  {
   "cell_type": "markdown",
   "metadata": {},
   "source": [
    "<h1 align=\"center\">MSIN0114: Business Analytics Consulting Project</h1>\n",
    "<h2 align=\"center\">S2R Analytics, pt. 3</h2>"
   ]
  },
  {
   "cell_type": "markdown",
   "metadata": {},
   "source": [
    "# Table of Contents\n",
    "\n",
    "* [Part 5](#part5): Regression\n",
    "    * [5.0](#5_0): Data splitting\n",
    "<br />\n",
    "<br />\n",
    "* [Part 6](#part6): Classification\n",
    "    * [6.0](#6_0): Data splitting\n",
    "<br />\n",
    "<br />\n",
    "* [Part 7](#part7): Decomposition\n",
    "    * [7.0](#7_0): Data splitting\n",
    "<br />\n",
    "<br />\n",
    "* [Part 8](#part8): Performance evaluation\n",
    "* [Part 9](#part9): Feature importance and statistical tests\n",
    "* [Part 10](#part10): Converting the output"
   ]
  },
  {
   "cell_type": "markdown",
   "metadata": {},
   "source": [
    "## Notebook Setup"
   ]
  },
  {
   "cell_type": "code",
   "execution_count": 35,
   "metadata": {},
   "outputs": [],
   "source": [
    "#Essentials\n",
    "import pandas as pd\n",
    "from pandas import Series, DataFrame\n",
    "from pandas.api.types import CategoricalDtype\n",
    "pd.options.display.max_columns = None\n",
    "import sqlite3\n",
    "import pyodbc\n",
    "import numpy as np; np.random.seed(1)\n",
    "\n",
    "#Image creation and display\n",
    "import seaborn as sns\n",
    "import matplotlib.pyplot as plt\n",
    "import matplotlib.ticker as mtick\n",
    "import matplotlib.patches as mpatches\n",
    "from matplotlib import pyplot\n",
    "import plotly.express as px\n",
    "import plotly.graph_objects as go\n",
    "#from image import image, display\n",
    "\n",
    "#Preprocessing\n",
    "from sklearn import preprocessing\n",
    "from sklearn.model_selection import train_test_split\n",
    "from sklearn.preprocessing import StandardScaler\n",
    "from sklearn.preprocessing import RobustScaler\n",
    "from sklearn.preprocessing import MinMaxScaler\n",
    "from sklearn.preprocessing import LabelEncoder\n",
    "from sklearn.compose import ColumnTransformer\n",
    "from sklearn.compose import make_column_transformer\n",
    "from sklearn.pipeline import Pipeline\n",
    "from sklearn.pipeline import make_pipeline\n",
    "\n",
    "#Models\n",
    "from sklearn.linear_model import LinearRegression\n",
    "from sklearn.linear_model import Lasso\n",
    "from sklearn.svm import SVR\n",
    "from sklearn.tree import DecisionTreeRegressor\n",
    "from sklearn.ensemble import RandomForestRegressor\n",
    "from xgboost import XGBRegressor\n",
    "from sklearn.naive_bayes import GaussianNB\n",
    "\n",
    "from sklearn.linear_model import LogisticRegression\n",
    "from sklearn.neighbors import KNeighborsClassifier\n",
    "from sklearn.tree import DecisionTreeClassifier\n",
    "from sklearn.ensemble import RandomForestClassifier\n",
    "from xgboost import XGBClassifier\n",
    "from pprint import pprint\n",
    "from sklearn.model_selection import GridSearchCV\n",
    "from sklearn.ensemble import VotingClassifier\n",
    "from sklearn.base import clone\n",
    "from sklearn.ensemble import StackingClassifier\n",
    "from sklearn.ensemble import BaggingClassifier\n",
    "\n",
    "#Metrics of accuracy\n",
    "from numpy import mean\n",
    "from numpy import std\n",
    "from sklearn import metrics\n",
    "from sklearn.metrics import mean_absolute_error\n",
    "from sklearn.metrics import mean_squared_error\n",
    "from sklearn.model_selection import GridSearchCV\n",
    "from sklearn.model_selection import StratifiedKFold\n",
    "from sklearn.model_selection import RepeatedStratifiedKFold\n",
    "from sklearn.model_selection import cross_val_score\n",
    "from sklearn.model_selection import cross_val_predict\n",
    "from sklearn.metrics import f1_score, precision_score, recall_score\n",
    "from sklearn.metrics import classification_report\n",
    "from sklearn.metrics import confusion_matrix\n",
    "from sklearn.metrics import ConfusionMatrixDisplay\n",
    "from sklearn.metrics import roc_curve, auc, precision_recall_curve\n",
    "from sklearn.metrics import roc_auc_score\n",
    "from sklearn.preprocessing import label_binarize\n",
    "from sklearn.multiclass import OneVsRestClassifier\n",
    "\n",
    "#Other\n",
    "import itertools as it\n",
    "import io\n",
    "import os\n",
    "os.sys.path\n",
    "import sys\n",
    "import glob\n",
    "import concurrent.futures\n",
    "from __future__ import print_function\n",
    "import binascii\n",
    "import struct\n",
    "from PIL import Image\n",
    "import scipy\n",
    "import scipy.misc\n",
    "import scipy.cluster\n",
    "import datetime, time\n",
    "import functools, operator\n",
    "from datetime import datetime\n",
    "from numpy.random import seed\n",
    "from numpy.random import randn\n",
    "from numpy import percentile"
   ]
  },
  {
   "cell_type": "code",
   "execution_count": 60,
   "metadata": {},
   "outputs": [],
   "source": [
    "df = pd.read_csv("csv-files/preprocessed_data.csv")"
   ]
  },
  {
   "cell_type": "markdown",
   "metadata": {},
   "source": [
    "## Part 5: <a class=\"anchor\" id=\"part5\"></a> Regression"
   ]
  },
  {
   "cell_type": "markdown",
   "metadata": {},
   "source": [
    "### 5.0 <a class=\"anchor\" id=\"5_1\"></a> Data splitting"
   ]
  },
  {
   "cell_type": "code",
   "execution_count": 37,
   "metadata": {},
   "outputs": [
    {
     "name": "stdout",
     "output_type": "stream",
     "text": [
      "No. of training data: 7704\n",
      "No. of training targets: 7704\n",
      "No. of testing data: 1927\n",
      "No. of testing targets: 1927\n"
     ]
    }
   ],
   "source": [
    "# Choose dependent variables\n",
    "Y = df[["Avg_Rec"]]\n",
    "\n",
    "# Drop the dependent variables from the feature data set\n",
    "X = df.drop(columns = ["Project_ID","Avg_Profit", "Avg_Rec", "Rec_Class", "Profit_Class"])\n",
    "\n",
    "# Scale the explanatory variables\n",
    "df_1 = pd.DataFrame(RobustScaler().fit_transform(X), columns=X.columns)\n",
    "\n",
    "# Split data set into train and test\n",
    "X_train, X_test, Y_train, Y_test = train_test_split(X, Y, test_size = 0.2, random_state=1)\n",
    "\n",
    "print(f"No. of training data: {X_train.shape[0]}")\n",
    "print(f"No. of training targets: {Y_train.shape[0]}")\n",
    "print(f"No. of testing data: {X_test.shape[0]}")\n",
    "print(f"No. of testing targets: {Y_test.shape[0]}")"
   ]
  },
  {
   "cell_type": "markdown",
   "metadata": {},
   "source": [
    "### 5.1 <a class=\"anchor\" id=\"5_1\"></a> Linear regression"
   ]
  },
  {
   "cell_type": "code",
   "execution_count": 38,
   "metadata": {},
   "outputs": [
    {
     "name": "stdout",
     "output_type": "stream",
     "text": [
      "Linear Regression R2 on train set:  0.1\n",
      "Linear Regression R2 on test set:  0.1\n"
     ]
    }
   ],
   "source": [
    "lr = LinearRegression()\n",
    "lr.fit(X_train, Y_train.values.ravel())\n",
    "\n",
    "# Train data set\n",
    "y_pred_train_lr = lr.predict(X_train)\n",
    "lr_mse_train = mean_squared_error(Y_train, y_pred_train_lr)\n",
    "lr_rmse_train = np.sqrt(lr_mse_train)\n",
    "lr_r2_train = metrics.r2_score(Y_train, y_pred_train_lr)\n",
    "print("Linear Regression R2 on train set: ", round(lr_r2_train, 2))\n",
    "\n",
    "# Test data set\n",
    "y_pred_test_lr = lr.predict(X_test)\n",
    "lr_mse_test = mean_squared_error(Y_test, y_pred_test_lr)\n",
    "lr_rmse_test = np.sqrt(lr_mse_test)\n",
    "lr_r2_test = metrics.r2_score(Y_test, y_pred_test_lr)\n",
    "print("Linear Regression R2 on test set: ", round(lr_r2_test, 2))"
   ]
  },
  {
   "cell_type": "markdown",
   "metadata": {},
   "source": [
    "### 5.2 <a class=\"anchor\" id=\"5_2\"></a> Lasso regression"
   ]
  },
  {
   "cell_type": "code",
   "execution_count": 39,
   "metadata": {},
   "outputs": [
    {
     "name": "stdout",
     "output_type": "stream",
     "text": [
      "Lasso Regression R2 on train set:  0.01\n",
      "Lasso Regression R2 on test set:  0.0\n"
     ]
    }
   ],
   "source": [
    "lasso = Lasso(random_state = 1)\n",
    "lasso.fit(X_train, Y_train.values.ravel())\n",
    "\n",
    "# Train data set\n",
    "y_pred_train_lasso = lasso.predict(X_train)\n",
    "lasso_mse_train = mean_squared_error(Y_train, y_pred_train_lasso)\n",
    "lasso_rmse_train = np.sqrt(lasso_mse_train)\n",
    "lasso_R2_train = metrics.r2_score(Y_train, y_pred_train_lasso)\n",
    "print("Lasso Regression R2 on train set: ", round(lasso_R2_train, 2))\n",
    "\n",
    "# Test data set\n",
    "y_pred_test_lasso = lasso.predict(X_test)\n",
    "lasso_mse_test = mean_squared_error(Y_test, y_pred_test_lasso)\n",
    "lasso_rmse_test = np.sqrt(lasso_mse_test)\n",
    "lasso_R2_test = metrics.r2_score(Y_test, y_pred_test_lasso)\n",
    "print("Lasso Regression R2 on test set: ", round(lasso_R2_test, 2))"
   ]
  },
  {
   "cell_type": "markdown",
   "metadata": {},
   "source": [
    "### 5.3 <a class=\"anchor\" id=\"5_3\"></a> Decision tree regressor"
   ]
  },
  {
   "cell_type": "code",
   "execution_count": 40,
   "metadata": {},
   "outputs": [
    {
     "name": "stdout",
     "output_type": "stream",
     "text": [
      "Decision Tree R2 on train set:  0.98\n",
      "Decision Tree R2 on test set:  -0.38\n"
     ]
    }
   ],
   "source": [
    "dtr = DecisionTreeRegressor(random_state = 1)\n",
    "dtr.fit(X_train, Y_train.values.ravel())\n",
    "\n",
    "# Train data set\n",
    "y_pred_train_dtr = dtr.predict(X_train)\n",
    "dtr_mse_train = mean_squared_error(Y_train, y_pred_train_dtr)\n",
    "dtr_rmse_train = np.sqrt(dtr_mse_train)\n",
    "dtr_r2_train = metrics.r2_score(Y_train, y_pred_train_dtr)\n",
    "print("Decision Tree R2 on train set: ", round(dtr_r2_train, 2))\n",
    "\n",
    "# Test data set\n",
    "y_pred_test_dtr = dtr.predict(X_test)\n",
    "dtr_mse_test = mean_squared_error(Y_test, y_pred_test_dtr)\n",
    "dtr_rmse_test = np.sqrt(dtr_mse_test)\n",
    "dtr_r2_test = metrics.r2_score(Y_test, y_pred_test_dtr)\n",
    "print("Decision Tree R2 on test set: ", round(dtr_r2_test, 2))"
   ]
  },
  {
   "cell_type": "markdown",
   "metadata": {},
   "source": [
    "### 5.4 <a class=\"anchor\" id=\"5_4\"></a> Random forest regressor"
   ]
  },
  {
   "cell_type": "code",
   "execution_count": 41,
   "metadata": {},
   "outputs": [
    {
     "name": "stdout",
     "output_type": "stream",
     "text": [
      "Random Forest R2 on train set:  0.88\n",
      "Random Forest R2 on test set:  0.27\n"
     ]
    }
   ],
   "source": [
    "rfr = RandomForestRegressor(random_state = 1)\n",
    "rfr.fit(X_train, Y_train.values.ravel())\n",
    "\n",
    "# Train data set\n",
    "y_pred_train_rfr = rfr.predict(X_train)\n",
    "rfr_mse_train = mean_squared_error(Y_train, y_pred_train_rfr)\n",
    "rfr_rmse_train = np.sqrt(rfr_mse_train)\n",
    "rfr_R2_train = metrics.r2_score(Y_train, y_pred_train_rfr)\n",
    "print("Random Forest R2 on train set: ", round(rfr_R2_train, 2))\n",
    "\n",
    "# Test data set\n",
    "y_pred_test_rfr = rfr.predict(X_test)\n",
    "rfr_mse_test = mean_squared_error(Y_test, y_pred_test_rfr)\n",
    "rfr_rmse_test = np.sqrt(rfr_mse_test)\n",
    "rfr_R2_test = metrics.r2_score(Y_test, y_pred_test_rfr)\n",
    "print("Random Forest R2 on test set: ", round(rfr_R2_test, 2))"
   ]
  },
  {
   "cell_type": "markdown",
   "metadata": {},
   "source": [
    "### 5.6 <a class=\"anchor\" id=\"5_6\"></a> XGBoost regressor"
   ]
  },
  {
   "cell_type": "code",
   "execution_count": 42,
   "metadata": {},
   "outputs": [
    {
     "name": "stdout",
     "output_type": "stream",
     "text": [
      "XGBoost R2 on train set:  0.7\n",
      "XGBoost R2 on test set:  0.27\n"
     ]
    }
   ],
   "source": [
    "xgbr = XGBRegressor(random_state = 1)\n",
    "xgbr.fit(X_train, Y_train.values.ravel())\n",
    "\n",
    "# Train data set\n",
    "y_pred_train_xgbr = xgbr.predict(X_train)\n",
    "xgbr_mse_train = mean_squared_error(Y_train, y_pred_train_xgbr)\n",
    "xgbr_rmse_train = np.sqrt(xgbr_mse_train)\n",
    "xgbr_R2_train = metrics.r2_score(Y_train, y_pred_train_xgbr)\n",
    "print("XGBoost R2 on train set: ", round(xgbr_R2_train, 2))\n",
    "\n",
    "# Test data set\n",
    "y_pred_test_xgbr = xgbr.predict(X_test)\n",
    "xgbr_mse_test = mean_squared_error(Y_test, y_pred_test_xgbr)\n",
    "xgbr_rmse_test = np.sqrt(xgbr_mse_test)\n",
    "xgbr_R2_test = metrics.r2_score(Y_test, y_pred_test_xgbr)\n",
    "print("XGBoost R2 on test set: ", round(xgbr_R2_test, 2))"
   ]
  },
  {
   "cell_type": "markdown",
   "metadata": {},
   "source": [
    "### 5.7  <a class=\"anchor\" id=\"5_7\"></a> Models comparison"
   ]
  },
  {
   "cell_type": "markdown",
   "metadata": {},
   "source": [
    "The highest R2 score is 0.30 by random forest regresssor, making regression models very unreliable in this case.\n",
    "\n",
    "* Conclusion: Regression does not work for this dataset.\n",
    "* Reason: The results of test dataset are way too diferent from perfect training results of 0.9 and 1.\n",
    "* Cause: The continuous uints of dependent varuable "Avg_Rec" are very close to wach other, making it difficult for the algorithm to see a pattern between such similar distances between each point.\n",
    "* Next: Classification should work better."
   ]
  },
  {
   "cell_type": "markdown",
   "metadata": {},
   "source": [
    "## Part 6: <a class=\"anchor\" id=\"part6\"></a> Classification"
   ]
  },
  {
   "cell_type": "markdown",
   "metadata": {},
   "source": [
    "### 6.0 <a class=\"anchor\" id=\"6_0\"></a> Data splitting"
   ]
  },
  {
   "cell_type": "code",
   "execution_count": 43,
   "metadata": {},
   "outputs": [
    {
     "name": "stdout",
     "output_type": "stream",
     "text": [
      "No. of training data: 7704\n",
      "No. of training targets: 7704\n",
      "No. of testing data: 1927\n",
      "No. of testing targets: 1927\n"
     ]
    }
   ],
   "source": [
    "# Choose dependent variables\n",
    "Y = df[["Rec_Class"]]\n",
    "\n",
    "# Drop the dependent variables from the feature data set\n",
    "X = df.drop(columns = ["Project_ID","Avg_Profit", "Avg_Rec", "Rec_Class", "Profit_Class"])\n",
    "\n",
    "# Scale the explanatory variables\n",
    "#df_2 = pd.DataFrame(RobustScaler().fit_transform(X), columns=X.columns)\n",
    "\n",
    "# Split data set into train and test\n",
    "X_train, X_test, Y_train, Y_test = train_test_split(X, Y, test_size = 0.2, random_state=1, stratify = Y)\n",
    "\n",
    "print(f"No. of training data: {X_train.shape[0]}")\n",
    "print(f"No. of training targets: {Y_train.shape[0]}")\n",
    "print(f"No. of testing data: {X_test.shape[0]}")\n",
    "print(f"No. of testing targets: {Y_test.shape[0]}")"
   ]
  },
  {
   "cell_type": "markdown",
   "metadata": {},
   "source": [
    "### 6.1 <a class=\"anchor\" id=\"6_1\"></a> Logistic regression"
   ]
  },
  {
   "cell_type": "code",
   "execution_count": 44,
   "metadata": {},
   "outputs": [
    {
     "name": "stdout",
     "output_type": "stream",
     "text": [
      "Accuracy score of LR: 46.9%\n",
      "Precision score of LR: 72.1%\n",
      "Recall score of LR: 46.9%\n",
      "F1 of LR: 30.0%\n"
     ]
    }
   ],
   "source": [
    "# Create a logistic regression model\n",
    "log = LogisticRegression(random_state = 1)\n",
    "\n",
    "# Train the model using train set\n",
    "log.fit(X_train, Y_train.values.ravel())\n",
    "\n",
    "# Predict the response for test set\n",
    "log_y_pred=lr.predict(X_test)\n",
    "\n",
    "# Accuracy measures\n",
    "print(\"Accuracy score of LR: \" + str(round(metrics.accuracy_score(Y_test, np.round(log_y_pred)), 3)*100)+\"%\")\n",
    "print(\"Precision score of LR: \" + str(round(metrics.precision_score(Y_test, np.round(log_y_pred), average=\"weighted\", zero_division=1), 3)*100)+\"%\")\n",
    "print(\"Recall score of LR: \" + str(round(metrics.recall_score(Y_test, np.round(log_y_pred), average=\"weighted\"), 3)*100)+\"%\")\n",
    "print(\"F1 of LR: \" + str(round(metrics.f1_score(Y_test, np.round(log_y_pred), average=\"weighted\"), 3)*100)+\"%\")"
   ]
  },
  {
   "cell_type": "markdown",
   "metadata": {},
   "source": [
    "### 6.2 <a class=\"anchor\" id=\"6_2\"></a> KNeighbors classifier"
   ]
  },
  {
   "cell_type": "code",
   "execution_count": 45,
   "metadata": {},
   "outputs": [
    {
     "name": "stdout",
     "output_type": "stream",
     "text": [
      "Accuracy score of KNN-3: 56.10000000000001%\n",
      "Precision score of KNN-3: 56.39999999999999%\n",
      "Recall score of KNN-3 56.10000000000001%\n",
      "F1 of KNN-3: 56.2%\n"
     ]
    }
   ],
   "source": [
    "# Create KNN Classifier model\n",
    "np.random.seed(1)\n",
    "knn_3 = KNeighborsClassifier(n_neighbors = 3)\n",
    "\n",
    "# Train the model using train set\n",
    "knn_3.fit(X_train, Y_train.values.ravel())\n",
    "\n",
    "# Predict the response for test set\n",
    "knn_3_y_pred = knn_3.predict(X_test)\n",
    "\n",
    "# Accuracy measures\n",
    "print(\"Accuracy score of KNN-3: \" + str(round(metrics.accuracy_score(Y_test, np.round(knn_3_y_pred)), 3)*100)+\"%\")\n",
    "print(\"Precision score of KNN-3: \" + str(round(metrics.precision_score(Y_test, np.round(knn_3_y_pred), average=\"weighted\", zero_division=1), 3)*100)+\"%\")\n",
    "print(\"Recall score of KNN-3 \" + str(round(metrics.recall_score(Y_test, np.round(knn_3_y_pred), average=\"weighted\"), 3)*100)+\"%\")\n",
    "print(\"F1 of KNN-3: \" + str(round(metrics.f1_score(Y_test, np.round(knn_3_y_pred), average=\"weighted\"), 3)*100)+\"%\")"
   ]
  },
  {
   "cell_type": "code",
   "execution_count": 46,
   "metadata": {},
   "outputs": [
    {
     "name": "stdout",
     "output_type": "stream",
     "text": [
      "Accuracy score of KNN-7: 57.3%\n",
      "Precision score of KNN-7: 56.10000000000001%\n",
      "Recall score of KNN-7 57.3%\n",
      "F1 of KNN-7: 56.599999999999994%\n"
     ]
    }
   ],
   "source": [
    "np.random.seed(1)\n",
    "knn_7 = KNeighborsClassifier(n_neighbors=7)\n",
    "knn_7.fit(X_train, Y_train.values.ravel())\n",
    "knn_7_y_pred = knn_7.predict(X_test)\n",
    "\n",
    "print(\"Accuracy score of KNN-7: \" + str(round(metrics.accuracy_score(Y_test, np.round(knn_7_y_pred)), 3)*100)+\"%\")\n",
    "print(\"Precision score of KNN-7: \" + str(round(metrics.precision_score(Y_test, np.round(knn_7_y_pred), average=\"weighted\", zero_division=1), 3)*100)+\"%\")\n",
    "print(\"Recall score of KNN-7 \" + str(round(metrics.recall_score(Y_test, np.round(knn_7_y_pred), average=\"weighted\"), 3)*100)+\"%\")\n",
    "print(\"F1 of KNN-7: \" + str(round(metrics.f1_score(Y_test, np.round(knn_7_y_pred), average=\"weighted\"), 3)*100)+\"%\")"
   ]
  },
  {
   "cell_type": "markdown",
   "metadata": {},
   "source": [
    "### 6.3 <a class=\"anchor\" id=\"6_3\"></a> Decision tree classifier"
   ]
  },
  {
   "cell_type": "code",
   "execution_count": 47,
   "metadata": {},
   "outputs": [
    {
     "name": "stdout",
     "output_type": "stream",
     "text": [
      "Accuracy score of DTC: 62.3%\n",
      "Precision score of DTC: 62.6%\n",
      "Recall score of DTC: 62.3%\n",
      "F1 of DTC: 62.4%\n"
     ]
    }
   ],
   "source": [
    "# Create Decision Tree Classifier model\n",
    "dtc = DecisionTreeClassifier(random_state = 1)\n",
    "\n",
    "# Train the model using train set\n",
    "dtc = dtc.fit(X_train, Y_train.values.ravel())\n",
    "\n",
    "# Predict the response for test set\n",
    "dtc_y_pred = dtc.predict(X_test)\n",
    "\n",
    "# Accuracy measures\n",
    "print(\"Accuracy score of DTC: \" + str(round(metrics.accuracy_score(Y_test, np.round(dtc_y_pred)), 3)*100)+\"%\")\n",
    "print(\"Precision score of DTC: \" + str(round(metrics.precision_score(Y_test, np.round(dtc_y_pred), average=\"weighted\", zero_division=1), 3)*100)+\"%\")\n",
    "print(\"Recall score of DTC: \" + str(round(metrics.recall_score(Y_test, np.round(dtc_y_pred), average=\"weighted\"), 3)*100)+\"%\")\n",
    "print(\"F1 of DTC: \" + str(round(metrics.f1_score(Y_test, np.round(dtc_y_pred), average=\"weighted\"), 3)*100)+\"%\")"
   ]
  },
  {
   "cell_type": "markdown",
   "metadata": {},
   "source": [
    "### 6.4 <a class=\"anchor\" id=\"6_4\"></a> Random forest classifier"
   ]
  },
  {
   "cell_type": "code",
   "execution_count": 48,
   "metadata": {},
   "outputs": [
    {
     "name": "stdout",
     "output_type": "stream",
     "text": [
      "Accuracy score of RFC: 69.3%\n",
      "Precision score of RFC: 68.2%\n",
      "Recall score of RFC: 69.3%\n",
      "F1 of RFC: 68.60000000000001%\n"
     ]
    }
   ],
   "source": [
    "# Create a Gaussian Classifier model\n",
    "rfc = RandomForestClassifier(random_state = 1)\n",
    "\n",
    "# Train the model using train set\n",
    "rfc.fit(X_train, Y_train.values.ravel())\n",
    "\n",
    "# Predict the response for test set\n",
    "rfc_y_pred=rfc.predict(X_test)\n",
    "\n",
    "# Accuracy measures\n",
    "print(\"Accuracy score of RFC: \" + str(round(metrics.accuracy_score(Y_test, np.round(rfc_y_pred)), 3)*100)+\"%\")\n",
    "print(\"Precision score of RFC: \" + str(round(metrics.precision_score(Y_test, np.round(rfc_y_pred), average=\"weighted\", zero_division=1), 3)*100)+\"%\")\n",
    "print(\"Recall score of RFC: \" + str(round(metrics.recall_score(Y_test, np.round(rfc_y_pred), average=\"weighted\"), 3)*100)+\"%\")\n",
    "print(\"F1 of RFC: \" + str(round(metrics.f1_score(Y_test, np.round(rfc_y_pred), average=\"weighted\"), 3)*100)+\"%\")"
   ]
  },
  {
   "cell_type": "markdown",
   "metadata": {},
   "source": [
    "### 6.5 <a class=\"anchor\" id=\"6_5\"></a> Gaussian classifier"
   ]
  },
  {
   "cell_type": "code",
   "execution_count": 54,
   "metadata": {},
   "outputs": [
    {
     "name": "stdout",
     "output_type": "stream",
     "text": [
      "Accuracy score of XGBC: 70.7%\n",
      "Precision score of XGBC: 69.6%\n",
      "Recall score of XGBC: 70.7%\n",
      "F1 of XGBC: 69.69999999999999%\n"
     ]
    }
   ],
   "source": [
    "# Create a XGBoost model\n",
    "xgbc = XGBClassifier(n_estimators=100, learning_rate=0.05, booster="gbtree", random_state = 1)\n",
    "\n",
    "# Train the model using train set\n",
    "xgbc.fit(X_train, Y_train.values.ravel())\n",
    "\n",
    "# Predict the response for test set\n",
    "xgbc_y_pred=xgbc.predict(X_test)\n",
    "\n",
    "# Accuracy measures\n",
    "print(\"Accuracy score of XGBC: \" + str(round(metrics.accuracy_score(Y_test, np.round(xgbc_y_pred)), 3)*100)+\"%\")\n",
    "print(\"Precision score of XGBC: \" + str(round(metrics.precision_score(Y_test, np.round(xgbc_y_pred), average=\"weighted\", zero_division=1), 3)*100)+\"%\")\n",
    "print(\"Recall score of XGBC: \" + str(round(metrics.recall_score(Y_test, np.round(xgbc_y_pred), average=\"weighted\"), 3)*100)+\"%\")\n",
    "print(\"F1 of XGBC: \" + str(round(metrics.f1_score(Y_test, np.round(xgbc_y_pred), average=\"weighted\"), 3)*100)+\"%\")"
   ]
  },
  {
   "cell_type": "markdown",
   "metadata": {},
   "source": [
    "### 6.6 <a class=\"anchor\" id=\"6_6\"></a> Naive Bayes"
   ]
  },
  {
   "cell_type": "code",
   "execution_count": 50,
   "metadata": {},
   "outputs": [
    {
     "name": "stdout",
     "output_type": "stream",
     "text": [
      "Accuracy score of GNB: 6.800000000000001%\n",
      "Precision score of GNB: 59.599999999999994%\n",
      "Recall score of GNB: 6.800000000000001%\n",
      "F1 of GNB: 7.199999999999999%\n"
     ]
    }
   ],
   "source": [
    "# Create a XGBoost model\n",
    "gnb = GaussianNB()\n",
    "\n",
    "# Train the model using train set\n",
    "gnb.fit(X_train, Y_train.values.ravel())\n",
    "\n",
    "# Predict the response for test set\n",
    "gnb_y_pred = gnb.predict(X_test)\n",
    "\n",
    "# Accuracy measures\n",
    "print(\"Accuracy score of GNB: \" + str(round(metrics.accuracy_score(Y_test, np.round(gnb_y_pred)), 3)*100)+\"%\")\n",
    "print(\"Precision score of GNB: \" + str(round(metrics.precision_score(Y_test, np.round(gnb_y_pred), average=\"weighted\", zero_division=1), 3)*100)+\"%\")\n",
    "print(\"Recall score of GNB: \" + str(round(metrics.recall_score(Y_test, np.round(gnb_y_pred), average=\"weighted\"), 3)*100)+\"%\")\n",
    "print(\"F1 of GNB: \" + str(round(metrics.f1_score(Y_test, np.round(gnb_y_pred), average=\"weighted\"), 3)*100)+\"%\")"
   ]
  },
  {
   "cell_type": "markdown",
   "metadata": {},
   "source": [
    "### 6.7  <a class=\"anchor\" id=\"6_7\"></a> Models comparison"
   ]
  },
  {
   "cell_type": "markdown",
   "metadata": {},
   "source": [
    "Gaussian classifier has resulted in the best scored among all metrics, varying between 69.1 and 70.0%. This model will proceed to fine-tuning and will be included in ensemble learning with second best model, random forest classifier.\n",
    "\n",
    "* Conclusion: Regression does not work for this dataset.\n",
    "* Reason: The results of test dataset are way too diferent from perfect training results of 0.9 and 1.\n",
    "* Cause: The continuous uints of dependent varuable "Avg_Rec" are very close to wach other, making it difficult for the algorithm to see a pattern between such similar distances between each point.\n",
    "* Next: Classification should work better."
   ]
  },
  {
   "cell_type": "code",
   "execution_count": 59,
   "metadata": {},
   "outputs": [
    {
     "data": {
      "image/png": "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",
      "text/plain": [
       "<Figure size 1152x720 with 12 Axes>"
      ]
     },
     "metadata": {
      "needs_background": "light"
     },
     "output_type": "display_data"
    }
   ],
   "source": [
    "# Setting figure to compare the confusion matrix of each model based on heatmaps\n",
    "fig, ax = plt.subplots(figsize = (16,10))\n",
    "ax.set_title("Confusion matrix heatmaps of trained models", size = 17, pad = 10)\n",
    "\n",
    "# Logistic model confusion matrix heatmap\n",
    "plt.subplot(2,3,1)\n",
    "sns.heatmap(confusion_matrix(Y_test, np.round(log_y_pred))/np.sum(confusion_matrix(Y_test, np.round(log_y_pred))), annot=True, fmt=".1%",cmap="Greens")\n",
    "plt.title("Logistic Regression")\n",
    "\n",
    "# KNN confusion matrix heatmap\n",
    "plt.subplot(2,3,2)\n",
    "sns.heatmap(confusion_matrix(Y_test, np.round(knn_7_y_pred))/np.sum(confusion_matrix(Y_test, np.round(knn_7_y_pred))), annot=True, fmt=".1%",cmap="Greens")\n",
    "plt.title("KNN")\n",
    "\n",
    "# Decision Tree classifier confusion matrix heatmap\n",
    "plt.subplot(2,3,3)\n",
    "sns.heatmap(confusion_matrix(Y_test, np.round(dtc_y_pred))/np.sum(confusion_matrix(Y_test, np.round(dtc_y_pred))), annot=True, fmt=".1%",cmap="Greens")\n",
    "plt.title("Decision Tree")\n",
    "\n",
    "# Random Forest classifier confusion matrix heatmap\n",
    "plt.subplot(2,3,4)\n",
    "sns.heatmap(confusion_matrix(Y_test, np.round(rfc_y_pred))/np.sum(confusion_matrix(Y_test, np.round(rfc_y_pred))), annot=True, fmt=".1%",cmap="Greens")\n",
    "plt.title("Random Forest")\n",
    "\n",
    "# XGBoost confusion matrix heatmap\n",
    "plt.subplot(2,3,5)\n",
    "sns.heatmap(confusion_matrix(Y_test, np.round(xgbc_y_pred))/np.sum(confusion_matrix(Y_test, np.round(xgbc_y_pred))), annot=True, fmt=".1%",cmap="Greens")\n",
    "plt.title("XGBoost")\n",
    "\n",
    "# Naive Bayes model confusion matrix heatmap\n",
    "plt.subplot(2,3,6)\n",
    "sns.heatmap(confusion_matrix(Y_test, np.round(gnb_y_pred))/np.sum(confusion_matrix(Y_test, np.round(gnb_y_pred))), annot=True, fmt=".1%",cmap="Greens")\n",
    "plt.title("Naive Bayes")\n",
    "\n",
    "plt.savefig("figures/All confusion matrices")"
   ]
  },
  {
   "cell_type": "markdown",
   "metadata": {},
   "source": [
    "### 6.8  <a class=\"anchor\" id=\"6_8\"></a> Cross-validation"
   ]
  },
  {
   "cell_type": "code",
   "execution_count": 58,
   "metadata": {},
   "outputs": [
    {
     "data": {
      "image/png": "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",
      "text/plain": [
       "<Figure size 1152x720 with 1 Axes>"
      ]
     },
     "metadata": {
      "needs_background": "light"
     },
     "output_type": "display_data"
    }
   ],
   "source": [
    "#URL: https://machinelearningmastery.com/stacking-ensemble-machine-learning-with-python/\n",
    "\n",
    "fig, ax = plt.subplots(figsize = (16,10))\n",
    "\n",
    "# get a list of models to evaluate\n",
    "def get_models():\n",
    "\tmodels = dict()\n",
    "\tmodels["log"] = log\n",
    "\tmodels["knn"] = knn_7\n",
    "\tmodels["dtc"] = dtc\n",
    "\tmodels["rfc"] = rfc\n",
    "\tmodels["xgbc"] = xgbc\n",
    "\tmodels["gnb"] = gnb\n",
    "\treturn models\n",
    "\n",
    "# evaluate a given model using cross-validation\n",
    "def evaluate_model(model, X, Y):\n",
    "\tcv = RepeatedStratifiedKFold(n_splits=10, n_repeats=3, random_state=1)\n",
    "\tscores = cross_val_score(model, X, Y, scoring="accuracy", cv=cv, n_jobs=-1, error_score="raise")\n",
    "\treturn scores\n",
    " \n",
    "# get the models to evaluate\n",
    "models = get_models()\n",
    "# evaluate the models and store results\n",
    "results, names = list(), list()\n",
    "for name, model in models.items():\n",
    "  scores = evaluate_model(model, X, Y)\n",
    "  results.append(scores)\n",
    "  names.append(name)\n",
    "\n",
    "# plot model performance for comparison\n",
    "ax.set_title("figures/All models’ performances", size = 17, pad = 10)\n",
    "pyplot.boxplot(results, labels=names, showmeans=True)\n",
    "fig.savefig("figures/All models’ performances", dpi=fig.dpi)"
   ]
  },
  {
   "cell_type": "markdown",
   "metadata": {},
   "source": [
    "Orange lines indicate accuracy mean, green triangles - mean accuracy per model."
   ]
  },
  {
   "cell_type": "code",
   "execution_count": 57,
   "metadata": {},
   "outputs": [
    {
     "name": "stdout",
     "output_type": "stream",
     "text": [
      "LOG accuracy score is 49.5%\n",
      "KNN accuracy score is 57.199999999999996%\n",
      "DTC accuracy score is 62.4%\n",
      "RFC accuracy score is 68.10000000000001%\n",
      "XGB accuracy score is 69.6%\n",
      "GNB accuracy score is 6.2%\n"
     ]
    }
   ],
   "source": [
    "log_cv = cross_val_score(log, X_train, Y_train.values.ravel(), cv=6, scoring=\"accuracy\")\n",
    "print("LOG accuracy score is " + str(round(log_cv[1],3)*100) + "%")\n",
    "\n",
    "knn_cv = cross_val_score(knn_7, X_train, Y_train.values.ravel(), cv=6, scoring=\"accuracy\")\n",
    "print("KNN accuracy score is " + str(round(knn_cv[1],3)*100) + "%")\n",
    "\n",
    "dtc_cv = cross_val_score(dtc, X_train, Y_train.values.ravel(), cv=6, scoring=\"accuracy\")\n",
    "print("DTC accuracy score is " + str(round(dtc_cv[1],3)*100) + "%")\n",
    "\n",
    "rfc_cv = cross_val_score(rfc, X_train, Y_train.values.ravel(), cv=6, scoring=\"accuracy\")\n",
    "print("RFC accuracy score is " + str(round(rfc_cv[1],3)*100) + "%")\n",
    "\n",
    "xgbc_cv = cross_val_score(xgbc, X_train, Y_train.values.ravel(), cv=6, scoring=\"accuracy\")\n",
    "print("XGB accuracy score is " + str(round(xgbc_cv[1],3)*100) + "%")\n",
    "\n",
    "gnb_cv = cross_val_score(gnb, X_train, Y_train.values.ravel(), cv=6, scoring=\"accuracy\")\n",
    "print("GNB accuracy score is " + str(round(gnb_cv[1],3)*100) + "%")"
   ]
  },
  {
   "cell_type": "markdown",
   "metadata": {},
   "source": [
    "### 6.9  <a class=\"anchor\" id=\"6_9\"></a> Fine-tuning"
   ]
  },
  {
   "cell_type": "markdown",
   "metadata": {},
   "source": [
    "#### 6.9.1  <a class=\"anchor\" id=\"6_9_1\"></a> XGBoost grid search"
   ]
  },
  {
   "cell_type": "code",
   "execution_count": null,
   "metadata": {},
   "outputs": [],
   "source": [
    "# Look at parameters used by our current XGBoost model\n",
    "print("Parameters currently in use:\\n")\n",
    "pprint(xgb.get_params())"
   ]
  },
  {
   "cell_type": "code",
   "execution_count": null,
   "metadata": {},
   "outputs": [],
   "source": [
    "#URL: https://www.analyticsvidhya.com/blog/2016/03/complete-guide-parameter-tuning-xgboost-with-codes-python/\n",
    "\n",
    "# Defining parameter range\n",
    "xgb_grid = {"learning_rate":[0.1],\n",
    "    "n_estimators":[1000],\n",
    "    "max_depth":[4,5,6],\n",
    "    "min_child_weight":[6,8,10,12],\n",
    "    "gamma":[i/10.0 for i in range(0,5)],\n",
    "    "subsample":[i/10.0 for i in range(6,10)],\n",
    "    "colsample_bytree":[i/10.0 for i in range(6,10)],\n",
    "    "objective":["binary:logistic"],\n",
    "    "nthread":[4],\n",
    "    "scale_pos_weight":[1],\n",
    "    "seed":[1]}\n",
    "\n",
    "pprint(xgb_grid)"
   ]
  },
  {
   "cell_type": "code",
   "execution_count": null,
   "metadata": {},
   "outputs": [],
   "source": [
    "# Fitting the model for grid search\n",
    "#xgb_tuned = GridSearchCV(XGBClassifier(), xgb_grid, refit = True)\n",
    "#xgb_tuned.fit(X_train, Y_train.values.ravel())"
   ]
  },
  {
   "cell_type": "code",
   "execution_count": null,
   "metadata": {},
   "outputs": [],
   "source": [
    "# print best parameter after tuning\n",
    "#print(xgb_tuned.best_params_)\n",
    " \n",
    "# print how our model looks after hyper-parameter tuning\n",
    "#print(xgb_tuned.best_estimator_)"
   ]
  },
  {
   "cell_type": "code",
   "execution_count": null,
   "metadata": {},
   "outputs": [],
   "source": [
    "# Base model results\n",
    "#xgb_base_y_pred = xgb.predict(X_test)\n",
    "#xgb_base_accuracy = round(metrics.accuracy_score(Y_test, np.round(xgb_base_y_pred)), 3)*100\n",
    "#print("Accuracy of base XGB is " + str(xgb_base_accuracy)+"%")\n",
    "\n",
    "# Tuned model results\n",
    "#xgb_tuned = xgb_tuned.best_estimator_\n",
    "#xgb_tuned.fit(X_train, Y_train.values.ravel())\n",
    "#xgb_tuned_y_pred = xgb_tuned.predict(X_test)\n",
    "#xgb_tuned_accuracy = round(metrics.accuracy_score(Y_test, np.round(xgb_tuned_y_pred)), 3)*100\n",
    "\n",
    "#print("Improvement of {:0.1f}%".format(100 * (xgb_tuned_accuracy - xgb_base_accuracy) / xgb_base_accuracy))"
   ]
  },
  {
   "cell_type": "markdown",
   "metadata": {},
   "source": [
    "#### 6.9.2  <a class=\"anchor\" id=\"6_9_2\"></a> Random forest classifier grid search"
   ]
  },
  {
   "cell_type": "code",
   "execution_count": null,
   "metadata": {},
   "outputs": [],
   "source": [
    "# Look at parameters used by our current random forest\n",
    "#print("Parameters currently in use:\\n")\n",
    "#pprint(rfc.get_params())"
   ]
  },
  {
   "cell_type": "code",
   "execution_count": null,
   "metadata": {},
   "outputs": [],
   "source": [
    "# URL: https://towardsdatascience.com/hyperparameter-tuning-the-random-forest-in-python-using-scikit-learn-28d2aa77dd74\n",
    "\n",
    "#from sklearn.model_selection import RandomizedSearchCV\n",
    "# Number of trees in random forest\n",
    "#n_estimators = [int(x) for x in np.linspace(start = 100, stop = 2000, num = 10)]\n",
    "# Number of features to consider at every split\n",
    "#max_features = ["auto","sqrt"]\n",
    "# Maximum number of levels in tree\n",
    "#max_depth = [int(x) for x in np.linspace(10, 110, num = 11)]\n",
    "#max_depth.append(None)\n",
    "# Minimum number of samples required to split a node\n",
    "#min_samples_split = [2, 5, 10]\n",
    "# Minimum number of samples required at each leaf node\n",
    "#min_samples_leaf = [1, 2, 4]\n",
    "# Method of selecting samples for training each tree\n",
    "#bootstrap = [True, False]\n",
    "\n",
    "# Create the random grid\n",
    "#random_grid = {"n_estimators": n_estimators,\n",
    "#                     "max_features": max_features,\n",
    "#                     "max_depth": max_depth,\n",
    "#                     "min_samples_split": min_samples_split,\n",
    "#                      "min_samples_leaf": min_samples_leaf,\n",
    "#                      "bootstrap": bootstrap}\n",
    "#pprint(random_grid)"
   ]
  },
  {
   "cell_type": "code",
   "execution_count": null,
   "metadata": {},
   "outputs": [],
   "source": [
    "#rfc_tuned = RandomizedSearchCV(estimator = rfc,\n",
    "#                               param_distributions = random_grid,\n",
    "#                               n_iter = 100,\n",
    "#                               cv = 6,\n",
    "#                               verbose = 2,\n",
    "#                               random_state = 1,\n",
    "#                               n_jobs = -1)\n",
    "# Fit the random search model\n",
    "#rfc_tuned.fit(X_train, Y_train.values.ravel())"
   ]
  },
  {
   "cell_type": "code",
   "execution_count": null,
   "metadata": {},
   "outputs": [],
   "source": [
    "# Base model results\n",
    "#rfc = RandomForestClassifier(random_state = 1)\n",
    "#rfc.fit(X_train, Y_train.values.ravel())\n",
    "#rfc_base_y_pred = rfc.predict(X_test)\n",
    "#rfc_base_accuracy = round(metrics.accuracy_score(Y_test, np.round(rfc_base_y_pred)), 3)*100\n",
    "#print("Accuracy of base RFC is " + str(rfc_base_accuracy)+"%")\n",
    "\n",
    "# Tuned model results\n",
    "#rfc_tuned = rfc_tuned.best_estimator_\n",
    "#rfc_tuned.fit(X_train, Y_train.values.ravel())\n",
    "#rfc_tuned_y_pred = rfc_tuned.predict(X_test)\n",
    "#rfc_tuned_accuracy = round(metrics.accuracy_score(Y_test, np.round(rfc_tuned_y_pred)), 3)*100\n",
    "\n",
    "#print("Improvement of {:0.1f}%".format(100 * (rfc_tuned_accuracy - rfc_base_accuracy) / rfc_base_accuracy))"
   ]
  },
  {
   "cell_type": "markdown",
   "metadata": {},
   "source": [
    "#### 6.9.3  <a class=\"anchor\" id=\"6_9_3\"></a> Voting classifier"
   ]
  },
  {
   "cell_type": "code",
   "execution_count": null,
   "metadata": {},
   "outputs": [],
   "source": [
    "voting_clf = VotingClassifier(\n",
    "    estimators=[("xgb", xgb_tuned), ("rfc", rfc_tuned)],\n",
    "    voting="soft")\n",
    "\n",
    "voting_clf.fit(X_train, Y_train.values.ravel())\n",
    "voting_y_pred = voting_clf.predict(X_test)\n",
    "print(classification_report(Y_test, voting_y_pred.values.ravel()))"
   ]
  },
  {
   "cell_type": "code",
   "execution_count": null,
   "metadata": {},
   "outputs": [],
   "source": [
    "final_accuracy = round(metrics.accuracy_score(Y_test, np.round(voting_y_pred)), 3)*100\n",
    "print("Ultimate weighted average acccuracy of the model is " + str(final_accuracy)+"%")"
   ]
  },
  {
   "cell_type": "code",
   "execution_count": null,
   "metadata": {},
   "outputs": [],
   "source": [
    "print("Improvement of {:0.1f}%".format(100 * (final_accuracy - rfc_tuned_accuracy) / rfc_tuned_accuracy))"
   ]
  },
  {
   "cell_type": "markdown",
   "metadata": {},
   "source": [
    "#### 6.9.4  <a class=\"anchor\" id=\"6_9_4\"></a> Stacking"
   ]
  },
  {
   "cell_type": "code",
   "execution_count": null,
   "metadata": {},
   "outputs": [],
   "source": [
    "#URL: https://machinelearningmastery.com/stacking-ensemble-machine-learning-with-python/\n",
    "\n",
    "# get a stacking ensemble of models\n",
    "def get_stacking():\n",
    "\t# define the base models\n",
    "\tlevel0 = list()\n",
    "\tlevel0.append(("log", log))\n",
    "\tlevel0.append(("knn", knn_7))\n",
    "\tlevel0.append(("dtc", dtc))\n",
    "\tlevel0.append(("rfc", rfc))\n",
    "\tlevel0.append(("xgbc", xgbc))\n",
    "\n",
    "\t# define meta learner model\n",
    "\tlevel1 = xgbc\n",
    "\t# define the stacking ensemble\n",
    "\tmodel = StackingClassifier(estimators=level0, final_estimator=level1, cv=5)\n",
    "\treturn model\n",
    "\n",
    "# get a list of models to evaluate\n",
    "def get_models():\n",
    "\tmodels = dict()\n",
    "\tmodels["log"] = log\n",
    "\tmodels["knn"] = knn_7\n",
    "\tmodels["dtc"] = dtc\n",
    "\tmodels["rfc"] = rfc\n",
    "\tmodels["xgb"] = xgbc\n",
    "\tmodels["stacking"] = get_stacking()\n",
    "\treturn models\n",
    "\n",
    "# evaluate a given model using cross-validation\n",
    "def evaluate_model(model, X, Y):\n",
    "\tcv = RepeatedStratifiedKFold(n_splits=10, n_repeats=3, random_state=1)\n",
    "\tscores = cross_val_score(model, X, Y, scoring="accuracy", cv=cv, n_jobs=-1, error_score="raise")\n",
    "\treturn scores\n",
    "\n",
    "# get the models to evaluate\n",
    "models = get_models()\n",
    "# evaluate the models and store results\n",
    "results, names = list(), list()\n",
    "for name, model in models.items():\n",
    "\tscores = evaluate_model(model, X, Y)\n",
    "\tresults.append(scores)\n",
    "\tnames.append(name)\n",
    "\tprint(">%s %.3f (%.3f)" % (name, mean(scores), std(scores)))\n",
    "# plot model performance for comparison\n",
    "pyplot.boxplot(results, labels=names, showmeans=True)\n",
    "pyplot.show()"
   ]
  },
  {
   "cell_type": "markdown",
   "metadata": {},
   "source": [
    "The best fine-tuned model considered for final evaluation is ___."
   ]
  },
  {
   "cell_type": "code",
   "execution_count": null,
   "metadata": {},
   "outputs": [],
   "source": [
    "# Fit a model\n",
    "#final_model = rfc_tuned.fit(X_train, Y_train.values.ravel())\n",
    "\n",
    "# Predict probabilities\n",
    "#final_probs = rfc_tuned.predict_proba(X_test)"
   ]
  },
  {
   "cell_type": "markdown",
   "metadata": {},
   "source": [
    "### 6.10  <a class=\"anchor\" id=\"6_10\"></a> Evaluation"
   ]
  },
  {
   "cell_type": "markdown",
   "metadata": {},
   "source": [
    "#### 6.10.1  <a class=\"anchor\" id=\"6_10_1\"></a> Confusion matrix"
   ]
  },
  {
   "cell_type": "code",
   "execution_count": null,
   "metadata": {},
   "outputs": [],
   "source": [
    "# Final model confusion matrix heatmap\n",
    "plt.subplots(figsize = (8,8))\n",
    "sns.heatmap(confusion_matrix(Y_test, np.round(rfc_tuned_y_pred))/np.sum(confusion_matrix(Y_test, np.round(rfc_tuned_y_pred))), annot=True, fmt=".1%",cmap="Greens")\n",
    "plt.xlabel("Predicted Values", fontsize = 14) \n",
    "plt.ylabel("Actual Values", fontsize = 14)\n",
    "plt.title("Confusion Matrix of the Final Model", fontsize = 20)\n",
    "plt.savefig("Confusion Matrix of the Final Model.png")"
   ]
  },
  {
   "cell_type": "markdown",
   "metadata": {},
   "source": [
    "The rate of correctly classified unsuccessful artists and successful artists is 86.82% and 7.75% respectively. 3.10% of observations were classified as successful artists whilst actually being unsuccessful (this is the false positive rate). 2.33% of observations were false negatives, meaning they were predicted to be unsuccessful but were in fact, successful artists. Overall 94.57% of the predictions are accurately classified – this is a good score considering the data at hand, thus, the model performed well on the test set."
   ]
  },
  {
   "cell_type": "markdown",
   "metadata": {},
   "source": [
    "#### 6.10.2  <a class=\"anchor\" id=\"6_10_2\"></a> ROC curve"
   ]
  },
  {
   "cell_type": "code",
   "execution_count": null,
   "metadata": {},
   "outputs": [],
   "source": [
    "from sklearn.preprocessing import label_binarize\n",
    "from sklearn.multiclass import OneVsRestClassifier\n",
    "\n",
    "#  Refresh data that is ultimately used\n",
    "X = df[["year", "artwork_counts", "tokens",\n",
    "             "media", "collection",  "rights",\n",
    "             "creator", "art_series", "artwork_name", "likes"]]\n",
    "y = df["price_class"]\n",
    "\n",
    "# Shuffle and split training and test sets\n",
    "X_train, X_test, y_train, y_test = train_test_split(X, y, test_size=0.2, random_state=2022)\n",
    "\n",
    "# Binarize the output\n",
    "y = label_binarize(y, classes=[0, 1, 2])\n",
    "n_classes = y.shape[1]\n",
    "\n",
    "# Learn to predict each class against the other\n",
    "RFC = RandomForestClassifier(100, random_state = 2022)\n",
    "OVRC = OneVsRestClassifier(RFC)\n",
    "OVRC.fit(X_train, y_train)"
   ]
  },
  {
   "cell_type": "markdown",
   "metadata": {},
   "source": [
    "Let"s compute macro-average ROC curve and ROC area."
   ]
  },
  {
   "cell_type": "code",
   "execution_count": null,
   "metadata": {},
   "outputs": [],
   "source": [
    "#URL: https://stackoverflow.com/questions/45332410/roc-for-multiclass-classification\n",
    "\n",
    "from sklearn.metrics import roc_curve, auc\n",
    "from sklearn import datasets\n",
    "from sklearn.multiclass import OneVsRestClassifier\n",
    "from sklearn.svm import LinearSVC\n",
    "from sklearn.preprocessing import label_binarize\n",
    "from sklearn.model_selection import train_test_split\n",
    "import matplotlib.pyplot as plt\n",
    "\n",
    "y = label_binarize(y, classes=[0,1,2])\n",
    "n_classes = 3\n",
    "\n",
    "# shuffle and split training and test sets\n",
    "X_train, X_test, y_train, y_test =\\\n",
    "    train_test_split(X, y, test_size=0.2, random_state=1)\n",
    "\n",
    "# classifier\n",
    "y_score = rfc_tuned.fit(X_train, y_train).predict(X_test)\n",
    "\n",
    "# Compute ROC curve and ROC area for each class\n",
    "fpr = dict()\n",
    "tpr = dict()\n",
    "roc_auc = dict()\n",
    "for i in range(n_classes):\n",
    "    fpr[i], tpr[i], _ = roc_curve(y_test[:, i], y_score[:, i])\n",
    "    roc_auc[i] = auc(fpr[i], tpr[i])\n",
    "\n",
    "# Plot of a ROC curve for a specific class\n",
    "for i in range(n_classes):\n",
    "    plt.figure()\n",
    "    plt.plot(fpr[i], tpr[i], label="ROC curve (area = %0.2f)" % roc_auc[i])\n",
    "    plt.plot([0, 1], [0, 1], "k--")\n",
    "    plt.xlim([0.0, 1.0])\n",
    "    plt.ylim([0.0, 1.05])\n",
    "    plt.xlabel("False Positive Rate")\n",
    "    plt.ylabel("True Positive Rate")\n",
    "    plt.title("Receiver operating characteristic example")\n",
    "    plt.legend(loc=\"lower right\")\n",
    "    plt.show()"
   ]
  },
  {
   "cell_type": "markdown",
   "metadata": {},
   "source": [
    "Classifiers that give curves closer to the top-left corner indicate a better performance. As we can see, the curve for class 0 (cheap NFTs) VS all comes the closest to the ideal clinical discriminator, in comparison to the other 2 lines.\n",
    "\n",
    "Class 1 (average NFTs) VS all has a moderate accuracy result, with AUC equal to 0.68 which feels like an average of our all trained models in chapter 6.\n",
    "\n",
    "With the ROC curve being the closest o the 45-degree diagonal, class 3 (expensice NFTs) is the least accurate test, unfortunately, having nearly no predictive value."
   ]
  },
  {
   "cell_type": "markdown",
   "metadata": {},
   "source": [
    "#### 6.10.3  <a class=\"anchor\" id=\"6_10_3\"></a> Precision-Recall curve"
   ]
  },
  {
   "cell_type": "code",
   "execution_count": null,
   "metadata": {},
   "outputs": [],
   "source": [
    "# Predict class values - THIS IS FOR BINARY CLASSIFICATION!\n",
    "yhat = final_model.predict(X_test)\n",
    "final_precision, final_recall, _ = precision_recall_curve(Y_test, np.round(final_probs))\n",
    "final_f1, final_auc = f1_score(Y_test, yhat), auc(final_recall, final_precision)\n",
    "\n",
    "# Summarize scores\n",
    "print("Final model scores: f1=%.1f auc=%.1f" % (final_f1, final_auc))\n",
    "\n",
    "# Plot the precision-recall curves\n",
    "no_skill = len(Y_test[Y_test==1]) / len(Y_test)\n",
    "pyplot.plot([0, 1], [no_skill, no_skill], linestyle="--", label="No skill", color="orange")\n",
    "pyplot.plot(final_recall, final_precision, marker=".", label="Final model", color="green")\n",
    "\n",
    "pyplot.xlabel("Recall")\n",
    "pyplot.ylabel("Precision")\n",
    "pyplot.legend()\n",
    "ax.set_title(\"Precision-recall curve\", size = 17, pad = 10)\n",
    "fig.savefig(\"Precision-recall curve.png\", dpi=fig.dpi)"
   ]
  },
  {
   "cell_type": "markdown",
   "metadata": {},
   "source": [
    "Given the imbalance between classes, the precision-recall relationship is analysed to further evaluate the success of the model’s classifications. Precision quantifies the number of predicted successful artists by the model which actually belongs to that class. Recall quantifies the number of ‘successful’ predictions out of all true successful instances in the data. AUC score is desired to be as high as possible, with the maximum being 1. The higher the score the higher both precision and recall will be. Thus, the model will return more accurate results (precision) whilst the majority of results returned is positive (recall). The models’ AUC is 0.688 which is satisfactory for the analysis."
   ]
  },
  {
   "cell_type": "markdown",
   "metadata": {},
   "source": [
    "#### 6.10.4  <a class=\"anchor\" id=\"6_10_4\"></a> Feature importance"
   ]
  },
  {
   "cell_type": "code",
   "execution_count": null,
   "metadata": {},
   "outputs": [],
   "source": [
    "feature_imp = pd.Series(rfc_tuned.feature_importances_, index=X.columns).sort_values(ascending=False)\n",
    "feature_imp"
   ]
  },
  {
   "cell_type": "code",
   "execution_count": null,
   "metadata": {},
   "outputs": [],
   "source": [
    "# Create a new DataFrame for feature importance\n",
    "rfc_tuned.feature_names = X.columns\n",
    "rfc_tuned_feature_importance = pd.DataFrame({"Feature": rfc_tuned.feature_names,"Importance":rfc_tuned.feature_importances_})\n",
    "rfc_tuned_feature_importance = rfc_tuned_feature_importance.sort_values(by = ["Importance"], ascending = False)\n",
    "\n",
    "# Plotting the feature importance graph\n",
    "fig, ax = plt.subplots(figsize = (16,10))\n",
    "sns.barplot(rfc_tuned_feature_importance["Importance"], rfc_tuned_feature_importance["Feature"], color = "darkgreen")\n",
    "plt.xlabel("Importance Score")\n",
    "plt.ylabel("Features")\n",
    "plt.xticks(rotation = "horizontal")\n",
    "plt.title("Feature Importance")\n",
    "plt.savefig("Feature Importance.png")"
   ]
  },
  {
   "cell_type": "code",
   "execution_count": null,
   "metadata": {},
   "outputs": [],
   "source": [
    "# Plotting a bar plot for feature importance\n",
    "%matplotlib inline\n",
    "\n",
    "plt.figure(figsize = (14,7))\n",
    "sns.barplot(rfc_tuned_feature_importance["Feature"], rfc_tuned_feature_importance["Importance"], color = "darkgreen")\n",
    "plt.title("Feature Importance")\n",
    "plt.xlabel("Features")\n",
    "plt.ylabel("Feature Importance Score")\n",
    "plt.xticks(rotation = "vertical")\n",
    "plt.legend()\n",
    "plt.show()"
   ]
  },
  {
   "cell_type": "code",
   "execution_count": null,
   "metadata": {},
   "outputs": [],
   "source": [
    "# Generating the model on all features\n",
    "\n",
    "X_train, X_test, Y_train, Y_test = train_test_split(X, Y, test_size = 0.2, random_state=1, stratify=Y)\n",
    "\n",
    "rfc_tuned.fit(X_train,Y_train.values.ravel())\n",
    "y_pred=rfc_tuned.predict(X_test)\n",
    "print("Accuracy of the final model with all features is " + str(round(metrics.accuracy_score(Y_test, np.round(y_pred)), 3)*100)+"%")"
   ]
  },
  {
   "cell_type": "code",
   "execution_count": null,
   "metadata": {},
   "outputs": [],
   "source": [
    "# 1 feature dropped\n",
    "\n",
    "X = X[["artist_name", "stream_count", "total_user",\t"artist_passion_score",\n",
    "      "playlist_passion_score",\t"artist_freq",\t"playlist_var",\n",
    "      "female_perc",\t"dependent_perc",\t"youngadult_perc",\t"adult_perc",\t"senior_perc"]]\n",
    "X_train, X_test, Y_train, Y_test = train_test_split(X, Y, test_size = 0.2, random_state=1, stratify=Y)\n",
    "\n",
    "rfc_tuned.fit(X_train,Y_train.values.ravel())\n",
    "y_pred=rfc_tuned.predict(X_test)\n",
    "print("Accuracy of the final model with 1 feature dropped is " + str(round(metrics.accuracy_score(Y_test, np.round(y_pred)), 3)*100)+"%")"
   ]
  },
  {
   "cell_type": "markdown",
   "metadata": {},
   "source": [
    "Diminishing returns in performance occur after dropping just 1 feature, therefore all of the original features were kept to maintain maximum accuracy."
   ]
  },
  {
   "cell_type": "markdown",
   "metadata": {},
   "source": [
    "## Part 7: <a class=\"anchor\" id=\"part7\"></a> Decomposition"
   ]
  },
  {
   "cell_type": "markdown",
   "metadata": {},
   "source": [
    "### 7.0 <a class=\"anchor\" id=\"7_0\"></a> Data splitting"
   ]
  },
  {
   "cell_type": "code",
   "execution_count": null,
   "metadata": {},
   "outputs": [],
   "source": [
    "# Choose dependent variables\n",
    "Y = df[["Rec_Class"]]\n",
    "\n",
    "# Drop the dependent variables from the feature data set\n",
    "X = df.drop(columns = ["Project_ID","Avg_Profit", "Avg_Rec", "Rec_Class", "Profit_Class"])\n",
    "\n",
    "# Split data set into train and test\n",
    "X_train, X_test, Y_train, Y_test = train_test_split(X, Y, test_size = 0.2, random_state=1, stratify = Y)\n",
    "\n",
    "print(f"No. of training data: {X_train.shape[0]}")\n",
    "print(f"No. of training targets: {Y_train.shape[0]}")\n",
    "print(f"No. of testing data: {X_test.shape[0]}")\n",
    "print(f"No. of testing targets: {Y_test.shape[0]}")"
   ]
  },
  {
   "cell_type": "markdown",
   "metadata": {},
   "source": [
    "### 7.1 <a class=\"anchor\" id=\"7_1\"></a> Feature selection"
   ]
  },
  {
   "cell_type": "markdown",
   "metadata": {},
   "source": [
    "### 7.2 <a class=\"anchor\" id=\"7_2\"></a> Feature extraction"
   ]
  },
  {
   "cell_type": "markdown",
   "metadata": {},
   "source": [
    "### 7.3 <a class=\"anchor\" id=\"7_3\"></a> Locally Linear Embedding"
   ]
  },
  {
   "cell_type": "code",
   "execution_count": 33,
   "metadata": {},
   "outputs": [
    {
     "data": {
      "text/html": [
       "<div>\n",
       "<style scoped>\n",
       "    .dataframe tbody tr th:only-of-type {\n",
       "        vertical-align: middle;\n",
       "    }\n",
       "\n",
       "    .dataframe tbody tr th {\n",
       "        vertical-align: top;\n",
       "    }\n",
       "\n",
       "    .dataframe thead th {\n",
       "        text-align: right;\n",
       "    }\n",
       "</style>\n",
       "<table border=\"1\" class=\"dataframe\">\n",
       "  <thead>\n",
       "    <tr style=\"text-align: right;\">\n",
       "      <th></th>\n",
       "      <th>Country</th>\n",
       "      <th>Office</th>\n",
       "      <th>Sector</th>\n",
       "      <th>Project_Size_Sort_Order</th>\n",
       "      <th>Project_Duration_Weeks</th>\n",
       "      <th>Total_Num_Stages</th>\n",
       "      <th>Is_Multi_Discipline_Project</th>\n",
       "      <th>Is_First_Client_Project</th>\n",
       "      <th>Default_Rate_Group</th>\n",
       "      <th>Perc_of_Stages_with_Fixed_Fee</th>\n",
       "      <th>Manager_ID</th>\n",
       "      <th>Manager_Team</th>\n",
       "      <th>Manager_Is_Recent</th>\n",
       "      <th>Manager_Empl_Months</th>\n",
       "      <th>Director_ID</th>\n",
       "      <th>Director_Team</th>\n",
       "      <th>Director_Is_Recent</th>\n",
       "      <th>Director_Empl_Months</th>\n",
       "      <th>Perc_of_Subcontractors</th>\n",
       "      <th>Is_Front_Loaded</th>\n",
       "      <th>Delivered_on_Time</th>\n",
       "      <th>Total_Data_Issues</th>\n",
       "      <th>Avg_Rec</th>\n",
       "      <th>Avg_Profit</th>\n",
       "      <th>Rec_Class</th>\n",
       "      <th>Profit_Class</th>\n",
       "    </tr>\n",
       "  </thead>\n",
       "  <tbody>\n",
       "    <tr>\n",
       "      <th>0</th>\n",
       "      <td>0</td>\n",
       "      <td>7</td>\n",
       "      <td>6</td>\n",
       "      <td>4.0</td>\n",
       "      <td>4.0</td>\n",
       "      <td>5.0</td>\n",
       "      <td>0</td>\n",
       "      <td>1</td>\n",
       "      <td>1</td>\n",
       "      <td>0.80</td>\n",
       "      <td>7612852</td>\n",
       "      <td>7</td>\n",
       "      <td>0</td>\n",
       "      <td>125.0</td>\n",
       "      <td>7612709.0</td>\n",
       "      <td>6</td>\n",
       "      <td>0</td>\n",
       "      <td>431.0</td>\n",
       "      <td>0.0</td>\n",
       "      <td>1</td>\n",
       "      <td>1</td>\n",
       "      <td>2.0</td>\n",
       "      <td>0.901941</td>\n",
       "      <td>0.431859</td>\n",
       "      <td>2</td>\n",
       "      <td>1</td>\n",
       "    </tr>\n",
       "    <tr>\n",
       "      <th>1</th>\n",
       "      <td>0</td>\n",
       "      <td>4</td>\n",
       "      <td>0</td>\n",
       "      <td>1.0</td>\n",
       "      <td>238.0</td>\n",
       "      <td>4.0</td>\n",
       "      <td>0</td>\n",
       "      <td>1</td>\n",
       "      <td>1</td>\n",
       "      <td>0.00</td>\n",
       "      <td>7612773</td>\n",
       "      <td>4</td>\n",
       "      <td>0</td>\n",
       "      <td>317.0</td>\n",
       "      <td>7612747.0</td>\n",
       "      <td>4</td>\n",
       "      <td>0</td>\n",
       "      <td>431.0</td>\n",
       "      <td>0.0</td>\n",
       "      <td>0</td>\n",
       "      <td>1</td>\n",
       "      <td>2.0</td>\n",
       "      <td>1.000000</td>\n",
       "      <td>0.000000</td>\n",
       "      <td>2</td>\n",
       "      <td>0</td>\n",
       "    </tr>\n",
       "    <tr>\n",
       "      <th>2</th>\n",
       "      <td>0</td>\n",
       "      <td>4</td>\n",
       "      <td>0</td>\n",
       "      <td>1.0</td>\n",
       "      <td>0.0</td>\n",
       "      <td>2.0</td>\n",
       "      <td>0</td>\n",
       "      <td>1</td>\n",
       "      <td>1</td>\n",
       "      <td>0.00</td>\n",
       "      <td>7612773</td>\n",
       "      <td>4</td>\n",
       "      <td>0</td>\n",
       "      <td>317.0</td>\n",
       "      <td>7612768.0</td>\n",
       "      <td>4</td>\n",
       "      <td>0</td>\n",
       "      <td>337.0</td>\n",
       "      <td>0.0</td>\n",
       "      <td>0</td>\n",
       "      <td>1</td>\n",
       "      <td>0.0</td>\n",
       "      <td>0.832050</td>\n",
       "      <td>0.554700</td>\n",
       "      <td>2</td>\n",
       "      <td>1</td>\n",
       "    </tr>\n",
       "    <tr>\n",
       "      <th>3</th>\n",
       "      <td>0</td>\n",
       "      <td>4</td>\n",
       "      <td>1</td>\n",
       "      <td>3.0</td>\n",
       "      <td>121.0</td>\n",
       "      <td>4.0</td>\n",
       "      <td>0</td>\n",
       "      <td>1</td>\n",
       "      <td>1</td>\n",
       "      <td>0.25</td>\n",
       "      <td>7612773</td>\n",
       "      <td>4</td>\n",
       "      <td>0</td>\n",
       "      <td>317.0</td>\n",
       "      <td>7612709.0</td>\n",
       "      <td>6</td>\n",
       "      <td>0</td>\n",
       "      <td>431.0</td>\n",
       "      <td>0.0</td>\n",
       "      <td>0</td>\n",
       "      <td>1</td>\n",
       "      <td>1.0</td>\n",
       "      <td>0.782964</td>\n",
       "      <td>0.622067</td>\n",
       "      <td>2</td>\n",
       "      <td>1</td>\n",
       "    </tr>\n",
       "    <tr>\n",
       "      <th>4</th>\n",
       "      <td>0</td>\n",
       "      <td>4</td>\n",
       "      <td>0</td>\n",
       "      <td>7.0</td>\n",
       "      <td>2.0</td>\n",
       "      <td>6.0</td>\n",
       "      <td>0</td>\n",
       "      <td>1</td>\n",
       "      <td>1</td>\n",
       "      <td>0.00</td>\n",
       "      <td>7612695</td>\n",
       "      <td>4</td>\n",
       "      <td>0</td>\n",
       "      <td>419.0</td>\n",
       "      <td>7612695.0</td>\n",
       "      <td>4</td>\n",
       "      <td>0</td>\n",
       "      <td>419.0</td>\n",
       "      <td>0.0</td>\n",
       "      <td>0</td>\n",
       "      <td>1</td>\n",
       "      <td>3.0</td>\n",
       "      <td>1.000000</td>\n",
       "      <td>0.000000</td>\n",
       "      <td>2</td>\n",
       "      <td>0</td>\n",
       "    </tr>\n",
       "    <tr>\n",
       "      <th>...</th>\n",
       "      <td>...</td>\n",
       "      <td>...</td>\n",
       "      <td>...</td>\n",
       "      <td>...</td>\n",
       "      <td>...</td>\n",
       "      <td>...</td>\n",
       "      <td>...</td>\n",
       "      <td>...</td>\n",
       "      <td>...</td>\n",
       "      <td>...</td>\n",
       "      <td>...</td>\n",
       "      <td>...</td>\n",
       "      <td>...</td>\n",
       "      <td>...</td>\n",
       "      <td>...</td>\n",
       "      <td>...</td>\n",
       "      <td>...</td>\n",
       "      <td>...</td>\n",
       "      <td>...</td>\n",
       "      <td>...</td>\n",
       "      <td>...</td>\n",
       "      <td>...</td>\n",
       "      <td>...</td>\n",
       "      <td>...</td>\n",
       "      <td>...</td>\n",
       "      <td>...</td>\n",
       "    </tr>\n",
       "    <tr>\n",
       "      <th>9626</th>\n",
       "      <td>0</td>\n",
       "      <td>4</td>\n",
       "      <td>9</td>\n",
       "      <td>3.0</td>\n",
       "      <td>18.0</td>\n",
       "      <td>2.0</td>\n",
       "      <td>0</td>\n",
       "      <td>0</td>\n",
       "      <td>0</td>\n",
       "      <td>1.00</td>\n",
       "      <td>7612752</td>\n",
       "      <td>5</td>\n",
       "      <td>0</td>\n",
       "      <td>176.0</td>\n",
       "      <td>7612691.0</td>\n",
       "      <td>5</td>\n",
       "      <td>0</td>\n",
       "      <td>175.0</td>\n",
       "      <td>0.0</td>\n",
       "      <td>0</td>\n",
       "      <td>1</td>\n",
       "      <td>1.0</td>\n",
       "      <td>0.853686</td>\n",
       "      <td>0.520788</td>\n",
       "      <td>2</td>\n",
       "      <td>1</td>\n",
       "    </tr>\n",
       "    <tr>\n",
       "      <th>9627</th>\n",
       "      <td>0</td>\n",
       "      <td>5</td>\n",
       "      <td>0</td>\n",
       "      <td>1.0</td>\n",
       "      <td>1.0</td>\n",
       "      <td>3.0</td>\n",
       "      <td>0</td>\n",
       "      <td>0</td>\n",
       "      <td>0</td>\n",
       "      <td>0.67</td>\n",
       "      <td>9501752</td>\n",
       "      <td>15</td>\n",
       "      <td>0</td>\n",
       "      <td>11.0</td>\n",
       "      <td>7859152.0</td>\n",
       "      <td>12</td>\n",
       "      <td>0</td>\n",
       "      <td>28.0</td>\n",
       "      <td>0.0</td>\n",
       "      <td>0</td>\n",
       "      <td>1</td>\n",
       "      <td>1.0</td>\n",
       "      <td>0.853686</td>\n",
       "      <td>0.520788</td>\n",
       "      <td>2</td>\n",
       "      <td>1</td>\n",
       "    </tr>\n",
       "    <tr>\n",
       "      <th>9628</th>\n",
       "      <td>0</td>\n",
       "      <td>6</td>\n",
       "      <td>0</td>\n",
       "      <td>1.0</td>\n",
       "      <td>1.0</td>\n",
       "      <td>2.0</td>\n",
       "      <td>0</td>\n",
       "      <td>0</td>\n",
       "      <td>0</td>\n",
       "      <td>0.50</td>\n",
       "      <td>7809410</td>\n",
       "      <td>16</td>\n",
       "      <td>0</td>\n",
       "      <td>28.0</td>\n",
       "      <td>10018105.0</td>\n",
       "      <td>6</td>\n",
       "      <td>1</td>\n",
       "      <td>4.0</td>\n",
       "      <td>0.0</td>\n",
       "      <td>0</td>\n",
       "      <td>1</td>\n",
       "      <td>1.0</td>\n",
       "      <td>0.853686</td>\n",
       "      <td>0.520788</td>\n",
       "      <td>2</td>\n",
       "      <td>1</td>\n",
       "    </tr>\n",
       "    <tr>\n",
       "      <th>9629</th>\n",
       "      <td>0</td>\n",
       "      <td>5</td>\n",
       "      <td>3</td>\n",
       "      <td>1.0</td>\n",
       "      <td>3.0</td>\n",
       "      <td>1.0</td>\n",
       "      <td>0</td>\n",
       "      <td>0</td>\n",
       "      <td>0</td>\n",
       "      <td>1.00</td>\n",
       "      <td>7612860</td>\n",
       "      <td>9</td>\n",
       "      <td>0</td>\n",
       "      <td>168.0</td>\n",
       "      <td>7612841.0</td>\n",
       "      <td>11</td>\n",
       "      <td>0</td>\n",
       "      <td>286.0</td>\n",
       "      <td>0.0</td>\n",
       "      <td>0</td>\n",
       "      <td>1</td>\n",
       "      <td>0.0</td>\n",
       "      <td>0.853686</td>\n",
       "      <td>0.520788</td>\n",
       "      <td>2</td>\n",
       "      <td>1</td>\n",
       "    </tr>\n",
       "    <tr>\n",
       "      <th>9630</th>\n",
       "      <td>0</td>\n",
       "      <td>5</td>\n",
       "      <td>3</td>\n",
       "      <td>1.0</td>\n",
       "      <td>4.0</td>\n",
       "      <td>1.0</td>\n",
       "      <td>0</td>\n",
       "      <td>0</td>\n",
       "      <td>0</td>\n",
       "      <td>1.00</td>\n",
       "      <td>7612860</td>\n",
       "      <td>9</td>\n",
       "      <td>0</td>\n",
       "      <td>168.0</td>\n",
       "      <td>7612841.0</td>\n",
       "      <td>11</td>\n",
       "      <td>0</td>\n",
       "      <td>286.0</td>\n",
       "      <td>0.0</td>\n",
       "      <td>0</td>\n",
       "      <td>1</td>\n",
       "      <td>1.0</td>\n",
       "      <td>0.853686</td>\n",
       "      <td>0.520788</td>\n",
       "      <td>2</td>\n",
       "      <td>1</td>\n",
       "    </tr>\n",
       "  </tbody>\n",
       "</table>\n",
       "<p>9631 rows × 26 columns</p>\n",
       "</div>"
      ],
      "text/plain": [
       "      Country  Office  Sector  Project_Size_Sort_Order  \\\n",
       "0           0       7       6                      4.0   \n",
       "1           0       4       0                      1.0   \n",
       "2           0       4       0                      1.0   \n",
       "3           0       4       1                      3.0   \n",
       "4           0       4       0                      7.0   \n",
       "...       ...     ...     ...                      ...   \n",
       "9626        0       4       9                      3.0   \n",
       "9627        0       5       0                      1.0   \n",
       "9628        0       6       0                      1.0   \n",
       "9629        0       5       3                      1.0   \n",
       "9630        0       5       3                      1.0   \n",
       "\n",
       "      Project_Duration_Weeks  Total_Num_Stages  Is_Multi_Discipline_Project  \\\n",
       "0                        4.0               5.0                            0   \n",
       "1                      238.0               4.0                            0   \n",
       "2                        0.0               2.0                            0   \n",
       "3                      121.0               4.0                            0   \n",
       "4                        2.0               6.0                            0   \n",
       "...                      ...               ...                          ...   \n",
       "9626                    18.0               2.0                            0   \n",
       "9627                     1.0               3.0                            0   \n",
       "9628                     1.0               2.0                            0   \n",
       "9629                     3.0               1.0                            0   \n",
       "9630                     4.0               1.0                            0   \n",
       "\n",
       "      Is_First_Client_Project  Default_Rate_Group  \\\n",
       "0                           1                   1   \n",
       "1                           1                   1   \n",
       "2                           1                   1   \n",
       "3                           1                   1   \n",
       "4                           1                   1   \n",
       "...                       ...                 ...   \n",
       "9626                        0                   0   \n",
       "9627                        0                   0   \n",
       "9628                        0                   0   \n",
       "9629                        0                   0   \n",
       "9630                        0                   0   \n",
       "\n",
       "      Perc_of_Stages_with_Fixed_Fee  Manager_ID  Manager_Team  \\\n",
       "0                              0.80     7612852             7   \n",
       "1                              0.00     7612773             4   \n",
       "2                              0.00     7612773             4   \n",
       "3                              0.25     7612773             4   \n",
       "4                              0.00     7612695             4   \n",
       "...                             ...         ...           ...   \n",
       "9626                           1.00     7612752             5   \n",
       "9627                           0.67     9501752            15   \n",
       "9628                           0.50     7809410            16   \n",
       "9629                           1.00     7612860             9   \n",
       "9630                           1.00     7612860             9   \n",
       "\n",
       "      Manager_Is_Recent  Manager_Empl_Months  Director_ID  Director_Team  \\\n",
       "0                     0                125.0    7612709.0              6   \n",
       "1                     0                317.0    7612747.0              4   \n",
       "2                     0                317.0    7612768.0              4   \n",
       "3                     0                317.0    7612709.0              6   \n",
       "4                     0                419.0    7612695.0              4   \n",
       "...                 ...                  ...          ...            ...   \n",
       "9626                  0                176.0    7612691.0              5   \n",
       "9627                  0                 11.0    7859152.0             12   \n",
       "9628                  0                 28.0   10018105.0              6   \n",
       "9629                  0                168.0    7612841.0             11   \n",
       "9630                  0                168.0    7612841.0             11   \n",
       "\n",
       "      Director_Is_Recent  Director_Empl_Months  Perc_of_Subcontractors  \\\n",
       "0                      0                 431.0                     0.0   \n",
       "1                      0                 431.0                     0.0   \n",
       "2                      0                 337.0                     0.0   \n",
       "3                      0                 431.0                     0.0   \n",
       "4                      0                 419.0                     0.0   \n",
       "...                  ...                   ...                     ...   \n",
       "9626                   0                 175.0                     0.0   \n",
       "9627                   0                  28.0                     0.0   \n",
       "9628                   1                   4.0                     0.0   \n",
       "9629                   0                 286.0                     0.0   \n",
       "9630                   0                 286.0                     0.0   \n",
       "\n",
       "      Is_Front_Loaded  Delivered_on_Time  Total_Data_Issues   Avg_Rec  \\\n",
       "0                   1                  1                2.0  0.901941   \n",
       "1                   0                  1                2.0  1.000000   \n",
       "2                   0                  1                0.0  0.832050   \n",
       "3                   0                  1                1.0  0.782964   \n",
       "4                   0                  1                3.0  1.000000   \n",
       "...               ...                ...                ...       ...   \n",
       "9626                0                  1                1.0  0.853686   \n",
       "9627                0                  1                1.0  0.853686   \n",
       "9628                0                  1                1.0  0.853686   \n",
       "9629                0                  1                0.0  0.853686   \n",
       "9630                0                  1                1.0  0.853686   \n",
       "\n",
       "      Avg_Profit  Rec_Class  Profit_Class  \n",
       "0       0.431859          2             1  \n",
       "1       0.000000          2             0  \n",
       "2       0.554700          2             1  \n",
       "3       0.622067          2             1  \n",
       "4       0.000000          2             0  \n",
       "...          ...        ...           ...  \n",
       "9626    0.520788          2             1  \n",
       "9627    0.520788          2             1  \n",
       "9628    0.520788          2             1  \n",
       "9629    0.520788          2             1  \n",
       "9630    0.520788          2             1  \n",
       "\n",
       "[9631 rows x 26 columns]"
      ]
     },
     "execution_count": 33,
     "metadata": {},
     "output_type": "execute_result"
    }
   ],
   "source": [
    "df.drop(columns = ["Unnamed: 0", "Project_ID"], inplace = True)\n",
    "df"
   ]
  },
  {
   "cell_type": "code",
   "execution_count": 25,
   "metadata": {},
   "outputs": [],
   "source": [
    "from sklearn.datasets import make_swiss_roll\n",
    "X, t = make_swiss_roll(n_samples=1000, noise=0.2, random_state=1)"
   ]
  },
  {
   "cell_type": "code",
   "execution_count": 26,
   "metadata": {},
   "outputs": [],
   "source": [
    "from sklearn.manifold import LocallyLinearEmbedding\n",
    "\n",
    "lle = LocallyLinearEmbedding(n_components=2, n_neighbors=10, random_state=1)\n",
    "X_reduced = lle.fit_transform(X)"
   ]
  },
  {
   "cell_type": "code",
   "execution_count": 27,
   "metadata": {},
   "outputs": [
    {
     "data": {
      "image/png": "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",
      "text/plain": [
       "<Figure size 432x288 with 1 Axes>"
      ]
     },
     "metadata": {
      "needs_background": "light"
     },
     "output_type": "display_data"
    }
   ],
   "source": [
    "plt.title(\"Unrolled swiss roll using LLE\", fontsize=14)\n",
    "plt.scatter(X_reduced[:, 0], X_reduced[:, 1], c=t, cmap=plt.cm.hot)\n",
    "plt.xlabel(\"$z_1$\", fontsize=18)\n",
    "plt.ylabel(\"$z_2$\", fontsize=18)\n",
    "plt.axis([-0.065, 0.055, -0.1, 0.12])\n",
    "plt.grid(True)\n",
    "plt.show()"
   ]
  },
  {
   "cell_type": "code",
   "execution_count": null,
   "metadata": {},
   "outputs": [],
   "source": []
  }
 ],
 "metadata": {
  "kernelspec": {
   "display_name": "Python 3.10.2 ("venv": venv)",
   "language": "python",
   "name": "python3"
  },
  "language_info": {
   "codemirror_mode": {
    "name": "ipython",
    "version": 3
   },
   "file_extension": ".py",
   "mimetype": "text/x-python",
   "name": "python",
   "nbconvert_exporter": "python",
   "pygments_lexer": "ipython3",
   "version": "3.10.2"
  },
  "orig_nbformat": 4,
  "vscode": {
   "interpreter": {
    "hash": "32faf87829e52f10b3379fa51fb017496aba8a2082e84bf41be67a5b199752f4"
   }
  }
 },
 "nbformat": 4,
 "nbformat_minor": 2
}
