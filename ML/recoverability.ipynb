{
 "cells": [
  {
   "cell_type": "markdown",
   "metadata": {},
   "source": [
    "<h1 align=\"center\">MSIN0114: Business Analytics Consulting Project</h1>\n",
    "<h2 align=\"center\">S2R Analytics, pt. 3</h2>"
   ]
  },
  {
   "cell_type": "markdown",
   "metadata": {},
   "source": [
    "# Table of Contents\n",
    "\n",
    "* [Part 5](#part5): Regression\n",
    "    * [5.0](#5_0): Data splitting\n",
    "<br />\n",
    "<br />\n",
    "* [Part 6](#part6): Classification\n",
    "    * [6.0](#6_0): Data splitting\n",
    "<br />\n",
    "<br />\n",
    "* [Part 7](#part7): Decomposition\n",
    "    * [7.0](#7_0): Data splitting\n",
    "<br />\n",
    "<br />\n",
    "* [Part 8](#part8): Performance evaluation\n",
    "* [Part 9](#part9): Feature importance and statistical tests\n",
    "* [Part 10](#part10): Converting the output"
   ]
  },
  {
   "cell_type": "markdown",
   "metadata": {},
   "source": [
    "## Notebook Setup"
   ]
  },
  {
   "cell_type": "code",
   "execution_count": 1,
   "metadata": {},
   "outputs": [],
   "source": [
    "#Essentials\n",
    "import pandas as pd\n",
    "from pandas import Series, DataFrame\n",
    "from pandas.api.types import CategoricalDtype\n",
    "pd.options.display.max_columns = None\n",
    "import sqlite3\n",
    "import pyodbc\n",
    "import numpy as np; np.random.seed(1)\n",
    "\n",
    "#Image creation and display\n",
    "import seaborn as sns\n",
    "import matplotlib.pyplot as plt\n",
    "import matplotlib.ticker as mtick\n",
    "import matplotlib.patches as mpatches\n",
    "from matplotlib import pyplot\n",
    "import plotly.express as px\n",
    "import plotly.graph_objects as go\n",
    "#from image import image, display\n",
    "\n",
    "#Preprocessing\n",
    "from sklearn import preprocessing\n",
    "from sklearn.model_selection import train_test_split\n",
    "from sklearn.preprocessing import StandardScaler\n",
    "from sklearn.preprocessing import RobustScaler\n",
    "from sklearn.preprocessing import MinMaxScaler\n",
    "from sklearn.preprocessing import LabelEncoder\n",
    "from sklearn.compose import ColumnTransformer\n",
    "from sklearn.compose import make_column_transformer\n",
    "from sklearn.pipeline import Pipeline\n",
    "from sklearn.pipeline import make_pipeline\n",
    "\n",
    "#Models\n",
    "from sklearn.linear_model import LinearRegression\n",
    "from sklearn.linear_model import Lasso\n",
    "from sklearn.svm import SVR\n",
    "from sklearn.tree import DecisionTreeRegressor\n",
    "from sklearn.ensemble import RandomForestRegressor\n",
    "from xgboost import XGBRegressor\n",
    "from sklearn.naive_bayes import GaussianNB\n",
    "\n",
    "from sklearn.linear_model import LogisticRegression\n",
    "from sklearn.neighbors import KNeighborsClassifier\n",
    "from sklearn.tree import DecisionTreeClassifier\n",
    "from sklearn.ensemble import RandomForestClassifier\n",
    "from xgboost import XGBClassifier\n",
    "from pprint import pprint\n",
    "from sklearn.model_selection import GridSearchCV\n",
    "from sklearn.ensemble import VotingClassifier\n",
    "from sklearn.base import clone\n",
    "from sklearn.ensemble import StackingClassifier\n",
    "from sklearn.ensemble import BaggingClassifier\n",
    "\n",
    "#Metrics of accuracy\n",
    "from numpy import mean\n",
    "from numpy import std\n",
    "from sklearn import metrics\n",
    "from sklearn.metrics import mean_absolute_error\n",
    "from sklearn.metrics import mean_squared_error\n",
    "from sklearn.model_selection import GridSearchCV\n",
    "from sklearn.model_selection import StratifiedKFold\n",
    "from sklearn.model_selection import RepeatedStratifiedKFold\n",
    "from sklearn.model_selection import cross_val_score\n",
    "from sklearn.model_selection import cross_val_predict\n",
    "from sklearn.metrics import f1_score, precision_score, recall_score\n",
    "from sklearn.metrics import classification_report\n",
    "from sklearn.metrics import confusion_matrix\n",
    "from sklearn.metrics import ConfusionMatrixDisplay\n",
    "from sklearn.metrics import roc_curve, auc, precision_recall_curve\n",
    "from sklearn.metrics import roc_auc_score\n",
    "from sklearn.preprocessing import label_binarize\n",
    "from sklearn.multiclass import OneVsRestClassifier\n",
    "\n",
    "#Other\n",
    "import itertools as it\n",
    "import io\n",
    "import os\n",
    "os.sys.path\n",
    "import sys\n",
    "import glob\n",
    "import concurrent.futures\n",
    "from __future__ import print_function\n",
    "import binascii\n",
    "import struct\n",
    "from PIL import Image\n",
    "import scipy\n",
    "import scipy.misc\n",
    "import scipy.cluster\n",
    "import datetime, time\n",
    "import functools, operator\n",
    "from datetime import datetime\n",
    "from numpy.random import seed\n",
    "from numpy.random import randn\n",
    "from numpy import percentile"
   ]
  },
  {
   "cell_type": "code",
   "execution_count": 2,
   "metadata": {},
   "outputs": [],
   "source": [
    "df = pd.read_csv('csv-files/preprocessed_data.csv')"
   ]
  },
  {
   "cell_type": "markdown",
   "metadata": {},
   "source": [
    "## Part 5: <a class=\"anchor\" id=\"part5\"></a> Regression"
   ]
  },
  {
   "cell_type": "markdown",
   "metadata": {},
   "source": [
    "### 5.0 <a class=\"anchor\" id=\"5_1\"></a> Data splitting"
   ]
  },
  {
   "cell_type": "code",
   "execution_count": 3,
   "metadata": {},
   "outputs": [
    {
     "name": "stdout",
     "output_type": "stream",
     "text": [
      "No. of training data: 7704\n",
      "No. of training targets: 7704\n",
      "No. of testing data: 1927\n",
      "No. of testing targets: 1927\n"
     ]
    }
   ],
   "source": [
    "# Choose dependent variables\n",
    "Y = df[['Avg_Rec']]\n",
    "\n",
    "# Drop the dependent variables from the feature data set\n",
    "X = df.drop(columns = ['Project_ID','Avg_Profit', 'Avg_Rec', 'Rec_Class', 'Profit_Class'])\n",
    "\n",
    "# Scale the explanatory variables\n",
    "df_1 = pd.DataFrame(RobustScaler().fit_transform(X), columns=X.columns)\n",
    "\n",
    "# Split data set into train and test\n",
    "X_train, X_test, Y_train, Y_test = train_test_split(X, Y, test_size = 0.2, random_state=1)\n",
    "\n",
    "print(f'No. of training data: {X_train.shape[0]}')\n",
    "print(f'No. of training targets: {Y_train.shape[0]}')\n",
    "print(f'No. of testing data: {X_test.shape[0]}')\n",
    "print(f'No. of testing targets: {Y_test.shape[0]}')"
   ]
  },
  {
   "cell_type": "markdown",
   "metadata": {},
   "source": [
    "### 5.1 <a class=\"anchor\" id=\"5_1\"></a> Linear regression"
   ]
  },
  {
   "cell_type": "code",
   "execution_count": 4,
   "metadata": {},
   "outputs": [
    {
     "name": "stdout",
     "output_type": "stream",
     "text": [
      "Linear Regression R2 on train set:  0.1\n",
      "Linear Regression R2 on test set:  0.1\n"
     ]
    }
   ],
   "source": [
    "lr = LinearRegression()\n",
    "lr.fit(X_train, Y_train.values.ravel())\n",
    "\n",
    "# Train data set\n",
    "y_pred_train_lr = lr.predict(X_train)\n",
    "lr_mse_train = mean_squared_error(Y_train, y_pred_train_lr)\n",
    "lr_rmse_train = np.sqrt(lr_mse_train)\n",
    "lr_r2_train = metrics.r2_score(Y_train, y_pred_train_lr)\n",
    "print('Linear Regression R2 on train set: ', round(lr_r2_train, 2))\n",
    "\n",
    "# Test data set\n",
    "y_pred_test_lr = lr.predict(X_test)\n",
    "lr_mse_test = mean_squared_error(Y_test, y_pred_test_lr)\n",
    "lr_rmse_test = np.sqrt(lr_mse_test)\n",
    "lr_r2_test = metrics.r2_score(Y_test, y_pred_test_lr)\n",
    "print('Linear Regression R2 on test set: ', round(lr_r2_test, 2))"
   ]
  },
  {
   "cell_type": "markdown",
   "metadata": {},
   "source": [
    "### 5.2 <a class=\"anchor\" id=\"5_2\"></a> Lasso regression"
   ]
  },
  {
   "cell_type": "code",
   "execution_count": 5,
   "metadata": {},
   "outputs": [
    {
     "name": "stdout",
     "output_type": "stream",
     "text": [
      "Lasso Regression R2 on train set:  0.01\n",
      "Lasso Regression R2 on test set:  0.0\n"
     ]
    }
   ],
   "source": [
    "lasso = Lasso(random_state = 1)\n",
    "lasso.fit(X_train, Y_train.values.ravel())\n",
    "\n",
    "# Train data set\n",
    "y_pred_train_lasso = lasso.predict(X_train)\n",
    "lasso_mse_train = mean_squared_error(Y_train, y_pred_train_lasso)\n",
    "lasso_rmse_train = np.sqrt(lasso_mse_train)\n",
    "lasso_R2_train = metrics.r2_score(Y_train, y_pred_train_lasso)\n",
    "print('Lasso Regression R2 on train set: ', round(lasso_R2_train, 2))\n",
    "\n",
    "# Test data set\n",
    "y_pred_test_lasso = lasso.predict(X_test)\n",
    "lasso_mse_test = mean_squared_error(Y_test, y_pred_test_lasso)\n",
    "lasso_rmse_test = np.sqrt(lasso_mse_test)\n",
    "lasso_R2_test = metrics.r2_score(Y_test, y_pred_test_lasso)\n",
    "print('Lasso Regression R2 on test set: ', round(lasso_R2_test, 2))"
   ]
  },
  {
   "cell_type": "markdown",
   "metadata": {},
   "source": [
    "### 5.3 <a class=\"anchor\" id=\"5_3\"></a> Decision tree regressor"
   ]
  },
  {
   "cell_type": "code",
   "execution_count": 6,
   "metadata": {},
   "outputs": [
    {
     "name": "stdout",
     "output_type": "stream",
     "text": [
      "Decision Tree R2 on train set:  0.98\n",
      "Decision Tree R2 on test set:  -0.38\n"
     ]
    }
   ],
   "source": [
    "dtr = DecisionTreeRegressor(random_state = 1)\n",
    "dtr.fit(X_train, Y_train.values.ravel())\n",
    "\n",
    "# Train data set\n",
    "y_pred_train_dtr = dtr.predict(X_train)\n",
    "dtr_mse_train = mean_squared_error(Y_train, y_pred_train_dtr)\n",
    "dtr_rmse_train = np.sqrt(dtr_mse_train)\n",
    "dtr_r2_train = metrics.r2_score(Y_train, y_pred_train_dtr)\n",
    "print('Decision Tree R2 on train set: ', round(dtr_r2_train, 2))\n",
    "\n",
    "# Test data set\n",
    "y_pred_test_dtr = dtr.predict(X_test)\n",
    "dtr_mse_test = mean_squared_error(Y_test, y_pred_test_dtr)\n",
    "dtr_rmse_test = np.sqrt(dtr_mse_test)\n",
    "dtr_r2_test = metrics.r2_score(Y_test, y_pred_test_dtr)\n",
    "print('Decision Tree R2 on test set: ', round(dtr_r2_test, 2))"
   ]
  },
  {
   "cell_type": "markdown",
   "metadata": {},
   "source": [
    "### 5.4 <a class=\"anchor\" id=\"5_4\"></a> Random forest regressor"
   ]
  },
  {
   "cell_type": "code",
   "execution_count": 7,
   "metadata": {},
   "outputs": [
    {
     "name": "stdout",
     "output_type": "stream",
     "text": [
      "Random Forest R2 on train set:  0.88\n",
      "Random Forest R2 on test set:  0.27\n"
     ]
    }
   ],
   "source": [
    "rfr = RandomForestRegressor(random_state = 1)\n",
    "rfr.fit(X_train, Y_train.values.ravel())\n",
    "\n",
    "# Train data set\n",
    "y_pred_train_rfr = rfr.predict(X_train)\n",
    "rfr_mse_train = mean_squared_error(Y_train, y_pred_train_rfr)\n",
    "rfr_rmse_train = np.sqrt(rfr_mse_train)\n",
    "rfr_R2_train = metrics.r2_score(Y_train, y_pred_train_rfr)\n",
    "print('Random Forest R2 on train set: ', round(rfr_R2_train, 2))\n",
    "\n",
    "# Test data set\n",
    "y_pred_test_rfr = rfr.predict(X_test)\n",
    "rfr_mse_test = mean_squared_error(Y_test, y_pred_test_rfr)\n",
    "rfr_rmse_test = np.sqrt(rfr_mse_test)\n",
    "rfr_R2_test = metrics.r2_score(Y_test, y_pred_test_rfr)\n",
    "print('Random Forest R2 on test set: ', round(rfr_R2_test, 2))"
   ]
  },
  {
   "cell_type": "markdown",
   "metadata": {},
   "source": [
    "### 5.5 <a class=\"anchor\" id=\"5_5\"></a> XGBoost regressor"
   ]
  },
  {
   "cell_type": "code",
   "execution_count": 8,
   "metadata": {},
   "outputs": [
    {
     "name": "stdout",
     "output_type": "stream",
     "text": [
      "XGBoost R2 on train set:  0.7\n",
      "XGBoost R2 on test set:  0.27\n"
     ]
    }
   ],
   "source": [
    "xgbr = XGBRegressor(random_state = 1)\n",
    "xgbr.fit(X_train, Y_train.values.ravel())\n",
    "\n",
    "# Train data set\n",
    "y_pred_train_xgbr = xgbr.predict(X_train)\n",
    "xgbr_mse_train = mean_squared_error(Y_train, y_pred_train_xgbr)\n",
    "xgbr_rmse_train = np.sqrt(xgbr_mse_train)\n",
    "xgbr_R2_train = metrics.r2_score(Y_train, y_pred_train_xgbr)\n",
    "print('XGBoost R2 on train set: ', round(xgbr_R2_train, 2))\n",
    "\n",
    "# Test data set\n",
    "y_pred_test_xgbr = xgbr.predict(X_test)\n",
    "xgbr_mse_test = mean_squared_error(Y_test, y_pred_test_xgbr)\n",
    "xgbr_rmse_test = np.sqrt(xgbr_mse_test)\n",
    "xgbr_R2_test = metrics.r2_score(Y_test, y_pred_test_xgbr)\n",
    "print('XGBoost R2 on test set: ', round(xgbr_R2_test, 2))"
   ]
  },
  {
   "cell_type": "code",
   "execution_count": 13,
   "metadata": {},
   "outputs": [
    {
     "name": "stderr",
     "output_type": "stream",
     "text": [
      "c:\\Users\\MarfaPopova\\S2R Analytics\\Development & Support Team - Power BI for Synergy - Advanced Analytics\\DataFlowExtract\\venv\\lib\\site-packages\\seaborn\\_decorators.py:36: FutureWarning: Pass the following variables as keyword args: x, y. From version 0.12, the only valid positional argument will be `data`, and passing other arguments without an explicit keyword will result in an error or misinterpretation.\n",
      "  warnings.warn(\n"
     ]
    },
    {
     "data": {
      "image/png": "[encoded data removed]",
      "text/plain": [
       "<Figure size 1152x720 with 1 Axes>"
      ]
     },
     "metadata": {
      "needs_background": "light"
     },
     "output_type": "display_data"
    }
   ],
   "source": [
    "# Create a new DataFrame for feature importance\n",
    "xgbr.feature_names = X.columns\n",
    "final_feature_importance = pd.DataFrame({'Feature': xgbr.feature_names,'Importance':xgbr.feature_importances_})\n",
    "final_feature_importance = final_feature_importance.sort_values(by = ['Importance'], ascending = False)\n",
    "\n",
    "# Plotting the feature importance graph\n",
    "fig, ax = plt.subplots(figsize = (16,10))\n",
    "sns.barplot(final_feature_importance['Importance'], final_feature_importance['Feature'], color = 'pink')\n",
    "plt.xlabel('Importance Score')\n",
    "plt.ylabel('Features')\n",
    "plt.xticks(rotation = 'horizontal')\n",
    "plt.title('Regression Feature Importance Explaining Recoverability')\n",
    "plt.savefig('figures/Regression Feature Importance Explaining Recoverability.png')"
   ]
  },
  {
   "cell_type": "markdown",
   "metadata": {},
   "source": [
    "### 5.6  <a class=\"anchor\" id=\"5_6\"></a> Models comparison"
   ]
  },
  {
   "cell_type": "markdown",
   "metadata": {},
   "source": [
    "The highest R2 score is 0.25 by random forest regresssor, making regression models very unreliable in this case.\n",
    "\n",
    "* Conclusion: Regression does not work for this dataset.\n",
    "* Reason: The results of test dataset are way too diferent from nearly perfect training results of 0.98 and 0.88.\n",
    "* Cause: The continuous uints of dependent varuable 'Avg_Rec' are very close to wach other, making it difficult for the algorithm to see a pattern between such similar distances between each point.\n",
    "* Next: Classification should work better."
   ]
  },
  {
   "cell_type": "markdown",
   "metadata": {},
   "source": [
    "## Part 6: <a class=\"anchor\" id=\"part6\"></a> Classification"
   ]
  },
  {
   "cell_type": "markdown",
   "metadata": {},
   "source": [
    "### 6.0 <a class=\"anchor\" id=\"6_0\"></a> Data splitting"
   ]
  },
  {
   "cell_type": "code",
   "execution_count": 23,
   "metadata": {},
   "outputs": [
    {
     "name": "stdout",
     "output_type": "stream",
     "text": [
      "No. of training data: 7704\n",
      "No. of training targets: 7704\n",
      "No. of testing data: 1927\n",
      "No. of testing targets: 1927\n"
     ]
    }
   ],
   "source": [
    "# Choose dependent variables\n",
    "Y = df[['Rec_Class']]\n",
    "\n",
    "# Drop the dependent variables from the feature data set\n",
    "X = df.drop(columns = ['Project_ID','Avg_Profit', 'Avg_Rec', 'Rec_Class', 'Profit_Class'])\n",
    "\n",
    "# Scale the explanatory variables\n",
    "#df_2 = pd.DataFrame(RobustScaler().fit_transform(X), columns=X.columns)\n",
    "\n",
    "# Split data set into train and test\n",
    "X_train, X_test, Y_train, Y_test = train_test_split(X, Y, test_size = 0.2, random_state=1, stratify = Y)\n",
    "\n",
    "print(f'No. of training data: {X_train.shape[0]}')\n",
    "print(f'No. of training targets: {Y_train.shape[0]}')\n",
    "print(f'No. of testing data: {X_test.shape[0]}')\n",
    "print(f'No. of testing targets: {Y_test.shape[0]}')"
   ]
  },
  {
   "cell_type": "markdown",
   "metadata": {},
   "source": [
    "### 6.1 <a class=\"anchor\" id=\"6_1\"></a> Logistic regression"
   ]
  },
  {
   "cell_type": "code",
   "execution_count": 15,
   "metadata": {},
   "outputs": [
    {
     "name": "stdout",
     "output_type": "stream",
     "text": [
      "Accuracy score of LR: 46.9%\n",
      "Precision score of LR: 72.1%\n",
      "Recall score of LR: 46.9%\n",
      "F1 of LR: 30.0%\n"
     ]
    }
   ],
   "source": [
    "# Create a logistic regression model\n",
    "log = LogisticRegression(random_state = 1)\n",
    "\n",
    "# Train the model using train set\n",
    "log.fit(X_train, Y_train.values.ravel())\n",
    "\n",
    "# Predict the response for test set\n",
    "log_y_pred=lr.predict(X_test)\n",
    "\n",
    "# Accuracy measures\n",
    "print(\"Accuracy score of LR: \" + str(round(metrics.accuracy_score(Y_test, np.round(log_y_pred)), 3)*100)+\"%\")\n",
    "print(\"Precision score of LR: \" + str(round(metrics.precision_score(Y_test, np.round(log_y_pred), average=\"weighted\", zero_division=1), 3)*100)+\"%\")\n",
    "print(\"Recall score of LR: \" + str(round(metrics.recall_score(Y_test, np.round(log_y_pred), average=\"weighted\"), 3)*100)+\"%\")\n",
    "print(\"F1 of LR: \" + str(round(metrics.f1_score(Y_test, np.round(log_y_pred), average=\"weighted\"), 3)*100)+\"%\")"
   ]
  },
  {
   "cell_type": "markdown",
   "metadata": {},
   "source": [
    "### 6.2 <a class=\"anchor\" id=\"6_2\"></a> KNeighbors classifier"
   ]
  },
  {
   "cell_type": "code",
   "execution_count": 16,
   "metadata": {},
   "outputs": [
    {
     "name": "stdout",
     "output_type": "stream",
     "text": [
      "Accuracy score of KNN-3: 56.10000000000001%\n",
      "Precision score of KNN-3: 56.39999999999999%\n",
      "Recall score of KNN-3 56.10000000000001%\n",
      "F1 of KNN-3: 56.2%\n"
     ]
    }
   ],
   "source": [
    "# Create KNN Classifier model\n",
    "np.random.seed(1)\n",
    "knn_3 = KNeighborsClassifier(n_neighbors = 3)\n",
    "\n",
    "# Train the model using train set\n",
    "knn_3.fit(X_train, Y_train.values.ravel())\n",
    "\n",
    "# Predict the response for test set\n",
    "knn_3_y_pred = knn_3.predict(X_test)\n",
    "\n",
    "# Accuracy measures\n",
    "print(\"Accuracy score of KNN-3: \" + str(round(metrics.accuracy_score(Y_test, np.round(knn_3_y_pred)), 3)*100)+\"%\")\n",
    "print(\"Precision score of KNN-3: \" + str(round(metrics.precision_score(Y_test, np.round(knn_3_y_pred), average=\"weighted\", zero_division=1), 3)*100)+\"%\")\n",
    "print(\"Recall score of KNN-3 \" + str(round(metrics.recall_score(Y_test, np.round(knn_3_y_pred), average=\"weighted\"), 3)*100)+\"%\")\n",
    "print(\"F1 of KNN-3: \" + str(round(metrics.f1_score(Y_test, np.round(knn_3_y_pred), average=\"weighted\"), 3)*100)+\"%\")"
   ]
  },
  {
   "cell_type": "code",
   "execution_count": 17,
   "metadata": {},
   "outputs": [
    {
     "name": "stdout",
     "output_type": "stream",
     "text": [
      "Accuracy score of KNN-7: 57.3%\n",
      "Precision score of KNN-7: 56.10000000000001%\n",
      "Recall score of KNN-7 57.3%\n",
      "F1 of KNN-7: 56.599999999999994%\n"
     ]
    }
   ],
   "source": [
    "np.random.seed(1)\n",
    "knn_7 = KNeighborsClassifier(n_neighbors=7)\n",
    "knn_7.fit(X_train, Y_train.values.ravel())\n",
    "knn_7_y_pred = knn_7.predict(X_test)\n",
    "\n",
    "print(\"Accuracy score of KNN-7: \" + str(round(metrics.accuracy_score(Y_test, np.round(knn_7_y_pred)), 3)*100)+\"%\")\n",
    "print(\"Precision score of KNN-7: \" + str(round(metrics.precision_score(Y_test, np.round(knn_7_y_pred), average=\"weighted\", zero_division=1), 3)*100)+\"%\")\n",
    "print(\"Recall score of KNN-7 \" + str(round(metrics.recall_score(Y_test, np.round(knn_7_y_pred), average=\"weighted\"), 3)*100)+\"%\")\n",
    "print(\"F1 of KNN-7: \" + str(round(metrics.f1_score(Y_test, np.round(knn_7_y_pred), average=\"weighted\"), 3)*100)+\"%\")"
   ]
  },
  {
   "cell_type": "markdown",
   "metadata": {},
   "source": [
    "### 6.3 <a class=\"anchor\" id=\"6_3\"></a> Decision tree classifier"
   ]
  },
  {
   "cell_type": "code",
   "execution_count": 18,
   "metadata": {},
   "outputs": [
    {
     "name": "stdout",
     "output_type": "stream",
     "text": [
      "Accuracy score of DTC: 62.3%\n",
      "Precision score of DTC: 62.6%\n",
      "Recall score of DTC: 62.3%\n",
      "F1 of DTC: 62.4%\n"
     ]
    }
   ],
   "source": [
    "# Create Decision Tree Classifier model\n",
    "dtc = DecisionTreeClassifier(random_state = 1)\n",
    "\n",
    "# Train the model using train set\n",
    "dtc = dtc.fit(X_train, Y_train.values.ravel())\n",
    "\n",
    "# Predict the response for test set\n",
    "dtc_y_pred = dtc.predict(X_test)\n",
    "\n",
    "# Accuracy measures\n",
    "print(\"Accuracy score of DTC: \" + str(round(metrics.accuracy_score(Y_test, np.round(dtc_y_pred)), 3)*100)+\"%\")\n",
    "print(\"Precision score of DTC: \" + str(round(metrics.precision_score(Y_test, np.round(dtc_y_pred), average=\"weighted\", zero_division=1), 3)*100)+\"%\")\n",
    "print(\"Recall score of DTC: \" + str(round(metrics.recall_score(Y_test, np.round(dtc_y_pred), average=\"weighted\"), 3)*100)+\"%\")\n",
    "print(\"F1 of DTC: \" + str(round(metrics.f1_score(Y_test, np.round(dtc_y_pred), average=\"weighted\"), 3)*100)+\"%\")"
   ]
  },
  {
   "cell_type": "markdown",
   "metadata": {},
   "source": [
    "### 6.4 <a class=\"anchor\" id=\"6_4\"></a> Random forest classifier"
   ]
  },
  {
   "cell_type": "code",
   "execution_count": 19,
   "metadata": {},
   "outputs": [
    {
     "name": "stdout",
     "output_type": "stream",
     "text": [
      "Accuracy score of RFC: 69.3%\n",
      "Precision score of RFC: 68.2%\n",
      "Recall score of RFC: 69.3%\n",
      "F1 of RFC: 68.60000000000001%\n"
     ]
    }
   ],
   "source": [
    "# Create a Gaussian Classifier model\n",
    "rfc = RandomForestClassifier(random_state = 1)\n",
    "\n",
    "# Train the model using train set\n",
    "rfc.fit(X_train, Y_train.values.ravel())\n",
    "\n",
    "# Predict the response for test set\n",
    "rfc_y_pred=rfc.predict(X_test)\n",
    "\n",
    "# Accuracy measures\n",
    "print(\"Accuracy score of RFC: \" + str(round(metrics.accuracy_score(Y_test, np.round(rfc_y_pred)), 3)*100)+\"%\")\n",
    "print(\"Precision score of RFC: \" + str(round(metrics.precision_score(Y_test, np.round(rfc_y_pred), average=\"weighted\", zero_division=1), 3)*100)+\"%\")\n",
    "print(\"Recall score of RFC: \" + str(round(metrics.recall_score(Y_test, np.round(rfc_y_pred), average=\"weighted\"), 3)*100)+\"%\")\n",
    "print(\"F1 of RFC: \" + str(round(metrics.f1_score(Y_test, np.round(rfc_y_pred), average=\"weighted\"), 3)*100)+\"%\")"
   ]
  },
  {
   "cell_type": "markdown",
   "metadata": {},
   "source": [
    "### 6.5 <a class=\"anchor\" id=\"6_5\"></a> Gaussian classifier"
   ]
  },
  {
   "cell_type": "code",
   "execution_count": 20,
   "metadata": {},
   "outputs": [
    {
     "name": "stdout",
     "output_type": "stream",
     "text": [
      "Accuracy score of XGBC: 70.7%\n",
      "Precision score of XGBC: 69.6%\n",
      "Recall score of XGBC: 70.7%\n",
      "F1 of XGBC: 69.69999999999999%\n"
     ]
    }
   ],
   "source": [
    "# Create a XGBoost model\n",
    "xgbc = XGBClassifier(n_estimators=100, learning_rate=0.05, booster='gbtree', random_state = 1)\n",
    "\n",
    "# Train the model using train set\n",
    "xgbc.fit(X_train, Y_train.values.ravel())\n",
    "\n",
    "# Predict the response for test set\n",
    "xgbc_y_pred=xgbc.predict(X_test)\n",
    "\n",
    "# Accuracy measures\n",
    "print(\"Accuracy score of XGBC: \" + str(round(metrics.accuracy_score(Y_test, np.round(xgbc_y_pred)), 3)*100)+\"%\")\n",
    "print(\"Precision score of XGBC: \" + str(round(metrics.precision_score(Y_test, np.round(xgbc_y_pred), average=\"weighted\", zero_division=1), 3)*100)+\"%\")\n",
    "print(\"Recall score of XGBC: \" + str(round(metrics.recall_score(Y_test, np.round(xgbc_y_pred), average=\"weighted\"), 3)*100)+\"%\")\n",
    "print(\"F1 of XGBC: \" + str(round(metrics.f1_score(Y_test, np.round(xgbc_y_pred), average=\"weighted\"), 3)*100)+\"%\")"
   ]
  },
  {
   "cell_type": "code",
   "execution_count": 24,
   "metadata": {},
   "outputs": [
    {
     "name": "stderr",
     "output_type": "stream",
     "text": [
      "c:\\Users\\MarfaPopova\\S2R Analytics\\Development & Support Team - Power BI for Synergy - Advanced Analytics\\DataFlowExtract\\venv\\lib\\site-packages\\seaborn\\_decorators.py:36: FutureWarning: Pass the following variables as keyword args: x, y. From version 0.12, the only valid positional argument will be `data`, and passing other arguments without an explicit keyword will result in an error or misinterpretation.\n",
      "  warnings.warn(\n"
     ]
    },
    {
     "data": {
      "image/png": "[encoded data removed]",
      "text/plain": [
       "<Figure size 1152x720 with 1 Axes>"
      ]
     },
     "metadata": {
      "needs_background": "light"
     },
     "output_type": "display_data"
    }
   ],
   "source": [
    "# Create a new DataFrame for feature importance\n",
    "xgbc.feature_names = X.columns\n",
    "final_feature_importance = pd.DataFrame({'Feature': xgbc.feature_names,'Importance':xgbc.feature_importances_})\n",
    "final_feature_importance = final_feature_importance.sort_values(by = ['Importance'], ascending = False)\n",
    "\n",
    "# Plotting the feature importance graph\n",
    "fig, ax = plt.subplots(figsize = (16,10))\n",
    "sns.barplot(final_feature_importance['Importance'], final_feature_importance['Feature'], color = 'skyblue')\n",
    "plt.xlabel('Importance Score')\n",
    "plt.ylabel('Features')\n",
    "plt.xticks(rotation = 'horizontal')\n",
    "plt.title('Classification Feature Importance Explaining Recoverability')\n",
    "plt.savefig('figures/Classification Feature Importance Explaining Recoverability.png')"
   ]
  },
  {
   "cell_type": "markdown",
   "metadata": {},
   "source": [
    "### 6.6 <a class=\"anchor\" id=\"6_6\"></a> Naive Bayes"
   ]
  },
  {
   "cell_type": "code",
   "execution_count": 29,
   "metadata": {},
   "outputs": [
    {
     "name": "stdout",
     "output_type": "stream",
     "text": [
      "Accuracy score of GNB: 6.800000000000001%\n",
      "Precision score of GNB: 59.599999999999994%\n",
      "Recall score of GNB: 6.800000000000001%\n",
      "F1 of GNB: 7.199999999999999%\n"
     ]
    }
   ],
   "source": [
    "# Create a XGBoost model\n",
    "gnb = GaussianNB()\n",
    "\n",
    "# Train the model using train set\n",
    "gnb.fit(X_train, Y_train.values.ravel())\n",
    "\n",
    "# Predict the response for test set\n",
    "gnb_y_pred = gnb.predict(X_test)\n",
    "\n",
    "# Accuracy measures\n",
    "print(\"Accuracy score of GNB: \" + str(round(metrics.accuracy_score(Y_test, np.round(gnb_y_pred)), 3)*100)+\"%\")\n",
    "print(\"Precision score of GNB: \" + str(round(metrics.precision_score(Y_test, np.round(gnb_y_pred), average=\"weighted\", zero_division=1), 3)*100)+\"%\")\n",
    "print(\"Recall score of GNB: \" + str(round(metrics.recall_score(Y_test, np.round(gnb_y_pred), average=\"weighted\"), 3)*100)+\"%\")\n",
    "print(\"F1 of GNB: \" + str(round(metrics.f1_score(Y_test, np.round(gnb_y_pred), average=\"weighted\"), 3)*100)+\"%\")"
   ]
  },
  {
   "cell_type": "markdown",
   "metadata": {},
   "source": [
    "### 6.7  <a class=\"anchor\" id=\"6_7\"></a> Models comparison"
   ]
  },
  {
   "cell_type": "markdown",
   "metadata": {},
   "source": [
    "Gaussian classifier has resulted in the best scored among all metrics, varying between 69.1 and 70.0%. This model will proceed to fine-tuning and will be included in ensemble learning with second best model, random forest classifier.\n",
    "\n",
    "* Conclusion: Regression does not work for this dataset.\n",
    "* Reason: The results of test dataset are way too diferent from perfect training results of 0.9 and 1.\n",
    "* Cause: The continuous uints of dependent varuable 'Avg_Rec' are very close to wach other, making it difficult for the algorithm to see a pattern between such similar distances between each point.\n",
    "* Next: Classification should work better."
   ]
  },
  {
   "cell_type": "code",
   "execution_count": 30,
   "metadata": {},
   "outputs": [
    {
     "data": {
      "image/png": "[encoded data removed]",
      "text/plain": [
       "<Figure size 1152x720 with 12 Axes>"
      ]
     },
     "metadata": {
      "needs_background": "light"
     },
     "output_type": "display_data"
    }
   ],
   "source": [
    "# Setting figure to compare the confusion matrix of each model based on heatmaps\n",
    "fig, ax = plt.subplots(figsize = (16,10))\n",
    "ax.set_title('Confusion matrix heatmaps of trained models', size = 17, pad = 10)\n",
    "\n",
    "# Logistic model confusion matrix heatmap\n",
    "plt.subplot(2,3,1)\n",
    "sns.heatmap(confusion_matrix(Y_test, np.round(log_y_pred))/np.sum(confusion_matrix(Y_test, np.round(log_y_pred))), annot=True, fmt='.1%',cmap='Greens')\n",
    "plt.title('Logistic Regression')\n",
    "\n",
    "# KNN confusion matrix heatmap\n",
    "plt.subplot(2,3,2)\n",
    "sns.heatmap(confusion_matrix(Y_test, np.round(knn_7_y_pred))/np.sum(confusion_matrix(Y_test, np.round(knn_7_y_pred))), annot=True, fmt='.1%',cmap='Greens')\n",
    "plt.title('KNN')\n",
    "\n",
    "# Decision Tree classifier confusion matrix heatmap\n",
    "plt.subplot(2,3,3)\n",
    "sns.heatmap(confusion_matrix(Y_test, np.round(dtc_y_pred))/np.sum(confusion_matrix(Y_test, np.round(dtc_y_pred))), annot=True, fmt='.1%',cmap='Greens')\n",
    "plt.title('Decision Tree')\n",
    "\n",
    "# Random Forest classifier confusion matrix heatmap\n",
    "plt.subplot(2,3,4)\n",
    "sns.heatmap(confusion_matrix(Y_test, np.round(rfc_y_pred))/np.sum(confusion_matrix(Y_test, np.round(rfc_y_pred))), annot=True, fmt='.1%',cmap='Greens')\n",
    "plt.title('Random Forest')\n",
    "\n",
    "# XGBoost confusion matrix heatmap\n",
    "plt.subplot(2,3,5)\n",
    "sns.heatmap(confusion_matrix(Y_test, np.round(xgbc_y_pred))/np.sum(confusion_matrix(Y_test, np.round(xgbc_y_pred))), annot=True, fmt='.1%',cmap='Greens')\n",
    "plt.title('XGBoost')\n",
    "\n",
    "# Naive Bayes model confusion matrix heatmap\n",
    "plt.subplot(2,3,6)\n",
    "sns.heatmap(confusion_matrix(Y_test, np.round(gnb_y_pred))/np.sum(confusion_matrix(Y_test, np.round(gnb_y_pred))), annot=True, fmt='.1%',cmap='Greens')\n",
    "plt.title('Naive Bayes')\n",
    "\n",
    "plt.savefig('figures/All confusion matrices')"
   ]
  },
  {
   "cell_type": "markdown",
   "metadata": {},
   "source": [
    "### 6.8  <a class=\"anchor\" id=\"6_8\"></a> Cross-validation"
   ]
  },
  {
   "cell_type": "code",
   "execution_count": 65,
   "metadata": {},
   "outputs": [
    {
     "data": {
      "image/png": "[encoded data removed]",
      "text/plain": [
       "<Figure size 1152x720 with 1 Axes>"
      ]
     },
     "metadata": {
      "needs_background": "light"
     },
     "output_type": "display_data"
    }
   ],
   "source": [
    "#URL: https://machinelearningmastery.com/stacking-ensemble-machine-learning-with-python/\n",
    "\n",
    "fig, ax = plt.subplots(figsize = (16,10))\n",
    "\n",
    "# get a list of models to evaluate\n",
    "def get_models():\n",
    "\tmodels = dict()\n",
    "\tmodels['log'] = log\n",
    "\tmodels['knn'] = knn_7\n",
    "\tmodels['dtc'] = dtc\n",
    "\tmodels['rfc'] = rfc\n",
    "\tmodels['xgbc'] = xgbc\n",
    "\tmodels['gnb'] = gnb\n",
    "\treturn models\n",
    "\n",
    "# evaluate a given model using cross-validation\n",
    "def evaluate_model(model, X, Y):\n",
    "\tcv = RepeatedStratifiedKFold(n_splits=10, n_repeats=3, random_state=1)\n",
    "\tscores = cross_val_score(model, X, Y, scoring='accuracy', cv=cv, n_jobs=-1, error_score='raise')\n",
    "\treturn scores\n",
    " \n",
    "# get the models to evaluate\n",
    "models = get_models()\n",
    "# evaluate the models and store results\n",
    "results, names = list(), list()\n",
    "for name, model in models.items():\n",
    "  scores = evaluate_model(model, X, Y)\n",
    "  results.append(scores)\n",
    "  names.append(name)\n",
    "\n",
    "# plot model performance for comparison\n",
    "ax.set_title('All models’ performances', size = 17, pad = 10)\n",
    "pyplot.boxplot(results, labels=names, showmeans=True)\n",
    "fig.savefig('figures/All models’ performances', dpi=fig.dpi)"
   ]
  },
  {
   "cell_type": "markdown",
   "metadata": {},
   "source": [
    "Orange lines indicate accuracy mean, green triangles - mean accuracy per model."
   ]
  },
  {
   "cell_type": "code",
   "execution_count": 47,
   "metadata": {},
   "outputs": [
    {
     "name": "stdout",
     "output_type": "stream",
     "text": [
      "LOG accuracy score is 49.5%\n",
      "KNN accuracy score is 57.199999999999996%\n",
      "DTC accuracy score is 62.4%\n",
      "RFC accuracy score is 68.10000000000001%\n",
      "XGB accuracy score is 69.6%\n",
      "GNB accuracy score is 6.2%\n"
     ]
    }
   ],
   "source": [
    "log_cv = cross_val_score(log, X_train, Y_train.values.ravel(), cv=6, scoring=\"accuracy\")\n",
    "print('LOG accuracy score is ' + str(round(log_cv[1],3)*100) + '%')\n",
    "\n",
    "knn_cv = cross_val_score(knn_7, X_train, Y_train.values.ravel(), cv=6, scoring=\"accuracy\")\n",
    "print('KNN accuracy score is ' + str(round(knn_cv[1],3)*100) + '%')\n",
    "\n",
    "dtc_cv = cross_val_score(dtc, X_train, Y_train.values.ravel(), cv=6, scoring=\"accuracy\")\n",
    "print('DTC accuracy score is ' + str(round(dtc_cv[1],3)*100) + '%')\n",
    "\n",
    "rfc_cv = cross_val_score(rfc, X_train, Y_train.values.ravel(), cv=6, scoring=\"accuracy\")\n",
    "print('RFC accuracy score is ' + str(round(rfc_cv[1],3)*100) + '%')\n",
    "\n",
    "xgbc_cv = cross_val_score(xgbc, X_train, Y_train.values.ravel(), cv=6, scoring=\"accuracy\")\n",
    "print('XGB accuracy score is ' + str(round(xgbc_cv[1],3)*100) + '%')\n",
    "\n",
    "gnb_cv = cross_val_score(gnb, X_train, Y_train.values.ravel(), cv=6, scoring=\"accuracy\")\n",
    "print('GNB accuracy score is ' + str(round(gnb_cv[1],3)*100) + '%')"
   ]
  },
  {
   "cell_type": "markdown",
   "metadata": {},
   "source": [
    "### 6.9  <a class=\"anchor\" id=\"6_9\"></a> Fine-tuning"
   ]
  },
  {
   "cell_type": "markdown",
   "metadata": {},
   "source": [
    "#### 6.9.1  <a class=\"anchor\" id=\"6_9_1\"></a> XGBoost grid search"
   ]
  },
  {
   "cell_type": "code",
   "execution_count": 32,
   "metadata": {},
   "outputs": [
    {
     "name": "stdout",
     "output_type": "stream",
     "text": [
      "Parameters currently in use:\n",
      "\n",
      "{'base_score': 0.5,\n",
      " 'booster': 'gbtree',\n",
      " 'callbacks': None,\n",
      " 'colsample_bylevel': 1,\n",
      " 'colsample_bynode': 1,\n",
      " 'colsample_bytree': 1,\n",
      " 'early_stopping_rounds': None,\n",
      " 'enable_categorical': False,\n",
      " 'eval_metric': None,\n",
      " 'gamma': 0,\n",
      " 'gpu_id': -1,\n",
      " 'grow_policy': 'depthwise',\n",
      " 'importance_type': None,\n",
      " 'interaction_constraints': '',\n",
      " 'learning_rate': 0.05,\n",
      " 'max_bin': 256,\n",
      " 'max_cat_to_onehot': 4,\n",
      " 'max_delta_step': 0,\n",
      " 'max_depth': 6,\n",
      " 'max_leaves': 0,\n",
      " 'min_child_weight': 1,\n",
      " 'missing': nan,\n",
      " 'monotone_constraints': '()',\n",
      " 'n_estimators': 100,\n",
      " 'n_jobs': 0,\n",
      " 'num_parallel_tree': 1,\n",
      " 'objective': 'multi:softprob',\n",
      " 'predictor': 'auto',\n",
      " 'random_state': 1,\n",
      " 'reg_alpha': 0,\n",
      " 'reg_lambda': 1,\n",
      " 'sampling_method': 'uniform',\n",
      " 'scale_pos_weight': None,\n",
      " 'subsample': 1,\n",
      " 'tree_method': 'exact',\n",
      " 'use_label_encoder': False,\n",
      " 'validate_parameters': 1,\n",
      " 'verbosity': None}\n"
     ]
    }
   ],
   "source": [
    "# Look at parameters used by our current XGBoost model\n",
    "print('Parameters currently in use:\\n')\n",
    "pprint(xgbc.get_params())"
   ]
  },
  {
   "cell_type": "code",
   "execution_count": 33,
   "metadata": {},
   "outputs": [
    {
     "name": "stdout",
     "output_type": "stream",
     "text": [
      "{'colsample_bytree': [0.6, 0.7, 0.8, 0.9],\n",
      " 'gamma': [0.0, 0.1, 0.2, 0.3, 0.4],\n",
      " 'learning_rate': [0.1],\n",
      " 'max_depth': [4, 5, 6],\n",
      " 'min_child_weight': [6, 8, 10, 12],\n",
      " 'n_estimators': [1000],\n",
      " 'nthread': [4],\n",
      " 'objective': ['binary:logistic'],\n",
      " 'scale_pos_weight': [1],\n",
      " 'seed': [1],\n",
      " 'subsample': [0.6, 0.7, 0.8, 0.9]}\n"
     ]
    }
   ],
   "source": [
    "#URL: https://www.analyticsvidhya.com/blog/2016/03/complete-guide-parameter-tuning-xgboost-with-codes-python/\n",
    "\n",
    "# Defining parameter range\n",
    "xgbc_grid = {'learning_rate':[0.1],\n",
    "    'n_estimators':[1000],\n",
    "    'max_depth':[4,5,6],\n",
    "    'min_child_weight':[6,8,10,12],\n",
    "    'gamma':[i/10.0 for i in range(0,5)],\n",
    "    'subsample':[i/10.0 for i in range(6,10)],\n",
    "    'colsample_bytree':[i/10.0 for i in range(6,10)],\n",
    "    'objective':['binary:logistic'],\n",
    "    'nthread':[4],\n",
    "    'scale_pos_weight':[1],\n",
    "    'seed':[1]}\n",
    "\n",
    "pprint(xgbc_grid)"
   ]
  },
  {
   "cell_type": "code",
   "execution_count": 34,
   "metadata": {},
   "outputs": [],
   "source": [
    "# Fitting the model for grid search\n",
    "#xgb_tuned = GridSearchCV(XGBClassifier(), xgb_grid, refit = True)\n",
    "#xgb_tuned.fit(X_train, Y_train.values.ravel())"
   ]
  },
  {
   "cell_type": "code",
   "execution_count": 35,
   "metadata": {},
   "outputs": [],
   "source": [
    "# print best parameter after tuning\n",
    "#print(xgb_tuned.best_params_)\n",
    " \n",
    "# print how our model looks after hyper-parameter tuning\n",
    "#print(xgb_tuned.best_estimator_)"
   ]
  },
  {
   "cell_type": "code",
   "execution_count": 36,
   "metadata": {},
   "outputs": [],
   "source": [
    "# Base model results\n",
    "#xgb_base_y_pred = xgb.predict(X_test)\n",
    "#xgb_base_accuracy = round(metrics.accuracy_score(Y_test, np.round(xgb_base_y_pred)), 3)*100\n",
    "#print('Accuracy of base XGB is ' + str(xgb_base_accuracy)+'%')\n",
    "\n",
    "# Tuned model results\n",
    "#xgb_tuned = xgb_tuned.best_estimator_\n",
    "#xgb_tuned.fit(X_train, Y_train.values.ravel())\n",
    "#xgb_tuned_y_pred = xgb_tuned.predict(X_test)\n",
    "#xgb_tuned_accuracy = round(metrics.accuracy_score(Y_test, np.round(xgb_tuned_y_pred)), 3)*100\n",
    "\n",
    "#print('Improvement of {:0.1f}%'.format(100 * (xgb_tuned_accuracy - xgb_base_accuracy) / xgb_base_accuracy))"
   ]
  },
  {
   "cell_type": "markdown",
   "metadata": {},
   "source": [
    "#### 6.9.2  <a class=\"anchor\" id=\"6_9_2\"></a> Random forest classifier grid search"
   ]
  },
  {
   "cell_type": "code",
   "execution_count": 37,
   "metadata": {},
   "outputs": [],
   "source": [
    "# Look at parameters used by our current random forest\n",
    "#print('Parameters currently in use:\\n')\n",
    "#pprint(rfc.get_params())"
   ]
  },
  {
   "cell_type": "code",
   "execution_count": 38,
   "metadata": {},
   "outputs": [],
   "source": [
    "# URL: https://towardsdatascience.com/hyperparameter-tuning-the-random-forest-in-python-using-scikit-learn-28d2aa77dd74\n",
    "\n",
    "#from sklearn.model_selection import RandomizedSearchCV\n",
    "# Number of trees in random forest\n",
    "#n_estimators = [int(x) for x in np.linspace(start = 100, stop = 2000, num = 10)]\n",
    "# Number of features to consider at every split\n",
    "#max_features = ['auto','sqrt']\n",
    "# Maximum number of levels in tree\n",
    "#max_depth = [int(x) for x in np.linspace(10, 110, num = 11)]\n",
    "#max_depth.append(None)\n",
    "# Minimum number of samples required to split a node\n",
    "#min_samples_split = [2, 5, 10]\n",
    "# Minimum number of samples required at each leaf node\n",
    "#min_samples_leaf = [1, 2, 4]\n",
    "# Method of selecting samples for training each tree\n",
    "#bootstrap = [True, False]\n",
    "\n",
    "# Create the random grid\n",
    "#random_grid = {'n_estimators': n_estimators,\n",
    "#                     'max_features': max_features,\n",
    "#                     'max_depth': max_depth,\n",
    "#                     'min_samples_split': min_samples_split,\n",
    "#                      'min_samples_leaf': min_samples_leaf,\n",
    "#                      'bootstrap': bootstrap}\n",
    "#pprint(random_grid)"
   ]
  },
  {
   "cell_type": "code",
   "execution_count": 39,
   "metadata": {},
   "outputs": [],
   "source": [
    "#rfc_tuned = RandomizedSearchCV(estimator = rfc,\n",
    "#                               param_distributions = random_grid,\n",
    "#                               n_iter = 100,\n",
    "#                               cv = 6,\n",
    "#                               verbose = 2,\n",
    "#                               random_state = 1,\n",
    "#                               n_jobs = -1)\n",
    "# Fit the random search model\n",
    "#rfc_tuned.fit(X_train, Y_train.values.ravel())"
   ]
  },
  {
   "cell_type": "code",
   "execution_count": 40,
   "metadata": {},
   "outputs": [],
   "source": [
    "# Base model results\n",
    "#rfc = RandomForestClassifier(random_state = 1)\n",
    "#rfc.fit(X_train, Y_train.values.ravel())\n",
    "#rfc_base_y_pred = rfc.predict(X_test)\n",
    "#rfc_base_accuracy = round(metrics.accuracy_score(Y_test, np.round(rfc_base_y_pred)), 3)*100\n",
    "#print('Accuracy of base RFC is ' + str(rfc_base_accuracy)+'%')\n",
    "\n",
    "# Tuned model results\n",
    "#rfc_tuned = rfc_tuned.best_estimator_\n",
    "#rfc_tuned.fit(X_train, Y_train.values.ravel())\n",
    "#rfc_tuned_y_pred = rfc_tuned.predict(X_test)\n",
    "#rfc_tuned_accuracy = round(metrics.accuracy_score(Y_test, np.round(rfc_tuned_y_pred)), 3)*100\n",
    "\n",
    "#print('Improvement of {:0.1f}%'.format(100 * (rfc_tuned_accuracy - rfc_base_accuracy) / rfc_base_accuracy))"
   ]
  },
  {
   "cell_type": "markdown",
   "metadata": {},
   "source": [
    "#### 6.9.3  <a class=\"anchor\" id=\"6_9_3\"></a> Voting classifier"
   ]
  },
  {
   "cell_type": "code",
   "execution_count": 25,
   "metadata": {},
   "outputs": [
    {
     "name": "stdout",
     "output_type": "stream",
     "text": [
      "              precision    recall  f1-score   support\n",
      "\n",
      "           0       0.25      0.02      0.03        58\n",
      "           1       0.70      0.70      0.70       906\n",
      "           2       0.72      0.76      0.74       963\n",
      "\n",
      "    accuracy                           0.71      1927\n",
      "   macro avg       0.56      0.49      0.49      1927\n",
      "weighted avg       0.70      0.71      0.70      1927\n",
      "\n"
     ]
    }
   ],
   "source": [
    "voting_clf = VotingClassifier(\n",
    "    estimators=[('xgbc', xgbc), ('rfc', rfc)],\n",
    "    voting='soft')\n",
    "\n",
    "voting_clf.fit(X_train, Y_train.values.ravel())\n",
    "voting_y_pred = voting_clf.predict(X_test)\n",
    "print(classification_report(Y_test, np.round(voting_y_pred)))"
   ]
  },
  {
   "cell_type": "code",
   "execution_count": 26,
   "metadata": {},
   "outputs": [
    {
     "name": "stdout",
     "output_type": "stream",
     "text": [
      "Ultimate weighted average acccuracy of the model is 70.89999999999999%\n"
     ]
    }
   ],
   "source": [
    "voting_accuracy = round(metrics.accuracy_score(Y_test, np.round(voting_y_pred)), 3)*100\n",
    "print('Ultimate weighted average acccuracy of the model is ' + str(voting_accuracy)+'%')"
   ]
  },
  {
   "cell_type": "markdown",
   "metadata": {},
   "source": [
    "#### 6.9.4  <a class=\"anchor\" id=\"6_9_4\"></a> Stacking"
   ]
  },
  {
   "cell_type": "code",
   "execution_count": 27,
   "metadata": {},
   "outputs": [
    {
     "name": "stdout",
     "output_type": "stream",
     "text": [
      ">log 0.497 (0.002)\n",
      ">knn 0.587 (0.016)\n",
      ">dtc 0.625 (0.012)\n",
      ">rfc 0.697 (0.012)\n",
      ">xgbc 0.714 (0.012)\n",
      ">stacking 0.712 (0.013)\n"
     ]
    },
    {
     "data": {
      "image/png": "[encoded data removed]",
      "text/plain": [
       "<Figure size 432x288 with 1 Axes>"
      ]
     },
     "metadata": {
      "needs_background": "light"
     },
     "output_type": "display_data"
    }
   ],
   "source": [
    "#URL: https://machinelearningmastery.com/stacking-ensemble-machine-learning-with-python/\n",
    "\n",
    "# get a stacking ensemble of models\n",
    "def get_stacking():\n",
    "\t# define the base models\n",
    "\tlevel0 = list()\n",
    "\tlevel0.append(('log', log))\n",
    "\tlevel0.append(('knn', knn_7))\n",
    "\tlevel0.append(('dtc', dtc))\n",
    "\tlevel0.append(('rfc', rfc))\n",
    "\tlevel0.append(('xgbc', xgbc))\n",
    "\n",
    "\t# define meta learner model\n",
    "\tlevel1 = xgbc\n",
    "\t# define the stacking ensemble\n",
    "\tmodel = StackingClassifier(estimators=level0, final_estimator=level1, cv=5)\n",
    "\treturn model\n",
    "\n",
    "# get a list of models to evaluate\n",
    "def get_models():\n",
    "\tmodels = dict()\n",
    "\tmodels['log'] = log\n",
    "\tmodels['knn'] = knn_7\n",
    "\tmodels['dtc'] = dtc\n",
    "\tmodels['rfc'] = rfc\n",
    "\tmodels['xgbc'] = xgbc\n",
    "\tmodels['stacking'] = get_stacking()\n",
    "\treturn models\n",
    "\n",
    "# evaluate a given model using cross-validation\n",
    "def evaluate_model(model, X, Y):\n",
    "\tcv = RepeatedStratifiedKFold(n_splits=10, n_repeats=3, random_state=1)\n",
    "\tscores = cross_val_score(model, X, Y, scoring='accuracy', cv=cv, n_jobs=-1, error_score='raise')\n",
    "\treturn scores\n",
    "\n",
    "# get the models to evaluate\n",
    "models = get_models()\n",
    "# evaluate the models and store results\n",
    "results, names = list(), list()\n",
    "for name, model in models.items():\n",
    "\tscores = evaluate_model(model, X, Y)\n",
    "\tresults.append(scores)\n",
    "\tnames.append(name)\n",
    "\tprint('>%s %.3f (%.3f)' % (name, mean(scores), std(scores)))\n",
    "# plot model performance for comparison\n",
    "pyplot.boxplot(results, labels=names, showmeans=True)\n",
    "pyplot.show()"
   ]
  },
  {
   "cell_type": "code",
   "execution_count": 66,
   "metadata": {},
   "outputs": [
    {
     "name": "stdout",
     "output_type": "stream",
     "text": [
      ">voting 0.713 (0.013)\n",
      ">rfc 0.697 (0.012)\n",
      ">xgbc 0.714 (0.012)\n",
      ">stacking 0.710 (0.014)\n"
     ]
    },
    {
     "data": {
      "image/png": "[encoded data removed]",
      "text/plain": [
       "<Figure size 432x288 with 1 Axes>"
      ]
     },
     "metadata": {
      "needs_background": "light"
     },
     "output_type": "display_data"
    }
   ],
   "source": [
    "#URL: https://machinelearningmastery.com/stacking-ensemble-machine-learning-with-python/\n",
    "\n",
    "# get a stacking ensemble of models\n",
    "def get_stacking():\n",
    "\t# define the base models\n",
    "\tlevel0 = list()\n",
    "\tlevel0.append(('voting', voting_clf))\n",
    "\tlevel0.append(('rfc', rfc))\n",
    "\tlevel0.append(('xgbc', xgbc))\n",
    "\n",
    "\t# define meta learner model\n",
    "\tlevel1 = xgbc\n",
    "\t# define the stacking ensemble\n",
    "\tmodel = StackingClassifier(estimators=level0, final_estimator=level1, cv=5)\n",
    "\treturn model\n",
    "\n",
    "# get a list of models to evaluate\n",
    "def get_models():\n",
    "\tmodels = dict()\n",
    "\tmodels['voting'] = voting_clf\n",
    "\tmodels['rfc'] = rfc\n",
    "\tmodels['xgbc'] = xgbc\n",
    "\tmodels['stacking'] = get_stacking()\n",
    "\treturn models\n",
    "\n",
    "# evaluate a given model using cross-validation\n",
    "def evaluate_model(model, X, Y):\n",
    "\tcv = RepeatedStratifiedKFold(n_splits=10, n_repeats=3, random_state=1)\n",
    "\tscores = cross_val_score(model, X, Y, scoring='accuracy', cv=cv, n_jobs=-1, error_score='raise')\n",
    "\treturn scores\n",
    "\n",
    "# get the models to evaluate\n",
    "models = get_models()\n",
    "# evaluate the models and store results\n",
    "results, names = list(), list()\n",
    "for name, model in models.items():\n",
    "\tscores = evaluate_model(model, X, Y)\n",
    "\tresults.append(scores)\n",
    "\tnames.append(name)\n",
    "\tprint('>%s %.3f (%.3f)' % (name, mean(scores), std(scores)))\n",
    "# plot model performance for comparison\n",
    "pyplot.boxplot(results, labels=names, showmeans=True)\n",
    "fig.savefig('figures/Best models', dpi=fig.dpi)\n",
    "pyplot.show()"
   ]
  },
  {
   "cell_type": "markdown",
   "metadata": {},
   "source": [
    "The best fine-tuned model considered for final evaluation is defined below and is called 'final'."
   ]
  },
  {
   "cell_type": "code",
   "execution_count": 28,
   "metadata": {},
   "outputs": [
    {
     "name": "stdout",
     "output_type": "stream",
     "text": [
      "Predicted Recoverability Class: 1\n"
     ]
    }
   ],
   "source": [
    "# Define the base models\n",
    "level0 = list()\n",
    "level0.append(('rfc', rfc))\n",
    "level0.append(('xgbc', xgbc))\n",
    "level0.append(('voting', voting_clf))\n",
    "level0.append(('stacking', get_stacking()))\n",
    "\n",
    "# Define meta learner model\n",
    "level1 = xgbc\n",
    "\n",
    "# Define the final stacking ensemble\n",
    "final = StackingClassifier(estimators=level0, final_estimator=level1, cv=5)\n",
    "\n",
    "# Fit the model on all available data\n",
    "final = final.fit(X, Y.values.ravel())\n",
    "\n",
    "# Make a prediction for one example\n",
    "random_project = X.sample(n=1)\n",
    "yhat = final.predict(random_project)\n",
    "print('Predicted Recoverability Class: %d' % (yhat))"
   ]
  },
  {
   "cell_type": "code",
   "execution_count": 29,
   "metadata": {},
   "outputs": [],
   "source": [
    "# Predict the response for test set\n",
    "final_y_pred = final.predict(X_test)"
   ]
  },
  {
   "cell_type": "code",
   "execution_count": 76,
   "metadata": {},
   "outputs": [
    {
     "name": "stdout",
     "output_type": "stream",
     "text": [
      "Accuracy score of final model: 82.39999999999999%\n",
      "Precision score of final model: 80.10000000000001%\n",
      "Recall score of final model: 82.39999999999999%\n",
      "F1 of final model: 81.2%\n",
      "Final accuracy score on validation dataset is 69.3%\n"
     ]
    }
   ],
   "source": [
    "# Accuracy measures\n",
    "print('Accuracy score of final model: ' + str(round(metrics.accuracy_score(Y_test, np.round(final_y_pred)), 3)*100)+'%')\n",
    "print('Precision score of final model: ' + str(round(metrics.precision_score(Y_test, np.round(final_y_pred), average='weighted', zero_division=1), 3)*100)+'%')\n",
    "print('Recall score of final model: ' + str(round(metrics.recall_score(Y_test, np.round(final_y_pred), average='weighted'), 3)*100)+'%')\n",
    "print('F1 of final model: ' + str(round(metrics.f1_score(Y_test, np.round(final_y_pred), average='weighted'), 3)*100)+\"%\")\n",
    "final_cv = cross_val_score(final, X_train, Y_train.values.ravel(), cv=6, scoring='accuracy')\n",
    "print('Final accuracy score on validation dataset is ' + str(round(final_cv[1],3)*100) + '%')"
   ]
  },
  {
   "cell_type": "markdown",
   "metadata": {},
   "source": [
    "### 6.10  <a class=\"anchor\" id=\"6_10\"></a> Evaluation"
   ]
  },
  {
   "cell_type": "markdown",
   "metadata": {},
   "source": [
    "#### 6.10.1  <a class=\"anchor\" id=\"6_10_1\"></a> Confusion matrix"
   ]
  },
  {
   "cell_type": "code",
   "execution_count": 30,
   "metadata": {},
   "outputs": [
    {
     "data": {
      "image/png": "[encoded data removed]",
      "text/plain": [
       "<Figure size 576x576 with 2 Axes>"
      ]
     },
     "metadata": {
      "needs_background": "light"
     },
     "output_type": "display_data"
    }
   ],
   "source": [
    "# Final model confusion matrix heatmap\n",
    "plt.subplots(figsize = (8,8))\n",
    "sns.heatmap(confusion_matrix(Y_test, np.round(final_y_pred))/np.sum(confusion_matrix(Y_test, np.round(final_y_pred))), annot=True, fmt='.1%',cmap='Greens')\n",
    "plt.xlabel('Predicted Values', fontsize = 14) \n",
    "plt.ylabel('Actual Values', fontsize = 14)\n",
    "plt.title('Confusion Matrix of the Final Model  for Recoverability', fontsize = 20)\n",
    "plt.savefig('figures/Confusion Matrix of the Final Model for Recoverability.png')"
   ]
  },
  {
   "cell_type": "markdown",
   "metadata": {},
   "source": [
    "The rate of correctly classified unsuccessful artists and successful artists is 86.82% and 7.75% respectively. 3.10% of observations were classified as successful artists whilst actually being unsuccessful (this is the false positive rate). 2.33% of observations were false negatives, meaning they were predicted to be unsuccessful but were in fact, successful artists. Overall 94.57% of the predictions are accurately classified – this is a good score considering the data at hand, thus, the model performed well on the test set."
   ]
  },
  {
   "cell_type": "markdown",
   "metadata": {},
   "source": [
    "#### 6.10.2  <a class=\"anchor\" id=\"6_10_2\"></a> ROC curve"
   ]
  },
  {
   "cell_type": "code",
   "execution_count": null,
   "metadata": {},
   "outputs": [],
   "source": [
    "from sklearn.preprocessing import label_binarize\n",
    "from sklearn.multiclass import OneVsRestClassifier\n",
    "\n",
    "#  Refresh data that is ultimately used\n",
    "#X = df[['year', 'artwork_counts', 'tokens',\n",
    "#             'media', 'collection',  'rights',\n",
    "#             'creator', 'art_series', 'artwork_name', 'likes']]\n",
    "#Y = df['price_class']\n",
    "\n",
    "# Shuffle and split training and test sets\n",
    "X_train, X_test, y_train, y_test = train_test_split(X, Y, test_size=0.2, random_state=2022)\n",
    "\n",
    "# Binarize the output\n",
    "y = label_binarize(y, classes=[0, 1, 2])\n",
    "n_classes = y.shape[1]\n",
    "\n",
    "# Learn to predict each class against the other\n",
    "RFC = RandomForestClassifier(100, random_state = 2022)\n",
    "OVRC = OneVsRestClassifier(RFC)\n",
    "OVRC.fit(X_train, y_train)"
   ]
  },
  {
   "cell_type": "markdown",
   "metadata": {},
   "source": [
    "Let's compute macro-average ROC curve and ROC area."
   ]
  },
  {
   "cell_type": "code",
   "execution_count": null,
   "metadata": {},
   "outputs": [],
   "source": [
    "#URL: https://stackoverflow.com/questions/45332410/roc-for-multiclass-classification\n",
    "\n",
    "from sklearn.metrics import roc_curve, auc\n",
    "from sklearn import datasets\n",
    "from sklearn.multiclass import OneVsRestClassifier\n",
    "from sklearn.svm import LinearSVC\n",
    "from sklearn.preprocessing import label_binarize\n",
    "from sklearn.model_selection import train_test_split\n",
    "import matplotlib.pyplot as plt\n",
    "\n",
    "y = label_binarize(y, classes=[0,1,2])\n",
    "n_classes = 3\n",
    "\n",
    "# shuffle and split training and test sets\n",
    "X_train, X_test, y_train, y_test =\\\n",
    "    train_test_split(X, y, test_size=0.2, random_state=1)\n",
    "\n",
    "# classifier\n",
    "y_score = rfc_tuned.fit(X_train, y_train).predict(X_test)\n",
    "\n",
    "# Compute ROC curve and ROC area for each class\n",
    "fpr = dict()\n",
    "tpr = dict()\n",
    "roc_auc = dict()\n",
    "for i in range(n_classes):\n",
    "    fpr[i], tpr[i], _ = roc_curve(y_test[:, i], y_score[:, i])\n",
    "    roc_auc[i] = auc(fpr[i], tpr[i])\n",
    "\n",
    "# Plot of a ROC curve for a specific class\n",
    "for i in range(n_classes):\n",
    "    plt.figure()\n",
    "    plt.plot(fpr[i], tpr[i], label='ROC curve (area = %0.2f)' % roc_auc[i])\n",
    "    plt.plot([0, 1], [0, 1], 'k--')\n",
    "    plt.xlim([0.0, 1.0])\n",
    "    plt.ylim([0.0, 1.05])\n",
    "    plt.xlabel('False Positive Rate')\n",
    "    plt.ylabel('True Positive Rate')\n",
    "    plt.title('Receiver operating characteristic example')\n",
    "    plt.legend(loc=\"lower right\")\n",
    "    plt.show()"
   ]
  },
  {
   "cell_type": "markdown",
   "metadata": {},
   "source": [
    "Classifiers that give curves closer to the top-left corner indicate a better performance. As we can see, the curve for class 0 (cheap NFTs) VS all comes the closest to the ideal clinical discriminator, in comparison to the other 2 lines.\n",
    "\n",
    "Class 1 (average NFTs) VS all has a moderate accuracy result, with AUC equal to 0.68 which feels like an average of our all trained models in chapter 6.\n",
    "\n",
    "With the ROC curve being the closest o the 45-degree diagonal, class 3 (expensice NFTs) is the least accurate test, unfortunately, having nearly no predictive value."
   ]
  },
  {
   "cell_type": "markdown",
   "metadata": {},
   "source": [
    "#### 6.10.3  <a class=\"anchor\" id=\"6_10_3\"></a> Precision-Recall curve"
   ]
  },
  {
   "cell_type": "code",
   "execution_count": null,
   "metadata": {},
   "outputs": [],
   "source": [
    "# Predict class values - THIS IS FOR BINARY CLASSIFICATION!\n",
    "yhat = final_model.predict(X_test)\n",
    "final_precision, final_recall, _ = precision_recall_curve(Y_test, np.round(final_probs))\n",
    "final_f1, final_auc = f1_score(Y_test, yhat), auc(final_recall, final_precision)\n",
    "\n",
    "# Summarize scores\n",
    "print('Final model scores: f1=%.1f auc=%.1f' % (final_f1, final_auc))\n",
    "\n",
    "# Plot the precision-recall curves\n",
    "no_skill = len(Y_test[Y_test==1]) / len(Y_test)\n",
    "pyplot.plot([0, 1], [no_skill, no_skill], linestyle='--', label='No skill', color='orange')\n",
    "pyplot.plot(final_recall, final_precision, marker='.', label='Final model', color='green')\n",
    "\n",
    "pyplot.xlabel('Recall')\n",
    "pyplot.ylabel('Precision')\n",
    "pyplot.legend()\n",
    "ax.set_title(\"Precision-recall curve\", size = 17, pad = 10)\n",
    "fig.savefig(\"Precision-recall curve.png\", dpi=fig.dpi)"
   ]
  },
  {
   "cell_type": "markdown",
   "metadata": {},
   "source": [
    "Given the imbalance between classes, the precision-recall relationship is analysed to further evaluate the success of the model’s classifications. Precision quantifies the number of predicted successful artists by the model which actually belongs to that class. Recall quantifies the number of ‘successful’ predictions out of all true successful instances in the data. AUC score is desired to be as high as possible, with the maximum being 1. The higher the score the higher both precision and recall will be. Thus, the model will return more accurate results (precision) whilst the majority of results returned is positive (recall). The models’ AUC is 0.688 which is satisfactory for the analysis."
   ]
  },
  {
   "cell_type": "markdown",
   "metadata": {},
   "source": [
    "#### 6.10.4  <a class=\"anchor\" id=\"6_10_4\"></a> Feature importance"
   ]
  },
  {
   "cell_type": "code",
   "execution_count": 87,
   "metadata": {},
   "outputs": [
    {
     "name": "stdout",
     "output_type": "stream",
     "text": [
      "Features sorted by their score for estimator 0:\n"
     ]
    },
    {
     "ename": "AttributeError",
     "evalue": "'StackingClassifier' object has no attribute 'feature_importances_'",
     "output_type": "error",
     "traceback": [
      "\u001b[1;31m---------------------------------------------------------------------------\u001b[0m",
      "\u001b[1;31mAttributeError\u001b[0m                            Traceback (most recent call last)",
      "\u001b[1;32mc:\\Users\\MarfaPopova\\S2R Analytics\\Development & Support Team - Power BI for Synergy - Advanced Analytics\\DataFlowExtract\\ML\\recoverability.ipynb Cell 79'\u001b[0m in \u001b[0;36m<cell line: 4>\u001b[1;34m()\u001b[0m\n\u001b[0;32m      <a href='vscode-notebook-cell:/c%3A/Users/MarfaPopova/S2R%20Analytics/Development%20%26%20Support%20Team%20-%20Power%20BI%20for%20Synergy%20-%20Advanced%20Analytics/DataFlowExtract/ML/recoverability.ipynb#ch0000105?line=3'>4</a>\u001b[0m \u001b[39mfor\u001b[39;00m idx,estimator \u001b[39min\u001b[39;00m \u001b[39menumerate\u001b[39m(output[\u001b[39m'\u001b[39m\u001b[39mestimator\u001b[39m\u001b[39m'\u001b[39m]):\n\u001b[0;32m      <a href='vscode-notebook-cell:/c%3A/Users/MarfaPopova/S2R%20Analytics/Development%20%26%20Support%20Team%20-%20Power%20BI%20for%20Synergy%20-%20Advanced%20Analytics/DataFlowExtract/ML/recoverability.ipynb#ch0000105?line=4'>5</a>\u001b[0m     \u001b[39mprint\u001b[39m(\u001b[39m'\u001b[39m\u001b[39mFeatures sorted by their score for estimator \u001b[39m\u001b[39m{}\u001b[39;00m\u001b[39m:\u001b[39m\u001b[39m'\u001b[39m\u001b[39m.\u001b[39mformat(idx))\n\u001b[1;32m----> <a href='vscode-notebook-cell:/c%3A/Users/MarfaPopova/S2R%20Analytics/Development%20%26%20Support%20Team%20-%20Power%20BI%20for%20Synergy%20-%20Advanced%20Analytics/DataFlowExtract/ML/recoverability.ipynb#ch0000105?line=5'>6</a>\u001b[0m     feature_importances \u001b[39m=\u001b[39m pd\u001b[39m.\u001b[39mDataFrame(estimator\u001b[39m.\u001b[39;49mfeature_importances_,\n\u001b[0;32m      <a href='vscode-notebook-cell:/c%3A/Users/MarfaPopova/S2R%20Analytics/Development%20%26%20Support%20Team%20-%20Power%20BI%20for%20Synergy%20-%20Advanced%20Analytics/DataFlowExtract/ML/recoverability.ipynb#ch0000105?line=6'>7</a>\u001b[0m                                        index \u001b[39m=\u001b[39m final\u001b[39m.\u001b[39mfeature_names,\n\u001b[0;32m      <a href='vscode-notebook-cell:/c%3A/Users/MarfaPopova/S2R%20Analytics/Development%20%26%20Support%20Team%20-%20Power%20BI%20for%20Synergy%20-%20Advanced%20Analytics/DataFlowExtract/ML/recoverability.ipynb#ch0000105?line=7'>8</a>\u001b[0m                                         columns\u001b[39m=\u001b[39m[\u001b[39m'\u001b[39m\u001b[39mimportance\u001b[39m\u001b[39m'\u001b[39m])\u001b[39m.\u001b[39msort_values(\u001b[39m'\u001b[39m\u001b[39mimportance\u001b[39m\u001b[39m'\u001b[39m, ascending\u001b[39m=\u001b[39m\u001b[39mFalse\u001b[39;00m)\n\u001b[0;32m      <a href='vscode-notebook-cell:/c%3A/Users/MarfaPopova/S2R%20Analytics/Development%20%26%20Support%20Team%20-%20Power%20BI%20for%20Synergy%20-%20Advanced%20Analytics/DataFlowExtract/ML/recoverability.ipynb#ch0000105?line=8'>9</a>\u001b[0m     \u001b[39mprint\u001b[39m(feature_importances)\n",
      "\u001b[1;31mAttributeError\u001b[0m: 'StackingClassifier' object has no attribute 'feature_importances_'"
     ]
    }
   ],
   "source": [
    "from sklearn.model_selection import cross_validate\n",
    "output = cross_validate(final, X, Y.values.ravel(), cv=5, scoring = 'accuracy', return_estimator = True)\n",
    "\n",
    "for idx,estimator in enumerate(output['estimator']):\n",
    "    print('Features sorted by their score for estimator {}:'.format(idx))\n",
    "    feature_importances = pd.DataFrame(estimator.feature_importances_,\n",
    "                                       index = final.feature_names,\n",
    "                                        columns=['importance']).sort_values('importance', ascending=False)\n",
    "    print(feature_importances)"
   ]
  },
  {
   "cell_type": "code",
   "execution_count": 80,
   "metadata": {},
   "outputs": [
    {
     "ename": "AttributeError",
     "evalue": "'StackingClassifier' object has no attribute 'feature_importances_'",
     "output_type": "error",
     "traceback": [
      "\u001b[1;31m---------------------------------------------------------------------------\u001b[0m",
      "\u001b[1;31mAttributeError\u001b[0m                            Traceback (most recent call last)",
      "\u001b[1;32mc:\\Users\\MarfaPopova\\S2R Analytics\\Development & Support Team - Power BI for Synergy - Advanced Analytics\\DataFlowExtract\\ML\\recoverability.ipynb Cell 79'\u001b[0m in \u001b[0;36m<cell line: 1>\u001b[1;34m()\u001b[0m\n\u001b[1;32m----> <a href='vscode-notebook-cell:/c%3A/Users/MarfaPopova/S2R%20Analytics/Development%20%26%20Support%20Team%20-%20Power%20BI%20for%20Synergy%20-%20Advanced%20Analytics/DataFlowExtract/ML/recoverability.ipynb#ch0000076?line=0'>1</a>\u001b[0m feature_imp \u001b[39m=\u001b[39m pd\u001b[39m.\u001b[39mSeries(final\u001b[39m.\u001b[39;49mfeature_importances_, index\u001b[39m=\u001b[39mX\u001b[39m.\u001b[39mcolumns)\u001b[39m.\u001b[39msort_values(ascending\u001b[39m=\u001b[39m\u001b[39mFalse\u001b[39;00m)\n\u001b[0;32m      <a href='vscode-notebook-cell:/c%3A/Users/MarfaPopova/S2R%20Analytics/Development%20%26%20Support%20Team%20-%20Power%20BI%20for%20Synergy%20-%20Advanced%20Analytics/DataFlowExtract/ML/recoverability.ipynb#ch0000076?line=1'>2</a>\u001b[0m feature_imp\n",
      "\u001b[1;31mAttributeError\u001b[0m: 'StackingClassifier' object has no attribute 'feature_importances_'"
     ]
    }
   ],
   "source": [
    "feature_imp = pd.Series(final.feature_importances_, index=X.columns).sort_values(ascending=False)\n",
    "feature_imp"
   ]
  },
  {
   "cell_type": "code",
   "execution_count": null,
   "metadata": {},
   "outputs": [],
   "source": [
    "# Create a new DataFrame for feature importance\n",
    "final.feature_names = X.columns\n",
    "final_feature_importance = pd.DataFrame({'Feature': final.feature_names,'Importance':final.feature_importances_})\n",
    "final_feature_importance = final_feature_importance.sort_values(by = ['Importance'], ascending = False)\n",
    "\n",
    "# Plotting the feature importance graph\n",
    "fig, ax = plt.subplots(figsize = (16,10))\n",
    "sns.barplot(final_feature_importance['Importance'], final_feature_importance['Feature'], color = 'darkgreen')\n",
    "plt.xlabel('Importance Score')\n",
    "plt.ylabel('Features')\n",
    "plt.xticks(rotation = 'horizontal')\n",
    "plt.title('Feature Importance')\n",
    "plt.savefig('Feature Importance.png')"
   ]
  },
  {
   "cell_type": "code",
   "execution_count": null,
   "metadata": {},
   "outputs": [],
   "source": [
    "# Plotting a bar plot for feature importance\n",
    "%matplotlib inline\n",
    "\n",
    "plt.figure(figsize = (14,7))\n",
    "sns.barplot(rfc_tuned_feature_importance['Feature'], rfc_tuned_feature_importance['Importance'], color = 'darkgreen')\n",
    "plt.title('Feature Importance')\n",
    "plt.xlabel('Features')\n",
    "plt.ylabel('Feature Importance Score')\n",
    "plt.xticks(rotation = 'vertical')\n",
    "plt.legend()\n",
    "plt.show()"
   ]
  },
  {
   "cell_type": "code",
   "execution_count": null,
   "metadata": {},
   "outputs": [],
   "source": [
    "# Generating the model on all features\n",
    "\n",
    "X_train, X_test, Y_train, Y_test = train_test_split(X, Y, test_size = 0.2, random_state=1, stratify=Y)\n",
    "\n",
    "rfc_tuned.fit(X_train,Y_train.values.ravel())\n",
    "y_pred=rfc_tuned.predict(X_test)\n",
    "print('Accuracy of the final model with all features is ' + str(round(metrics.accuracy_score(Y_test, np.round(y_pred)), 3)*100)+'%')"
   ]
  },
  {
   "cell_type": "code",
   "execution_count": null,
   "metadata": {},
   "outputs": [],
   "source": [
    "# 1 feature dropped\n",
    "\n",
    "X = X[['artist_name', 'stream_count', 'total_user',\t'artist_passion_score',\n",
    "      'playlist_passion_score',\t'artist_freq',\t'playlist_var',\n",
    "      'female_perc',\t'dependent_perc',\t'youngadult_perc',\t'adult_perc',\t'senior_perc']]\n",
    "X_train, X_test, Y_train, Y_test = train_test_split(X, Y, test_size = 0.2, random_state=1, stratify=Y)\n",
    "\n",
    "rfc_tuned.fit(X_train,Y_train.values.ravel())\n",
    "y_pred=rfc_tuned.predict(X_test)\n",
    "print('Accuracy of the final model with 1 feature dropped is ' + str(round(metrics.accuracy_score(Y_test, np.round(y_pred)), 3)*100)+'%')"
   ]
  },
  {
   "cell_type": "markdown",
   "metadata": {},
   "source": [
    "Diminishing returns in performance occur after dropping just 1 feature, therefore all of the original features were kept to maintain maximum accuracy."
   ]
  },
  {
   "cell_type": "markdown",
   "metadata": {},
   "source": [
    "## Part 7: <a class=\"anchor\" id=\"part7\"></a> Decomposition"
   ]
  },
  {
   "cell_type": "markdown",
   "metadata": {},
   "source": [
    "### 7.0 <a class=\"anchor\" id=\"7_0\"></a> Data splitting"
   ]
  },
  {
   "cell_type": "code",
   "execution_count": null,
   "metadata": {},
   "outputs": [],
   "source": [
    "# Choose dependent variables\n",
    "Y = df[['Rec_Class']]\n",
    "\n",
    "# Drop the dependent variables from the feature data set\n",
    "X = df.drop(columns = ['Project_ID','Avg_Profit', 'Avg_Rec', 'Rec_Class', 'Profit_Class'])\n",
    "\n",
    "# Split data set into train and test\n",
    "X_train, X_test, Y_train, Y_test = train_test_split(X, Y, test_size = 0.2, random_state=1, stratify = Y)\n",
    "\n",
    "print(f'No. of training data: {X_train.shape[0]}')\n",
    "print(f'No. of training targets: {Y_train.shape[0]}')\n",
    "print(f'No. of testing data: {X_test.shape[0]}')\n",
    "print(f'No. of testing targets: {Y_test.shape[0]}')"
   ]
  },
  {
   "cell_type": "markdown",
   "metadata": {},
   "source": [
    "### 7.1 <a class=\"anchor\" id=\"7_1\"></a> Feature selection"
   ]
  },
  {
   "cell_type": "markdown",
   "metadata": {},
   "source": [
    "### 7.2 <a class=\"anchor\" id=\"7_2\"></a> Feature extraction"
   ]
  },
  {
   "cell_type": "markdown",
   "metadata": {},
   "source": [
    "### 7.3 <a class=\"anchor\" id=\"7_3\"></a> Locally Linear Embedding"
   ]
  },
  {
   "cell_type": "code",
   "execution_count": 33,
   "metadata": {},
   "outputs": [
    {
     "data": {
      "text/html": [
       "<div>\n",
       "<style scoped>\n",
       "    .dataframe tbody tr th:only-of-type {\n",
       "        vertical-align: middle;\n",
       "    }\n",
       "\n",
       "    .dataframe tbody tr th {\n",
       "        vertical-align: top;\n",
       "    }\n",
       "\n",
       "    .dataframe thead th {\n",
       "        text-align: right;\n",
       "    }\n",
       "</style>\n",
       "<table border=\"1\" class=\"dataframe\">\n",
       "  <thead>\n",
       "    <tr style=\"text-align: right;\">\n",
       "      <th></th>\n",
       "      <th>Country</th>\n",
       "      <th>Office</th>\n",
       "      <th>Sector</th>\n",
       "      <th>Project_Size_Sort_Order</th>\n",
       "      <th>Project_Duration_Weeks</th>\n",
       "      <th>Total_Num_Stages</th>\n",
       "      <th>Is_Multi_Discipline_Project</th>\n",
       "      <th>Is_First_Client_Project</th>\n",
       "      <th>Default_Rate_Group</th>\n",
       "      <th>Perc_of_Stages_with_Fixed_Fee</th>\n",
       "      <th>Manager_ID</th>\n",
       "      <th>Manager_Team</th>\n",
       "      <th>Manager_Is_Recent</th>\n",
       "      <th>Manager_Empl_Months</th>\n",
       "      <th>Director_ID</th>\n",
       "      <th>Director_Team</th>\n",
       "      <th>Director_Is_Recent</th>\n",
       "      <th>Director_Empl_Months</th>\n",
       "      <th>Perc_of_Subcontractors</th>\n",
       "      <th>Is_Front_Loaded</th>\n",
       "      <th>Delivered_on_Time</th>\n",
       "      <th>Total_Data_Issues</th>\n",
       "      <th>Avg_Rec</th>\n",
       "      <th>Avg_Profit</th>\n",
       "      <th>Rec_Class</th>\n",
       "      <th>Profit_Class</th>\n",
       "    </tr>\n",
       "  </thead>\n",
       "  <tbody>\n",
       "    <tr>\n",
       "      <th>0</th>\n",
       "      <td>0</td>\n",
       "      <td>7</td>\n",
       "      <td>6</td>\n",
       "      <td>4.0</td>\n",
       "      <td>4.0</td>\n",
       "      <td>5.0</td>\n",
       "      <td>0</td>\n",
       "      <td>1</td>\n",
       "      <td>1</td>\n",
       "      <td>0.80</td>\n",
       "      <td>7612852</td>\n",
       "      <td>7</td>\n",
       "      <td>0</td>\n",
       "      <td>125.0</td>\n",
       "      <td>7612709.0</td>\n",
       "      <td>6</td>\n",
       "      <td>0</td>\n",
       "      <td>431.0</td>\n",
       "      <td>0.0</td>\n",
       "      <td>1</td>\n",
       "      <td>1</td>\n",
       "      <td>2.0</td>\n",
       "      <td>0.901941</td>\n",
       "      <td>0.431859</td>\n",
       "      <td>2</td>\n",
       "      <td>1</td>\n",
       "    </tr>\n",
       "    <tr>\n",
       "      <th>1</th>\n",
       "      <td>0</td>\n",
       "      <td>4</td>\n",
       "      <td>0</td>\n",
       "      <td>1.0</td>\n",
       "      <td>238.0</td>\n",
       "      <td>4.0</td>\n",
       "      <td>0</td>\n",
       "      <td>1</td>\n",
       "      <td>1</td>\n",
       "      <td>0.00</td>\n",
       "      <td>7612773</td>\n",
       "      <td>4</td>\n",
       "      <td>0</td>\n",
       "      <td>317.0</td>\n",
       "      <td>7612747.0</td>\n",
       "      <td>4</td>\n",
       "      <td>0</td>\n",
       "      <td>431.0</td>\n",
       "      <td>0.0</td>\n",
       "      <td>0</td>\n",
       "      <td>1</td>\n",
       "      <td>2.0</td>\n",
       "      <td>1.000000</td>\n",
       "      <td>0.000000</td>\n",
       "      <td>2</td>\n",
       "      <td>0</td>\n",
       "    </tr>\n",
       "    <tr>\n",
       "      <th>2</th>\n",
       "      <td>0</td>\n",
       "      <td>4</td>\n",
       "      <td>0</td>\n",
       "      <td>1.0</td>\n",
       "      <td>0.0</td>\n",
       "      <td>2.0</td>\n",
       "      <td>0</td>\n",
       "      <td>1</td>\n",
       "      <td>1</td>\n",
       "      <td>0.00</td>\n",
       "      <td>7612773</td>\n",
       "      <td>4</td>\n",
       "      <td>0</td>\n",
       "      <td>317.0</td>\n",
       "      <td>7612768.0</td>\n",
       "      <td>4</td>\n",
       "      <td>0</td>\n",
       "      <td>337.0</td>\n",
       "      <td>0.0</td>\n",
       "      <td>0</td>\n",
       "      <td>1</td>\n",
       "      <td>0.0</td>\n",
       "      <td>0.832050</td>\n",
       "      <td>0.554700</td>\n",
       "      <td>2</td>\n",
       "      <td>1</td>\n",
       "    </tr>\n",
       "    <tr>\n",
       "      <th>3</th>\n",
       "      <td>0</td>\n",
       "      <td>4</td>\n",
       "      <td>1</td>\n",
       "      <td>3.0</td>\n",
       "      <td>121.0</td>\n",
       "      <td>4.0</td>\n",
       "      <td>0</td>\n",
       "      <td>1</td>\n",
       "      <td>1</td>\n",
       "      <td>0.25</td>\n",
       "      <td>7612773</td>\n",
       "      <td>4</td>\n",
       "      <td>0</td>\n",
       "      <td>317.0</td>\n",
       "      <td>7612709.0</td>\n",
       "      <td>6</td>\n",
       "      <td>0</td>\n",
       "      <td>431.0</td>\n",
       "      <td>0.0</td>\n",
       "      <td>0</td>\n",
       "      <td>1</td>\n",
       "      <td>1.0</td>\n",
       "      <td>0.782964</td>\n",
       "      <td>0.622067</td>\n",
       "      <td>2</td>\n",
       "      <td>1</td>\n",
       "    </tr>\n",
       "    <tr>\n",
       "      <th>4</th>\n",
       "      <td>0</td>\n",
       "      <td>4</td>\n",
       "      <td>0</td>\n",
       "      <td>7.0</td>\n",
       "      <td>2.0</td>\n",
       "      <td>6.0</td>\n",
       "      <td>0</td>\n",
       "      <td>1</td>\n",
       "      <td>1</td>\n",
       "      <td>0.00</td>\n",
       "      <td>7612695</td>\n",
       "      <td>4</td>\n",
       "      <td>0</td>\n",
       "      <td>419.0</td>\n",
       "      <td>7612695.0</td>\n",
       "      <td>4</td>\n",
       "      <td>0</td>\n",
       "      <td>419.0</td>\n",
       "      <td>0.0</td>\n",
       "      <td>0</td>\n",
       "      <td>1</td>\n",
       "      <td>3.0</td>\n",
       "      <td>1.000000</td>\n",
       "      <td>0.000000</td>\n",
       "      <td>2</td>\n",
       "      <td>0</td>\n",
       "    </tr>\n",
       "    <tr>\n",
       "      <th>...</th>\n",
       "      <td>...</td>\n",
       "      <td>...</td>\n",
       "      <td>...</td>\n",
       "      <td>...</td>\n",
       "      <td>...</td>\n",
       "      <td>...</td>\n",
       "      <td>...</td>\n",
       "      <td>...</td>\n",
       "      <td>...</td>\n",
       "      <td>...</td>\n",
       "      <td>...</td>\n",
       "      <td>...</td>\n",
       "      <td>...</td>\n",
       "      <td>...</td>\n",
       "      <td>...</td>\n",
       "      <td>...</td>\n",
       "      <td>...</td>\n",
       "      <td>...</td>\n",
       "      <td>...</td>\n",
       "      <td>...</td>\n",
       "      <td>...</td>\n",
       "      <td>...</td>\n",
       "      <td>...</td>\n",
       "      <td>...</td>\n",
       "      <td>...</td>\n",
       "      <td>...</td>\n",
       "    </tr>\n",
       "    <tr>\n",
       "      <th>9626</th>\n",
       "      <td>0</td>\n",
       "      <td>4</td>\n",
       "      <td>9</td>\n",
       "      <td>3.0</td>\n",
       "      <td>18.0</td>\n",
       "      <td>2.0</td>\n",
       "      <td>0</td>\n",
       "      <td>0</td>\n",
       "      <td>0</td>\n",
       "      <td>1.00</td>\n",
       "      <td>7612752</td>\n",
       "      <td>5</td>\n",
       "      <td>0</td>\n",
       "      <td>176.0</td>\n",
       "      <td>7612691.0</td>\n",
       "      <td>5</td>\n",
       "      <td>0</td>\n",
       "      <td>175.0</td>\n",
       "      <td>0.0</td>\n",
       "      <td>0</td>\n",
       "      <td>1</td>\n",
       "      <td>1.0</td>\n",
       "      <td>0.853686</td>\n",
       "      <td>0.520788</td>\n",
       "      <td>2</td>\n",
       "      <td>1</td>\n",
       "    </tr>\n",
       "    <tr>\n",
       "      <th>9627</th>\n",
       "      <td>0</td>\n",
       "      <td>5</td>\n",
       "      <td>0</td>\n",
       "      <td>1.0</td>\n",
       "      <td>1.0</td>\n",
       "      <td>3.0</td>\n",
       "      <td>0</td>\n",
       "      <td>0</td>\n",
       "      <td>0</td>\n",
       "      <td>0.67</td>\n",
       "      <td>9501752</td>\n",
       "      <td>15</td>\n",
       "      <td>0</td>\n",
       "      <td>11.0</td>\n",
       "      <td>7859152.0</td>\n",
       "      <td>12</td>\n",
       "      <td>0</td>\n",
       "      <td>28.0</td>\n",
       "      <td>0.0</td>\n",
       "      <td>0</td>\n",
       "      <td>1</td>\n",
       "      <td>1.0</td>\n",
       "      <td>0.853686</td>\n",
       "      <td>0.520788</td>\n",
       "      <td>2</td>\n",
       "      <td>1</td>\n",
       "    </tr>\n",
       "    <tr>\n",
       "      <th>9628</th>\n",
       "      <td>0</td>\n",
       "      <td>6</td>\n",
       "      <td>0</td>\n",
       "      <td>1.0</td>\n",
       "      <td>1.0</td>\n",
       "      <td>2.0</td>\n",
       "      <td>0</td>\n",
       "      <td>0</td>\n",
       "      <td>0</td>\n",
       "      <td>0.50</td>\n",
       "      <td>7809410</td>\n",
       "      <td>16</td>\n",
       "      <td>0</td>\n",
       "      <td>28.0</td>\n",
       "      <td>10018105.0</td>\n",
       "      <td>6</td>\n",
       "      <td>1</td>\n",
       "      <td>4.0</td>\n",
       "      <td>0.0</td>\n",
       "      <td>0</td>\n",
       "      <td>1</td>\n",
       "      <td>1.0</td>\n",
       "      <td>0.853686</td>\n",
       "      <td>0.520788</td>\n",
       "      <td>2</td>\n",
       "      <td>1</td>\n",
       "    </tr>\n",
       "    <tr>\n",
       "      <th>9629</th>\n",
       "      <td>0</td>\n",
       "      <td>5</td>\n",
       "      <td>3</td>\n",
       "      <td>1.0</td>\n",
       "      <td>3.0</td>\n",
       "      <td>1.0</td>\n",
       "      <td>0</td>\n",
       "      <td>0</td>\n",
       "      <td>0</td>\n",
       "      <td>1.00</td>\n",
       "      <td>7612860</td>\n",
       "      <td>9</td>\n",
       "      <td>0</td>\n",
       "      <td>168.0</td>\n",
       "      <td>7612841.0</td>\n",
       "      <td>11</td>\n",
       "      <td>0</td>\n",
       "      <td>286.0</td>\n",
       "      <td>0.0</td>\n",
       "      <td>0</td>\n",
       "      <td>1</td>\n",
       "      <td>0.0</td>\n",
       "      <td>0.853686</td>\n",
       "      <td>0.520788</td>\n",
       "      <td>2</td>\n",
       "      <td>1</td>\n",
       "    </tr>\n",
       "    <tr>\n",
       "      <th>9630</th>\n",
       "      <td>0</td>\n",
       "      <td>5</td>\n",
       "      <td>3</td>\n",
       "      <td>1.0</td>\n",
       "      <td>4.0</td>\n",
       "      <td>1.0</td>\n",
       "      <td>0</td>\n",
       "      <td>0</td>\n",
       "      <td>0</td>\n",
       "      <td>1.00</td>\n",
       "      <td>7612860</td>\n",
       "      <td>9</td>\n",
       "      <td>0</td>\n",
       "      <td>168.0</td>\n",
       "      <td>7612841.0</td>\n",
       "      <td>11</td>\n",
       "      <td>0</td>\n",
       "      <td>286.0</td>\n",
       "      <td>0.0</td>\n",
       "      <td>0</td>\n",
       "      <td>1</td>\n",
       "      <td>1.0</td>\n",
       "      <td>0.853686</td>\n",
       "      <td>0.520788</td>\n",
       "      <td>2</td>\n",
       "      <td>1</td>\n",
       "    </tr>\n",
       "  </tbody>\n",
       "</table>\n",
       "<p>9631 rows × 26 columns</p>\n",
       "</div>"
      ],
      "text/plain": [
       "      Country  Office  Sector  Project_Size_Sort_Order  \\\n",
       "0           0       7       6                      4.0   \n",
       "1           0       4       0                      1.0   \n",
       "2           0       4       0                      1.0   \n",
       "3           0       4       1                      3.0   \n",
       "4           0       4       0                      7.0   \n",
       "...       ...     ...     ...                      ...   \n",
       "9626        0       4       9                      3.0   \n",
       "9627        0       5       0                      1.0   \n",
       "9628        0       6       0                      1.0   \n",
       "9629        0       5       3                      1.0   \n",
       "9630        0       5       3                      1.0   \n",
       "\n",
       "      Project_Duration_Weeks  Total_Num_Stages  Is_Multi_Discipline_Project  \\\n",
       "0                        4.0               5.0                            0   \n",
       "1                      238.0               4.0                            0   \n",
       "2                        0.0               2.0                            0   \n",
       "3                      121.0               4.0                            0   \n",
       "4                        2.0               6.0                            0   \n",
       "...                      ...               ...                          ...   \n",
       "9626                    18.0               2.0                            0   \n",
       "9627                     1.0               3.0                            0   \n",
       "9628                     1.0               2.0                            0   \n",
       "9629                     3.0               1.0                            0   \n",
       "9630                     4.0               1.0                            0   \n",
       "\n",
       "      Is_First_Client_Project  Default_Rate_Group  \\\n",
       "0                           1                   1   \n",
       "1                           1                   1   \n",
       "2                           1                   1   \n",
       "3                           1                   1   \n",
       "4                           1                   1   \n",
       "...                       ...                 ...   \n",
       "9626                        0                   0   \n",
       "9627                        0                   0   \n",
       "9628                        0                   0   \n",
       "9629                        0                   0   \n",
       "9630                        0                   0   \n",
       "\n",
       "      Perc_of_Stages_with_Fixed_Fee  Manager_ID  Manager_Team  \\\n",
       "0                              0.80     7612852             7   \n",
       "1                              0.00     7612773             4   \n",
       "2                              0.00     7612773             4   \n",
       "3                              0.25     7612773             4   \n",
       "4                              0.00     7612695             4   \n",
       "...                             ...         ...           ...   \n",
       "9626                           1.00     7612752             5   \n",
       "9627                           0.67     9501752            15   \n",
       "9628                           0.50     7809410            16   \n",
       "9629                           1.00     7612860             9   \n",
       "9630                           1.00     7612860             9   \n",
       "\n",
       "      Manager_Is_Recent  Manager_Empl_Months  Director_ID  Director_Team  \\\n",
       "0                     0                125.0    7612709.0              6   \n",
       "1                     0                317.0    7612747.0              4   \n",
       "2                     0                317.0    7612768.0              4   \n",
       "3                     0                317.0    7612709.0              6   \n",
       "4                     0                419.0    7612695.0              4   \n",
       "...                 ...                  ...          ...            ...   \n",
       "9626                  0                176.0    7612691.0              5   \n",
       "9627                  0                 11.0    7859152.0             12   \n",
       "9628                  0                 28.0   10018105.0              6   \n",
       "9629                  0                168.0    7612841.0             11   \n",
       "9630                  0                168.0    7612841.0             11   \n",
       "\n",
       "      Director_Is_Recent  Director_Empl_Months  Perc_of_Subcontractors  \\\n",
       "0                      0                 431.0                     0.0   \n",
       "1                      0                 431.0                     0.0   \n",
       "2                      0                 337.0                     0.0   \n",
       "3                      0                 431.0                     0.0   \n",
       "4                      0                 419.0                     0.0   \n",
       "...                  ...                   ...                     ...   \n",
       "9626                   0                 175.0                     0.0   \n",
       "9627                   0                  28.0                     0.0   \n",
       "9628                   1                   4.0                     0.0   \n",
       "9629                   0                 286.0                     0.0   \n",
       "9630                   0                 286.0                     0.0   \n",
       "\n",
       "      Is_Front_Loaded  Delivered_on_Time  Total_Data_Issues   Avg_Rec  \\\n",
       "0                   1                  1                2.0  0.901941   \n",
       "1                   0                  1                2.0  1.000000   \n",
       "2                   0                  1                0.0  0.832050   \n",
       "3                   0                  1                1.0  0.782964   \n",
       "4                   0                  1                3.0  1.000000   \n",
       "...               ...                ...                ...       ...   \n",
       "9626                0                  1                1.0  0.853686   \n",
       "9627                0                  1                1.0  0.853686   \n",
       "9628                0                  1                1.0  0.853686   \n",
       "9629                0                  1                0.0  0.853686   \n",
       "9630                0                  1                1.0  0.853686   \n",
       "\n",
       "      Avg_Profit  Rec_Class  Profit_Class  \n",
       "0       0.431859          2             1  \n",
       "1       0.000000          2             0  \n",
       "2       0.554700          2             1  \n",
       "3       0.622067          2             1  \n",
       "4       0.000000          2             0  \n",
       "...          ...        ...           ...  \n",
       "9626    0.520788          2             1  \n",
       "9627    0.520788          2             1  \n",
       "9628    0.520788          2             1  \n",
       "9629    0.520788          2             1  \n",
       "9630    0.520788          2             1  \n",
       "\n",
       "[9631 rows x 26 columns]"
      ]
     },
     "execution_count": 33,
     "metadata": {},
     "output_type": "execute_result"
    }
   ],
   "source": [
    "df.drop(columns = ['Unnamed: 0', 'Project_ID'], inplace = True)\n",
    "df"
   ]
  },
  {
   "cell_type": "code",
   "execution_count": 25,
   "metadata": {},
   "outputs": [],
   "source": [
    "from sklearn.datasets import make_swiss_roll\n",
    "X, t = make_swiss_roll(n_samples=1000, noise=0.2, random_state=1)"
   ]
  },
  {
   "cell_type": "code",
   "execution_count": 26,
   "metadata": {},
   "outputs": [],
   "source": [
    "from sklearn.manifold import LocallyLinearEmbedding\n",
    "\n",
    "lle = LocallyLinearEmbedding(n_components=2, n_neighbors=10, random_state=1)\n",
    "X_reduced = lle.fit_transform(X)"
   ]
  },
  {
   "cell_type": "code",
   "execution_count": 27,
   "metadata": {},
   "outputs": [
    {
     "data": {
      "image/png": "[encoded data removed]",
      "text/plain": [
       "<Figure size 432x288 with 1 Axes>"
      ]
     },
     "metadata": {
      "needs_background": "light"
     },
     "output_type": "display_data"
    }
   ],
   "source": [
    "plt.title(\"Unrolled swiss roll using LLE\", fontsize=14)\n",
    "plt.scatter(X_reduced[:, 0], X_reduced[:, 1], c=t, cmap=plt.cm.hot)\n",
    "plt.xlabel(\"$z_1$\", fontsize=18)\n",
    "plt.ylabel(\"$z_2$\", fontsize=18)\n",
    "plt.axis([-0.065, 0.055, -0.1, 0.12])\n",
    "plt.grid(True)\n",
    "plt.show()"
   ]
  },
  {
   "cell_type": "code",
   "execution_count": null,
   "metadata": {},
   "outputs": [],
   "source": []
  }
 ],
 "metadata": {
  "kernelspec": {
   "display_name": "Python 3.10.2 ('venv': venv)",
   "language": "python",
   "name": "python3"
  },
  "language_info": {
   "codemirror_mode": {
    "name": "ipython",
    "version": 3
   },
   "file_extension": ".py",
   "mimetype": "text/x-python",
   "name": "python",
   "nbconvert_exporter": "python",
   "pygments_lexer": "ipython3",
   "version": "3.10.2"
  },
  "orig_nbformat": 4,
  "vscode": {
   "interpreter": {
    "hash": "32faf87829e52f10b3379fa51fb017496aba8a2082e84bf41be67a5b199752f4"
   }
  }
 },
 "nbformat": 4,
 "nbformat_minor": 2
}
