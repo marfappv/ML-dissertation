{
 "cells": [
  {
   "cell_type": "markdown",
   "metadata": {},
   "source": [
    "<h1 align=\"center\">MSIN0114: Business Analytics Consulting Project</h1>\n",
    "<h2 align=\"center\">S2R Analytics, pt. 2</h2>"
   ]
  },
  {
   "cell_type": "markdown",
   "metadata": {},
   "source": [
    "# Table of Contents\n",
    "\n",
    "* [Part 3](#part3): Pre-processing\n",
    "    * [3.1](#3_1): Missing values\n",
    "    * [3.2](#3_2): Conversion\n",
    "    * [3.3](#3_3): Scaling\n",
    "    * [3.4](#3_4): Feature engineering\n",
    "    * [3.5](#3_5): Encoding\n",
    "<br />\n",
    "<br />\n",
    "* [Part 4](#part4): Exploratory data analysis\n",
    "<br />\n",
    "<br />\n",
    "* [Part 5](#part5): Feature engineering (cont.)"
   ]
  },
  {
   "cell_type": "markdown",
   "metadata": {},
   "source": [
    "## Notebook Setup"
   ]
  },
  {
   "cell_type": "code",
   "execution_count": 1,
   "metadata": {},
   "outputs": [],
   "source": [
    "#Essentials\n",
    "import pandas as pd\n",
    "from pandas import Series, DataFrame\n",
    "from pandas.api.types import CategoricalDtype\n",
    "pd.options.display.max_columns = None\n",
    "import sqlite3\n",
    "import pyodbc\n",
    "import numpy as np\n",
    "import copy\n",
    "\n",
    "#Image creation and display\n",
    "import seaborn as sns\n",
    "import matplotlib.pyplot as plt\n",
    "import matplotlib.ticker as mtick\n",
    "import matplotlib.patches as mpatches\n",
    "from matplotlib import pyplot\n",
    "import plotly.express as px\n",
    "import plotly.graph_objects as go\n",
    "\n",
    "#Preprocessing\n",
    "from sklearn import preprocessing\n",
    "from sklearn.model_selection import train_test_split\n",
    "from sklearn.preprocessing import StandardScaler\n",
    "from sklearn.preprocessing import RobustScaler\n",
    "from sklearn.preprocessing import MinMaxScaler\n",
    "from sklearn.preprocessing import OrdinalEncoder, LabelEncoder\n",
    "from sklearn.compose import ColumnTransformer\n",
    "from sklearn.compose import make_column_transformer\n",
    "from sklearn.decomposition import PCA\n",
    "\n",
    "#Other\n",
    "from statsmodels.stats.outliers_influence import variance_inflation_factor \n",
    "import itertools as it\n",
    "import io\n",
    "import os\n",
    "os.sys.path\n",
    "import sys\n",
    "import glob\n",
    "import concurrent.futures\n",
    "from __future__ import print_function\n",
    "import binascii\n",
    "import struct\n",
    "from PIL import Image\n",
    "import scipy\n",
    "import scipy.misc\n",
    "import scipy.cluster\n",
    "import datetime, time\n",
    "import functools, operator\n",
    "from datetime import datetime\n",
    "from numpy.random import seed\n",
    "from numpy.random import randn\n",
    "from numpy import percentile"
   ]
  },
  {
   "cell_type": "code",
   "execution_count": 2,
   "metadata": {},
   "outputs": [],
   "source": [
    "df = pd.read_csv('csv-files/project_lvl.csv')"
   ]
  },
  {
   "cell_type": "markdown",
   "metadata": {},
   "source": [
    "## Part 3: <a class=\"anchor\" id=\"part3\"></a> Pre-processing"
   ]
  },
  {
   "cell_type": "markdown",
   "metadata": {},
   "source": [
    "### 3.1 <a class=\"anchor\" id=\"3_1\"></a> Missing values"
   ]
  },
  {
   "cell_type": "code",
   "execution_count": 3,
   "metadata": {},
   "outputs": [
    {
     "name": "stdout",
     "output_type": "stream",
     "text": [
      "Minimum values each column should have is set to be at least half of the dataset, i.e. 22 rows.\n"
     ]
    }
   ],
   "source": [
    "print('Minimum values each column should have is set to be at least half of the dataset, i.e. '+ str(round(0.80 * len(df.columns)))+' rows.')"
   ]
  },
  {
   "cell_type": "code",
   "execution_count": 4,
   "metadata": {},
   "outputs": [],
   "source": [
    "# URL: https://datascience.stackexchange.com/questions/12645/how-to-count-the-number-of-missing-values-in-each-row-in-pandas-dataframe\n",
    "df['non_missing_count'] = df.apply(lambda x: x.count(), axis=1)\n",
    "df1 = df[(df['non_missing_count']) >= 22]"
   ]
  },
  {
   "cell_type": "markdown",
   "metadata": {},
   "source": [
    "Use deepcopy function provided in the default package 'copy'. Making a deep copy breaks the reference to the original df. Hence, no more errors."
   ]
  },
  {
   "cell_type": "code",
   "execution_count": 5,
   "metadata": {},
   "outputs": [
    {
     "name": "stdout",
     "output_type": "stream",
     "text": [
      "Country 115\n",
      "Director_ID 1\n",
      "Director_Team 1\n",
      "Director_Is_Recent 1\n",
      "Director_Empl_Months 1\n",
      "Perc_of_Subcontractors 154\n",
      "Is_Front_Loaded 145\n",
      "Delivered_on_Time 84\n",
      "Avg_Rec 169\n",
      "Avg_Profit 169\n"
     ]
    }
   ],
   "source": [
    "# URL: https://stackoverflow.com/questions/29888341/a-value-is-trying-to-be-set-on-a-copy-of-a-slice-from-a-dataframe-warning-even-a#:~:text=The%20common%20reason%20for%20the%20warning%20message%20%22A,slice%20dfA%20and%20both%20are%20linked%20to%20dfB.\n",
    "df = copy.deepcopy(df1)\n",
    "\n",
    "# See the number of columns having null values in the new dataset with dropped rows\n",
    "cols = df.columns[df.isnull().any()].to_list()\n",
    "\n",
    "for c in cols:\n",
    "    print(c, df[c].isnull().sum())"
   ]
  },
  {
   "cell_type": "markdown",
   "metadata": {},
   "source": [
    "First, let's deal with small amount of nulls."
   ]
  },
  {
   "cell_type": "code",
   "execution_count": 6,
   "metadata": {},
   "outputs": [],
   "source": [
    "# Replacing null values with the most frequent strings and booleans - look up how to distribute them randomly, instead of most popular!\n",
    "df['Country'].fillna(df['Country'].value_counts().idxmax(), inplace = True)\n",
    "df['Director_ID'].fillna(df['Director_ID'].value_counts().idxmax(), inplace = True)\n",
    "df['Director_Team'].fillna(df['Director_Team'].value_counts().idxmax(), inplace = True)\n",
    "df['Director_Is_Recent'].fillna(df['Director_Is_Recent'].value_counts().idxmax(), inplace = True)\n",
    "df['Manager_Is_Recent'].fillna(df['Manager_Is_Recent'].value_counts().idxmax(), inplace = True)\n",
    "df['Director_Empl_Months'].fillna(df['Director_Empl_Months'].value_counts().idxmax(), inplace = True)\n",
    "df['Is_Front_Loaded'].fillna(df['Is_Front_Loaded'].value_counts().idxmax(), inplace = True)\n",
    "df['Delivered_on_Time'].fillna(df['Delivered_on_Time'].value_counts().idxmax(), inplace = True)"
   ]
  },
  {
   "cell_type": "markdown",
   "metadata": {},
   "source": [
    "Whether to perform imputatipon of missed values with median or mean, always depends on data and task.If there is a dataset that have great outliers, or the distribution oof values does not follow the normal distribution, medians are preferred."
   ]
  },
  {
   "cell_type": "code",
   "execution_count": 7,
   "metadata": {},
   "outputs": [],
   "source": [
    "# Using median to impute the missing float values\n",
    "\n",
    "missing_weeks = ['Project_Duration_Weeks']\n",
    "for s in missing_weeks:\n",
    "    df.loc[df.loc[:,s].isnull(),s]=int(df.loc[:,s].median())\n",
    "\n",
    "missing_subcontractors = ['Perc_of_Subcontractors']\n",
    "for s in missing_subcontractors:\n",
    "    df.loc[df.loc[:,s].isnull(),s]=int(df.loc[:,s].median())\n",
    "\n",
    "missing_rec = ['Avg_Rec']\n",
    "for r in missing_rec:\n",
    "    df.loc[df.loc[:,r].isnull(),r]=df.loc[:,r].median()\n",
    "    \n",
    "missing_profit = ['Avg_Profit']\n",
    "for p in missing_profit:\n",
    "    df.loc[df.loc[:,p].isnull(),p]=int(df.loc[:,p].median())"
   ]
  },
  {
   "cell_type": "code",
   "execution_count": 8,
   "metadata": {},
   "outputs": [
    {
     "data": {
      "text/plain": [
       "Project_ID                       0\n",
       "Country                          0\n",
       "Office                           0\n",
       "Sector                           0\n",
       "Project_Size_Sort_Order          0\n",
       "Project_Duration_Weeks           0\n",
       "Total_Num_Stages                 0\n",
       "Is_Multi_Discipline_Project      0\n",
       "Is_First_Client_Project          0\n",
       "Default_Rate_Group               0\n",
       "Perc_of_Stages_with_Fixed_Fee    0\n",
       "Manager_ID                       0\n",
       "Manager_Team                     0\n",
       "Manager_Is_Recent                0\n",
       "Manager_Empl_Months              0\n",
       "Director_ID                      0\n",
       "Director_Team                    0\n",
       "Director_Is_Recent               0\n",
       "Director_Empl_Months             0\n",
       "Perc_of_Subcontractors           0\n",
       "Is_Front_Loaded                  0\n",
       "Delivered_on_Time                0\n",
       "Suffered_Data_Loss               0\n",
       "Total_Data_Issues                0\n",
       "Avg_Rec                          0\n",
       "Avg_Profit                       0\n",
       "Project_Start_Date               0\n",
       "Project_End_Date                 0\n",
       "non_missing_count                0\n",
       "dtype: int64"
      ]
     },
     "execution_count": 8,
     "metadata": {},
     "output_type": "execute_result"
    }
   ],
   "source": [
    "# Verify the changes\n",
    "df.isnull().sum()"
   ]
  },
  {
   "cell_type": "code",
   "execution_count": 9,
   "metadata": {},
   "outputs": [],
   "source": [
    "df.drop(columns = ['non_missing_count', 'Project_ID'], inplace = True)"
   ]
  },
  {
   "cell_type": "markdown",
   "metadata": {},
   "source": [
    "### 3.2 <a class=\"anchor\" id=\"3_2\"></a> Conversion"
   ]
  },
  {
   "cell_type": "code",
   "execution_count": 10,
   "metadata": {},
   "outputs": [],
   "source": [
    "# Convert the object column to boolean or integer where appropriate\n",
    "df['Manager_Is_Recent'] = df['Manager_Is_Recent'].astype(int)\n",
    "df['Director_ID'] = df['Director_ID'].astype('int64') # more specific, to be equal to Manager ID\n",
    "df['Is_Front_Loaded'] = df['Is_Front_Loaded'].astype(int)\n",
    "df['Suffered_Data_Loss'] = df['Is_Front_Loaded'].astype(int)\n",
    "df['Total_Data_Issues'] = df['Total_Data_Issues'].astype(int)\n",
    "df['Total_Num_Stages'] = df['Total_Num_Stages'].astype(int)"
   ]
  },
  {
   "cell_type": "code",
   "execution_count": 11,
   "metadata": {},
   "outputs": [],
   "source": [
    "df['Director_Empl_Years'] = round(df['Director_Empl_Months']/12).astype(int)\n",
    "df['Manager_Empl_Years'] = round(df['Manager_Empl_Months']/12).astype(int)\n",
    "df.drop(columns = ['Director_Empl_Months', 'Manager_Empl_Months'], inplace=True)"
   ]
  },
  {
   "cell_type": "markdown",
   "metadata": {},
   "source": [
    "### 3.3 <a class=\"anchor\" id=\"3_3\"></a> Scaling"
   ]
  },
  {
   "cell_type": "code",
   "execution_count": 12,
   "metadata": {},
   "outputs": [
    {
     "data": {
      "text/plain": [
       "<AxesSubplot:title={'center':'Relationship between profit and recoverability'}, xlabel='Avg_Rec', ylabel='Avg_Profit'>"
      ]
     },
     "execution_count": 12,
     "metadata": {},
     "output_type": "execute_result"
    },
    {
     "data": {
      "image/png": "[encoded data removed]",
      "text/plain": [
       "<Figure size 432x288 with 1 Axes>"
      ]
     },
     "metadata": {
      "needs_background": "light"
     },
     "output_type": "display_data"
    }
   ],
   "source": [
    "# No scaling\n",
    "df.plot.scatter(x ='Avg_Rec', y ='Avg_Profit', title = 'Relationship between profit and recoverability')"
   ]
  },
  {
   "cell_type": "code",
   "execution_count": 13,
   "metadata": {},
   "outputs": [
    {
     "data": {
      "text/plain": [
       "<AxesSubplot:title={'center':'Relationship between profit and recoverability'}, xlabel='Avg_Rec', ylabel='Avg_Profit'>"
      ]
     },
     "execution_count": 13,
     "metadata": {},
     "output_type": "execute_result"
    },
    {
     "data": {
      "image/png": "[encoded data removed]",
      "text/plain": [
       "<Figure size 432x288 with 1 Axes>"
      ]
     },
     "metadata": {
      "needs_background": "light"
     },
     "output_type": "display_data"
    }
   ],
   "source": [
    "# Standardisation\n",
    "df_std = df.copy()\n",
    "df_std[['Avg_Rec', 'Avg_Profit']] = StandardScaler().fit_transform(df_std[['Avg_Rec', 'Avg_Profit']])\n",
    "df_std.plot.scatter(x ='Avg_Rec', y ='Avg_Profit', title = 'Relationship between profit and recoverability')"
   ]
  },
  {
   "cell_type": "code",
   "execution_count": 14,
   "metadata": {},
   "outputs": [
    {
     "data": {
      "image/png": "[encoded data removed]",
      "text/plain": [
       "<Figure size 432x288 with 1 Axes>"
      ]
     },
     "metadata": {
      "needs_background": "light"
     },
     "output_type": "display_data"
    }
   ],
   "source": [
    "# Normalization\n",
    "df_norm = df.copy()\n",
    "df_norm[['Avg_Rec', 'Avg_Profit']] = preprocessing.normalize(df_norm[['Avg_Rec', 'Avg_Profit']])\n",
    "df_norm.plot.scatter(x ='Avg_Rec', y ='Avg_Profit', title = 'Relationship between profit and recoverability')\n",
    "plt.savefig('figures/eda/Relationship between profit and recoverability.png')\n",
    "df = df_norm"
   ]
  },
  {
   "cell_type": "markdown",
   "metadata": {},
   "source": [
    "### 3.4 <a class=\"anchor\" id=\"3_4\"></a> Feature engineering"
   ]
  },
  {
   "cell_type": "markdown",
   "metadata": {},
   "source": [
    "#### 3.4.1 <a class=\"anchor\" id=\"3_4_1\"></a> Recoverability"
   ]
  },
  {
   "cell_type": "code",
   "execution_count": 15,
   "metadata": {},
   "outputs": [
    {
     "data": {
      "image/png": "[encoded data removed]",
      "text/plain": [
       "<Figure size 432x432 with 1 Axes>"
      ]
     },
     "metadata": {
      "needs_background": "light"
     },
     "output_type": "display_data"
    }
   ],
   "source": [
    "# Distribution of count of all points, with outliers\n",
    "plt.figure(figsize=(6,6))\n",
    "sns.histplot(df['Avg_Rec'], kde=True, linewidth=1)\n",
    "plt.xlabel('Average Recoverability')\n",
    "plt.title('Count Distribution', size=14)\n",
    "plt.savefig('figures/eda/Recoverability count distribution.png')\n",
    "plt.show()"
   ]
  },
  {
   "cell_type": "code",
   "execution_count": 16,
   "metadata": {},
   "outputs": [
    {
     "data": {
      "text/plain": [
       "<AxesSubplot:>"
      ]
     },
     "execution_count": 16,
     "metadata": {},
     "output_type": "execute_result"
    },
    {
     "data": {
      "image/png": "[encoded data removed]",
      "text/plain": [
       "<Figure size 432x288 with 1 Axes>"
      ]
     },
     "metadata": {
      "needs_background": "light"
     },
     "output_type": "display_data"
    }
   ],
   "source": [
    "df.boxplot('Avg_Rec', showfliers=False) # boxplot without outliers, the green line corresponds to the median"
   ]
  },
  {
   "cell_type": "markdown",
   "metadata": {},
   "source": [
    "Interpretation: https://www.mathbootcamps.com/how-to-read-a-boxplot/"
   ]
  },
  {
   "cell_type": "code",
   "execution_count": 17,
   "metadata": {},
   "outputs": [
    {
     "data": {
      "text/plain": [
       "<AxesSubplot:>"
      ]
     },
     "execution_count": 17,
     "metadata": {},
     "output_type": "execute_result"
    },
    {
     "data": {
      "image/png": "[encoded data removed]",
      "text/plain": [
       "<Figure size 432x288 with 1 Axes>"
      ]
     },
     "metadata": {
      "needs_background": "light"
     },
     "output_type": "display_data"
    }
   ],
   "source": [
    "df.boxplot('Avg_Rec')"
   ]
  },
  {
   "cell_type": "code",
   "execution_count": 18,
   "metadata": {},
   "outputs": [
    {
     "data": {
      "text/plain": [
       "0.25    0.648717\n",
       "0.75    0.827048\n",
       "Name: Avg_Rec, dtype: float64"
      ]
     },
     "execution_count": 18,
     "metadata": {},
     "output_type": "execute_result"
    }
   ],
   "source": [
    "df['Avg_Rec'].quantile([0.25, 0.75], interpolation='nearest')"
   ]
  },
  {
   "cell_type": "code",
   "execution_count": 19,
   "metadata": {},
   "outputs": [
    {
     "name": "stdout",
     "output_type": "stream",
     "text": [
      "Minimum is  0.38122049999999996 \n",
      "Maximum is  1.0945445 \n",
      "Medium is  0.7273888509014301\n"
     ]
    }
   ],
   "source": [
    "# Calculate the minimum and maximum bounds aside outliers\n",
    "q1 = 0.648717\n",
    "q3 = 0.827048\n",
    "minimum = q1 - 1.5*(q3-q1)\n",
    "maximum = q3 + 1.5*(q3-q1)\n",
    "\n",
    "print('Minimum is ', str(minimum), '\\nMaximum is ', str(maximum), '\\nMedium is ', str(df['Avg_Rec'].median()))"
   ]
  },
  {
   "cell_type": "markdown",
   "metadata": {},
   "source": [
    "Now we can create 3 recoverability classes based on the median recoverability as our threshold."
   ]
  },
  {
   "cell_type": "code",
   "execution_count": 20,
   "metadata": {},
   "outputs": [],
   "source": [
    "rec_class = {}\n",
    "for rec in df['Avg_Rec']:\n",
    "  if rec < 0.648717:\n",
    "    rec_class[rec] = 0  # nearly unrecoverable projects are below Q1\n",
    "  elif rec > 0.7273888509014301:\n",
    "    rec_class[rec] = 2 # very recoverable projects are above median\n",
    "  else:\n",
    "    rec_class[rec] = 1 # average recoverable projects are all the rest (between median and Q1)"
   ]
  },
  {
   "cell_type": "code",
   "execution_count": 21,
   "metadata": {},
   "outputs": [
    {
     "data": {
      "text/plain": [
       "0    4649\n",
       "1    4648\n",
       "Name: Rec_Class, dtype: int64"
      ]
     },
     "execution_count": 21,
     "metadata": {},
     "output_type": "execute_result"
    }
   ],
   "source": [
    "rec_class_df = pd.DataFrame([{'Avg_Rec': rec, 'Rec_Class': rec_class} for (rec, rec_class) in rec_class.items()])\n",
    "df = pd.merge(df, rec_class_df,  how='left', on='Avg_Rec')\n",
    "df['Rec_Class'].replace([1], [0],inplace=True)\n",
    "df['Rec_Class'].replace([2], [1],inplace=True)\n",
    "df['Rec_Class'].value_counts()"
   ]
  },
  {
   "cell_type": "code",
   "execution_count": 70,
   "metadata": {},
   "outputs": [
    {
     "data": {
      "text/plain": [
       "2    3769\n",
       "0    2228\n",
       "1    1921\n",
       "Name: Rec_Class, dtype: int64"
      ]
     },
     "execution_count": 70,
     "metadata": {},
     "output_type": "execute_result"
    }
   ],
   "source": [
    "rec_class_df['Rec_Class'].value_counts()"
   ]
  },
  {
   "cell_type": "code",
   "execution_count": 71,
   "metadata": {},
   "outputs": [
    {
     "data": {
      "image/png": "[encoded data removed]",
      "text/plain": [
       "<Figure size 1152x504 with 1 Axes>"
      ]
     },
     "metadata": {
      "needs_background": "light"
     },
     "output_type": "display_data"
    }
   ],
   "source": [
    "rec_classes = pd.DataFrame({'categories': ['low', 'average', 'high'],\n",
    "                              'project_count': [1921, 2228, 3769]})\n",
    "\n",
    "plt.figure(figsize=(16,7))\n",
    "ax = sns.barplot(x = 'categories', y = 'project_count', data = rec_classes)\n",
    "plt.title('Number of projects in each recoverability class', fontsize=20)\n",
    "plt.ylabel('Number of projects', fontsize=18)\n",
    "plt.xlabel('Recoverabilty class', fontsize=18)\n",
    "plt.savefig('figures/eda/Recoverability classes in multiclassification.png')"
   ]
  },
  {
   "cell_type": "markdown",
   "metadata": {},
   "source": [
    "#### 3.4.2 <a class=\"anchor\" id=\"3_4_2\"></a> Profit"
   ]
  },
  {
   "cell_type": "code",
   "execution_count": 22,
   "metadata": {},
   "outputs": [
    {
     "data": {
      "image/png": "[encoded data removed]",
      "text/plain": [
       "<Figure size 432x432 with 1 Axes>"
      ]
     },
     "metadata": {
      "needs_background": "light"
     },
     "output_type": "display_data"
    }
   ],
   "source": [
    "# Distribution of count of all points, with outliers\n",
    "plt.figure(figsize=(6,6))\n",
    "sns.histplot(df['Avg_Profit'], kde=True, linewidth=1)\n",
    "plt.xlabel('Average Profitability')\n",
    "plt.title('Count Distribution', size=14)\n",
    "plt.savefig('figures/eda/Profitability count distribution.png')\n",
    "plt.show()"
   ]
  },
  {
   "cell_type": "code",
   "execution_count": 23,
   "metadata": {},
   "outputs": [
    {
     "data": {
      "text/plain": [
       "<AxesSubplot:>"
      ]
     },
     "execution_count": 23,
     "metadata": {},
     "output_type": "execute_result"
    },
    {
     "data": {
      "image/png": "[encoded data removed]",
      "text/plain": [
       "<Figure size 432x288 with 1 Axes>"
      ]
     },
     "metadata": {
      "needs_background": "light"
     },
     "output_type": "display_data"
    }
   ],
   "source": [
    "df.boxplot('Avg_Profit', showfliers=False) # boxplot without outliers, the green line corresponds to the median"
   ]
  },
  {
   "cell_type": "code",
   "execution_count": 24,
   "metadata": {},
   "outputs": [
    {
     "data": {
      "text/plain": [
       "<AxesSubplot:>"
      ]
     },
     "execution_count": 24,
     "metadata": {},
     "output_type": "execute_result"
    },
    {
     "data": {
      "image/png": "[encoded data removed]",
      "text/plain": [
       "<Figure size 432x288 with 1 Axes>"
      ]
     },
     "metadata": {
      "needs_background": "light"
     },
     "output_type": "display_data"
    }
   ],
   "source": [
    "df.boxplot('Avg_Profit')"
   ]
  },
  {
   "cell_type": "code",
   "execution_count": 25,
   "metadata": {},
   "outputs": [
    {
     "data": {
      "text/plain": [
       "0.25    0.562131\n",
       "0.75    0.761030\n",
       "Name: Avg_Profit, dtype: float64"
      ]
     },
     "execution_count": 25,
     "metadata": {},
     "output_type": "execute_result"
    }
   ],
   "source": [
    "df['Avg_Profit'].quantile([0.25, 0.75], interpolation='nearest')"
   ]
  },
  {
   "cell_type": "code",
   "execution_count": 26,
   "metadata": {},
   "outputs": [
    {
     "name": "stdout",
     "output_type": "stream",
     "text": [
      "Minimum is  0.26378250000000014 \n",
      "Maximum is  1.0593784999999998 \n",
      "Medium is  0.6862255165645598\n"
     ]
    }
   ],
   "source": [
    "# Calculate the minimum and maximum bounds aside outliers\n",
    "q1 = 0.562131\n",
    "q3 = 0.761030\n",
    "minimum = q1 - 1.5*(q3-q1)\n",
    "maximum = q3 + 1.5*(q3-q1)\n",
    "\n",
    "print('Minimum is ', str(minimum), '\\nMaximum is ', str(maximum), '\\nMedium is ', str(df['Avg_Profit'].median()))"
   ]
  },
  {
   "cell_type": "markdown",
   "metadata": {},
   "source": [
    "Now we can create 3 profit measure classes based on the median profit measurement as our threshold."
   ]
  },
  {
   "cell_type": "code",
   "execution_count": 27,
   "metadata": {},
   "outputs": [],
   "source": [
    "profit_class = {}\n",
    "for profit in df['Avg_Profit']:\n",
    "  if profit < 0.562131:\n",
    "    profit_class[profit] = 0  # nearly unprofitable projects are below Q1\n",
    "  elif profit > 0.6862255165645598:\n",
    "    profit_class[profit] = 2 # very profitable projects are above mean\n",
    "  else:\n",
    "    profit_class[profit] = 1 # average profitable projects are in the interquartile range"
   ]
  },
  {
   "cell_type": "code",
   "execution_count": 28,
   "metadata": {},
   "outputs": [
    {
     "data": {
      "text/plain": [
       "0    4649\n",
       "1    4648\n",
       "Name: Profit_Class, dtype: int64"
      ]
     },
     "execution_count": 28,
     "metadata": {},
     "output_type": "execute_result"
    }
   ],
   "source": [
    "pr_class_df = pd.DataFrame([{'Avg_Profit': pr, 'Profit_Class': profit_class} for (pr, profit_class) in profit_class.items()])\n",
    "df = pd.merge(df, pr_class_df,  how='left', on='Avg_Profit')\n",
    "df['Profit_Class'].replace([1], [0],inplace=True)\n",
    "df['Profit_Class'].replace([2], [1],inplace=True)\n",
    "df['Profit_Class'].value_counts()"
   ]
  },
  {
   "cell_type": "code",
   "execution_count": 67,
   "metadata": {},
   "outputs": [
    {
     "data": {
      "text/plain": [
       "2    4141\n",
       "1    2274\n",
       "0    1501\n",
       "Name: Profit_Class, dtype: int64"
      ]
     },
     "execution_count": 67,
     "metadata": {},
     "output_type": "execute_result"
    }
   ],
   "source": [
    "pr_class_df['Profit_Class'].value_counts()"
   ]
  },
  {
   "cell_type": "code",
   "execution_count": 72,
   "metadata": {},
   "outputs": [
    {
     "data": {
      "image/png": "[encoded data removed]",
      "text/plain": [
       "<Figure size 1152x504 with 1 Axes>"
      ]
     },
     "metadata": {
      "needs_background": "light"
     },
     "output_type": "display_data"
    }
   ],
   "source": [
    "pr_classes = pd.DataFrame({'categories': ['low', 'average', 'high'],\n",
    "                              'project_count': [1501, 2274, 1501]})\n",
    "\n",
    "plt.figure(figsize=(16,7))\n",
    "ax = sns.barplot(x = 'categories', y = 'project_count', data = pr_classes)\n",
    "plt.title('Number of projects in each profitability class', fontsize=20)\n",
    "plt.ylabel('Number of projects', fontsize=18)\n",
    "plt.xlabel('Profitability class', fontsize=18)\n",
    "plt.savefig('figures/eda/Profitability classes in multiclassification.png')"
   ]
  },
  {
   "cell_type": "code",
   "execution_count": 29,
   "metadata": {},
   "outputs": [],
   "source": [
    "df.drop(columns = ['Avg_Rec', 'Avg_Profit'], inplace = True)"
   ]
  },
  {
   "cell_type": "markdown",
   "metadata": {},
   "source": [
    "#### 3.4.3 <a class=\"anchor\" id=\"3_4_3\"></a> Project time quaters"
   ]
  },
  {
   "cell_type": "code",
   "execution_count": 30,
   "metadata": {},
   "outputs": [],
   "source": [
    "df['Project_Start_Date'] = pd.to_datetime(df['Project_Start_Date'])\n",
    "df['Project_End_Date'] = pd.to_datetime(df['Project_End_Date'])\n",
    "df['Project_Start_Date'] = df['Project_Start_Date'].dt.quarter\n",
    "df['Project_End_Date'] = df['Project_End_Date'].dt.quarter\n",
    "df.rename(columns = {'Project_Start_Date':'Start_Quarter', 'Project_End_Date':'End_Quarter'}, inplace=True)"
   ]
  },
  {
   "cell_type": "markdown",
   "metadata": {},
   "source": [
    "### 3.5 <a class=\"anchor\" id=\"3_3\"></a> Encoding"
   ]
  },
  {
   "cell_type": "markdown",
   "metadata": {},
   "source": [
    "#### 3.5.1 <a class=\"anchor\" id=\"3_5_1\"></a> One hot encoding"
   ]
  },
  {
   "cell_type": "code",
   "execution_count": 31,
   "metadata": {},
   "outputs": [
    {
     "data": {
      "text/plain": [
       "Index(['Country', 'Office', 'Sector', 'Default_Rate_Group', 'Manager_Team',\n",
       "       'Director_Team'],\n",
       "      dtype='object')"
      ]
     },
     "execution_count": 31,
     "metadata": {},
     "output_type": "execute_result"
    }
   ],
   "source": [
    "cat_vars = (df.select_dtypes(include=object))\n",
    "cat_vars.columns"
   ]
  },
  {
   "cell_type": "code",
   "execution_count": 32,
   "metadata": {},
   "outputs": [
    {
     "data": {
      "text/plain": [
       "11"
      ]
     },
     "execution_count": 32,
     "metadata": {},
     "output_type": "execute_result"
    }
   ],
   "source": [
    "df['Country'].nunique()"
   ]
  },
  {
   "cell_type": "code",
   "execution_count": 33,
   "metadata": {},
   "outputs": [
    {
     "data": {
      "text/plain": [
       "8"
      ]
     },
     "execution_count": 33,
     "metadata": {},
     "output_type": "execute_result"
    }
   ],
   "source": [
    "df['Office'].nunique()"
   ]
  },
  {
   "cell_type": "code",
   "execution_count": 34,
   "metadata": {},
   "outputs": [
    {
     "data": {
      "text/plain": [
       "12"
      ]
     },
     "execution_count": 34,
     "metadata": {},
     "output_type": "execute_result"
    }
   ],
   "source": [
    "df['Sector'].nunique()"
   ]
  },
  {
   "cell_type": "code",
   "execution_count": 35,
   "metadata": {},
   "outputs": [
    {
     "data": {
      "text/plain": [
       "2"
      ]
     },
     "execution_count": 35,
     "metadata": {},
     "output_type": "execute_result"
    }
   ],
   "source": [
    "df['Default_Rate_Group'].nunique()"
   ]
  },
  {
   "cell_type": "code",
   "execution_count": 36,
   "metadata": {},
   "outputs": [
    {
     "data": {
      "text/plain": [
       "22"
      ]
     },
     "execution_count": 36,
     "metadata": {},
     "output_type": "execute_result"
    }
   ],
   "source": [
    "df['Manager_Team'].nunique()"
   ]
  },
  {
   "cell_type": "code",
   "execution_count": 37,
   "metadata": {},
   "outputs": [
    {
     "data": {
      "text/plain": [
       "SA - Civil                         2149\n",
       "SA - Industrial                    1747\n",
       "SA - Buildings                     1720\n",
       "VIC - Buildings                    1046\n",
       "All Staff                           413\n",
       "VIC - Support Services              333\n",
       "Group - Support Services            299\n",
       "WA - Structural                     240\n",
       "WA - Industrial                     200\n",
       "WA - Maritime                       188\n",
       "NZ - Water                          138\n",
       "QLD - QLD                           125\n",
       "WA - Civil                          124\n",
       "VIC - Traffic                       122\n",
       "WA - Project Delivery Services      108\n",
       "SA - Project Delivery Services       87\n",
       "VIC - Infrastructure                 83\n",
       "VIC - Industrial                     81\n",
       "VIC - Project Delivery Services      52\n",
       "WA - Support Services                21\n",
       "VIC - Geotechnical                   20\n",
       "SA - Finance                          1\n",
       "Name: Manager_Team, dtype: int64"
      ]
     },
     "execution_count": 37,
     "metadata": {},
     "output_type": "execute_result"
    }
   ],
   "source": [
    "df['Manager_Team'].value_counts()"
   ]
  },
  {
   "cell_type": "code",
   "execution_count": 38,
   "metadata": {},
   "outputs": [],
   "source": [
    "for x in df['Manager_Team']:\n",
    "    if x.startswith('SA') == True:\n",
    "        df['Manager_Team'].mask(df['Manager_Team'] == x, 'SA', inplace=True)\n",
    "    elif x.startswith('VIC') == True:\n",
    "        df['Manager_Team'].mask(df['Manager_Team'] == x, 'VIC', inplace=True)\n",
    "    elif x.startswith('WA') == True:\n",
    "        df['Manager_Team'].mask(df['Manager_Team'] == x, 'WA', inplace=True)\n",
    "    elif x.startswith('NZ') == True:\n",
    "        df['Manager_Team'].mask(df['Manager_Team'] == x, 'NZ', inplace=True)\n",
    "    elif x.startswith('QLD') == True:\n",
    "        df['Manager_Team'].mask(df['Manager_Team'] == x, 'QLD', inplace=True)"
   ]
  },
  {
   "cell_type": "code",
   "execution_count": 39,
   "metadata": {},
   "outputs": [
    {
     "data": {
      "text/plain": [
       "SA                          5704\n",
       "VIC                         1737\n",
       "WA                           881\n",
       "All Staff                    413\n",
       "Group - Support Services     299\n",
       "NZ                           138\n",
       "QLD                          125\n",
       "Name: Manager_Team, dtype: int64"
      ]
     },
     "execution_count": 39,
     "metadata": {},
     "output_type": "execute_result"
    }
   ],
   "source": [
    "df['Manager_Team'].value_counts()"
   ]
  },
  {
   "cell_type": "code",
   "execution_count": 40,
   "metadata": {},
   "outputs": [
    {
     "data": {
      "text/plain": [
       "7"
      ]
     },
     "execution_count": 40,
     "metadata": {},
     "output_type": "execute_result"
    }
   ],
   "source": [
    "df['Manager_Team'].nunique()"
   ]
  },
  {
   "cell_type": "code",
   "execution_count": 41,
   "metadata": {},
   "outputs": [
    {
     "data": {
      "text/plain": [
       "16"
      ]
     },
     "execution_count": 41,
     "metadata": {},
     "output_type": "execute_result"
    }
   ],
   "source": [
    "df['Director_Team'].nunique()"
   ]
  },
  {
   "cell_type": "code",
   "execution_count": 42,
   "metadata": {},
   "outputs": [
    {
     "data": {
      "text/plain": [
       "SA - Buildings                    2381\n",
       "SA - Industrial                   1918\n",
       "SA - Civil                        1667\n",
       "VIC - Support Services            1448\n",
       "WA - Maritime                      666\n",
       "Group - Support Services           601\n",
       "VIC - Buildings                    184\n",
       "WA - Structural                    136\n",
       "SA - Project Delivery Services      86\n",
       "WA - Civil                          73\n",
       "VIC - Traffic                       61\n",
       "VIC - Infrastructure                47\n",
       "VIC - Geotechnical                  10\n",
       "All Staff                            8\n",
       "QLD - QLD                            6\n",
       "NZ - Water                           5\n",
       "Name: Director_Team, dtype: int64"
      ]
     },
     "execution_count": 42,
     "metadata": {},
     "output_type": "execute_result"
    }
   ],
   "source": [
    "df['Director_Team'].value_counts()"
   ]
  },
  {
   "cell_type": "code",
   "execution_count": 43,
   "metadata": {},
   "outputs": [],
   "source": [
    "for x in df['Director_Team']:\n",
    "    if x.startswith('SA') == True:\n",
    "        df['Director_Team'].mask(df['Director_Team'] == x, 'SA', inplace=True)\n",
    "    elif x.startswith('VIC') == True:\n",
    "        df['Director_Team'].mask(df['Director_Team'] == x, 'VIC', inplace=True)\n",
    "    elif x.startswith('WA') == True:\n",
    "        df['Director_Team'].mask(df['Director_Team'] == x, 'WA', inplace=True)\n",
    "    elif x.startswith('NZ') == True:\n",
    "        df['Director_Team'].mask(df['Director_Team'] == x, 'NZ', inplace=True)\n",
    "    elif x.startswith('QLD') == True:\n",
    "        df['Director_Team'].mask(df['Director_Team'] == x, 'QLD', inplace=True)"
   ]
  },
  {
   "cell_type": "code",
   "execution_count": 44,
   "metadata": {},
   "outputs": [
    {
     "data": {
      "text/plain": [
       "SA                          6052\n",
       "VIC                         1750\n",
       "WA                           875\n",
       "Group - Support Services     601\n",
       "All Staff                      8\n",
       "QLD                            6\n",
       "NZ                             5\n",
       "Name: Director_Team, dtype: int64"
      ]
     },
     "execution_count": 44,
     "metadata": {},
     "output_type": "execute_result"
    }
   ],
   "source": [
    "df['Director_Team'].value_counts()"
   ]
  },
  {
   "cell_type": "code",
   "execution_count": 45,
   "metadata": {},
   "outputs": [
    {
     "data": {
      "text/plain": [
       "7"
      ]
     },
     "execution_count": 45,
     "metadata": {},
     "output_type": "execute_result"
    }
   ],
   "source": [
    "df['Director_Team'].nunique()"
   ]
  },
  {
   "cell_type": "code",
   "execution_count": 46,
   "metadata": {},
   "outputs": [
    {
     "data": {
      "text/html": [
       "<div>\n",
       "<style scoped>\n",
       "    .dataframe tbody tr th:only-of-type {\n",
       "        vertical-align: middle;\n",
       "    }\n",
       "\n",
       "    .dataframe tbody tr th {\n",
       "        vertical-align: top;\n",
       "    }\n",
       "\n",
       "    .dataframe thead th {\n",
       "        text-align: right;\n",
       "    }\n",
       "</style>\n",
       "<table border=\"1\" class=\"dataframe\">\n",
       "  <thead>\n",
       "    <tr style=\"text-align: right;\">\n",
       "      <th></th>\n",
       "      <th>Project_Size_Sort_Order</th>\n",
       "      <th>Project_Duration_Weeks</th>\n",
       "      <th>Total_Num_Stages</th>\n",
       "      <th>Is_Multi_Discipline_Project</th>\n",
       "      <th>Is_First_Client_Project</th>\n",
       "      <th>Perc_of_Stages_with_Fixed_Fee</th>\n",
       "      <th>Manager_ID</th>\n",
       "      <th>Manager_Is_Recent</th>\n",
       "      <th>Director_ID</th>\n",
       "      <th>Director_Is_Recent</th>\n",
       "      <th>Perc_of_Subcontractors</th>\n",
       "      <th>Is_Front_Loaded</th>\n",
       "      <th>Delivered_on_Time</th>\n",
       "      <th>Suffered_Data_Loss</th>\n",
       "      <th>Total_Data_Issues</th>\n",
       "      <th>Start_Quarter</th>\n",
       "      <th>End_Quarter</th>\n",
       "      <th>Director_Empl_Years</th>\n",
       "      <th>Manager_Empl_Years</th>\n",
       "      <th>Rec_Class</th>\n",
       "      <th>Profit_Class</th>\n",
       "      <th>Country_Botswana</th>\n",
       "      <th>Country_China</th>\n",
       "      <th>Country_New Zealand</th>\n",
       "      <th>Country_Papua New Guinea</th>\n",
       "      <th>Country_Peru</th>\n",
       "      <th>Country_Samoa</th>\n",
       "      <th>Country_Saudi Arabia</th>\n",
       "      <th>Country_Tonga</th>\n",
       "      <th>Country_United Arab Emirates</th>\n",
       "      <th>Country_Zambia</th>\n",
       "      <th>Office_Inception Consulting Engineers Pty Ltd</th>\n",
       "      <th>Office_WGANZ Pty Ltd</th>\n",
       "      <th>Office_WGAQLD Pty Ltd</th>\n",
       "      <th>Office_WGASA Pty Ltd</th>\n",
       "      <th>Office_WGAVIC Pty Ltd</th>\n",
       "      <th>Office_WGAWA Pty Ltd</th>\n",
       "      <th>Office_Whyalla</th>\n",
       "      <th>Sector_Commercial &amp; Retail Buildings</th>\n",
       "      <th>Sector_Defence &amp; Space</th>\n",
       "      <th>Sector_Energy</th>\n",
       "      <th>Sector_Health &amp; Aged Care</th>\n",
       "      <th>Sector_Justice, Corrections &amp; Emergency Services</th>\n",
       "      <th>Sector_Ports &amp; Marine</th>\n",
       "      <th>Sector_Resources</th>\n",
       "      <th>Sector_Sport &amp; Recreation Facilities</th>\n",
       "      <th>Sector_Traffic Transport (Bridges)</th>\n",
       "      <th>Sector_Urban development</th>\n",
       "      <th>Sector_Water/Waste</th>\n",
       "      <th>Default_Rate_Group_Standard</th>\n",
       "      <th>Manager_Team_Group - Support Services</th>\n",
       "      <th>Manager_Team_NZ</th>\n",
       "      <th>Manager_Team_QLD</th>\n",
       "      <th>Manager_Team_SA</th>\n",
       "      <th>Manager_Team_VIC</th>\n",
       "      <th>Manager_Team_WA</th>\n",
       "      <th>Director_Team_Group - Support Services</th>\n",
       "      <th>Director_Team_NZ</th>\n",
       "      <th>Director_Team_QLD</th>\n",
       "      <th>Director_Team_SA</th>\n",
       "      <th>Director_Team_VIC</th>\n",
       "      <th>Director_Team_WA</th>\n",
       "    </tr>\n",
       "  </thead>\n",
       "  <tbody>\n",
       "    <tr>\n",
       "      <th>0</th>\n",
       "      <td>4.0</td>\n",
       "      <td>4.0</td>\n",
       "      <td>5</td>\n",
       "      <td>0.0</td>\n",
       "      <td>1.0</td>\n",
       "      <td>0.80</td>\n",
       "      <td>7612852</td>\n",
       "      <td>0</td>\n",
       "      <td>7612709</td>\n",
       "      <td>False</td>\n",
       "      <td>0.0</td>\n",
       "      <td>1</td>\n",
       "      <td>True</td>\n",
       "      <td>1</td>\n",
       "      <td>2</td>\n",
       "      <td>3</td>\n",
       "      <td>3</td>\n",
       "      <td>36</td>\n",
       "      <td>11</td>\n",
       "      <td>1</td>\n",
       "      <td>0</td>\n",
       "      <td>0</td>\n",
       "      <td>0</td>\n",
       "      <td>0</td>\n",
       "      <td>0</td>\n",
       "      <td>0</td>\n",
       "      <td>0</td>\n",
       "      <td>0</td>\n",
       "      <td>0</td>\n",
       "      <td>0</td>\n",
       "      <td>0</td>\n",
       "      <td>0</td>\n",
       "      <td>0</td>\n",
       "      <td>0</td>\n",
       "      <td>0</td>\n",
       "      <td>0</td>\n",
       "      <td>0</td>\n",
       "      <td>1</td>\n",
       "      <td>0</td>\n",
       "      <td>0</td>\n",
       "      <td>0</td>\n",
       "      <td>0</td>\n",
       "      <td>0</td>\n",
       "      <td>1</td>\n",
       "      <td>0</td>\n",
       "      <td>0</td>\n",
       "      <td>0</td>\n",
       "      <td>0</td>\n",
       "      <td>0</td>\n",
       "      <td>1</td>\n",
       "      <td>0</td>\n",
       "      <td>0</td>\n",
       "      <td>0</td>\n",
       "      <td>1</td>\n",
       "      <td>0</td>\n",
       "      <td>0</td>\n",
       "      <td>0</td>\n",
       "      <td>0</td>\n",
       "      <td>0</td>\n",
       "      <td>1</td>\n",
       "      <td>0</td>\n",
       "      <td>0</td>\n",
       "    </tr>\n",
       "    <tr>\n",
       "      <th>1</th>\n",
       "      <td>1.0</td>\n",
       "      <td>238.0</td>\n",
       "      <td>4</td>\n",
       "      <td>0.0</td>\n",
       "      <td>1.0</td>\n",
       "      <td>0.00</td>\n",
       "      <td>7612773</td>\n",
       "      <td>0</td>\n",
       "      <td>7612747</td>\n",
       "      <td>False</td>\n",
       "      <td>0.0</td>\n",
       "      <td>0</td>\n",
       "      <td>True</td>\n",
       "      <td>0</td>\n",
       "      <td>2</td>\n",
       "      <td>3</td>\n",
       "      <td>2</td>\n",
       "      <td>36</td>\n",
       "      <td>27</td>\n",
       "      <td>1</td>\n",
       "      <td>0</td>\n",
       "      <td>0</td>\n",
       "      <td>0</td>\n",
       "      <td>0</td>\n",
       "      <td>0</td>\n",
       "      <td>0</td>\n",
       "      <td>0</td>\n",
       "      <td>0</td>\n",
       "      <td>0</td>\n",
       "      <td>0</td>\n",
       "      <td>0</td>\n",
       "      <td>0</td>\n",
       "      <td>0</td>\n",
       "      <td>0</td>\n",
       "      <td>1</td>\n",
       "      <td>0</td>\n",
       "      <td>0</td>\n",
       "      <td>0</td>\n",
       "      <td>0</td>\n",
       "      <td>0</td>\n",
       "      <td>0</td>\n",
       "      <td>0</td>\n",
       "      <td>0</td>\n",
       "      <td>0</td>\n",
       "      <td>0</td>\n",
       "      <td>0</td>\n",
       "      <td>0</td>\n",
       "      <td>0</td>\n",
       "      <td>0</td>\n",
       "      <td>1</td>\n",
       "      <td>0</td>\n",
       "      <td>0</td>\n",
       "      <td>0</td>\n",
       "      <td>1</td>\n",
       "      <td>0</td>\n",
       "      <td>0</td>\n",
       "      <td>0</td>\n",
       "      <td>0</td>\n",
       "      <td>0</td>\n",
       "      <td>1</td>\n",
       "      <td>0</td>\n",
       "      <td>0</td>\n",
       "    </tr>\n",
       "    <tr>\n",
       "      <th>2</th>\n",
       "      <td>1.0</td>\n",
       "      <td>0.0</td>\n",
       "      <td>2</td>\n",
       "      <td>0.0</td>\n",
       "      <td>1.0</td>\n",
       "      <td>0.00</td>\n",
       "      <td>7612773</td>\n",
       "      <td>0</td>\n",
       "      <td>7612768</td>\n",
       "      <td>False</td>\n",
       "      <td>0.0</td>\n",
       "      <td>0</td>\n",
       "      <td>True</td>\n",
       "      <td>0</td>\n",
       "      <td>0</td>\n",
       "      <td>1</td>\n",
       "      <td>1</td>\n",
       "      <td>28</td>\n",
       "      <td>27</td>\n",
       "      <td>1</td>\n",
       "      <td>0</td>\n",
       "      <td>0</td>\n",
       "      <td>0</td>\n",
       "      <td>0</td>\n",
       "      <td>0</td>\n",
       "      <td>0</td>\n",
       "      <td>0</td>\n",
       "      <td>0</td>\n",
       "      <td>0</td>\n",
       "      <td>0</td>\n",
       "      <td>0</td>\n",
       "      <td>0</td>\n",
       "      <td>0</td>\n",
       "      <td>0</td>\n",
       "      <td>1</td>\n",
       "      <td>0</td>\n",
       "      <td>0</td>\n",
       "      <td>0</td>\n",
       "      <td>0</td>\n",
       "      <td>0</td>\n",
       "      <td>0</td>\n",
       "      <td>0</td>\n",
       "      <td>0</td>\n",
       "      <td>0</td>\n",
       "      <td>0</td>\n",
       "      <td>0</td>\n",
       "      <td>0</td>\n",
       "      <td>0</td>\n",
       "      <td>0</td>\n",
       "      <td>1</td>\n",
       "      <td>0</td>\n",
       "      <td>0</td>\n",
       "      <td>0</td>\n",
       "      <td>1</td>\n",
       "      <td>0</td>\n",
       "      <td>0</td>\n",
       "      <td>0</td>\n",
       "      <td>0</td>\n",
       "      <td>0</td>\n",
       "      <td>1</td>\n",
       "      <td>0</td>\n",
       "      <td>0</td>\n",
       "    </tr>\n",
       "    <tr>\n",
       "      <th>3</th>\n",
       "      <td>3.0</td>\n",
       "      <td>121.0</td>\n",
       "      <td>4</td>\n",
       "      <td>0.0</td>\n",
       "      <td>1.0</td>\n",
       "      <td>0.25</td>\n",
       "      <td>7612773</td>\n",
       "      <td>0</td>\n",
       "      <td>7612709</td>\n",
       "      <td>False</td>\n",
       "      <td>0.0</td>\n",
       "      <td>0</td>\n",
       "      <td>True</td>\n",
       "      <td>0</td>\n",
       "      <td>1</td>\n",
       "      <td>4</td>\n",
       "      <td>2</td>\n",
       "      <td>36</td>\n",
       "      <td>27</td>\n",
       "      <td>1</td>\n",
       "      <td>0</td>\n",
       "      <td>0</td>\n",
       "      <td>0</td>\n",
       "      <td>0</td>\n",
       "      <td>0</td>\n",
       "      <td>0</td>\n",
       "      <td>0</td>\n",
       "      <td>0</td>\n",
       "      <td>0</td>\n",
       "      <td>0</td>\n",
       "      <td>0</td>\n",
       "      <td>0</td>\n",
       "      <td>0</td>\n",
       "      <td>0</td>\n",
       "      <td>1</td>\n",
       "      <td>0</td>\n",
       "      <td>0</td>\n",
       "      <td>0</td>\n",
       "      <td>1</td>\n",
       "      <td>0</td>\n",
       "      <td>0</td>\n",
       "      <td>0</td>\n",
       "      <td>0</td>\n",
       "      <td>0</td>\n",
       "      <td>0</td>\n",
       "      <td>0</td>\n",
       "      <td>0</td>\n",
       "      <td>0</td>\n",
       "      <td>0</td>\n",
       "      <td>1</td>\n",
       "      <td>0</td>\n",
       "      <td>0</td>\n",
       "      <td>0</td>\n",
       "      <td>1</td>\n",
       "      <td>0</td>\n",
       "      <td>0</td>\n",
       "      <td>0</td>\n",
       "      <td>0</td>\n",
       "      <td>0</td>\n",
       "      <td>1</td>\n",
       "      <td>0</td>\n",
       "      <td>0</td>\n",
       "    </tr>\n",
       "    <tr>\n",
       "      <th>4</th>\n",
       "      <td>7.0</td>\n",
       "      <td>2.0</td>\n",
       "      <td>6</td>\n",
       "      <td>0.0</td>\n",
       "      <td>1.0</td>\n",
       "      <td>0.00</td>\n",
       "      <td>7612695</td>\n",
       "      <td>0</td>\n",
       "      <td>7612695</td>\n",
       "      <td>False</td>\n",
       "      <td>0.0</td>\n",
       "      <td>0</td>\n",
       "      <td>True</td>\n",
       "      <td>0</td>\n",
       "      <td>3</td>\n",
       "      <td>3</td>\n",
       "      <td>3</td>\n",
       "      <td>35</td>\n",
       "      <td>35</td>\n",
       "      <td>1</td>\n",
       "      <td>0</td>\n",
       "      <td>0</td>\n",
       "      <td>0</td>\n",
       "      <td>0</td>\n",
       "      <td>0</td>\n",
       "      <td>0</td>\n",
       "      <td>0</td>\n",
       "      <td>0</td>\n",
       "      <td>0</td>\n",
       "      <td>0</td>\n",
       "      <td>0</td>\n",
       "      <td>0</td>\n",
       "      <td>0</td>\n",
       "      <td>0</td>\n",
       "      <td>1</td>\n",
       "      <td>0</td>\n",
       "      <td>0</td>\n",
       "      <td>0</td>\n",
       "      <td>0</td>\n",
       "      <td>0</td>\n",
       "      <td>0</td>\n",
       "      <td>0</td>\n",
       "      <td>0</td>\n",
       "      <td>0</td>\n",
       "      <td>0</td>\n",
       "      <td>0</td>\n",
       "      <td>0</td>\n",
       "      <td>0</td>\n",
       "      <td>0</td>\n",
       "      <td>1</td>\n",
       "      <td>0</td>\n",
       "      <td>0</td>\n",
       "      <td>0</td>\n",
       "      <td>1</td>\n",
       "      <td>0</td>\n",
       "      <td>0</td>\n",
       "      <td>0</td>\n",
       "      <td>0</td>\n",
       "      <td>0</td>\n",
       "      <td>1</td>\n",
       "      <td>0</td>\n",
       "      <td>0</td>\n",
       "    </tr>\n",
       "    <tr>\n",
       "      <th>...</th>\n",
       "      <td>...</td>\n",
       "      <td>...</td>\n",
       "      <td>...</td>\n",
       "      <td>...</td>\n",
       "      <td>...</td>\n",
       "      <td>...</td>\n",
       "      <td>...</td>\n",
       "      <td>...</td>\n",
       "      <td>...</td>\n",
       "      <td>...</td>\n",
       "      <td>...</td>\n",
       "      <td>...</td>\n",
       "      <td>...</td>\n",
       "      <td>...</td>\n",
       "      <td>...</td>\n",
       "      <td>...</td>\n",
       "      <td>...</td>\n",
       "      <td>...</td>\n",
       "      <td>...</td>\n",
       "      <td>...</td>\n",
       "      <td>...</td>\n",
       "      <td>...</td>\n",
       "      <td>...</td>\n",
       "      <td>...</td>\n",
       "      <td>...</td>\n",
       "      <td>...</td>\n",
       "      <td>...</td>\n",
       "      <td>...</td>\n",
       "      <td>...</td>\n",
       "      <td>...</td>\n",
       "      <td>...</td>\n",
       "      <td>...</td>\n",
       "      <td>...</td>\n",
       "      <td>...</td>\n",
       "      <td>...</td>\n",
       "      <td>...</td>\n",
       "      <td>...</td>\n",
       "      <td>...</td>\n",
       "      <td>...</td>\n",
       "      <td>...</td>\n",
       "      <td>...</td>\n",
       "      <td>...</td>\n",
       "      <td>...</td>\n",
       "      <td>...</td>\n",
       "      <td>...</td>\n",
       "      <td>...</td>\n",
       "      <td>...</td>\n",
       "      <td>...</td>\n",
       "      <td>...</td>\n",
       "      <td>...</td>\n",
       "      <td>...</td>\n",
       "      <td>...</td>\n",
       "      <td>...</td>\n",
       "      <td>...</td>\n",
       "      <td>...</td>\n",
       "      <td>...</td>\n",
       "      <td>...</td>\n",
       "      <td>...</td>\n",
       "      <td>...</td>\n",
       "      <td>...</td>\n",
       "      <td>...</td>\n",
       "      <td>...</td>\n",
       "    </tr>\n",
       "    <tr>\n",
       "      <th>9292</th>\n",
       "      <td>3.0</td>\n",
       "      <td>18.0</td>\n",
       "      <td>2</td>\n",
       "      <td>0.0</td>\n",
       "      <td>0.0</td>\n",
       "      <td>1.00</td>\n",
       "      <td>7612752</td>\n",
       "      <td>0</td>\n",
       "      <td>7612691</td>\n",
       "      <td>False</td>\n",
       "      <td>0.0</td>\n",
       "      <td>0</td>\n",
       "      <td>True</td>\n",
       "      <td>0</td>\n",
       "      <td>1</td>\n",
       "      <td>2</td>\n",
       "      <td>3</td>\n",
       "      <td>15</td>\n",
       "      <td>15</td>\n",
       "      <td>1</td>\n",
       "      <td>0</td>\n",
       "      <td>0</td>\n",
       "      <td>0</td>\n",
       "      <td>0</td>\n",
       "      <td>0</td>\n",
       "      <td>0</td>\n",
       "      <td>0</td>\n",
       "      <td>0</td>\n",
       "      <td>0</td>\n",
       "      <td>0</td>\n",
       "      <td>0</td>\n",
       "      <td>0</td>\n",
       "      <td>0</td>\n",
       "      <td>0</td>\n",
       "      <td>1</td>\n",
       "      <td>0</td>\n",
       "      <td>0</td>\n",
       "      <td>0</td>\n",
       "      <td>0</td>\n",
       "      <td>0</td>\n",
       "      <td>0</td>\n",
       "      <td>0</td>\n",
       "      <td>0</td>\n",
       "      <td>0</td>\n",
       "      <td>0</td>\n",
       "      <td>0</td>\n",
       "      <td>1</td>\n",
       "      <td>0</td>\n",
       "      <td>0</td>\n",
       "      <td>0</td>\n",
       "      <td>0</td>\n",
       "      <td>0</td>\n",
       "      <td>0</td>\n",
       "      <td>1</td>\n",
       "      <td>0</td>\n",
       "      <td>0</td>\n",
       "      <td>0</td>\n",
       "      <td>0</td>\n",
       "      <td>0</td>\n",
       "      <td>1</td>\n",
       "      <td>0</td>\n",
       "      <td>0</td>\n",
       "    </tr>\n",
       "    <tr>\n",
       "      <th>9293</th>\n",
       "      <td>1.0</td>\n",
       "      <td>1.0</td>\n",
       "      <td>3</td>\n",
       "      <td>0.0</td>\n",
       "      <td>0.0</td>\n",
       "      <td>0.67</td>\n",
       "      <td>9501752</td>\n",
       "      <td>0</td>\n",
       "      <td>7859152</td>\n",
       "      <td>False</td>\n",
       "      <td>0.0</td>\n",
       "      <td>0</td>\n",
       "      <td>True</td>\n",
       "      <td>0</td>\n",
       "      <td>1</td>\n",
       "      <td>2</td>\n",
       "      <td>2</td>\n",
       "      <td>2</td>\n",
       "      <td>1</td>\n",
       "      <td>1</td>\n",
       "      <td>0</td>\n",
       "      <td>0</td>\n",
       "      <td>0</td>\n",
       "      <td>0</td>\n",
       "      <td>0</td>\n",
       "      <td>0</td>\n",
       "      <td>0</td>\n",
       "      <td>0</td>\n",
       "      <td>0</td>\n",
       "      <td>0</td>\n",
       "      <td>0</td>\n",
       "      <td>0</td>\n",
       "      <td>0</td>\n",
       "      <td>0</td>\n",
       "      <td>0</td>\n",
       "      <td>1</td>\n",
       "      <td>0</td>\n",
       "      <td>0</td>\n",
       "      <td>0</td>\n",
       "      <td>0</td>\n",
       "      <td>0</td>\n",
       "      <td>0</td>\n",
       "      <td>0</td>\n",
       "      <td>0</td>\n",
       "      <td>0</td>\n",
       "      <td>0</td>\n",
       "      <td>0</td>\n",
       "      <td>0</td>\n",
       "      <td>0</td>\n",
       "      <td>0</td>\n",
       "      <td>0</td>\n",
       "      <td>0</td>\n",
       "      <td>0</td>\n",
       "      <td>0</td>\n",
       "      <td>1</td>\n",
       "      <td>0</td>\n",
       "      <td>0</td>\n",
       "      <td>0</td>\n",
       "      <td>0</td>\n",
       "      <td>0</td>\n",
       "      <td>1</td>\n",
       "      <td>0</td>\n",
       "    </tr>\n",
       "    <tr>\n",
       "      <th>9294</th>\n",
       "      <td>1.0</td>\n",
       "      <td>1.0</td>\n",
       "      <td>2</td>\n",
       "      <td>0.0</td>\n",
       "      <td>0.0</td>\n",
       "      <td>0.50</td>\n",
       "      <td>7809410</td>\n",
       "      <td>0</td>\n",
       "      <td>10018105</td>\n",
       "      <td>True</td>\n",
       "      <td>0.0</td>\n",
       "      <td>0</td>\n",
       "      <td>True</td>\n",
       "      <td>0</td>\n",
       "      <td>1</td>\n",
       "      <td>2</td>\n",
       "      <td>2</td>\n",
       "      <td>0</td>\n",
       "      <td>2</td>\n",
       "      <td>1</td>\n",
       "      <td>0</td>\n",
       "      <td>0</td>\n",
       "      <td>0</td>\n",
       "      <td>0</td>\n",
       "      <td>0</td>\n",
       "      <td>0</td>\n",
       "      <td>0</td>\n",
       "      <td>0</td>\n",
       "      <td>0</td>\n",
       "      <td>0</td>\n",
       "      <td>0</td>\n",
       "      <td>0</td>\n",
       "      <td>0</td>\n",
       "      <td>0</td>\n",
       "      <td>0</td>\n",
       "      <td>0</td>\n",
       "      <td>1</td>\n",
       "      <td>0</td>\n",
       "      <td>0</td>\n",
       "      <td>0</td>\n",
       "      <td>0</td>\n",
       "      <td>0</td>\n",
       "      <td>0</td>\n",
       "      <td>0</td>\n",
       "      <td>0</td>\n",
       "      <td>0</td>\n",
       "      <td>0</td>\n",
       "      <td>0</td>\n",
       "      <td>0</td>\n",
       "      <td>0</td>\n",
       "      <td>0</td>\n",
       "      <td>0</td>\n",
       "      <td>0</td>\n",
       "      <td>0</td>\n",
       "      <td>0</td>\n",
       "      <td>1</td>\n",
       "      <td>0</td>\n",
       "      <td>0</td>\n",
       "      <td>0</td>\n",
       "      <td>1</td>\n",
       "      <td>0</td>\n",
       "      <td>0</td>\n",
       "    </tr>\n",
       "    <tr>\n",
       "      <th>9295</th>\n",
       "      <td>1.0</td>\n",
       "      <td>3.0</td>\n",
       "      <td>1</td>\n",
       "      <td>0.0</td>\n",
       "      <td>0.0</td>\n",
       "      <td>1.00</td>\n",
       "      <td>7612860</td>\n",
       "      <td>0</td>\n",
       "      <td>7612841</td>\n",
       "      <td>False</td>\n",
       "      <td>0.0</td>\n",
       "      <td>0</td>\n",
       "      <td>True</td>\n",
       "      <td>0</td>\n",
       "      <td>0</td>\n",
       "      <td>2</td>\n",
       "      <td>2</td>\n",
       "      <td>24</td>\n",
       "      <td>14</td>\n",
       "      <td>1</td>\n",
       "      <td>0</td>\n",
       "      <td>0</td>\n",
       "      <td>0</td>\n",
       "      <td>0</td>\n",
       "      <td>0</td>\n",
       "      <td>0</td>\n",
       "      <td>0</td>\n",
       "      <td>0</td>\n",
       "      <td>0</td>\n",
       "      <td>0</td>\n",
       "      <td>0</td>\n",
       "      <td>0</td>\n",
       "      <td>0</td>\n",
       "      <td>0</td>\n",
       "      <td>0</td>\n",
       "      <td>1</td>\n",
       "      <td>0</td>\n",
       "      <td>0</td>\n",
       "      <td>0</td>\n",
       "      <td>0</td>\n",
       "      <td>1</td>\n",
       "      <td>0</td>\n",
       "      <td>0</td>\n",
       "      <td>0</td>\n",
       "      <td>0</td>\n",
       "      <td>0</td>\n",
       "      <td>0</td>\n",
       "      <td>0</td>\n",
       "      <td>0</td>\n",
       "      <td>0</td>\n",
       "      <td>0</td>\n",
       "      <td>0</td>\n",
       "      <td>0</td>\n",
       "      <td>0</td>\n",
       "      <td>1</td>\n",
       "      <td>0</td>\n",
       "      <td>0</td>\n",
       "      <td>0</td>\n",
       "      <td>0</td>\n",
       "      <td>0</td>\n",
       "      <td>1</td>\n",
       "      <td>0</td>\n",
       "    </tr>\n",
       "    <tr>\n",
       "      <th>9296</th>\n",
       "      <td>1.0</td>\n",
       "      <td>4.0</td>\n",
       "      <td>1</td>\n",
       "      <td>0.0</td>\n",
       "      <td>0.0</td>\n",
       "      <td>1.00</td>\n",
       "      <td>7612860</td>\n",
       "      <td>0</td>\n",
       "      <td>7612841</td>\n",
       "      <td>False</td>\n",
       "      <td>0.0</td>\n",
       "      <td>0</td>\n",
       "      <td>True</td>\n",
       "      <td>0</td>\n",
       "      <td>1</td>\n",
       "      <td>2</td>\n",
       "      <td>2</td>\n",
       "      <td>24</td>\n",
       "      <td>14</td>\n",
       "      <td>1</td>\n",
       "      <td>0</td>\n",
       "      <td>0</td>\n",
       "      <td>0</td>\n",
       "      <td>0</td>\n",
       "      <td>0</td>\n",
       "      <td>0</td>\n",
       "      <td>0</td>\n",
       "      <td>0</td>\n",
       "      <td>0</td>\n",
       "      <td>0</td>\n",
       "      <td>0</td>\n",
       "      <td>0</td>\n",
       "      <td>0</td>\n",
       "      <td>0</td>\n",
       "      <td>0</td>\n",
       "      <td>1</td>\n",
       "      <td>0</td>\n",
       "      <td>0</td>\n",
       "      <td>0</td>\n",
       "      <td>0</td>\n",
       "      <td>1</td>\n",
       "      <td>0</td>\n",
       "      <td>0</td>\n",
       "      <td>0</td>\n",
       "      <td>0</td>\n",
       "      <td>0</td>\n",
       "      <td>0</td>\n",
       "      <td>0</td>\n",
       "      <td>0</td>\n",
       "      <td>0</td>\n",
       "      <td>0</td>\n",
       "      <td>0</td>\n",
       "      <td>0</td>\n",
       "      <td>0</td>\n",
       "      <td>1</td>\n",
       "      <td>0</td>\n",
       "      <td>0</td>\n",
       "      <td>0</td>\n",
       "      <td>0</td>\n",
       "      <td>0</td>\n",
       "      <td>1</td>\n",
       "      <td>0</td>\n",
       "    </tr>\n",
       "  </tbody>\n",
       "</table>\n",
       "<p>9297 rows × 62 columns</p>\n",
       "</div>"
      ],
      "text/plain": [
       "      Project_Size_Sort_Order  Project_Duration_Weeks  Total_Num_Stages  \\\n",
       "0                         4.0                     4.0                 5   \n",
       "1                         1.0                   238.0                 4   \n",
       "2                         1.0                     0.0                 2   \n",
       "3                         3.0                   121.0                 4   \n",
       "4                         7.0                     2.0                 6   \n",
       "...                       ...                     ...               ...   \n",
       "9292                      3.0                    18.0                 2   \n",
       "9293                      1.0                     1.0                 3   \n",
       "9294                      1.0                     1.0                 2   \n",
       "9295                      1.0                     3.0                 1   \n",
       "9296                      1.0                     4.0                 1   \n",
       "\n",
       "      Is_Multi_Discipline_Project  Is_First_Client_Project  \\\n",
       "0                             0.0                      1.0   \n",
       "1                             0.0                      1.0   \n",
       "2                             0.0                      1.0   \n",
       "3                             0.0                      1.0   \n",
       "4                             0.0                      1.0   \n",
       "...                           ...                      ...   \n",
       "9292                          0.0                      0.0   \n",
       "9293                          0.0                      0.0   \n",
       "9294                          0.0                      0.0   \n",
       "9295                          0.0                      0.0   \n",
       "9296                          0.0                      0.0   \n",
       "\n",
       "      Perc_of_Stages_with_Fixed_Fee  Manager_ID  Manager_Is_Recent  \\\n",
       "0                              0.80     7612852                  0   \n",
       "1                              0.00     7612773                  0   \n",
       "2                              0.00     7612773                  0   \n",
       "3                              0.25     7612773                  0   \n",
       "4                              0.00     7612695                  0   \n",
       "...                             ...         ...                ...   \n",
       "9292                           1.00     7612752                  0   \n",
       "9293                           0.67     9501752                  0   \n",
       "9294                           0.50     7809410                  0   \n",
       "9295                           1.00     7612860                  0   \n",
       "9296                           1.00     7612860                  0   \n",
       "\n",
       "      Director_ID  Director_Is_Recent  Perc_of_Subcontractors  \\\n",
       "0         7612709               False                     0.0   \n",
       "1         7612747               False                     0.0   \n",
       "2         7612768               False                     0.0   \n",
       "3         7612709               False                     0.0   \n",
       "4         7612695               False                     0.0   \n",
       "...           ...                 ...                     ...   \n",
       "9292      7612691               False                     0.0   \n",
       "9293      7859152               False                     0.0   \n",
       "9294     10018105                True                     0.0   \n",
       "9295      7612841               False                     0.0   \n",
       "9296      7612841               False                     0.0   \n",
       "\n",
       "      Is_Front_Loaded  Delivered_on_Time  Suffered_Data_Loss  \\\n",
       "0                   1               True                   1   \n",
       "1                   0               True                   0   \n",
       "2                   0               True                   0   \n",
       "3                   0               True                   0   \n",
       "4                   0               True                   0   \n",
       "...               ...                ...                 ...   \n",
       "9292                0               True                   0   \n",
       "9293                0               True                   0   \n",
       "9294                0               True                   0   \n",
       "9295                0               True                   0   \n",
       "9296                0               True                   0   \n",
       "\n",
       "      Total_Data_Issues  Start_Quarter  End_Quarter  Director_Empl_Years  \\\n",
       "0                     2              3            3                   36   \n",
       "1                     2              3            2                   36   \n",
       "2                     0              1            1                   28   \n",
       "3                     1              4            2                   36   \n",
       "4                     3              3            3                   35   \n",
       "...                 ...            ...          ...                  ...   \n",
       "9292                  1              2            3                   15   \n",
       "9293                  1              2            2                    2   \n",
       "9294                  1              2            2                    0   \n",
       "9295                  0              2            2                   24   \n",
       "9296                  1              2            2                   24   \n",
       "\n",
       "      Manager_Empl_Years  Rec_Class  Profit_Class  Country_Botswana  \\\n",
       "0                     11          1             0                 0   \n",
       "1                     27          1             0                 0   \n",
       "2                     27          1             0                 0   \n",
       "3                     27          1             0                 0   \n",
       "4                     35          1             0                 0   \n",
       "...                  ...        ...           ...               ...   \n",
       "9292                  15          1             0                 0   \n",
       "9293                   1          1             0                 0   \n",
       "9294                   2          1             0                 0   \n",
       "9295                  14          1             0                 0   \n",
       "9296                  14          1             0                 0   \n",
       "\n",
       "      Country_China  Country_New Zealand  Country_Papua New Guinea  \\\n",
       "0                 0                    0                         0   \n",
       "1                 0                    0                         0   \n",
       "2                 0                    0                         0   \n",
       "3                 0                    0                         0   \n",
       "4                 0                    0                         0   \n",
       "...             ...                  ...                       ...   \n",
       "9292              0                    0                         0   \n",
       "9293              0                    0                         0   \n",
       "9294              0                    0                         0   \n",
       "9295              0                    0                         0   \n",
       "9296              0                    0                         0   \n",
       "\n",
       "      Country_Peru  Country_Samoa  Country_Saudi Arabia  Country_Tonga  \\\n",
       "0                0              0                     0              0   \n",
       "1                0              0                     0              0   \n",
       "2                0              0                     0              0   \n",
       "3                0              0                     0              0   \n",
       "4                0              0                     0              0   \n",
       "...            ...            ...                   ...            ...   \n",
       "9292             0              0                     0              0   \n",
       "9293             0              0                     0              0   \n",
       "9294             0              0                     0              0   \n",
       "9295             0              0                     0              0   \n",
       "9296             0              0                     0              0   \n",
       "\n",
       "      Country_United Arab Emirates  Country_Zambia  \\\n",
       "0                                0               0   \n",
       "1                                0               0   \n",
       "2                                0               0   \n",
       "3                                0               0   \n",
       "4                                0               0   \n",
       "...                            ...             ...   \n",
       "9292                             0               0   \n",
       "9293                             0               0   \n",
       "9294                             0               0   \n",
       "9295                             0               0   \n",
       "9296                             0               0   \n",
       "\n",
       "      Office_Inception Consulting Engineers Pty Ltd  Office_WGANZ Pty Ltd  \\\n",
       "0                                                 0                     0   \n",
       "1                                                 0                     0   \n",
       "2                                                 0                     0   \n",
       "3                                                 0                     0   \n",
       "4                                                 0                     0   \n",
       "...                                             ...                   ...   \n",
       "9292                                              0                     0   \n",
       "9293                                              0                     0   \n",
       "9294                                              0                     0   \n",
       "9295                                              0                     0   \n",
       "9296                                              0                     0   \n",
       "\n",
       "      Office_WGAQLD Pty Ltd  Office_WGASA Pty Ltd  Office_WGAVIC Pty Ltd  \\\n",
       "0                         0                     0                      0   \n",
       "1                         0                     1                      0   \n",
       "2                         0                     1                      0   \n",
       "3                         0                     1                      0   \n",
       "4                         0                     1                      0   \n",
       "...                     ...                   ...                    ...   \n",
       "9292                      0                     1                      0   \n",
       "9293                      0                     0                      1   \n",
       "9294                      0                     0                      0   \n",
       "9295                      0                     0                      1   \n",
       "9296                      0                     0                      1   \n",
       "\n",
       "      Office_WGAWA Pty Ltd  Office_Whyalla  \\\n",
       "0                        0               1   \n",
       "1                        0               0   \n",
       "2                        0               0   \n",
       "3                        0               0   \n",
       "4                        0               0   \n",
       "...                    ...             ...   \n",
       "9292                     0               0   \n",
       "9293                     0               0   \n",
       "9294                     1               0   \n",
       "9295                     0               0   \n",
       "9296                     0               0   \n",
       "\n",
       "      Sector_Commercial & Retail Buildings  Sector_Defence & Space  \\\n",
       "0                                        0                       0   \n",
       "1                                        0                       0   \n",
       "2                                        0                       0   \n",
       "3                                        1                       0   \n",
       "4                                        0                       0   \n",
       "...                                    ...                     ...   \n",
       "9292                                     0                       0   \n",
       "9293                                     0                       0   \n",
       "9294                                     0                       0   \n",
       "9295                                     0                       0   \n",
       "9296                                     0                       0   \n",
       "\n",
       "      Sector_Energy  Sector_Health & Aged Care  \\\n",
       "0                 0                          0   \n",
       "1                 0                          0   \n",
       "2                 0                          0   \n",
       "3                 0                          0   \n",
       "4                 0                          0   \n",
       "...             ...                        ...   \n",
       "9292              0                          0   \n",
       "9293              0                          0   \n",
       "9294              0                          0   \n",
       "9295              1                          0   \n",
       "9296              1                          0   \n",
       "\n",
       "      Sector_Justice, Corrections & Emergency Services  Sector_Ports & Marine  \\\n",
       "0                                                    0                      1   \n",
       "1                                                    0                      0   \n",
       "2                                                    0                      0   \n",
       "3                                                    0                      0   \n",
       "4                                                    0                      0   \n",
       "...                                                ...                    ...   \n",
       "9292                                                 0                      0   \n",
       "9293                                                 0                      0   \n",
       "9294                                                 0                      0   \n",
       "9295                                                 0                      0   \n",
       "9296                                                 0                      0   \n",
       "\n",
       "      Sector_Resources  Sector_Sport & Recreation Facilities  \\\n",
       "0                    0                                     0   \n",
       "1                    0                                     0   \n",
       "2                    0                                     0   \n",
       "3                    0                                     0   \n",
       "4                    0                                     0   \n",
       "...                ...                                   ...   \n",
       "9292                 0                                     0   \n",
       "9293                 0                                     0   \n",
       "9294                 0                                     0   \n",
       "9295                 0                                     0   \n",
       "9296                 0                                     0   \n",
       "\n",
       "      Sector_Traffic Transport (Bridges)  Sector_Urban development  \\\n",
       "0                                      0                         0   \n",
       "1                                      0                         0   \n",
       "2                                      0                         0   \n",
       "3                                      0                         0   \n",
       "4                                      0                         0   \n",
       "...                                  ...                       ...   \n",
       "9292                                   1                         0   \n",
       "9293                                   0                         0   \n",
       "9294                                   0                         0   \n",
       "9295                                   0                         0   \n",
       "9296                                   0                         0   \n",
       "\n",
       "      Sector_Water/Waste  Default_Rate_Group_Standard  \\\n",
       "0                      0                            1   \n",
       "1                      0                            1   \n",
       "2                      0                            1   \n",
       "3                      0                            1   \n",
       "4                      0                            1   \n",
       "...                  ...                          ...   \n",
       "9292                   0                            0   \n",
       "9293                   0                            0   \n",
       "9294                   0                            0   \n",
       "9295                   0                            0   \n",
       "9296                   0                            0   \n",
       "\n",
       "      Manager_Team_Group - Support Services  Manager_Team_NZ  \\\n",
       "0                                         0                0   \n",
       "1                                         0                0   \n",
       "2                                         0                0   \n",
       "3                                         0                0   \n",
       "4                                         0                0   \n",
       "...                                     ...              ...   \n",
       "9292                                      0                0   \n",
       "9293                                      0                0   \n",
       "9294                                      0                0   \n",
       "9295                                      0                0   \n",
       "9296                                      0                0   \n",
       "\n",
       "      Manager_Team_QLD  Manager_Team_SA  Manager_Team_VIC  Manager_Team_WA  \\\n",
       "0                    0                1                 0                0   \n",
       "1                    0                1                 0                0   \n",
       "2                    0                1                 0                0   \n",
       "3                    0                1                 0                0   \n",
       "4                    0                1                 0                0   \n",
       "...                ...              ...               ...              ...   \n",
       "9292                 0                1                 0                0   \n",
       "9293                 0                0                 1                0   \n",
       "9294                 0                0                 0                1   \n",
       "9295                 0                0                 1                0   \n",
       "9296                 0                0                 1                0   \n",
       "\n",
       "      Director_Team_Group - Support Services  Director_Team_NZ  \\\n",
       "0                                          0                 0   \n",
       "1                                          0                 0   \n",
       "2                                          0                 0   \n",
       "3                                          0                 0   \n",
       "4                                          0                 0   \n",
       "...                                      ...               ...   \n",
       "9292                                       0                 0   \n",
       "9293                                       0                 0   \n",
       "9294                                       0                 0   \n",
       "9295                                       0                 0   \n",
       "9296                                       0                 0   \n",
       "\n",
       "      Director_Team_QLD  Director_Team_SA  Director_Team_VIC  Director_Team_WA  \n",
       "0                     0                 1                  0                 0  \n",
       "1                     0                 1                  0                 0  \n",
       "2                     0                 1                  0                 0  \n",
       "3                     0                 1                  0                 0  \n",
       "4                     0                 1                  0                 0  \n",
       "...                 ...               ...                ...               ...  \n",
       "9292                  0                 1                  0                 0  \n",
       "9293                  0                 0                  1                 0  \n",
       "9294                  0                 1                  0                 0  \n",
       "9295                  0                 0                  1                 0  \n",
       "9296                  0                 0                  1                 0  \n",
       "\n",
       "[9297 rows x 62 columns]"
      ]
     },
     "execution_count": 46,
     "metadata": {},
     "output_type": "execute_result"
    }
   ],
   "source": [
    "df_extended = pd.get_dummies(df, prefix=None, prefix_sep='_', dummy_na=False, columns=None, sparse=False, drop_first=True, dtype=None)\n",
    "df_extended"
   ]
  },
  {
   "cell_type": "markdown",
   "metadata": {},
   "source": [
    "#### 3.5.2 <a class=\"anchor\" id=\"3_5_2\"></a> Label encoding"
   ]
  },
  {
   "cell_type": "code",
   "execution_count": 47,
   "metadata": {},
   "outputs": [],
   "source": [
    "le = LabelEncoder()\n",
    "df['Country'] = le.fit_transform(df['Country'])\n",
    "df['Office'] = le.fit_transform(df['Office'])\n",
    "df['Sector'] = le.fit_transform(df['Sector'])\n",
    "df['Default_Rate_Group'] = le.fit_transform(df['Default_Rate_Group'])\n",
    "df['Manager_Team'] = le.fit_transform(df['Manager_Team'])\n",
    "df['Director_Team'] = le.fit_transform(df['Director_Team'])\n",
    "df['Director_Is_Recent'] = df['Director_Is_Recent']*1\n",
    "df['Delivered_on_Time'] = df['Delivered_on_Time']*1"
   ]
  },
  {
   "cell_type": "markdown",
   "metadata": {},
   "source": [
    "## Part 4: <a class=\"anchor\" id=\"part4\"></a> Exploratory data analysis"
   ]
  },
  {
   "cell_type": "code",
   "execution_count": 48,
   "metadata": {},
   "outputs": [
    {
     "name": "stderr",
     "output_type": "stream",
     "text": [
      "C:\\Users\\MarfaPopova\\AppData\\Local\\Temp\\ipykernel_20992\\1446604740.py:9: UserWarning: First parameter to grid() is false, but line properties are supplied. The grid will be enabled.\n",
      "  plt.grid(visible=False, color='#f68c1f', alpha=0.1)\n"
     ]
    },
    {
     "data": {
      "image/png": "[encoded data removed]",
      "text/plain": [
       "<Figure size 864x720 with 2 Axes>"
      ]
     },
     "metadata": {
      "needs_background": "light"
     },
     "output_type": "display_data"
    }
   ],
   "source": [
    "X = df.drop(['Rec_Class', 'Profit_Class'], axis = 1).copy()\n",
    "X.columns = X.columns.str.replace('_', ' ')\n",
    "\n",
    "corr = X.corr()\n",
    "colors = sns.diverging_palette(37, 12.5, as_cmap = True)\n",
    "plt.labels = []\n",
    "plt.figure(figsize = (12,10))\n",
    "sns.heatmap(round(corr, 3), vmin=-1, vmax=1, cmap='YlGnBu', linewidths=.2)\n",
    "plt.grid(visible=False, color='#f68c1f', alpha=0.1)\n",
    "plt.title('Correlation Matrix', size = 20)\n",
    "plt.savefig('figures/eda/Correlation matrix.png')\n",
    "plt.show()"
   ]
  },
  {
   "cell_type": "code",
   "execution_count": 49,
   "metadata": {},
   "outputs": [
    {
     "name": "stderr",
     "output_type": "stream",
     "text": [
      "c:\\Users\\MarfaPopova\\S2R Analytics\\Development & Support Team - Power BI for Synergy - Advanced Analytics\\DataFlowExtract\\venv\\lib\\site-packages\\statsmodels\\stats\\outliers_influence.py:195: RuntimeWarning: divide by zero encountered in double_scalars\n",
      "  vif = 1. / (1. - r_squared_i)\n"
     ]
    },
    {
     "data": {
      "text/html": [
       "<div>\n",
       "<style scoped>\n",
       "    .dataframe tbody tr th:only-of-type {\n",
       "        vertical-align: middle;\n",
       "    }\n",
       "\n",
       "    .dataframe tbody tr th {\n",
       "        vertical-align: top;\n",
       "    }\n",
       "\n",
       "    .dataframe thead th {\n",
       "        text-align: right;\n",
       "    }\n",
       "</style>\n",
       "<table border=\"1\" class=\"dataframe\">\n",
       "  <thead>\n",
       "    <tr style=\"text-align: right;\">\n",
       "      <th></th>\n",
       "      <th>VIF</th>\n",
       "      <th>Column</th>\n",
       "    </tr>\n",
       "  </thead>\n",
       "  <tbody>\n",
       "    <tr>\n",
       "      <th>17</th>\n",
       "      <td>inf</td>\n",
       "      <td>Is Front Loaded</td>\n",
       "    </tr>\n",
       "    <tr>\n",
       "      <th>19</th>\n",
       "      <td>inf</td>\n",
       "      <td>Suffered Data Loss</td>\n",
       "    </tr>\n",
       "    <tr>\n",
       "      <th>13</th>\n",
       "      <td>1998.746462</td>\n",
       "      <td>Director ID</td>\n",
       "    </tr>\n",
       "    <tr>\n",
       "      <th>10</th>\n",
       "      <td>1553.999766</td>\n",
       "      <td>Manager ID</td>\n",
       "    </tr>\n",
       "    <tr>\n",
       "      <th>18</th>\n",
       "      <td>249.631452</td>\n",
       "      <td>Delivered on Time</td>\n",
       "    </tr>\n",
       "    <tr>\n",
       "      <th>1</th>\n",
       "      <td>55.573877</td>\n",
       "      <td>Office</td>\n",
       "    </tr>\n",
       "    <tr>\n",
       "      <th>14</th>\n",
       "      <td>35.464685</td>\n",
       "      <td>Director Team</td>\n",
       "    </tr>\n",
       "    <tr>\n",
       "      <th>11</th>\n",
       "      <td>16.805281</td>\n",
       "      <td>Manager Team</td>\n",
       "    </tr>\n",
       "    <tr>\n",
       "      <th>23</th>\n",
       "      <td>10.971967</td>\n",
       "      <td>Director Empl Years</td>\n",
       "    </tr>\n",
       "    <tr>\n",
       "      <th>5</th>\n",
       "      <td>8.676885</td>\n",
       "      <td>Total Num Stages</td>\n",
       "    </tr>\n",
       "    <tr>\n",
       "      <th>20</th>\n",
       "      <td>8.132417</td>\n",
       "      <td>Total Data Issues</td>\n",
       "    </tr>\n",
       "    <tr>\n",
       "      <th>22</th>\n",
       "      <td>6.896107</td>\n",
       "      <td>End Quarter</td>\n",
       "    </tr>\n",
       "    <tr>\n",
       "      <th>21</th>\n",
       "      <td>6.441837</td>\n",
       "      <td>Start Quarter</td>\n",
       "    </tr>\n",
       "    <tr>\n",
       "      <th>24</th>\n",
       "      <td>6.038730</td>\n",
       "      <td>Manager Empl Years</td>\n",
       "    </tr>\n",
       "    <tr>\n",
       "      <th>8</th>\n",
       "      <td>5.490170</td>\n",
       "      <td>Default Rate Group</td>\n",
       "    </tr>\n",
       "    <tr>\n",
       "      <th>3</th>\n",
       "      <td>5.273065</td>\n",
       "      <td>Project Size Sort Order</td>\n",
       "    </tr>\n",
       "    <tr>\n",
       "      <th>9</th>\n",
       "      <td>4.783118</td>\n",
       "      <td>Perc of Stages with Fixed Fee</td>\n",
       "    </tr>\n",
       "    <tr>\n",
       "      <th>2</th>\n",
       "      <td>3.928581</td>\n",
       "      <td>Sector</td>\n",
       "    </tr>\n",
       "    <tr>\n",
       "      <th>4</th>\n",
       "      <td>1.737775</td>\n",
       "      <td>Project Duration Weeks</td>\n",
       "    </tr>\n",
       "    <tr>\n",
       "      <th>12</th>\n",
       "      <td>1.640198</td>\n",
       "      <td>Manager Is Recent</td>\n",
       "    </tr>\n",
       "    <tr>\n",
       "      <th>6</th>\n",
       "      <td>1.598050</td>\n",
       "      <td>Is Multi Discipline Project</td>\n",
       "    </tr>\n",
       "    <tr>\n",
       "      <th>7</th>\n",
       "      <td>1.505969</td>\n",
       "      <td>Is First Client Project</td>\n",
       "    </tr>\n",
       "    <tr>\n",
       "      <th>15</th>\n",
       "      <td>1.314200</td>\n",
       "      <td>Director Is Recent</td>\n",
       "    </tr>\n",
       "    <tr>\n",
       "      <th>0</th>\n",
       "      <td>1.147880</td>\n",
       "      <td>Country</td>\n",
       "    </tr>\n",
       "    <tr>\n",
       "      <th>16</th>\n",
       "      <td>1.009480</td>\n",
       "      <td>Perc of Subcontractors</td>\n",
       "    </tr>\n",
       "  </tbody>\n",
       "</table>\n",
       "</div>"
      ],
      "text/plain": [
       "            VIF                         Column\n",
       "17          inf                Is Front Loaded\n",
       "19          inf             Suffered Data Loss\n",
       "13  1998.746462                    Director ID\n",
       "10  1553.999766                     Manager ID\n",
       "18   249.631452              Delivered on Time\n",
       "1     55.573877                         Office\n",
       "14    35.464685                  Director Team\n",
       "11    16.805281                   Manager Team\n",
       "23    10.971967            Director Empl Years\n",
       "5      8.676885               Total Num Stages\n",
       "20     8.132417              Total Data Issues\n",
       "22     6.896107                    End Quarter\n",
       "21     6.441837                  Start Quarter\n",
       "24     6.038730             Manager Empl Years\n",
       "8      5.490170             Default Rate Group\n",
       "3      5.273065        Project Size Sort Order\n",
       "9      4.783118  Perc of Stages with Fixed Fee\n",
       "2      3.928581                         Sector\n",
       "4      1.737775         Project Duration Weeks\n",
       "12     1.640198              Manager Is Recent\n",
       "6      1.598050    Is Multi Discipline Project\n",
       "7      1.505969        Is First Client Project\n",
       "15     1.314200             Director Is Recent\n",
       "0      1.147880                        Country\n",
       "16     1.009480         Perc of Subcontractors"
      ]
     },
     "execution_count": 49,
     "metadata": {},
     "output_type": "execute_result"
    }
   ],
   "source": [
    "vif_info = pd.DataFrame()\n",
    "vif_info['VIF'] = [variance_inflation_factor(X.values, i) for i in range(X.shape[1])]\n",
    "vif_info['Column'] = X.columns\n",
    "vif_info.sort_values('VIF', ascending=False)"
   ]
  },
  {
   "cell_type": "code",
   "execution_count": 50,
   "metadata": {},
   "outputs": [
    {
     "data": {
      "text/plain": [
       "0    6927\n",
       "1    2370\n",
       "Name: Suffered_Data_Loss, dtype: int64"
      ]
     },
     "execution_count": 50,
     "metadata": {},
     "output_type": "execute_result"
    }
   ],
   "source": [
    "df['Suffered_Data_Loss'].value_counts()"
   ]
  },
  {
   "cell_type": "code",
   "execution_count": 51,
   "metadata": {},
   "outputs": [
    {
     "data": {
      "text/plain": [
       "0    6927\n",
       "1    2370\n",
       "Name: Is_Front_Loaded, dtype: int64"
      ]
     },
     "execution_count": 51,
     "metadata": {},
     "output_type": "execute_result"
    }
   ],
   "source": [
    "df['Is_Front_Loaded'].value_counts()"
   ]
  },
  {
   "cell_type": "code",
   "execution_count": 52,
   "metadata": {},
   "outputs": [
    {
     "data": {
      "text/html": [
       "<div>\n",
       "<style scoped>\n",
       "    .dataframe tbody tr th:only-of-type {\n",
       "        vertical-align: middle;\n",
       "    }\n",
       "\n",
       "    .dataframe tbody tr th {\n",
       "        vertical-align: top;\n",
       "    }\n",
       "\n",
       "    .dataframe thead th {\n",
       "        text-align: right;\n",
       "    }\n",
       "</style>\n",
       "<table border=\"1\" class=\"dataframe\">\n",
       "  <thead>\n",
       "    <tr style=\"text-align: right;\">\n",
       "      <th></th>\n",
       "      <th>VIF</th>\n",
       "      <th>Column</th>\n",
       "    </tr>\n",
       "  </thead>\n",
       "  <tbody>\n",
       "    <tr>\n",
       "      <th>13</th>\n",
       "      <td>1998.746462</td>\n",
       "      <td>Director_ID</td>\n",
       "    </tr>\n",
       "    <tr>\n",
       "      <th>10</th>\n",
       "      <td>1553.999766</td>\n",
       "      <td>Manager_ID</td>\n",
       "    </tr>\n",
       "    <tr>\n",
       "      <th>18</th>\n",
       "      <td>249.631452</td>\n",
       "      <td>Delivered_on_Time</td>\n",
       "    </tr>\n",
       "    <tr>\n",
       "      <th>1</th>\n",
       "      <td>55.573877</td>\n",
       "      <td>Office</td>\n",
       "    </tr>\n",
       "    <tr>\n",
       "      <th>14</th>\n",
       "      <td>35.464685</td>\n",
       "      <td>Director_Team</td>\n",
       "    </tr>\n",
       "    <tr>\n",
       "      <th>11</th>\n",
       "      <td>16.805281</td>\n",
       "      <td>Manager_Team</td>\n",
       "    </tr>\n",
       "    <tr>\n",
       "      <th>22</th>\n",
       "      <td>10.971967</td>\n",
       "      <td>Director_Empl_Years</td>\n",
       "    </tr>\n",
       "    <tr>\n",
       "      <th>5</th>\n",
       "      <td>8.676885</td>\n",
       "      <td>Total_Num_Stages</td>\n",
       "    </tr>\n",
       "    <tr>\n",
       "      <th>19</th>\n",
       "      <td>8.132417</td>\n",
       "      <td>Total_Data_Issues</td>\n",
       "    </tr>\n",
       "    <tr>\n",
       "      <th>21</th>\n",
       "      <td>6.896107</td>\n",
       "      <td>End_Quarter</td>\n",
       "    </tr>\n",
       "    <tr>\n",
       "      <th>20</th>\n",
       "      <td>6.441837</td>\n",
       "      <td>Start_Quarter</td>\n",
       "    </tr>\n",
       "    <tr>\n",
       "      <th>23</th>\n",
       "      <td>6.038730</td>\n",
       "      <td>Manager_Empl_Years</td>\n",
       "    </tr>\n",
       "    <tr>\n",
       "      <th>8</th>\n",
       "      <td>5.490170</td>\n",
       "      <td>Default_Rate_Group</td>\n",
       "    </tr>\n",
       "    <tr>\n",
       "      <th>3</th>\n",
       "      <td>5.273065</td>\n",
       "      <td>Project_Size_Sort_Order</td>\n",
       "    </tr>\n",
       "    <tr>\n",
       "      <th>9</th>\n",
       "      <td>4.783118</td>\n",
       "      <td>Perc_of_Stages_with_Fixed_Fee</td>\n",
       "    </tr>\n",
       "    <tr>\n",
       "      <th>2</th>\n",
       "      <td>3.928581</td>\n",
       "      <td>Sector</td>\n",
       "    </tr>\n",
       "    <tr>\n",
       "      <th>4</th>\n",
       "      <td>1.737775</td>\n",
       "      <td>Project_Duration_Weeks</td>\n",
       "    </tr>\n",
       "    <tr>\n",
       "      <th>17</th>\n",
       "      <td>1.678105</td>\n",
       "      <td>Is_Front_Loaded</td>\n",
       "    </tr>\n",
       "    <tr>\n",
       "      <th>12</th>\n",
       "      <td>1.640198</td>\n",
       "      <td>Manager_Is_Recent</td>\n",
       "    </tr>\n",
       "    <tr>\n",
       "      <th>6</th>\n",
       "      <td>1.598050</td>\n",
       "      <td>Is_Multi_Discipline_Project</td>\n",
       "    </tr>\n",
       "    <tr>\n",
       "      <th>7</th>\n",
       "      <td>1.505969</td>\n",
       "      <td>Is_First_Client_Project</td>\n",
       "    </tr>\n",
       "    <tr>\n",
       "      <th>15</th>\n",
       "      <td>1.314200</td>\n",
       "      <td>Director_Is_Recent</td>\n",
       "    </tr>\n",
       "    <tr>\n",
       "      <th>0</th>\n",
       "      <td>1.147880</td>\n",
       "      <td>Country</td>\n",
       "    </tr>\n",
       "    <tr>\n",
       "      <th>16</th>\n",
       "      <td>1.009480</td>\n",
       "      <td>Perc_of_Subcontractors</td>\n",
       "    </tr>\n",
       "  </tbody>\n",
       "</table>\n",
       "</div>"
      ],
      "text/plain": [
       "            VIF                         Column\n",
       "13  1998.746462                    Director_ID\n",
       "10  1553.999766                     Manager_ID\n",
       "18   249.631452              Delivered_on_Time\n",
       "1     55.573877                         Office\n",
       "14    35.464685                  Director_Team\n",
       "11    16.805281                   Manager_Team\n",
       "22    10.971967            Director_Empl_Years\n",
       "5      8.676885               Total_Num_Stages\n",
       "19     8.132417              Total_Data_Issues\n",
       "21     6.896107                    End_Quarter\n",
       "20     6.441837                  Start_Quarter\n",
       "23     6.038730             Manager_Empl_Years\n",
       "8      5.490170             Default_Rate_Group\n",
       "3      5.273065        Project_Size_Sort_Order\n",
       "9      4.783118  Perc_of_Stages_with_Fixed_Fee\n",
       "2      3.928581                         Sector\n",
       "4      1.737775         Project_Duration_Weeks\n",
       "17     1.678105                Is_Front_Loaded\n",
       "12     1.640198              Manager_Is_Recent\n",
       "6      1.598050    Is_Multi_Discipline_Project\n",
       "7      1.505969        Is_First_Client_Project\n",
       "15     1.314200             Director_Is_Recent\n",
       "0      1.147880                        Country\n",
       "16     1.009480         Perc_of_Subcontractors"
      ]
     },
     "execution_count": 52,
     "metadata": {},
     "output_type": "execute_result"
    }
   ],
   "source": [
    "df.drop(columns = ['Suffered_Data_Loss'], inplace = True)\n",
    "\n",
    "X = df.drop(['Rec_Class', 'Profit_Class'], axis = 1).copy()\n",
    "\n",
    "vif_info = pd.DataFrame()\n",
    "vif_info['VIF'] = [variance_inflation_factor(X.values, i) for i in range(X.shape[1])]\n",
    "vif_info['Column'] = X.columns\n",
    "vif_info.sort_values('VIF', ascending=False)"
   ]
  },
  {
   "cell_type": "code",
   "execution_count": 53,
   "metadata": {},
   "outputs": [
    {
     "name": "stdout",
     "output_type": "stream",
     "text": [
      "dropping 'Director_ID' at index: 13\n",
      "dropping 'Manager_ID' at index: 10\n",
      "dropping 'Delivered_on_Time' at index: 16\n",
      "dropping 'Office' at index: 1\n",
      "dropping 'Rec_Class' at index: 20\n",
      "dropping 'Director_Team' at index: 11\n",
      "dropping 'Total_Num_Stages' at index: 4\n",
      "dropping 'Director_Empl_Years' at index: 16\n",
      "dropping 'Manager_Team' at index: 8\n",
      "dropping 'End_Quarter' at index: 14\n",
      "dropping 'Project_Size_Sort_Order' at index: 2\n",
      "Remaining variables:\n",
      "Index(['Country', 'Sector', 'Project_Duration_Weeks',\n",
      "       'Is_Multi_Discipline_Project', 'Is_First_Client_Project',\n",
      "       'Default_Rate_Group', 'Perc_of_Stages_with_Fixed_Fee',\n",
      "       'Manager_Is_Recent', 'Director_Is_Recent', 'Perc_of_Subcontractors',\n",
      "       'Is_Front_Loaded', 'Total_Data_Issues', 'Start_Quarter',\n",
      "       'Manager_Empl_Years', 'Profit_Class'],\n",
      "      dtype='object')\n"
     ]
    },
    {
     "data": {
      "text/html": [
       "<div>\n",
       "<style scoped>\n",
       "    .dataframe tbody tr th:only-of-type {\n",
       "        vertical-align: middle;\n",
       "    }\n",
       "\n",
       "    .dataframe tbody tr th {\n",
       "        vertical-align: top;\n",
       "    }\n",
       "\n",
       "    .dataframe thead th {\n",
       "        text-align: right;\n",
       "    }\n",
       "</style>\n",
       "<table border=\"1\" class=\"dataframe\">\n",
       "  <thead>\n",
       "    <tr style=\"text-align: right;\">\n",
       "      <th></th>\n",
       "      <th>Country</th>\n",
       "      <th>Sector</th>\n",
       "      <th>Project_Duration_Weeks</th>\n",
       "      <th>Is_Multi_Discipline_Project</th>\n",
       "      <th>Is_First_Client_Project</th>\n",
       "      <th>Default_Rate_Group</th>\n",
       "      <th>Perc_of_Stages_with_Fixed_Fee</th>\n",
       "      <th>Manager_Is_Recent</th>\n",
       "      <th>Director_Is_Recent</th>\n",
       "      <th>Perc_of_Subcontractors</th>\n",
       "      <th>Is_Front_Loaded</th>\n",
       "      <th>Total_Data_Issues</th>\n",
       "      <th>Start_Quarter</th>\n",
       "      <th>Manager_Empl_Years</th>\n",
       "      <th>Profit_Class</th>\n",
       "    </tr>\n",
       "  </thead>\n",
       "  <tbody>\n",
       "    <tr>\n",
       "      <th>0</th>\n",
       "      <td>0</td>\n",
       "      <td>6</td>\n",
       "      <td>4.0</td>\n",
       "      <td>0.0</td>\n",
       "      <td>1.0</td>\n",
       "      <td>1</td>\n",
       "      <td>0.80</td>\n",
       "      <td>0</td>\n",
       "      <td>0</td>\n",
       "      <td>0.0</td>\n",
       "      <td>1</td>\n",
       "      <td>2</td>\n",
       "      <td>3</td>\n",
       "      <td>11</td>\n",
       "      <td>0</td>\n",
       "    </tr>\n",
       "    <tr>\n",
       "      <th>1</th>\n",
       "      <td>0</td>\n",
       "      <td>0</td>\n",
       "      <td>238.0</td>\n",
       "      <td>0.0</td>\n",
       "      <td>1.0</td>\n",
       "      <td>1</td>\n",
       "      <td>0.00</td>\n",
       "      <td>0</td>\n",
       "      <td>0</td>\n",
       "      <td>0.0</td>\n",
       "      <td>0</td>\n",
       "      <td>2</td>\n",
       "      <td>3</td>\n",
       "      <td>27</td>\n",
       "      <td>0</td>\n",
       "    </tr>\n",
       "    <tr>\n",
       "      <th>2</th>\n",
       "      <td>0</td>\n",
       "      <td>0</td>\n",
       "      <td>0.0</td>\n",
       "      <td>0.0</td>\n",
       "      <td>1.0</td>\n",
       "      <td>1</td>\n",
       "      <td>0.00</td>\n",
       "      <td>0</td>\n",
       "      <td>0</td>\n",
       "      <td>0.0</td>\n",
       "      <td>0</td>\n",
       "      <td>0</td>\n",
       "      <td>1</td>\n",
       "      <td>27</td>\n",
       "      <td>0</td>\n",
       "    </tr>\n",
       "    <tr>\n",
       "      <th>3</th>\n",
       "      <td>0</td>\n",
       "      <td>1</td>\n",
       "      <td>121.0</td>\n",
       "      <td>0.0</td>\n",
       "      <td>1.0</td>\n",
       "      <td>1</td>\n",
       "      <td>0.25</td>\n",
       "      <td>0</td>\n",
       "      <td>0</td>\n",
       "      <td>0.0</td>\n",
       "      <td>0</td>\n",
       "      <td>1</td>\n",
       "      <td>4</td>\n",
       "      <td>27</td>\n",
       "      <td>0</td>\n",
       "    </tr>\n",
       "    <tr>\n",
       "      <th>4</th>\n",
       "      <td>0</td>\n",
       "      <td>0</td>\n",
       "      <td>2.0</td>\n",
       "      <td>0.0</td>\n",
       "      <td>1.0</td>\n",
       "      <td>1</td>\n",
       "      <td>0.00</td>\n",
       "      <td>0</td>\n",
       "      <td>0</td>\n",
       "      <td>0.0</td>\n",
       "      <td>0</td>\n",
       "      <td>3</td>\n",
       "      <td>3</td>\n",
       "      <td>35</td>\n",
       "      <td>0</td>\n",
       "    </tr>\n",
       "    <tr>\n",
       "      <th>...</th>\n",
       "      <td>...</td>\n",
       "      <td>...</td>\n",
       "      <td>...</td>\n",
       "      <td>...</td>\n",
       "      <td>...</td>\n",
       "      <td>...</td>\n",
       "      <td>...</td>\n",
       "      <td>...</td>\n",
       "      <td>...</td>\n",
       "      <td>...</td>\n",
       "      <td>...</td>\n",
       "      <td>...</td>\n",
       "      <td>...</td>\n",
       "      <td>...</td>\n",
       "      <td>...</td>\n",
       "    </tr>\n",
       "    <tr>\n",
       "      <th>9292</th>\n",
       "      <td>0</td>\n",
       "      <td>9</td>\n",
       "      <td>18.0</td>\n",
       "      <td>0.0</td>\n",
       "      <td>0.0</td>\n",
       "      <td>0</td>\n",
       "      <td>1.00</td>\n",
       "      <td>0</td>\n",
       "      <td>0</td>\n",
       "      <td>0.0</td>\n",
       "      <td>0</td>\n",
       "      <td>1</td>\n",
       "      <td>2</td>\n",
       "      <td>15</td>\n",
       "      <td>0</td>\n",
       "    </tr>\n",
       "    <tr>\n",
       "      <th>9293</th>\n",
       "      <td>0</td>\n",
       "      <td>0</td>\n",
       "      <td>1.0</td>\n",
       "      <td>0.0</td>\n",
       "      <td>0.0</td>\n",
       "      <td>0</td>\n",
       "      <td>0.67</td>\n",
       "      <td>0</td>\n",
       "      <td>0</td>\n",
       "      <td>0.0</td>\n",
       "      <td>0</td>\n",
       "      <td>1</td>\n",
       "      <td>2</td>\n",
       "      <td>1</td>\n",
       "      <td>0</td>\n",
       "    </tr>\n",
       "    <tr>\n",
       "      <th>9294</th>\n",
       "      <td>0</td>\n",
       "      <td>0</td>\n",
       "      <td>1.0</td>\n",
       "      <td>0.0</td>\n",
       "      <td>0.0</td>\n",
       "      <td>0</td>\n",
       "      <td>0.50</td>\n",
       "      <td>0</td>\n",
       "      <td>1</td>\n",
       "      <td>0.0</td>\n",
       "      <td>0</td>\n",
       "      <td>1</td>\n",
       "      <td>2</td>\n",
       "      <td>2</td>\n",
       "      <td>0</td>\n",
       "    </tr>\n",
       "    <tr>\n",
       "      <th>9295</th>\n",
       "      <td>0</td>\n",
       "      <td>3</td>\n",
       "      <td>3.0</td>\n",
       "      <td>0.0</td>\n",
       "      <td>0.0</td>\n",
       "      <td>0</td>\n",
       "      <td>1.00</td>\n",
       "      <td>0</td>\n",
       "      <td>0</td>\n",
       "      <td>0.0</td>\n",
       "      <td>0</td>\n",
       "      <td>0</td>\n",
       "      <td>2</td>\n",
       "      <td>14</td>\n",
       "      <td>0</td>\n",
       "    </tr>\n",
       "    <tr>\n",
       "      <th>9296</th>\n",
       "      <td>0</td>\n",
       "      <td>3</td>\n",
       "      <td>4.0</td>\n",
       "      <td>0.0</td>\n",
       "      <td>0.0</td>\n",
       "      <td>0</td>\n",
       "      <td>1.00</td>\n",
       "      <td>0</td>\n",
       "      <td>0</td>\n",
       "      <td>0.0</td>\n",
       "      <td>0</td>\n",
       "      <td>1</td>\n",
       "      <td>2</td>\n",
       "      <td>14</td>\n",
       "      <td>0</td>\n",
       "    </tr>\n",
       "  </tbody>\n",
       "</table>\n",
       "<p>9297 rows × 15 columns</p>\n",
       "</div>"
      ],
      "text/plain": [
       "      Country  Sector  Project_Duration_Weeks  Is_Multi_Discipline_Project  \\\n",
       "0           0       6                     4.0                          0.0   \n",
       "1           0       0                   238.0                          0.0   \n",
       "2           0       0                     0.0                          0.0   \n",
       "3           0       1                   121.0                          0.0   \n",
       "4           0       0                     2.0                          0.0   \n",
       "...       ...     ...                     ...                          ...   \n",
       "9292        0       9                    18.0                          0.0   \n",
       "9293        0       0                     1.0                          0.0   \n",
       "9294        0       0                     1.0                          0.0   \n",
       "9295        0       3                     3.0                          0.0   \n",
       "9296        0       3                     4.0                          0.0   \n",
       "\n",
       "      Is_First_Client_Project  Default_Rate_Group  \\\n",
       "0                         1.0                   1   \n",
       "1                         1.0                   1   \n",
       "2                         1.0                   1   \n",
       "3                         1.0                   1   \n",
       "4                         1.0                   1   \n",
       "...                       ...                 ...   \n",
       "9292                      0.0                   0   \n",
       "9293                      0.0                   0   \n",
       "9294                      0.0                   0   \n",
       "9295                      0.0                   0   \n",
       "9296                      0.0                   0   \n",
       "\n",
       "      Perc_of_Stages_with_Fixed_Fee  Manager_Is_Recent  Director_Is_Recent  \\\n",
       "0                              0.80                  0                   0   \n",
       "1                              0.00                  0                   0   \n",
       "2                              0.00                  0                   0   \n",
       "3                              0.25                  0                   0   \n",
       "4                              0.00                  0                   0   \n",
       "...                             ...                ...                 ...   \n",
       "9292                           1.00                  0                   0   \n",
       "9293                           0.67                  0                   0   \n",
       "9294                           0.50                  0                   1   \n",
       "9295                           1.00                  0                   0   \n",
       "9296                           1.00                  0                   0   \n",
       "\n",
       "      Perc_of_Subcontractors  Is_Front_Loaded  Total_Data_Issues  \\\n",
       "0                        0.0                1                  2   \n",
       "1                        0.0                0                  2   \n",
       "2                        0.0                0                  0   \n",
       "3                        0.0                0                  1   \n",
       "4                        0.0                0                  3   \n",
       "...                      ...              ...                ...   \n",
       "9292                     0.0                0                  1   \n",
       "9293                     0.0                0                  1   \n",
       "9294                     0.0                0                  1   \n",
       "9295                     0.0                0                  0   \n",
       "9296                     0.0                0                  1   \n",
       "\n",
       "      Start_Quarter  Manager_Empl_Years  Profit_Class  \n",
       "0                 3                  11             0  \n",
       "1                 3                  27             0  \n",
       "2                 1                  27             0  \n",
       "3                 4                  27             0  \n",
       "4                 3                  35             0  \n",
       "...             ...                 ...           ...  \n",
       "9292              2                  15             0  \n",
       "9293              2                   1             0  \n",
       "9294              2                   2             0  \n",
       "9295              2                  14             0  \n",
       "9296              2                  14             0  \n",
       "\n",
       "[9297 rows x 15 columns]"
      ]
     },
     "execution_count": 53,
     "metadata": {},
     "output_type": "execute_result"
    }
   ],
   "source": [
    "# URL: https://stats.stackexchange.com/questions/155028/how-to-systematically-remove-collinear-variables-pandas-columns-in-python   \n",
    "\n",
    "def calculate_vif_(X, thresh=5.0):\n",
    "    variables = list(range(X.shape[1]))\n",
    "    dropped = True\n",
    "    while dropped:\n",
    "        dropped = False\n",
    "        vif = [variance_inflation_factor(X.iloc[:, variables].values, ix)\n",
    "               for ix in range(X.iloc[:, variables].shape[1])]\n",
    "\n",
    "        maxloc = vif.index(max(vif))\n",
    "        if max(vif) > thresh:\n",
    "            print('dropping \\'' + X.iloc[:, variables].columns[maxloc] +\n",
    "                  '\\' at index: ' + str(maxloc))\n",
    "            del variables[maxloc]\n",
    "            dropped = True\n",
    "\n",
    "    print('Remaining variables:')\n",
    "    print(X.columns[variables])\n",
    "    return X.iloc[:, variables]\n",
    "\n",
    "calculate_vif_(df)"
   ]
  },
  {
   "cell_type": "markdown",
   "metadata": {},
   "source": [
    "## Part 5: <a class=\"anchor\" id=\"part5\"></a> Feature engineering (cont.)"
   ]
  },
  {
   "cell_type": "code",
   "execution_count": 54,
   "metadata": {},
   "outputs": [
    {
     "data": {
      "text/plain": [
       "0    7605\n",
       "1    1692\n",
       "Name: Manager_AND_Director, dtype: int64"
      ]
     },
     "execution_count": 54,
     "metadata": {},
     "output_type": "execute_result"
    }
   ],
   "source": [
    "df['Manager_AND_Director'] = (df['Manager_ID'] == df['Director_ID'])*1\n",
    "df['Manager_AND_Director'].value_counts()"
   ]
  },
  {
   "cell_type": "code",
   "execution_count": 55,
   "metadata": {},
   "outputs": [
    {
     "data": {
      "text/plain": [
       "1    7837\n",
       "0    1460\n",
       "Name: Are_Same_Teams, dtype: int64"
      ]
     },
     "execution_count": 55,
     "metadata": {},
     "output_type": "execute_result"
    }
   ],
   "source": [
    "df['Are_Same_Teams'] = (df['Manager_Team'] == df['Director_Team'])*1\n",
    "df['Are_Same_Teams'].value_counts()"
   ]
  },
  {
   "cell_type": "code",
   "execution_count": 56,
   "metadata": {},
   "outputs": [
    {
     "data": {
      "image/png": "[encoded data removed]",
      "text/plain": [
       "<Figure size 1152x720 with 1 Axes>"
      ]
     },
     "metadata": {
      "needs_background": "light"
     },
     "output_type": "display_data"
    }
   ],
   "source": [
    "# URL: https://medium.com/p/5f093ad7b9d3\n",
    "manager = df['Manager_Empl_Years']\n",
    "fig, ax = plt.subplots(figsize = (16,10))\n",
    "test = sns.histplot(manager, bins = 37, kde=True, linewidth=1)\n",
    "\n",
    "plt.xlabel('Employment at Client X (years)')\n",
    "ax.set_xticks(range(max(df['Manager_Empl_Years'])))\n",
    "ax.set_xticklabels(range(max(df['Manager_Empl_Years'])))\n",
    "plt.ylabel('Frequency')\n",
    "\n",
    "median=manager.median()\n",
    "plt.axvline(median, color='green', linestyle='-', label='Median')\n",
    "mean=manager.mean()\n",
    "ax.axvline(mean, color='black', linestyle=':', label='Mean')\n",
    "ax.legend()\n",
    "ax.grid(False)\n",
    "ax.set_title('Distribution of years of Client X managers at the company', size = 17, pad = 10)\n",
    "plt.savefig('figures/eda/Distribution of years of Client X managers at the company.png')"
   ]
  },
  {
   "cell_type": "code",
   "execution_count": 57,
   "metadata": {},
   "outputs": [
    {
     "data": {
      "text/plain": [
       "4521"
      ]
     },
     "execution_count": 57,
     "metadata": {},
     "output_type": "execute_result"
    }
   ],
   "source": [
    "(df['Manager_Empl_Years'] > 12).sum()"
   ]
  },
  {
   "cell_type": "code",
   "execution_count": 58,
   "metadata": {},
   "outputs": [
    {
     "data": {
      "image/png": "[encoded data removed]",
      "text/plain": [
       "<Figure size 1152x720 with 1 Axes>"
      ]
     },
     "metadata": {
      "needs_background": "light"
     },
     "output_type": "display_data"
    }
   ],
   "source": [
    "director = df['Director_Empl_Years']\n",
    "fig, ax = plt.subplots(figsize = (16,10))\n",
    "test = sns.histplot(director, bins = 37, kde=True, linewidth=1)\n",
    "\n",
    "plt.xlabel('Employment at Client X (years)')\n",
    "ax.set_xticks(range(max(df['Director_Empl_Years'])))\n",
    "ax.set_xticklabels(range(max(df['Director_Empl_Years'])))\n",
    "plt.ylabel('Frequency')\n",
    "\n",
    "median=director.median()\n",
    "plt.axvline(median, color='green', linestyle='-', label='Median')\n",
    "mean=director.mean()\n",
    "ax.axvline(mean, color='black', linestyle=':', label='Mean')\n",
    "ax.legend()\n",
    "ax.grid(False)\n",
    "ax.set_title('Distribution of years of Client X directors at the company', size = 17, pad = 10)\n",
    "plt.savefig('figures/eda/Distribution of years of Client X directors at the company.png')"
   ]
  },
  {
   "cell_type": "code",
   "execution_count": 59,
   "metadata": {},
   "outputs": [
    {
     "data": {
      "text/plain": [
       "4643"
      ]
     },
     "execution_count": 59,
     "metadata": {},
     "output_type": "execute_result"
    }
   ],
   "source": [
    "(df['Director_Empl_Years'] > 17).sum()"
   ]
  },
  {
   "cell_type": "code",
   "execution_count": 60,
   "metadata": {},
   "outputs": [],
   "source": [
    "df['LT_Manager'] = (df['Manager_Empl_Years'] > 12)*1\n",
    "df['LT_Director'] = (df['Director_Empl_Years'] > 17)*1\n",
    "df['MG_DR_Skilled'] = (df['LT_Manager'] + df['LT_Director'])\n",
    "df.drop(columns = ['LT_Manager', 'LT_Director'], inplace = True)"
   ]
  },
  {
   "cell_type": "code",
   "execution_count": 61,
   "metadata": {},
   "outputs": [
    {
     "data": {
      "image/png": "[encoded data removed]",
      "text/plain": [
       "<Figure size 432x432 with 1 Axes>"
      ]
     },
     "metadata": {
      "needs_background": "light"
     },
     "output_type": "display_data"
    }
   ],
   "source": [
    "# Distribution of count of all points, with outliers\n",
    "plt.figure(figsize=(6,6))\n",
    "sns.histplot(df['Total_Num_Stages'], kde=True, linewidth=1)\n",
    "plt.xlabel('Number of stages per project')\n",
    "plt.title('Frequency', size=14)\n",
    "plt.show()"
   ]
  },
  {
   "cell_type": "code",
   "execution_count": 62,
   "metadata": {},
   "outputs": [
    {
     "data": {
      "text/plain": [
       "<AxesSubplot:>"
      ]
     },
     "execution_count": 62,
     "metadata": {},
     "output_type": "execute_result"
    },
    {
     "data": {
      "image/png": "[encoded data removed]",
      "text/plain": [
       "<Figure size 432x288 with 1 Axes>"
      ]
     },
     "metadata": {
      "needs_background": "light"
     },
     "output_type": "display_data"
    }
   ],
   "source": [
    "df.boxplot('Total_Num_Stages', showfliers=False) # boxplot without outliers, the green line corresponds to the median"
   ]
  },
  {
   "cell_type": "code",
   "execution_count": 63,
   "metadata": {},
   "outputs": [
    {
     "data": {
      "text/plain": [
       "0.25    3\n",
       "0.75    6\n",
       "Name: Total_Num_Stages, dtype: int32"
      ]
     },
     "execution_count": 63,
     "metadata": {},
     "output_type": "execute_result"
    }
   ],
   "source": [
    "df['Total_Num_Stages'].quantile([0.25, 0.75], interpolation='nearest')"
   ]
  },
  {
   "cell_type": "code",
   "execution_count": 64,
   "metadata": {},
   "outputs": [
    {
     "data": {
      "text/plain": [
       "0    4635\n",
       "1    3451\n",
       "2    1211\n",
       "Name: Complexity_Level, dtype: int64"
      ]
     },
     "execution_count": 64,
     "metadata": {},
     "output_type": "execute_result"
    }
   ],
   "source": [
    "complexity = {}\n",
    "for stages in df['Total_Num_Stages']:\n",
    "  if stages < 4:\n",
    "    complexity[stages] = 0  # easy projects have less than average number of stages\n",
    "  elif stages > 10:\n",
    "    complexity[stages] = 2 # hard projects are above upper bound\n",
    "  else:\n",
    "    complexity[stages] = 1 # the rest of projects are of average complexity\n",
    "\n",
    "complexity_df = pd.DataFrame([{'Total_Num_Stages': stages, 'Complexity_Level': complexity} for (stages, complexity) in complexity.items()])\n",
    "df = pd.merge(df, complexity_df,  how='left', on='Total_Num_Stages')\n",
    "df['Complexity_Level'].value_counts()"
   ]
  },
  {
   "cell_type": "code",
   "execution_count": 65,
   "metadata": {},
   "outputs": [
    {
     "data": {
      "text/html": [
       "<div>\n",
       "<style scoped>\n",
       "    .dataframe tbody tr th:only-of-type {\n",
       "        vertical-align: middle;\n",
       "    }\n",
       "\n",
       "    .dataframe tbody tr th {\n",
       "        vertical-align: top;\n",
       "    }\n",
       "\n",
       "    .dataframe thead th {\n",
       "        text-align: right;\n",
       "    }\n",
       "</style>\n",
       "<table border=\"1\" class=\"dataframe\">\n",
       "  <thead>\n",
       "    <tr style=\"text-align: right;\">\n",
       "      <th></th>\n",
       "      <th>VIF</th>\n",
       "      <th>Column</th>\n",
       "    </tr>\n",
       "  </thead>\n",
       "  <tbody>\n",
       "    <tr>\n",
       "      <th>2</th>\n",
       "      <td>6.849013</td>\n",
       "      <td>Project_Size_Sort_Order</td>\n",
       "    </tr>\n",
       "    <tr>\n",
       "      <th>14</th>\n",
       "      <td>6.200886</td>\n",
       "      <td>End_Quarter</td>\n",
       "    </tr>\n",
       "    <tr>\n",
       "      <th>16</th>\n",
       "      <td>5.825412</td>\n",
       "      <td>Are_Same_Teams</td>\n",
       "    </tr>\n",
       "    <tr>\n",
       "      <th>13</th>\n",
       "      <td>5.766345</td>\n",
       "      <td>Start_Quarter</td>\n",
       "    </tr>\n",
       "    <tr>\n",
       "      <th>6</th>\n",
       "      <td>4.328092</td>\n",
       "      <td>Default_Rate_Group</td>\n",
       "    </tr>\n",
       "    <tr>\n",
       "      <th>18</th>\n",
       "      <td>4.291627</td>\n",
       "      <td>Complexity_Level</td>\n",
       "    </tr>\n",
       "    <tr>\n",
       "      <th>7</th>\n",
       "      <td>4.181978</td>\n",
       "      <td>Perc_of_Stages_with_Fixed_Fee</td>\n",
       "    </tr>\n",
       "    <tr>\n",
       "      <th>17</th>\n",
       "      <td>3.263781</td>\n",
       "      <td>MG_DR_Skilled</td>\n",
       "    </tr>\n",
       "    <tr>\n",
       "      <th>1</th>\n",
       "      <td>3.063222</td>\n",
       "      <td>Sector</td>\n",
       "    </tr>\n",
       "    <tr>\n",
       "      <th>12</th>\n",
       "      <td>2.199590</td>\n",
       "      <td>Total_Data_Issues</td>\n",
       "    </tr>\n",
       "    <tr>\n",
       "      <th>3</th>\n",
       "      <td>1.739588</td>\n",
       "      <td>Project_Duration_Weeks</td>\n",
       "    </tr>\n",
       "    <tr>\n",
       "      <th>11</th>\n",
       "      <td>1.651745</td>\n",
       "      <td>Is_Front_Loaded</td>\n",
       "    </tr>\n",
       "    <tr>\n",
       "      <th>4</th>\n",
       "      <td>1.623429</td>\n",
       "      <td>Is_Multi_Discipline_Project</td>\n",
       "    </tr>\n",
       "    <tr>\n",
       "      <th>5</th>\n",
       "      <td>1.465820</td>\n",
       "      <td>Is_First_Client_Project</td>\n",
       "    </tr>\n",
       "    <tr>\n",
       "      <th>15</th>\n",
       "      <td>1.351073</td>\n",
       "      <td>Manager_AND_Director</td>\n",
       "    </tr>\n",
       "    <tr>\n",
       "      <th>8</th>\n",
       "      <td>1.103386</td>\n",
       "      <td>Manager_Is_Recent</td>\n",
       "    </tr>\n",
       "    <tr>\n",
       "      <th>9</th>\n",
       "      <td>1.071853</td>\n",
       "      <td>Director_Is_Recent</td>\n",
       "    </tr>\n",
       "    <tr>\n",
       "      <th>0</th>\n",
       "      <td>1.066509</td>\n",
       "      <td>Country</td>\n",
       "    </tr>\n",
       "    <tr>\n",
       "      <th>10</th>\n",
       "      <td>1.009895</td>\n",
       "      <td>Perc_of_Subcontractors</td>\n",
       "    </tr>\n",
       "  </tbody>\n",
       "</table>\n",
       "</div>"
      ],
      "text/plain": [
       "         VIF                         Column\n",
       "2   6.849013        Project_Size_Sort_Order\n",
       "14  6.200886                    End_Quarter\n",
       "16  5.825412                 Are_Same_Teams\n",
       "13  5.766345                  Start_Quarter\n",
       "6   4.328092             Default_Rate_Group\n",
       "18  4.291627               Complexity_Level\n",
       "7   4.181978  Perc_of_Stages_with_Fixed_Fee\n",
       "17  3.263781                  MG_DR_Skilled\n",
       "1   3.063222                         Sector\n",
       "12  2.199590              Total_Data_Issues\n",
       "3   1.739588         Project_Duration_Weeks\n",
       "11  1.651745                Is_Front_Loaded\n",
       "4   1.623429    Is_Multi_Discipline_Project\n",
       "5   1.465820        Is_First_Client_Project\n",
       "15  1.351073           Manager_AND_Director\n",
       "8   1.103386              Manager_Is_Recent\n",
       "9   1.071853             Director_Is_Recent\n",
       "0   1.066509                        Country\n",
       "10  1.009895         Perc_of_Subcontractors"
      ]
     },
     "execution_count": 65,
     "metadata": {},
     "output_type": "execute_result"
    }
   ],
   "source": [
    "df.drop(columns = ['Director_ID', 'Manager_ID', 'Director_Team', 'Manager_Team', 'Delivered_on_Time', 'Office', 'Director_Empl_Years', 'Manager_Empl_Years', 'Total_Num_Stages'], inplace = True)\n",
    "\n",
    "X = df.drop(['Rec_Class', 'Profit_Class'], axis = 1).copy()\n",
    "\n",
    "vif_info = pd.DataFrame()\n",
    "vif_info['VIF'] = [variance_inflation_factor(X.values, i) for i in range(X.shape[1])]\n",
    "vif_info['Column'] = X.columns\n",
    "vif_info.sort_values('VIF', ascending=False)"
   ]
  },
  {
   "cell_type": "code",
   "execution_count": 66,
   "metadata": {},
   "outputs": [],
   "source": [
    "df.to_csv('csv-files/binary_data.csv', index=False)"
   ]
  }
 ],
 "metadata": {
  "interpreter": {
   "hash": "32faf87829e52f10b3379fa51fb017496aba8a2082e84bf41be67a5b199752f4"
  },
  "kernelspec": {
   "display_name": "Python 3.10.2 ('venv': venv)",
   "language": "python",
   "name": "python3"
  },
  "language_info": {
   "codemirror_mode": {
    "name": "ipython",
    "version": 3
   },
   "file_extension": ".py",
   "mimetype": "text/x-python",
   "name": "python",
   "nbconvert_exporter": "python",
   "pygments_lexer": "ipython3",
   "version": "3.10.2"
  },
  "orig_nbformat": 4
 },
 "nbformat": 4,
 "nbformat_minor": 2
}
