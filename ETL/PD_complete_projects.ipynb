{
 "cells": [
  {
   "cell_type": "markdown",
   "id": "57f4ab4c",
   "metadata": {
    "id": "57f4ab4c"
   },
   "source": [
    "<h1 align=\"center\">S2R Analytics</h1>"
   ]
  },
  {
   "cell_type": "markdown",
   "id": "e892fa8b",
   "metadata": {
    "id": "e892fa8b"
   },
   "source": [
    "# Table of Contents\n",
    "\n",
    "* [1](#1): Projects\n",
    "* [2](#2): Transactions\n",
    "* [3](#3): Staff & teams\n",
    "* [4](#4): Stages\n",
    "* [5](#5): Data health\n",
    "* [6](#6): Clients \n",
    "* [7](#7): Clean-up\n",
    "* [8](#8): Pre-processing"
   ]
  },
  {
   "cell_type": "markdown",
   "id": "F8qq-kkSaAp1",
   "metadata": {
    "id": "F8qq-kkSaAp1"
   },
   "source": [
    "## Notebook Setup"
   ]
  },
  {
   "cell_type": "code",
   "execution_count": null,
   "id": "BpTEkpFbb0yS",
   "metadata": {
    "id": "BpTEkpFbb0yS"
   },
   "outputs": [],
   "source": [
    "# Essentials\n",
    "import pandas as pd\n",
    "from pandas import Series, DataFrame\n",
    "from pandas.api.types import CategoricalDtype\n",
    "pd.options.display.max_columns = None\n",
    "import numpy as np; np.random.seed(2022)\n",
    "import random\n",
    "import sqlite3\n",
    "import pyodbc\n",
    "\n",
    "# Image creation and display\n",
    "import seaborn as sns\n",
    "import matplotlib.pyplot as plt\n",
    "import matplotlib.ticker as mtick\n",
    "import matplotlib.patches as mpatches\n",
    "from matplotlib import pyplot\n",
    "import plotly.express as px\n",
    "import plotly.graph_objects as go\n",
    "\n",
    "# Preprocessing\n",
    "from sklearn import preprocessing\n",
    "from sklearn.model_selection import train_test_split\n",
    "from sklearn.preprocessing import StandardScaler\n",
    "from sklearn.preprocessing import LabelEncoder\n",
    "from sklearn.compose import ColumnTransformer\n",
    "from sklearn.compose import make_column_transformer\n",
    "from sklearn.pipeline import Pipeline\n",
    "from sklearn.pipeline import make_pipeline\n",
    "\n",
    "# Models\n",
    "from sklearn.linear_model import LogisticRegression\n",
    "from sklearn.neighbors import KNeighborsClassifier\n",
    "from sklearn.tree import DecisionTreeClassifier\n",
    "from sklearn.ensemble import RandomForestClassifier\n",
    "from xgboost import XGBClassifier\n",
    "from sklearn.svm import SVC\n",
    "from sklearn import svm\n",
    "from sklearn.naive_bayes import GaussianNB\n",
    "from sklearn.base import clone\n",
    "from sklearn.ensemble import StackingClassifier\n",
    "from sklearn.ensemble import BaggingClassifier\n",
    "\n",
    "# Other\n",
    "import itertools as it\n",
    "import io\n",
    "import os\n",
    "os.sys.path\n",
    "import sys\n",
    "import glob\n",
    "import concurrent.futures\n",
    "from __future__ import print_function\n",
    "import binascii\n",
    "import struct\n",
    "from PIL import Image\n",
    "import scipy\n",
    "import scipy.misc\n",
    "import scipy.cluster\n",
    "import datetime, time\n",
    "import functools, operator\n",
    "from datetime import datetime"
   ]
  },
  {
   "cell_type": "markdown",
   "id": "411c2673",
   "metadata": {},
   "source": [
    "## 1. <a class=\"anchor\" id=\"1\"></a> Projects"
   ]
  },
  {
   "cell_type": "markdown",
   "id": "4407addc",
   "metadata": {},
   "source": [
    "Step 1: Create a list of projects to drop."
   ]
  },
  {
   "cell_type": "code",
   "execution_count": 104,
   "id": "d9cc6c9f",
   "metadata": {
    "scrolled": true
   },
   "outputs": [
    {
     "name": "stdout",
     "output_type": "stream",
     "text": [
      "We should have 7222 projects in total.\n"
     ]
    }
   ],
   "source": [
    "# Read all projects from Synergy API\n",
    "all_projects = pd.read_csv('csv-files/wga_synergy_incremental_projects.csv')\n",
    "all_projects = all_projects[['Project ID', 'Project Number', 'Project Name', 'Is Office Project', 'Is Billable', 'Project Status']]\n",
    "\n",
    "# Projects to keep: external (i.e. client only)\n",
    "external_projects = all_projects[(all_projects['Is Office Project'] != 'Yes')]\n",
    "external_projects = external_projects[(external_projects['Is Billable'] != 'No')]\n",
    "external_ids = external_projects['Project ID'].tolist()\n",
    "\n",
    "# Projects to keep: status-based\n",
    "successful_projects = external_projects[external_projects['Project Status'].isin(['Complete']) == True]\n",
    "valid_ids = successful_projects['Project ID'].tolist()\n",
    "\n",
    "# See how many unique projects we shold have\n",
    "print('We should have ' + str(len(valid_ids)) + ' projects in total.')"
   ]
  },
  {
   "cell_type": "code",
   "execution_count": 105,
   "id": "95f1f04b",
   "metadata": {},
   "outputs": [
    {
     "name": "stdout",
     "output_type": "stream",
     "text": [
      "Hence, 8103 projects were dropped for being invalid.\n"
     ]
    }
   ],
   "source": [
    "print('Hence, ' + str(len(all_projects) - len(valid_ids)) + ' projects were dropped for being invalid.')"
   ]
  },
  {
   "cell_type": "markdown",
   "id": "7ef2789f",
   "metadata": {},
   "source": [
    "Step 2: Cleaning data from Synergy API."
   ]
  },
  {
   "cell_type": "code",
   "execution_count": 106,
   "id": "0a43568b",
   "metadata": {},
   "outputs": [
    {
     "data": {
      "text/plain": [
       "7222"
      ]
     },
     "execution_count": 106,
     "metadata": {},
     "output_type": "execute_result"
    }
   ],
   "source": [
    "# Load only valid projects\n",
    "api_projects = pd.read_csv('csv-files/wga_synergy_incremental_projects.csv', parse_dates=['Start Date (Project)', 'End Date (Project)'], dayfirst=True)\n",
    "api_projects = (api_projects[api_projects['Project ID'].isin(valid_ids)])\n",
    "\n",
    "\n",
    "# Drop unnecesary columns\n",
    "api_projects.drop(columns = ['Unnamed: 0', 'Primary Contact Name', 'Status Name', 'Organisation ID',\n",
    "                             'customFields', 'Address Line 1', 'Address Line 2', 'Project Type ID',\n",
    "                             'Primary Contact', 'Primary Contact ID', 'Project Scope', 'Address Postal Code',\n",
    "                             'Address State', 'Address Town', 'Address Google', 'Client Reference Number',\n",
    "                             'Address State Postal Code Country', 'Address Single Line', 'Project Type Code',\n",
    "                             'External Name', 'Address Longitude', 'Address Latitude', 'Project Manager', \n",
    "                             'Project Forecast Value', 'Created Date', 'Updated Date'], inplace = True)\n",
    "\n",
    "\n",
    "# Convert columns for unified style\n",
    "api_projects.rename(columns = {'Invoices':'Number of Invoices', 'Project Net Residual (Neg as Zero)':'Project Net Residual',\n",
    "                              'Start Date (Project)': 'Project Start Date', 'End Date (Project)': 'Project End Date',\n",
    "                              'Address Country':'Country', 'Project Type': 'Sector'}, inplace = True)\n",
    "api_projects['Country'].replace(['AUSTRALIA', 'AUS', 'Autralia', 'NZ', 'new zealand', 'PNG', 'samoa', 'SAMOA', 'TONGA', 'SA', 'CHINA'],\n",
    "                                ['Australia', 'Australia', 'Australia', 'New Zealand', 'New Zealand', 'Papua New Guinea', 'Samoa', 'Samoa', 'Tonga', 'Saudi Arabia', 'China'],inplace=True)\n",
    "\n",
    "\n",
    "# Generalise minority observations into bigger groups\n",
    "api_projects['Sector'].mask(api_projects['Sector'] == 'Commercial', 'Commercial & Retail Buildings', inplace=True)\n",
    "api_projects['Sector'].mask(api_projects['Sector'] == 'Residential', 'Civic & Education Buildings', inplace=True)\n",
    "api_projects['Default Rate Group'].mask(api_projects['Default Rate Group'] != 'Standard', 'Non-standard', inplace=True)\n",
    "\n",
    "\n",
    "# Adding 'Due Date' and'Project Director' columns\n",
    "custom_fields = pd.read_csv('csv-files/wga_synergy_incremental_projects_custom_fields.csv')\n",
    "custom_fields = custom_fields[['PROPOSAL - Due Date', 'PROSPECT - Project Director', 'Project ID']].copy()\n",
    "custom_fields.rename(columns = {'PROSPECT - Project Director':'Project Director', 'PROPOSAL - Due Date': 'Due Date'}, inplace = True)\n",
    "custom_fields['Project Director'] = custom_fields['Project Director'].str.rstrip(' (MPD)')\n",
    "custom_fields['Due Date'] = pd.to_datetime(custom_fields['Due Date'])\n",
    "api_projects = pd.merge(api_projects, custom_fields,  how='left', on='Project ID')\n",
    "\n",
    "\n",
    "# Rearrange column names for easier interpretation\n",
    "api_projects = api_projects[['Project ID', 'Country',\n",
    "                             'Project Status', 'Sector',\n",
    "                             'Project Director', 'Manager ID', 'Office',\n",
    "                             'Project Start Date', 'Project End Date', 'Due Date']]\n",
    "\n",
    "len(api_projects)"
   ]
  },
  {
   "cell_type": "markdown",
   "id": "803bdc65",
   "metadata": {},
   "source": [
    "Step 3: Cleaning transformed PowerBI data from S2R Analytics."
   ]
  },
  {
   "cell_type": "code",
   "execution_count": 107,
   "id": "0085b85e",
   "metadata": {},
   "outputs": [
    {
     "data": {
      "text/plain": [
       "7222"
      ]
     },
     "execution_count": 107,
     "metadata": {},
     "output_type": "execute_result"
    }
   ],
   "source": [
    "# Read the pre-transformed data from PowerBI\n",
    "pbi_projects = pd.read_csv('csv-files/wga_power_bi_projects.csv', encoding = 'ISO-8859-1', low_memory=False)\n",
    "pbi_projects = pbi_projects[['Project ID', 'Project Size Sort Order', 'Is Multi Discipline Project','Is First Client Project']]\n",
    "\n",
    "# Load only valid projects\n",
    "pbi_projects = (pbi_projects[pbi_projects['Project ID'].isin(valid_ids)])\n",
    "\n",
    "# Convert columns for unified style\n",
    "pbi_projects['Is Multi Discipline Project'].replace(['No', 'Yes'],[False, True],inplace=True)\n",
    "pbi_projects['Is First Client Project'].replace(['No', 'Yes'],[False, True],inplace=True)\n",
    "\n",
    "# Convert the object column to boolean\n",
    "pbi_projects['Is Multi Discipline Project'] = pbi_projects['Is Multi Discipline Project'].astype(bool)\n",
    "pbi_projects['Is Multi Discipline Project'] = pbi_projects['Is Multi Discipline Project'].astype(int)\n",
    "pbi_projects['Is First Client Project'] = pbi_projects['Is First Client Project'].astype(int)\n",
    "\n",
    "len(pbi_projects)"
   ]
  },
  {
   "cell_type": "markdown",
   "id": "45d0dd8b",
   "metadata": {},
   "source": [
    "Step 4: Merge the two 'Projects' tables together."
   ]
  },
  {
   "cell_type": "code",
   "execution_count": 108,
   "id": "75aeb104",
   "metadata": {},
   "outputs": [
    {
     "data": {
      "text/html": [
       "<div>\n",
       "<style scoped>\n",
       "    .dataframe tbody tr th:only-of-type {\n",
       "        vertical-align: middle;\n",
       "    }\n",
       "\n",
       "    .dataframe tbody tr th {\n",
       "        vertical-align: top;\n",
       "    }\n",
       "\n",
       "    .dataframe thead th {\n",
       "        text-align: right;\n",
       "    }\n",
       "</style>\n",
       "<table border=\"1\" class=\"dataframe\">\n",
       "  <thead>\n",
       "    <tr style=\"text-align: right;\">\n",
       "      <th></th>\n",
       "      <th>Project_ID</th>\n",
       "      <th>Country</th>\n",
       "      <th>Project_Status</th>\n",
       "      <th>Sector</th>\n",
       "      <th>Project_Director</th>\n",
       "      <th>Manager_ID</th>\n",
       "      <th>Office</th>\n",
       "      <th>Project_Start_Date</th>\n",
       "      <th>Project_End_Date</th>\n",
       "      <th>Due_Date</th>\n",
       "      <th>Project_Size_Sort_Order</th>\n",
       "      <th>Is_Multi_Discipline_Project</th>\n",
       "      <th>Is_First_Client_Project</th>\n",
       "    </tr>\n",
       "  </thead>\n",
       "  <tbody>\n",
       "    <tr>\n",
       "      <th>0</th>\n",
       "      <td>367704</td>\n",
       "      <td>Australia</td>\n",
       "      <td>Complete</td>\n",
       "      <td>Ports &amp; Marine</td>\n",
       "      <td>Mark Gilbert</td>\n",
       "      <td>7612852</td>\n",
       "      <td>Whyalla</td>\n",
       "      <td>2015-07-01</td>\n",
       "      <td>2015-08-01</td>\n",
       "      <td>NaT</td>\n",
       "      <td>4</td>\n",
       "      <td>0</td>\n",
       "      <td>1</td>\n",
       "    </tr>\n",
       "  </tbody>\n",
       "</table>\n",
       "</div>"
      ],
      "text/plain": [
       "   Project_ID    Country Project_Status          Sector Project_Director  \\\n",
       "0      367704  Australia       Complete  Ports & Marine     Mark Gilbert   \n",
       "\n",
       "   Manager_ID   Office Project_Start_Date Project_End_Date Due_Date  \\\n",
       "0     7612852  Whyalla         2015-07-01       2015-08-01      NaT   \n",
       "\n",
       "   Project_Size_Sort_Order  Is_Multi_Discipline_Project  \\\n",
       "0                        4                            0   \n",
       "\n",
       "   Is_First_Client_Project  \n",
       "0                        1  "
      ]
     },
     "execution_count": 108,
     "metadata": {},
     "output_type": "execute_result"
    }
   ],
   "source": [
    "# Merge the projects table from API and preprocesed Power BI table\n",
    "projects = pd.merge(api_projects, pbi_projects,  how='left', left_on='Project ID', right_on='Project ID')\n",
    "projects.columns = projects.columns.str.replace(' ', '_')\n",
    "projects.head(1)"
   ]
  },
  {
   "cell_type": "markdown",
   "id": "7dc9d4d6",
   "metadata": {},
   "source": [
    "## 2. <a class=\"anchor\" id=\"2\"></a> Transactions"
   ]
  },
  {
   "cell_type": "code",
   "execution_count": 164,
   "id": "3425e95c",
   "metadata": {},
   "outputs": [
    {
     "name": "stdout",
     "output_type": "stream",
     "text": [
      "Only 6643 projects have transaction recorded, meaning 0 projects will be missing from transaction table.\n"
     ]
    },
    {
     "data": {
      "text/html": [
       "<div>\n",
       "<style scoped>\n",
       "    .dataframe tbody tr th:only-of-type {\n",
       "        vertical-align: middle;\n",
       "    }\n",
       "\n",
       "    .dataframe tbody tr th {\n",
       "        vertical-align: top;\n",
       "    }\n",
       "\n",
       "    .dataframe thead th {\n",
       "        text-align: right;\n",
       "    }\n",
       "</style>\n",
       "<table border=\"1\" class=\"dataframe\">\n",
       "  <thead>\n",
       "    <tr style=\"text-align: right;\">\n",
       "      <th></th>\n",
       "      <th>Project_ID</th>\n",
       "      <th>Staff_ID</th>\n",
       "      <th>Transaction_Type</th>\n",
       "      <th>Invoice_Value_Total</th>\n",
       "      <th>Actual_Cost_Total</th>\n",
       "      <th>Units</th>\n",
       "      <th>Rate_Type</th>\n",
       "      <th>Date</th>\n",
       "    </tr>\n",
       "  </thead>\n",
       "  <tbody>\n",
       "    <tr>\n",
       "      <th>0</th>\n",
       "      <td>768524</td>\n",
       "      <td>8553176.0</td>\n",
       "      <td>Time</td>\n",
       "      <td>0.00</td>\n",
       "      <td>203.975</td>\n",
       "      <td>2.5</td>\n",
       "      <td>Staff</td>\n",
       "      <td>2021-06-02</td>\n",
       "    </tr>\n",
       "    <tr>\n",
       "      <th>1</th>\n",
       "      <td>768524</td>\n",
       "      <td>8553176.0</td>\n",
       "      <td>Time</td>\n",
       "      <td>0.00</td>\n",
       "      <td>81.590</td>\n",
       "      <td>1.0</td>\n",
       "      <td>Staff</td>\n",
       "      <td>2021-06-03</td>\n",
       "    </tr>\n",
       "    <tr>\n",
       "      <th>2</th>\n",
       "      <td>768524</td>\n",
       "      <td>8553176.0</td>\n",
       "      <td>Time</td>\n",
       "      <td>0.00</td>\n",
       "      <td>40.795</td>\n",
       "      <td>0.5</td>\n",
       "      <td>Staff</td>\n",
       "      <td>2021-06-04</td>\n",
       "    </tr>\n",
       "    <tr>\n",
       "      <th>3</th>\n",
       "      <td>768524</td>\n",
       "      <td>7612693.0</td>\n",
       "      <td>Time</td>\n",
       "      <td>0.00</td>\n",
       "      <td>771.540</td>\n",
       "      <td>6.0</td>\n",
       "      <td>Staff</td>\n",
       "      <td>2021-06-02</td>\n",
       "    </tr>\n",
       "    <tr>\n",
       "      <th>4</th>\n",
       "      <td>768524</td>\n",
       "      <td>7612942.0</td>\n",
       "      <td>Time</td>\n",
       "      <td>0.00</td>\n",
       "      <td>284.625</td>\n",
       "      <td>2.5</td>\n",
       "      <td>Staff</td>\n",
       "      <td>2021-07-01</td>\n",
       "    </tr>\n",
       "    <tr>\n",
       "      <th>...</th>\n",
       "      <td>...</td>\n",
       "      <td>...</td>\n",
       "      <td>...</td>\n",
       "      <td>...</td>\n",
       "      <td>...</td>\n",
       "      <td>...</td>\n",
       "      <td>...</td>\n",
       "      <td>...</td>\n",
       "    </tr>\n",
       "    <tr>\n",
       "      <th>547777</th>\n",
       "      <td>1116173</td>\n",
       "      <td>7613114.0</td>\n",
       "      <td>Time</td>\n",
       "      <td>256.12</td>\n",
       "      <td>211.140</td>\n",
       "      <td>2.0</td>\n",
       "      <td>Staff</td>\n",
       "      <td>2022-03-16</td>\n",
       "    </tr>\n",
       "    <tr>\n",
       "      <th>547778</th>\n",
       "      <td>1116173</td>\n",
       "      <td>7613159.0</td>\n",
       "      <td>Time</td>\n",
       "      <td>351.25</td>\n",
       "      <td>306.360</td>\n",
       "      <td>4.0</td>\n",
       "      <td>Staff</td>\n",
       "      <td>2022-03-17</td>\n",
       "    </tr>\n",
       "    <tr>\n",
       "      <th>547779</th>\n",
       "      <td>1116173</td>\n",
       "      <td>7613159.0</td>\n",
       "      <td>Time</td>\n",
       "      <td>526.87</td>\n",
       "      <td>459.540</td>\n",
       "      <td>6.0</td>\n",
       "      <td>Staff</td>\n",
       "      <td>2022-03-18</td>\n",
       "    </tr>\n",
       "    <tr>\n",
       "      <th>547780</th>\n",
       "      <td>1116173</td>\n",
       "      <td>7613114.0</td>\n",
       "      <td>Time</td>\n",
       "      <td>64.03</td>\n",
       "      <td>52.785</td>\n",
       "      <td>0.5</td>\n",
       "      <td>Staff</td>\n",
       "      <td>2022-03-17</td>\n",
       "    </tr>\n",
       "    <tr>\n",
       "      <th>547781</th>\n",
       "      <td>1116173</td>\n",
       "      <td>7613114.0</td>\n",
       "      <td>Time</td>\n",
       "      <td>320.12</td>\n",
       "      <td>263.925</td>\n",
       "      <td>2.5</td>\n",
       "      <td>Staff</td>\n",
       "      <td>2022-03-18</td>\n",
       "    </tr>\n",
       "  </tbody>\n",
       "</table>\n",
       "<p>547782 rows × 8 columns</p>\n",
       "</div>"
      ],
      "text/plain": [
       "        Project_ID   Staff_ID Transaction_Type  Invoice_Value_Total  \\\n",
       "0           768524  8553176.0             Time                 0.00   \n",
       "1           768524  8553176.0             Time                 0.00   \n",
       "2           768524  8553176.0             Time                 0.00   \n",
       "3           768524  7612693.0             Time                 0.00   \n",
       "4           768524  7612942.0             Time                 0.00   \n",
       "...            ...        ...              ...                  ...   \n",
       "547777     1116173  7613114.0             Time               256.12   \n",
       "547778     1116173  7613159.0             Time               351.25   \n",
       "547779     1116173  7613159.0             Time               526.87   \n",
       "547780     1116173  7613114.0             Time                64.03   \n",
       "547781     1116173  7613114.0             Time               320.12   \n",
       "\n",
       "        Actual_Cost_Total  Units Rate_Type       Date  \n",
       "0                 203.975    2.5     Staff 2021-06-02  \n",
       "1                  81.590    1.0     Staff 2021-06-03  \n",
       "2                  40.795    0.5     Staff 2021-06-04  \n",
       "3                 771.540    6.0     Staff 2021-06-02  \n",
       "4                 284.625    2.5     Staff 2021-07-01  \n",
       "...                   ...    ...       ...        ...  \n",
       "547777            211.140    2.0     Staff 2022-03-16  \n",
       "547778            306.360    4.0     Staff 2022-03-17  \n",
       "547779            459.540    6.0     Staff 2022-03-18  \n",
       "547780             52.785    0.5     Staff 2022-03-17  \n",
       "547781            263.925    2.5     Staff 2022-03-18  \n",
       "\n",
       "[547782 rows x 8 columns]"
      ]
     },
     "execution_count": 164,
     "metadata": {},
     "output_type": "execute_result"
    }
   ],
   "source": [
    "# Read only valid projects' transactions from Synergy API.\n",
    "transactions = pd.read_csv('csv-files/wga_sql_transactions.csv', parse_dates=['date'], dayfirst=True, low_memory=False)\n",
    "transactions = (transactions[transactions['projectId'].isin(valid_ids)])\n",
    "\n",
    "transactions = transactions[['id', 'projectId', 'stageId', 'staffId', 'transactionTypeId',\n",
    "                             'rateType', 'status','units',\n",
    "                             'invoiceValueTotal','actualCostTotal', 'date']]\n",
    "\n",
    "transactions.rename(columns = {'id':'Transaction ID', 'projectId':'Project ID',\n",
    "                                'staffId':'Staff ID',\n",
    "                               'transactionTypeId': 'Transaction Type',\n",
    "                               'rateType': 'Rate Type', 'status': 'Status',\n",
    "                               'stageId': 'Stage ID', 'date':'Date',\n",
    "                               'invoiceValueTotal': 'Invoice Value Total',\n",
    "                               'actualCostTotal':'Actual Cost Total',\n",
    "                               'units': 'Units'}, inplace = True)\n",
    "\n",
    "transactions = transactions[(transactions['Status'] == 'Invoiced') | (transactions['Status'] == 'Written off')]\n",
    "transactions['Transaction Type'].replace([100, 200, 300, 400, 500, 700, 750, 800],\n",
    "                                         ['Time', 'Cash', 'Travel', 'Office', 'Bill', 'Balance', 'Unearned', 'Invoice Custom'], inplace=True)\n",
    "transactions['Date'] = pd.to_datetime(transactions['Date'])\n",
    "transactions.columns = transactions.columns.str.replace(' ', '_')\n",
    "transactions = transactions[['Project_ID', 'Staff_ID', 'Transaction_Type', 'Invoice_Value_Total', 'Actual_Cost_Total',  'Units', 'Rate_Type', 'Date']]\n",
    "\n",
    "recorded_invoice = transactions.loc[transactions['Invoice_Value_Total'] != 0.0]\n",
    "recorded_invoice_ids = recorded_invoice['Project_ID'].tolist()\n",
    "transactions = (transactions[transactions['Project_ID'].isin(recorded_invoice_ids)])\n",
    "\n",
    "print('Only ' + str(transactions['Project_ID'].nunique()) + ' projects have transaction recorded, meaning ' + str(len(projects) - transactions['Project_ID'].nunique()) + ' projects will be missing from transaction table.')\n",
    "transactions.reset_index(inplace=True, drop=True)\n",
    "transactions"
   ]
  },
  {
   "cell_type": "markdown",
   "id": "50f03e84",
   "metadata": {},
   "source": [
    "Perc_of_Subcontractors = \n",
    "* total units of subcontractors divided by\n",
    "* sum of units where transaction type is 'bill' or 'time'\n",
    "\n",
    "* 'Time' = Company's employees\n",
    "* 'Bill' = Hired subcontrators\n",
    "* Time + Bill = total human capital on project in hours"
   ]
  },
  {
   "cell_type": "code",
   "execution_count": 110,
   "id": "899cf828",
   "metadata": {},
   "outputs": [
    {
     "data": {
      "text/plain": [
       "7222"
      ]
     },
     "execution_count": 110,
     "metadata": {},
     "output_type": "execute_result"
    }
   ],
   "source": [
    "# Perc_of_Subcontractors\n",
    "subs = transactions[['Project_ID', 'Units', 'Rate_Type']]\n",
    "subs = subs[(subs['Rate_Type'] == 'Subcontractor')]\n",
    "subs.drop(columns = ['Rate_Type'], inplace = True)\n",
    "subs = pd.DataFrame(subs.groupby(['Project_ID'])['Units'].count()).reset_index()\n",
    "subs.rename(columns = {'Units': 'Sub_Hours_Per_Project'}, inplace = True)\n",
    "\n",
    "total_hours = transactions[['Project_ID', 'Units', 'Transaction_Type']]\n",
    "total_hours = total_hours[(total_hours['Transaction_Type'] == 'Time') | (total_hours['Transaction_Type'] == 'Bill')]\n",
    "total_hours = pd.DataFrame(total_hours.groupby(['Project_ID'])['Units'].count()).reset_index()\n",
    "total_hours.rename(columns = {'Units': 'Total_Hours_Per_Project'}, inplace = True)\n",
    "\n",
    "df_1 = pd.merge(projects, subs, how='left', left_on='Project_ID', right_on='Project_ID')\n",
    "df_2 = pd.merge(df_1, total_hours, how='left', left_on='Project_ID', right_on='Project_ID')\n",
    "df_2['Sub_Hours_Per_Project'].fillna(0, inplace=True)\n",
    "df_2['Total_Hours_Per_Project'].fillna(0, inplace=True)\n",
    "df_2['Perc_of_Subcontractors'] = (df_2['Sub_Hours_Per_Project'] / df_2['Total_Hours_Per_Project']).round(decimals = 2)\n",
    "df_2 = df_2[['Project_ID', 'Perc_of_Subcontractors']]\n",
    "\n",
    "# Add the new feature to the 'Projects' table\n",
    "projects = pd.merge(projects, df_2,  how='left', left_on='Project_ID', right_on='Project_ID')\n",
    "len(projects)"
   ]
  },
  {
   "cell_type": "code",
   "execution_count": 111,
   "id": "7dfdf424",
   "metadata": {},
   "outputs": [
    {
     "data": {
      "text/plain": [
       "7222"
      ]
     },
     "execution_count": 111,
     "metadata": {},
     "output_type": "execute_result"
    }
   ],
   "source": [
    "# Is_Front_Loaded\n",
    "project_dates = projects[['Project_ID', 'Project_Start_Date', 'Project_End_Date']]\n",
    "df_3 = transactions[['Project_ID', 'Units', 'Date']]\n",
    "df_3 = pd.merge(df_3, project_dates, how='left', left_on='Project_ID', right_on='Project_ID')\n",
    "\n",
    "first_half = df_3[(df_3['Date']  < df_3['Project_Start_Date'] + (df_3['Project_End_Date'] - df_3['Project_Start_Date'])/2)] # finding mid-point between 2 dates\n",
    "first_half = pd.DataFrame(first_half.groupby(['Project_ID'])['Units'].sum()).reset_index()\n",
    "first_half.rename(columns = {'Units': '1st_Half_Units'}, inplace = True)\n",
    "\n",
    "total_units = pd.DataFrame(df_3.groupby(['Project_ID'])['Units'].sum()).reset_index()\n",
    "total_units.rename(columns = {'Units': 'Total_Effort_Units'}, inplace = True)\n",
    "\n",
    "df_4 = pd.merge(total_units, first_half, how ='left', left_on='Project_ID', right_on='Project_ID')\n",
    "df_4['Perc_Being_Front'] = df_4['1st_Half_Units']/df_4['Total_Effort_Units']\n",
    "df_4['Is_Front_Loaded'] = (df_4['Perc_Being_Front']>=0.7)\n",
    "df_4 = df_4[['Project_ID', 'Is_Front_Loaded']]\n",
    "\n",
    "# Add the new feature to the 'Projects' table\n",
    "projects = pd.merge(projects, df_4,  how='left', left_on='Project_ID', right_on='Project_ID')\n",
    "len(projects)"
   ]
  },
  {
   "cell_type": "code",
   "execution_count": 112,
   "id": "ccc80800",
   "metadata": {},
   "outputs": [
    {
     "data": {
      "text/plain": [
       "7222"
      ]
     },
     "execution_count": 112,
     "metadata": {},
     "output_type": "execute_result"
    }
   ],
   "source": [
    "# Project_Start_Date, Project_End_Date\n",
    "\n",
    "def nat_check(date):\n",
    "    if type(date) == pd._libs.tslibs.nattype.NaTType:\n",
    "        return True\n",
    "    else:\n",
    "        return False\n",
    "\n",
    "min_dates =  pd.DataFrame(transactions.groupby(['Project_ID'])['Date'].min()).reset_index()\n",
    "min_dates.rename(columns = {'Date':'Min_Date'}, inplace = True)\n",
    "max_dates =  pd.DataFrame(transactions.groupby(['Project_ID'])['Date'].max()).reset_index()\n",
    "max_dates.rename(columns = {'Date':'Max_Date'}, inplace = True)\n",
    "all_dates = pd.merge(min_dates, max_dates, how='left', on='Project_ID')\n",
    "projects = pd.merge(projects, all_dates, how='left', on='Project_ID')\n",
    "len(projects)"
   ]
  },
  {
   "cell_type": "code",
   "execution_count": 113,
   "id": "35dca736",
   "metadata": {},
   "outputs": [
    {
     "data": {
      "text/plain": [
       "7222"
      ]
     },
     "execution_count": 113,
     "metadata": {},
     "output_type": "execute_result"
    }
   ],
   "source": [
    "projects['Project_Start_Date'] = projects['Project_Start_Date'].map(str)\n",
    "projects['Project_End_Date'] = projects['Project_End_Date'].map(str)\n",
    "projects['Due_Date'] = projects['Due_Date'].map(str)\n",
    "\n",
    "projects.loc[projects['Project_Start_Date']=='NaT','Project_Start_Date']=projects['Min_Date']\n",
    "projects.loc[projects['Project_End_Date']=='NaT','Project_End_Date']=projects['Max_Date']\n",
    "projects.loc[projects['Due_Date']=='NaT','Due_Date']=projects['Max_Date']\n",
    "\n",
    "projects['Project_Start_Date'] = pd.to_datetime(projects['Project_Start_Date'])\n",
    "projects['Project_End_Date'] = pd.to_datetime(projects['Project_End_Date'])\n",
    "projects['Due_Date'] = pd.to_datetime(projects['Due_Date'])\n",
    "\n",
    "projects.drop(columns = ['Min_Date', 'Max_Date'], inplace = True)\n",
    "len(projects)"
   ]
  },
  {
   "cell_type": "markdown",
   "id": "8189cddf",
   "metadata": {},
   "source": [
    "Now, let's go back to engieering date-dependent features with newly filled in values in the 'Projects' table."
   ]
  },
  {
   "cell_type": "code",
   "execution_count": 114,
   "id": "4502d242",
   "metadata": {},
   "outputs": [
    {
     "data": {
      "text/html": [
       "<div>\n",
       "<style scoped>\n",
       "    .dataframe tbody tr th:only-of-type {\n",
       "        vertical-align: middle;\n",
       "    }\n",
       "\n",
       "    .dataframe tbody tr th {\n",
       "        vertical-align: top;\n",
       "    }\n",
       "\n",
       "    .dataframe thead th {\n",
       "        text-align: right;\n",
       "    }\n",
       "</style>\n",
       "<table border=\"1\" class=\"dataframe\">\n",
       "  <thead>\n",
       "    <tr style=\"text-align: right;\">\n",
       "      <th></th>\n",
       "      <th>Project_ID</th>\n",
       "      <th>Country</th>\n",
       "      <th>Project_Status</th>\n",
       "      <th>Sector</th>\n",
       "      <th>Project_Director</th>\n",
       "      <th>Manager_ID</th>\n",
       "      <th>Office</th>\n",
       "      <th>Project_Start_Date</th>\n",
       "      <th>Project_End_Date</th>\n",
       "      <th>Due_Date</th>\n",
       "      <th>Project_Size_Sort_Order</th>\n",
       "      <th>Is_Multi_Discipline_Project</th>\n",
       "      <th>Is_First_Client_Project</th>\n",
       "      <th>Perc_of_Subcontractors</th>\n",
       "      <th>Is_Front_Loaded</th>\n",
       "      <th>Project_Duration_Weeks</th>\n",
       "    </tr>\n",
       "  </thead>\n",
       "  <tbody>\n",
       "    <tr>\n",
       "      <th>5358</th>\n",
       "      <td>376189</td>\n",
       "      <td>Australia</td>\n",
       "      <td>Complete</td>\n",
       "      <td>Health &amp; Aged Care</td>\n",
       "      <td>Cameron Jackson</td>\n",
       "      <td>7612841</td>\n",
       "      <td>WGAVIC Pty Ltd</td>\n",
       "      <td>2019-09-23</td>\n",
       "      <td>1970-01-01</td>\n",
       "      <td>2019-09-24</td>\n",
       "      <td>1</td>\n",
       "      <td>0</td>\n",
       "      <td>0</td>\n",
       "      <td>0.0</td>\n",
       "      <td>False</td>\n",
       "      <td>-2595.0</td>\n",
       "    </tr>\n",
       "  </tbody>\n",
       "</table>\n",
       "</div>"
      ],
      "text/plain": [
       "      Project_ID    Country Project_Status              Sector  \\\n",
       "5358      376189  Australia       Complete  Health & Aged Care   \n",
       "\n",
       "     Project_Director  Manager_ID          Office Project_Start_Date  \\\n",
       "5358  Cameron Jackson     7612841  WGAVIC Pty Ltd         2019-09-23   \n",
       "\n",
       "     Project_End_Date   Due_Date  Project_Size_Sort_Order  \\\n",
       "5358       1970-01-01 2019-09-24                        1   \n",
       "\n",
       "      Is_Multi_Discipline_Project  Is_First_Client_Project  \\\n",
       "5358                            0                        0   \n",
       "\n",
       "      Perc_of_Subcontractors Is_Front_Loaded  Project_Duration_Weeks  \n",
       "5358                     0.0           False                 -2595.0  "
      ]
     },
     "execution_count": 114,
     "metadata": {},
     "output_type": "execute_result"
    }
   ],
   "source": [
    "# Project_Duration_Weeks\n",
    "projects['Project_Duration_Weeks'] = (projects['Project_End_Date'] - projects['Project_Start_Date']).astype('timedelta64[W]')\n",
    "neg_weeks = projects[(projects['Project_Duration_Weeks'] < 0)]\n",
    "neg_ids = neg_weeks['Project_ID'].tolist()\n",
    "neg_weeks = (projects[projects['Project_ID'].isin(neg_ids)])\n",
    "neg_weeks"
   ]
  },
  {
   "cell_type": "code",
   "execution_count": 115,
   "id": "c00735d3",
   "metadata": {},
   "outputs": [],
   "source": [
    "# Manually substitute those dates that don't make sense from transactions to created and updates dates from the opriginal API table.\n",
    "projects.loc[projects['Project_ID'] == 376189, 'Project_Start_Date'] = pd.to_datetime('13/08/2019')\n",
    "projects.loc[projects['Project_ID'] == 376189, 'Project_End_Date'] = pd.to_datetime('25/02/2020')\n",
    "\n",
    "projects.loc[projects['Project_ID'] == 1311624, 'Project_Start_Date'] = pd.to_datetime('07/12/2021')\n",
    "projects.loc[projects['Project_ID'] == 1311624, 'Project_End_Date'] = pd.to_datetime('24/01/2022')"
   ]
  },
  {
   "cell_type": "code",
   "execution_count": 116,
   "id": "ddc7c20b",
   "metadata": {},
   "outputs": [
    {
     "data": {
      "text/html": [
       "<div>\n",
       "<style scoped>\n",
       "    .dataframe tbody tr th:only-of-type {\n",
       "        vertical-align: middle;\n",
       "    }\n",
       "\n",
       "    .dataframe tbody tr th {\n",
       "        vertical-align: top;\n",
       "    }\n",
       "\n",
       "    .dataframe thead th {\n",
       "        text-align: right;\n",
       "    }\n",
       "</style>\n",
       "<table border=\"1\" class=\"dataframe\">\n",
       "  <thead>\n",
       "    <tr style=\"text-align: right;\">\n",
       "      <th></th>\n",
       "      <th>Project_ID</th>\n",
       "      <th>Country</th>\n",
       "      <th>Project_Status</th>\n",
       "      <th>Sector</th>\n",
       "      <th>Project_Director</th>\n",
       "      <th>Manager_ID</th>\n",
       "      <th>Office</th>\n",
       "      <th>Project_Start_Date</th>\n",
       "      <th>Project_End_Date</th>\n",
       "      <th>Due_Date</th>\n",
       "      <th>Project_Size_Sort_Order</th>\n",
       "      <th>Is_Multi_Discipline_Project</th>\n",
       "      <th>Is_First_Client_Project</th>\n",
       "      <th>Perc_of_Subcontractors</th>\n",
       "      <th>Is_Front_Loaded</th>\n",
       "      <th>Project_Duration_Weeks</th>\n",
       "    </tr>\n",
       "  </thead>\n",
       "  <tbody>\n",
       "  </tbody>\n",
       "</table>\n",
       "</div>"
      ],
      "text/plain": [
       "Empty DataFrame\n",
       "Columns: [Project_ID, Country, Project_Status, Sector, Project_Director, Manager_ID, Office, Project_Start_Date, Project_End_Date, Due_Date, Project_Size_Sort_Order, Is_Multi_Discipline_Project, Is_First_Client_Project, Perc_of_Subcontractors, Is_Front_Loaded, Project_Duration_Weeks]\n",
       "Index: []"
      ]
     },
     "execution_count": 116,
     "metadata": {},
     "output_type": "execute_result"
    }
   ],
   "source": [
    "projects['Project_Duration_Weeks'] = (projects['Project_End_Date'] - projects['Project_Start_Date']).astype('timedelta64[W]')\n",
    "neg_weeks = projects[(projects['Project_Duration_Weeks'] < 0)]\n",
    "neg_ids = neg_weeks['Project_ID'].tolist()\n",
    "neg_weeks = (projects[projects['Project_ID'].isin(neg_ids)])\n",
    "neg_weeks"
   ]
  },
  {
   "cell_type": "code",
   "execution_count": 117,
   "id": "adda622b",
   "metadata": {},
   "outputs": [],
   "source": [
    "# Delivered_on_Time\n",
    "    \n",
    "Delivered_on_Time = {}\n",
    "\n",
    "for due_date in projects['Due_Date']:\n",
    "    for completed in projects['Project_End_Date']:\n",
    "        if nat_check(due_date) == True:\n",
    "            continue\n",
    "        else:\n",
    "            if due_date <= completed:\n",
    "                Delivered_on_Time[due_date] = True\n",
    "            else:\n",
    "                Delivered_on_Time[due_date] = False\n",
    "\n",
    "df_7 = pd.DataFrame([{'Due_Date': due_date, 'Delivered_on_Time': is_on_time} for (due_date, is_on_time) in Delivered_on_Time.items()])\n",
    "\n",
    "projects = pd.merge(projects, df_7, how='left', on='Due_Date')"
   ]
  },
  {
   "cell_type": "markdown",
   "id": "1fae9614",
   "metadata": {},
   "source": [
    "### 2.1 <a class=\"anchor\" id=\"2.1\"></a> Creating and investigating profit margins"
   ]
  },
  {
   "cell_type": "code",
   "execution_count": 118,
   "id": "6a4ec548",
   "metadata": {},
   "outputs": [
    {
     "name": "stdout",
     "output_type": "stream",
     "text": [
      "Profit margins vary between -65.67179 and 1.0.\n"
     ]
    },
    {
     "data": {
      "text/html": [
       "<div>\n",
       "<style scoped>\n",
       "    .dataframe tbody tr th:only-of-type {\n",
       "        vertical-align: middle;\n",
       "    }\n",
       "\n",
       "    .dataframe tbody tr th {\n",
       "        vertical-align: top;\n",
       "    }\n",
       "\n",
       "    .dataframe thead th {\n",
       "        text-align: right;\n",
       "    }\n",
       "</style>\n",
       "<table border=\"1\" class=\"dataframe\">\n",
       "  <thead>\n",
       "    <tr style=\"text-align: right;\">\n",
       "      <th></th>\n",
       "      <th>Project_ID</th>\n",
       "      <th>Invoice_Value_Total</th>\n",
       "      <th>Actual_Cost_Total</th>\n",
       "      <th>Profit_Margin</th>\n",
       "    </tr>\n",
       "  </thead>\n",
       "  <tbody>\n",
       "    <tr>\n",
       "      <th>1515</th>\n",
       "      <td>370007</td>\n",
       "      <td>4400.0</td>\n",
       "      <td>293355.876</td>\n",
       "      <td>-65.67179</td>\n",
       "    </tr>\n",
       "  </tbody>\n",
       "</table>\n",
       "</div>"
      ],
      "text/plain": [
       "      Project_ID  Invoice_Value_Total  Actual_Cost_Total  Profit_Margin\n",
       "1515      370007               4400.0         293355.876      -65.67179"
      ]
     },
     "execution_count": 118,
     "metadata": {},
     "output_type": "execute_result"
    }
   ],
   "source": [
    "# Profit_Margin\n",
    "df_8 = pd.DataFrame(transactions.groupby(['Project_ID'])[['Invoice_Value_Total', 'Actual_Cost_Total']].sum()).reset_index()\n",
    "df_8['Profit_Margin'] = (df_8['Invoice_Value_Total'] - df_8['Actual_Cost_Total'])/ df_8['Invoice_Value_Total']\n",
    "print('Profit margins vary between ' + str(df_8['Profit_Margin'].min()) + ' and ' + str(df_8['Profit_Margin'].max()) + '.')\n",
    "lowest = df_8.loc[df_8['Profit_Margin'] == -65.67179]\n",
    "lowest"
   ]
  },
  {
   "cell_type": "code",
   "execution_count": 119,
   "id": "d2f6e922",
   "metadata": {},
   "outputs": [
    {
     "name": "stdout",
     "output_type": "stream",
     "text": [
      "There are 5838 projects with profit margin higher than 0.\n",
      "There are 801 projects with profit margin lower than 0.\n",
      "There are 4 projects with profit margin equal to 0.\n"
     ]
    }
   ],
   "source": [
    "positives = df_8.loc[df_8['Profit_Margin'] > 0]\n",
    "print('There are ' + str(len(positives)) + ' projects with profit margin higher than 0.')\n",
    "negatives = df_8.loc[df_8['Profit_Margin'] < 0]\n",
    "print('There are ' + str(len(negatives)) + ' projects with profit margin lower than 0.')\n",
    "zeros = df_8.loc[df_8['Profit_Margin'] == 0]\n",
    "print('There are ' + str(len(zeros)) + ' projects with profit margin equal to 0.')"
   ]
  },
  {
   "cell_type": "code",
   "execution_count": 120,
   "id": "844be31a",
   "metadata": {},
   "outputs": [
    {
     "data": {
      "image/png": "[encoded data removed]",
      "text/plain": [
       "<Figure size 432x432 with 1 Axes>"
      ]
     },
     "metadata": {
      "needs_background": "light"
     },
     "output_type": "display_data"
    },
    {
     "data": {
      "text/plain": [
       " 1.0    5838\n",
       "-1.0     801\n",
       " 0.0       4\n",
       "Name: Profit_Margin, dtype: int64"
      ]
     },
     "execution_count": 120,
     "metadata": {},
     "output_type": "execute_result"
    }
   ],
   "source": [
    "# Normalization\n",
    "df_norm = df_8.copy()\n",
    "df_norm[['Profit_Margin']] = preprocessing.normalize(df_norm[['Profit_Margin']])\n",
    "plt.figure(figsize=(6,6))\n",
    "sns.histplot(df_norm['Profit_Margin'], kde=True, linewidth=0)\n",
    "plt.xlabel('Profit margin (normalized)')\n",
    "plt.title('Count distribution', size=14)\n",
    "plt.show()\n",
    "\n",
    "df_norm['Profit_Margin'].value_counts()"
   ]
  },
  {
   "cell_type": "code",
   "execution_count": 121,
   "id": "6d8f09c5",
   "metadata": {},
   "outputs": [
    {
     "data": {
      "image/png": "[encoded data removed]",
      "text/plain": [
       "<Figure size 432x288 with 1 Axes>"
      ]
     },
     "metadata": {
      "needs_background": "light"
     },
     "output_type": "display_data"
    }
   ],
   "source": [
    "# No scaling with outliers\n",
    "ax = plt.gca()\n",
    "sns.histplot(df_8['Profit_Margin'], linewidth=0)\n",
    "plt.xlabel('Profit margin (unscaled)')\n",
    "plt.title('Distribution for all profit values', size=14)\n",
    "plt.show()"
   ]
  },
  {
   "cell_type": "code",
   "execution_count": 122,
   "id": "d18678b5",
   "metadata": {},
   "outputs": [
    {
     "data": {
      "image/png": "[encoded data removed]",
      "text/plain": [
       "<Figure size 432x288 with 1 Axes>"
      ]
     },
     "metadata": {
      "needs_background": "light"
     },
     "output_type": "display_data"
    }
   ],
   "source": [
    "# No scaling, with outliers\n",
    "ax = plt.gca()\n",
    "ax.set_xlim([-1.0, 1.0])\n",
    "sns.histplot(df_8['Profit_Margin'], linewidth=0)\n",
    "plt.xlabel('Profit margin (unscaled)')\n",
    "\n",
    "profit = df_8['Profit_Margin']\n",
    "median=profit.median()\n",
    "plt.axvline(median, color='green', linestyle='-', label='Median')\n",
    "mean=profit.mean()\n",
    "ax.axvline(mean, color='orange', linestyle='-', label='Mean')\n",
    "ax.legend()\n",
    "ax.grid(False)\n",
    "plt.title('Distribution WITH outliers, \\n profits are restricted to vary from -1 to 1', size=14)\n",
    "plt.show()"
   ]
  },
  {
   "cell_type": "code",
   "execution_count": 123,
   "id": "654ca81f",
   "metadata": {},
   "outputs": [
    {
     "data": {
      "image/png": "[encoded data removed]",
      "text/plain": [
       "<Figure size 432x288 with 1 Axes>"
      ]
     },
     "metadata": {
      "needs_background": "light"
     },
     "output_type": "display_data"
    }
   ],
   "source": [
    "# No scaling, no outliers\n",
    "ax = plt.gca()\n",
    "ax.set_xlim([-0.23686749999999998, 0.8659844999999999])\n",
    "sns.histplot(df_8['Profit_Margin'], linewidth=0)\n",
    "plt.xlabel('Profit margin (unscaled)')\n",
    "\n",
    "profit = df_8['Profit_Margin']\n",
    "median=profit.median()\n",
    "plt.axvline(median, color='green', linestyle='-', label='Median')\n",
    "mean=profit.mean()\n",
    "ax.axvline(mean, color='orange', linestyle='-', label='Mean')\n",
    "ax.legend()\n",
    "ax.grid(False)\n",
    "plt.title('Distribution WITHOUT outliers, \\n profits are restricted to vary from -0.24 to 0.87', size=14)\n",
    "plt.show()"
   ]
  },
  {
   "cell_type": "code",
   "execution_count": 124,
   "id": "ef593aa6",
   "metadata": {},
   "outputs": [
    {
     "data": {
      "text/plain": [
       "0.25    0.176702\n",
       "0.75    0.452415\n",
       "Name: Profit_Margin, dtype: float64"
      ]
     },
     "execution_count": 124,
     "metadata": {},
     "output_type": "execute_result"
    }
   ],
   "source": [
    "df_8['Profit_Margin'].quantile([0.25, 0.75], interpolation='nearest')"
   ]
  },
  {
   "cell_type": "code",
   "execution_count": 125,
   "id": "9b081106",
   "metadata": {},
   "outputs": [
    {
     "name": "stdout",
     "output_type": "stream",
     "text": [
      "Minimum is  -0.23686749999999998 \n",
      "Maximum is  0.8659844999999999 \n",
      "Medium is  0.3302148148148148\n"
     ]
    }
   ],
   "source": [
    "# Calculate the minimum and maximum bounds aside outliers\n",
    "q1 = 0.176702\n",
    "q3 = 0.452415\n",
    "minimum = q1 - 1.5*(q3-q1)\n",
    "maximum = q3 + 1.5*(q3-q1)\n",
    "\n",
    "print('Minimum is ', str(minimum), '\\nMaximum is ', str(maximum), '\\nMedium is ', str(df_8['Profit_Margin'].median()))"
   ]
  },
  {
   "cell_type": "code",
   "execution_count": 126,
   "id": "d17a720c",
   "metadata": {},
   "outputs": [
    {
     "data": {
      "text/plain": [
       "<AxesSubplot:>"
      ]
     },
     "execution_count": 126,
     "metadata": {},
     "output_type": "execute_result"
    },
    {
     "data": {
      "image/png": "[encoded data removed]",
      "text/plain": [
       "<Figure size 432x288 with 1 Axes>"
      ]
     },
     "metadata": {
      "needs_background": "light"
     },
     "output_type": "display_data"
    }
   ],
   "source": [
    "# Boxplot with outliers\n",
    "df_8.boxplot('Profit_Margin', showfliers=True)"
   ]
  },
  {
   "cell_type": "code",
   "execution_count": 127,
   "id": "4cbc13bb",
   "metadata": {},
   "outputs": [
    {
     "data": {
      "text/plain": [
       "<AxesSubplot:>"
      ]
     },
     "execution_count": 127,
     "metadata": {},
     "output_type": "execute_result"
    },
    {
     "data": {
      "image/png": "[encoded data removed]",
      "text/plain": [
       "<Figure size 432x288 with 1 Axes>"
      ]
     },
     "metadata": {
      "needs_background": "light"
     },
     "output_type": "display_data"
    }
   ],
   "source": [
    "# Boxplot without outliers\n",
    "df_8.boxplot('Profit_Margin', showfliers=False)"
   ]
  },
  {
   "cell_type": "code",
   "execution_count": 128,
   "id": "d964d961",
   "metadata": {},
   "outputs": [
    {
     "data": {
      "text/html": [
       "<div>\n",
       "<style scoped>\n",
       "    .dataframe tbody tr th:only-of-type {\n",
       "        vertical-align: middle;\n",
       "    }\n",
       "\n",
       "    .dataframe tbody tr th {\n",
       "        vertical-align: top;\n",
       "    }\n",
       "\n",
       "    .dataframe thead th {\n",
       "        text-align: right;\n",
       "    }\n",
       "</style>\n",
       "<table border=\"1\" class=\"dataframe\">\n",
       "  <thead>\n",
       "    <tr style=\"text-align: right;\">\n",
       "      <th></th>\n",
       "      <th>Project_ID</th>\n",
       "      <th>Profit_Margin</th>\n",
       "      <th>Country</th>\n",
       "      <th>Sector</th>\n",
       "      <th>Project_Director</th>\n",
       "      <th>Manager_ID</th>\n",
       "      <th>Office</th>\n",
       "      <th>Project_Start_Date</th>\n",
       "      <th>Project_End_Date</th>\n",
       "      <th>Due_Date</th>\n",
       "      <th>Project_Size_Sort_Order</th>\n",
       "      <th>Is_Multi_Discipline_Project</th>\n",
       "      <th>Is_First_Client_Project</th>\n",
       "      <th>Perc_of_Subcontractors</th>\n",
       "      <th>Is_Front_Loaded</th>\n",
       "      <th>Project_Duration_Weeks</th>\n",
       "      <th>Delivered_on_Time</th>\n",
       "    </tr>\n",
       "  </thead>\n",
       "  <tbody>\n",
       "    <tr>\n",
       "      <th>0</th>\n",
       "      <td>367704</td>\n",
       "      <td>0.085710</td>\n",
       "      <td>Australia</td>\n",
       "      <td>Ports &amp; Marine</td>\n",
       "      <td>Mark Gilbert</td>\n",
       "      <td>7612852</td>\n",
       "      <td>Whyalla</td>\n",
       "      <td>2015-07-01</td>\n",
       "      <td>2015-08-01</td>\n",
       "      <td>2019-07-31</td>\n",
       "      <td>4</td>\n",
       "      <td>0</td>\n",
       "      <td>1</td>\n",
       "      <td>0.0</td>\n",
       "      <td>True</td>\n",
       "      <td>4.0</td>\n",
       "      <td>True</td>\n",
       "    </tr>\n",
       "    <tr>\n",
       "      <th>1</th>\n",
       "      <td>367705</td>\n",
       "      <td>0.626269</td>\n",
       "      <td>Australia</td>\n",
       "      <td>Civic &amp; Education Buildings</td>\n",
       "      <td>Geoff Wallbridge</td>\n",
       "      <td>7612773</td>\n",
       "      <td>WGASA Pty Ltd</td>\n",
       "      <td>2010-05-31</td>\n",
       "      <td>2018-04-23</td>\n",
       "      <td>2018-04-23</td>\n",
       "      <td>1</td>\n",
       "      <td>0</td>\n",
       "      <td>1</td>\n",
       "      <td>0.0</td>\n",
       "      <td>False</td>\n",
       "      <td>412.0</td>\n",
       "      <td>True</td>\n",
       "    </tr>\n",
       "    <tr>\n",
       "      <th>2</th>\n",
       "      <td>367706</td>\n",
       "      <td>0.483591</td>\n",
       "      <td>Australia</td>\n",
       "      <td>Civic &amp; Education Buildings</td>\n",
       "      <td>Loreto Taglienti</td>\n",
       "      <td>7612773</td>\n",
       "      <td>WGASA Pty Ltd</td>\n",
       "      <td>2017-02-06</td>\n",
       "      <td>2017-02-07</td>\n",
       "      <td>2017-02-07</td>\n",
       "      <td>1</td>\n",
       "      <td>0</td>\n",
       "      <td>1</td>\n",
       "      <td>0.0</td>\n",
       "      <td>False</td>\n",
       "      <td>0.0</td>\n",
       "      <td>True</td>\n",
       "    </tr>\n",
       "    <tr>\n",
       "      <th>3</th>\n",
       "      <td>367707</td>\n",
       "      <td>0.005829</td>\n",
       "      <td>Australia</td>\n",
       "      <td>Commercial &amp; Retail Buildings</td>\n",
       "      <td>Mark Gilbert</td>\n",
       "      <td>7612773</td>\n",
       "      <td>WGASA Pty Ltd</td>\n",
       "      <td>2009-12-31</td>\n",
       "      <td>2017-04-21</td>\n",
       "      <td>2017-04-21</td>\n",
       "      <td>3</td>\n",
       "      <td>0</td>\n",
       "      <td>1</td>\n",
       "      <td>0.0</td>\n",
       "      <td>False</td>\n",
       "      <td>381.0</td>\n",
       "      <td>True</td>\n",
       "    </tr>\n",
       "    <tr>\n",
       "      <th>4</th>\n",
       "      <td>367708</td>\n",
       "      <td>-0.123592</td>\n",
       "      <td>Australia</td>\n",
       "      <td>Civic &amp; Education Buildings</td>\n",
       "      <td>Peter McBean</td>\n",
       "      <td>7612695</td>\n",
       "      <td>WGASA Pty Ltd</td>\n",
       "      <td>2009-12-31</td>\n",
       "      <td>2017-09-07</td>\n",
       "      <td>2017-09-07</td>\n",
       "      <td>7</td>\n",
       "      <td>0</td>\n",
       "      <td>1</td>\n",
       "      <td>0.0</td>\n",
       "      <td>False</td>\n",
       "      <td>401.0</td>\n",
       "      <td>True</td>\n",
       "    </tr>\n",
       "    <tr>\n",
       "      <th>...</th>\n",
       "      <td>...</td>\n",
       "      <td>...</td>\n",
       "      <td>...</td>\n",
       "      <td>...</td>\n",
       "      <td>...</td>\n",
       "      <td>...</td>\n",
       "      <td>...</td>\n",
       "      <td>...</td>\n",
       "      <td>...</td>\n",
       "      <td>...</td>\n",
       "      <td>...</td>\n",
       "      <td>...</td>\n",
       "      <td>...</td>\n",
       "      <td>...</td>\n",
       "      <td>...</td>\n",
       "      <td>...</td>\n",
       "      <td>...</td>\n",
       "    </tr>\n",
       "    <tr>\n",
       "      <th>6638</th>\n",
       "      <td>1420741</td>\n",
       "      <td>0.379593</td>\n",
       "      <td>Australia</td>\n",
       "      <td>Resources</td>\n",
       "      <td>Russell Perry</td>\n",
       "      <td>7612939</td>\n",
       "      <td>WGASA Pty Ltd</td>\n",
       "      <td>2022-02-22</td>\n",
       "      <td>2022-03-07</td>\n",
       "      <td>2022-02-24</td>\n",
       "      <td>2</td>\n",
       "      <td>0</td>\n",
       "      <td>0</td>\n",
       "      <td>0.0</td>\n",
       "      <td>False</td>\n",
       "      <td>1.0</td>\n",
       "      <td>True</td>\n",
       "    </tr>\n",
       "    <tr>\n",
       "      <th>6639</th>\n",
       "      <td>1420788</td>\n",
       "      <td>0.291487</td>\n",
       "      <td>Australia</td>\n",
       "      <td>Health &amp; Aged Care</td>\n",
       "      <td>Mark Gobolos</td>\n",
       "      <td>9683807</td>\n",
       "      <td>WGAVIC Pty Ltd</td>\n",
       "      <td>2022-02-23</td>\n",
       "      <td>2022-02-23</td>\n",
       "      <td>2022-02-25</td>\n",
       "      <td>1</td>\n",
       "      <td>0</td>\n",
       "      <td>0</td>\n",
       "      <td>0.0</td>\n",
       "      <td>False</td>\n",
       "      <td>0.0</td>\n",
       "      <td>True</td>\n",
       "    </tr>\n",
       "    <tr>\n",
       "      <th>6640</th>\n",
       "      <td>1421714</td>\n",
       "      <td>0.470186</td>\n",
       "      <td>Australia</td>\n",
       "      <td>Ports &amp; Marine</td>\n",
       "      <td>David McKay</td>\n",
       "      <td>7613114</td>\n",
       "      <td>WGASA Pty Ltd</td>\n",
       "      <td>2022-02-24</td>\n",
       "      <td>2022-02-24</td>\n",
       "      <td>2022-04-07</td>\n",
       "      <td>1</td>\n",
       "      <td>0</td>\n",
       "      <td>0</td>\n",
       "      <td>0.0</td>\n",
       "      <td>False</td>\n",
       "      <td>0.0</td>\n",
       "      <td>True</td>\n",
       "    </tr>\n",
       "    <tr>\n",
       "      <th>6641</th>\n",
       "      <td>1458083</td>\n",
       "      <td>0.321337</td>\n",
       "      <td>Australia</td>\n",
       "      <td>Health &amp; Aged Care</td>\n",
       "      <td>Mark Gobolos</td>\n",
       "      <td>7612775</td>\n",
       "      <td>WGASA Pty Ltd</td>\n",
       "      <td>2022-03-21</td>\n",
       "      <td>2022-03-21</td>\n",
       "      <td>2022-04-04</td>\n",
       "      <td>1</td>\n",
       "      <td>0</td>\n",
       "      <td>0</td>\n",
       "      <td>0.0</td>\n",
       "      <td>False</td>\n",
       "      <td>0.0</td>\n",
       "      <td>True</td>\n",
       "    </tr>\n",
       "    <tr>\n",
       "      <th>6642</th>\n",
       "      <td>1458451</td>\n",
       "      <td>0.779200</td>\n",
       "      <td>Australia</td>\n",
       "      <td>Commercial &amp; Retail Buildings</td>\n",
       "      <td>Andrew Woods</td>\n",
       "      <td>7612688</td>\n",
       "      <td>WGASA Pty Ltd</td>\n",
       "      <td>2022-03-25</td>\n",
       "      <td>2022-04-01</td>\n",
       "      <td>2022-03-23</td>\n",
       "      <td>1</td>\n",
       "      <td>0</td>\n",
       "      <td>0</td>\n",
       "      <td>0.0</td>\n",
       "      <td>True</td>\n",
       "      <td>1.0</td>\n",
       "      <td>True</td>\n",
       "    </tr>\n",
       "  </tbody>\n",
       "</table>\n",
       "<p>6643 rows × 17 columns</p>\n",
       "</div>"
      ],
      "text/plain": [
       "      Project_ID  Profit_Margin    Country                         Sector  \\\n",
       "0         367704       0.085710  Australia                 Ports & Marine   \n",
       "1         367705       0.626269  Australia    Civic & Education Buildings   \n",
       "2         367706       0.483591  Australia    Civic & Education Buildings   \n",
       "3         367707       0.005829  Australia  Commercial & Retail Buildings   \n",
       "4         367708      -0.123592  Australia    Civic & Education Buildings   \n",
       "...          ...            ...        ...                            ...   \n",
       "6638     1420741       0.379593  Australia                      Resources   \n",
       "6639     1420788       0.291487  Australia             Health & Aged Care   \n",
       "6640     1421714       0.470186  Australia                 Ports & Marine   \n",
       "6641     1458083       0.321337  Australia             Health & Aged Care   \n",
       "6642     1458451       0.779200  Australia  Commercial & Retail Buildings   \n",
       "\n",
       "      Project_Director  Manager_ID          Office Project_Start_Date  \\\n",
       "0         Mark Gilbert     7612852         Whyalla         2015-07-01   \n",
       "1     Geoff Wallbridge     7612773   WGASA Pty Ltd         2010-05-31   \n",
       "2     Loreto Taglienti     7612773   WGASA Pty Ltd         2017-02-06   \n",
       "3         Mark Gilbert     7612773   WGASA Pty Ltd         2009-12-31   \n",
       "4         Peter McBean     7612695   WGASA Pty Ltd         2009-12-31   \n",
       "...                ...         ...             ...                ...   \n",
       "6638     Russell Perry     7612939   WGASA Pty Ltd         2022-02-22   \n",
       "6639      Mark Gobolos     9683807  WGAVIC Pty Ltd         2022-02-23   \n",
       "6640       David McKay     7613114   WGASA Pty Ltd         2022-02-24   \n",
       "6641      Mark Gobolos     7612775   WGASA Pty Ltd         2022-03-21   \n",
       "6642      Andrew Woods     7612688   WGASA Pty Ltd         2022-03-25   \n",
       "\n",
       "     Project_End_Date   Due_Date  Project_Size_Sort_Order  \\\n",
       "0          2015-08-01 2019-07-31                        4   \n",
       "1          2018-04-23 2018-04-23                        1   \n",
       "2          2017-02-07 2017-02-07                        1   \n",
       "3          2017-04-21 2017-04-21                        3   \n",
       "4          2017-09-07 2017-09-07                        7   \n",
       "...               ...        ...                      ...   \n",
       "6638       2022-03-07 2022-02-24                        2   \n",
       "6639       2022-02-23 2022-02-25                        1   \n",
       "6640       2022-02-24 2022-04-07                        1   \n",
       "6641       2022-03-21 2022-04-04                        1   \n",
       "6642       2022-04-01 2022-03-23                        1   \n",
       "\n",
       "      Is_Multi_Discipline_Project  Is_First_Client_Project  \\\n",
       "0                               0                        1   \n",
       "1                               0                        1   \n",
       "2                               0                        1   \n",
       "3                               0                        1   \n",
       "4                               0                        1   \n",
       "...                           ...                      ...   \n",
       "6638                            0                        0   \n",
       "6639                            0                        0   \n",
       "6640                            0                        0   \n",
       "6641                            0                        0   \n",
       "6642                            0                        0   \n",
       "\n",
       "      Perc_of_Subcontractors Is_Front_Loaded  Project_Duration_Weeks  \\\n",
       "0                        0.0            True                     4.0   \n",
       "1                        0.0           False                   412.0   \n",
       "2                        0.0           False                     0.0   \n",
       "3                        0.0           False                   381.0   \n",
       "4                        0.0           False                   401.0   \n",
       "...                      ...             ...                     ...   \n",
       "6638                     0.0           False                     1.0   \n",
       "6639                     0.0           False                     0.0   \n",
       "6640                     0.0           False                     0.0   \n",
       "6641                     0.0           False                     0.0   \n",
       "6642                     0.0            True                     1.0   \n",
       "\n",
       "     Delivered_on_Time  \n",
       "0                 True  \n",
       "1                 True  \n",
       "2                 True  \n",
       "3                 True  \n",
       "4                 True  \n",
       "...                ...  \n",
       "6638              True  \n",
       "6639              True  \n",
       "6640              True  \n",
       "6641              True  \n",
       "6642              True  \n",
       "\n",
       "[6643 rows x 17 columns]"
      ]
     },
     "execution_count": 128,
     "metadata": {},
     "output_type": "execute_result"
    }
   ],
   "source": [
    "# Add the 'Profit_Margin' to the 'Projects' table\n",
    "projects = pd.merge(df_8, projects, how='left', on='Project_ID')\n",
    "projects.drop(['Invoice_Value_Total', 'Actual_Cost_Total', 'Project_Status'], axis=1, inplace = True)\n",
    "projects"
   ]
  },
  {
   "cell_type": "markdown",
   "id": "ceed40f7",
   "metadata": {},
   "source": [
    "## 3. <a class=\"anchor\" id=\"3\"></a> Staff & teams"
   ]
  },
  {
   "cell_type": "markdown",
   "id": "eb9e0f48",
   "metadata": {},
   "source": [
    "This section resulted in *aec.staff* table in RDS for Client X."
   ]
  },
  {
   "cell_type": "code",
   "execution_count": 165,
   "id": "d70a064e",
   "metadata": {},
   "outputs": [
    {
     "data": {
      "text/html": [
       "<div>\n",
       "<style scoped>\n",
       "    .dataframe tbody tr th:only-of-type {\n",
       "        vertical-align: middle;\n",
       "    }\n",
       "\n",
       "    .dataframe tbody tr th {\n",
       "        vertical-align: top;\n",
       "    }\n",
       "\n",
       "    .dataframe thead th {\n",
       "        text-align: right;\n",
       "    }\n",
       "</style>\n",
       "<table border=\"1\" class=\"dataframe\">\n",
       "  <thead>\n",
       "    <tr style=\"text-align: right;\">\n",
       "      <th></th>\n",
       "      <th>Staff_ID</th>\n",
       "      <th>Staff_Name</th>\n",
       "      <th>Synergy_Team</th>\n",
       "      <th>Employment_Months</th>\n",
       "      <th>Employment_Date</th>\n",
       "      <th>Termination_Date</th>\n",
       "    </tr>\n",
       "  </thead>\n",
       "  <tbody>\n",
       "    <tr>\n",
       "      <th>0</th>\n",
       "      <td>7612683</td>\n",
       "      <td>Mel Chittleborough</td>\n",
       "      <td>SA - Finance</td>\n",
       "      <td>264.0</td>\n",
       "      <td>2000-09-25</td>\n",
       "      <td>NaT</td>\n",
       "    </tr>\n",
       "    <tr>\n",
       "      <th>1</th>\n",
       "      <td>7612686</td>\n",
       "      <td>Andrew Woods</td>\n",
       "      <td>SA - Buildings</td>\n",
       "      <td>437.0</td>\n",
       "      <td>1986-04-25</td>\n",
       "      <td>NaT</td>\n",
       "    </tr>\n",
       "    <tr>\n",
       "      <th>2</th>\n",
       "      <td>7612687</td>\n",
       "      <td>Adam Fairhead</td>\n",
       "      <td>SA - Buildings</td>\n",
       "      <td>200.0</td>\n",
       "      <td>2006-01-08</td>\n",
       "      <td>NaT</td>\n",
       "    </tr>\n",
       "    <tr>\n",
       "      <th>3</th>\n",
       "      <td>7612688</td>\n",
       "      <td>Alex Granegger Carneiro</td>\n",
       "      <td>SA - Buildings</td>\n",
       "      <td>252.0</td>\n",
       "      <td>2001-09-17</td>\n",
       "      <td>NaT</td>\n",
       "    </tr>\n",
       "    <tr>\n",
       "      <th>4</th>\n",
       "      <td>7612691</td>\n",
       "      <td>Alex Lloyd</td>\n",
       "      <td>SA - Civil</td>\n",
       "      <td>178.0</td>\n",
       "      <td>2007-11-12</td>\n",
       "      <td>NaT</td>\n",
       "    </tr>\n",
       "    <tr>\n",
       "      <th>...</th>\n",
       "      <td>...</td>\n",
       "      <td>...</td>\n",
       "      <td>...</td>\n",
       "      <td>...</td>\n",
       "      <td>...</td>\n",
       "      <td>...</td>\n",
       "    </tr>\n",
       "    <tr>\n",
       "      <th>820</th>\n",
       "      <td>10019349</td>\n",
       "      <td>Tori Davidson</td>\n",
       "      <td>SA - Industrial</td>\n",
       "      <td>1.0</td>\n",
       "      <td>2022-02-01</td>\n",
       "      <td>2022-03-18</td>\n",
       "    </tr>\n",
       "    <tr>\n",
       "      <th>821</th>\n",
       "      <td>10053476</td>\n",
       "      <td>Delete Delete</td>\n",
       "      <td>WA - Structural</td>\n",
       "      <td>0.0</td>\n",
       "      <td>2022-01-01</td>\n",
       "      <td>2022-01-01</td>\n",
       "    </tr>\n",
       "    <tr>\n",
       "      <th>822</th>\n",
       "      <td>10069064</td>\n",
       "      <td>Rianna Radocchia</td>\n",
       "      <td>WA - Project Delivery Services</td>\n",
       "      <td>1.0</td>\n",
       "      <td>2022-03-14</td>\n",
       "      <td>2022-05-06</td>\n",
       "    </tr>\n",
       "    <tr>\n",
       "      <th>823</th>\n",
       "      <td>10077594</td>\n",
       "      <td>Michael Salib</td>\n",
       "      <td>WA - Project Delivery Services</td>\n",
       "      <td>0.0</td>\n",
       "      <td>2022-04-26</td>\n",
       "      <td>2022-04-26</td>\n",
       "    </tr>\n",
       "    <tr>\n",
       "      <th>824</th>\n",
       "      <td>10181077</td>\n",
       "      <td>Chipo Dauya</td>\n",
       "      <td>WA - Civil</td>\n",
       "      <td>0.0</td>\n",
       "      <td>2022-03-28</td>\n",
       "      <td>2022-03-28</td>\n",
       "    </tr>\n",
       "  </tbody>\n",
       "</table>\n",
       "<p>825 rows × 6 columns</p>\n",
       "</div>"
      ],
      "text/plain": [
       "     Staff_ID               Staff_Name                    Synergy_Team  \\\n",
       "0     7612683       Mel Chittleborough                    SA - Finance   \n",
       "1     7612686             Andrew Woods                  SA - Buildings   \n",
       "2     7612687            Adam Fairhead                  SA - Buildings   \n",
       "3     7612688  Alex Granegger Carneiro                  SA - Buildings   \n",
       "4     7612691               Alex Lloyd                      SA - Civil   \n",
       "..        ...                      ...                             ...   \n",
       "820  10019349            Tori Davidson                 SA - Industrial   \n",
       "821  10053476            Delete Delete                 WA - Structural   \n",
       "822  10069064         Rianna Radocchia  WA - Project Delivery Services   \n",
       "823  10077594            Michael Salib  WA - Project Delivery Services   \n",
       "824  10181077              Chipo Dauya                      WA - Civil   \n",
       "\n",
       "     Employment_Months Employment_Date Termination_Date  \n",
       "0                264.0      2000-09-25              NaT  \n",
       "1                437.0      1986-04-25              NaT  \n",
       "2                200.0      2006-01-08              NaT  \n",
       "3                252.0      2001-09-17              NaT  \n",
       "4                178.0      2007-11-12              NaT  \n",
       "..                 ...             ...              ...  \n",
       "820                1.0      2022-02-01       2022-03-18  \n",
       "821                0.0      2022-01-01       2022-01-01  \n",
       "822                1.0      2022-03-14       2022-05-06  \n",
       "823                0.0      2022-04-26       2022-04-26  \n",
       "824                0.0      2022-03-28       2022-03-28  \n",
       "\n",
       "[825 rows x 6 columns]"
      ]
     },
     "execution_count": 165,
     "metadata": {},
     "output_type": "execute_result"
    }
   ],
   "source": [
    "active = pd.read_csv('csv-files/wga_synergy_overnight_1_staff.csv', parse_dates=['Employment Date'], dayfirst=True)\n",
    "active = active[['Staff ID', 'Staff Name', 'Employment Date', 'Synergy Team']]\n",
    "active['Employment Date'] = pd.to_datetime(active['Employment Date'])\n",
    "active['Employment Months'] = ((datetime.now() - active['Employment Date']).astype('timedelta64[M]'))\n",
    "active.columns = active.columns.str.replace(' ', '_')\n",
    "\n",
    "leavers = pd.read_csv('csv-files/wga_synergy_overnight_1_staff_-_leavers.csv', parse_dates=['Employment Date', 'Termination Date'], dayfirst=True)\n",
    "leavers = leavers[['Staff ID', 'Staff Name', 'Employment Date', 'Termination Date', 'Synergy Team']]\n",
    "leavers['Employment Date'] = pd.to_datetime(leavers['Employment Date'])\n",
    "leavers['Termination Date'] = pd.to_datetime(leavers['Termination Date'])\n",
    "leavers['Employment Months'] = ((leavers['Termination Date'] - leavers['Employment Date']).astype('timedelta64[M]'))\n",
    "leavers.columns = leavers.columns.str.replace(' ', '_')\n",
    "\n",
    "staff = pd.concat([active, leavers], axis = 0, ignore_index = True) # axis=0 specifies vertical stacking\n",
    "staff = staff[['Staff_ID', 'Staff_Name', 'Synergy_Team', 'Employment_Months', 'Employment_Date', 'Termination_Date']]\n",
    "staff"
   ]
  },
  {
   "cell_type": "markdown",
   "id": "280d9b54",
   "metadata": {},
   "source": [
    "**4 features to engineer and move them all to 'Projects' table:**\n",
    "* Director_Empl_Months \n",
    "* Manager_Empl_Months\n",
    "* Manager_Is_Recent\n",
    "* Director_Is_Recent\n",
    "<br>\n",
    "<br>\n",
    "* Team_Size\n",
    "* Perc_Team_Recent\n",
    "* Is_Multi_Team\n",
    "* Num_Teams_Involved"
   ]
  },
  {
   "cell_type": "code",
   "execution_count": null,
   "id": "8ec21529",
   "metadata": {},
   "outputs": [],
   "source": [
    "# Director_Is_Recent, Director_Empl_Months\n",
    "\n",
    "directors = projects[['Project_ID', 'Project_Director', 'Project_Start_Date']]\n",
    "directors = pd.merge(directors, staff, how='left', left_on='Project_Director', right_on='Staff_Name')\n",
    "directors.rename(columns = {'Synergy_Team':'Director_Team', 'Employment_Months':'Director_Empl_Months'}, inplace = True)\n",
    "directors['Months_Before_Project'] = (directors['Project_Start_Date'] - directors['Employment_Date']).astype('timedelta64[M]')\n",
    "directors.drop(columns = ['Staff_Name', 'Project_Start_Date'], inplace = True)\n",
    "\n",
    "Director_Is_Recent = {}\n",
    "\n",
    "for months in directors['Months_Before_Project']:\n",
    "    if np.isnan(months) == True:\n",
    "        continue\n",
    "    else:\n",
    "        if months < 6:\n",
    "            Director_Is_Recent[months] = True\n",
    "        else:\n",
    "            Director_Is_Recent[months] = False\n",
    "        \n",
    "df_13 = pd.DataFrame([{'Months_Before_Project': months, 'Director_Is_Recent': recent_status} for (months, recent_status) in Director_Is_Recent.items()])\n",
    "\n",
    "directors = pd.merge(directors, df_13, how ='left', on='Months_Before_Project')\n",
    "directors.drop(columns = ['Employment_Date', 'Termination_Date', 'Months_Before_Project'], inplace = True)\n",
    "projects = pd.merge(projects, directors, how ='left', on=['Project_ID', 'Project_Director'])\n",
    "projects.rename(columns = {'Staff_ID':'Director_ID'}, inplace = True)\n",
    "projects.drop(columns = 'Project_Director', inplace = True)\n",
    "len(projects)"
   ]
  },
  {
   "cell_type": "code",
   "execution_count": 167,
   "id": "71d1d9cd",
   "metadata": {},
   "outputs": [
    {
     "data": {
      "text/plain": [
       "6643"
      ]
     },
     "execution_count": 167,
     "metadata": {},
     "output_type": "execute_result"
    }
   ],
   "source": [
    "# Manager_Is_Recent, Manager_Empl_Months\n",
    "\n",
    "managers = projects[['Project_ID', 'Manager_ID', 'Project_Start_Date']]\n",
    "managers = pd.merge(managers, staff, how='left', left_on='Manager_ID', right_on='Staff_ID')\n",
    "managers.rename(columns = {'Synergy_Team':'Manager_Team', 'Employment_Months':'Manager_Empl_Months'}, inplace = True)\n",
    "managers['Months_Before_Project'] = (managers['Project_Start_Date'] - managers['Employment_Date']).astype('timedelta64[M]')\n",
    "managers.drop(columns = ['Staff_ID', 'Staff_Name', 'Project_Start_Date'], inplace = True)  \n",
    "\n",
    "Manager_Is_Recent = {}\n",
    "\n",
    "for months in managers['Months_Before_Project']:\n",
    "    if np.isnan(months) == True:\n",
    "        continue\n",
    "    else:\n",
    "        if months < 6:\n",
    "            Manager_Is_Recent[months] = True\n",
    "        else:\n",
    "            Manager_Is_Recent[months] = False\n",
    "        \n",
    "df_14 = pd.DataFrame([{'Months_Before_Project': months, 'Manager_Is_Recent': recent_status} for (months, recent_status) in Manager_Is_Recent.items()])\n",
    "\n",
    "managers = pd.merge(managers, df_14, how ='left', on='Months_Before_Project')\n",
    "managers = managers[['Project_ID', 'Manager_ID', 'Manager_Team', 'Manager_Empl_Months', 'Manager_Is_Recent']]\n",
    "\n",
    "projects = pd.merge(projects, managers, how ='left', on=['Project_ID', 'Manager_ID'])\n",
    "len(projects)"
   ]
  },
  {
   "cell_type": "code",
   "execution_count": 169,
   "id": "7c3ef6ab",
   "metadata": {},
   "outputs": [
    {
     "data": {
      "text/plain": [
       "numpy.int64"
      ]
     },
     "execution_count": 169,
     "metadata": {},
     "output_type": "execute_result"
    }
   ],
   "source": [
    "type(staff['Staff_ID'][0])"
   ]
  },
  {
   "cell_type": "code",
   "execution_count": 170,
   "id": "a9325549",
   "metadata": {},
   "outputs": [
    {
     "data": {
      "text/plain": [
       "numpy.float64"
      ]
     },
     "execution_count": 170,
     "metadata": {},
     "output_type": "execute_result"
    }
   ],
   "source": [
    "type(transactions['Staff_ID'][0])"
   ]
  },
  {
   "cell_type": "code",
   "execution_count": 176,
   "id": "08261617",
   "metadata": {},
   "outputs": [
    {
     "data": {
      "text/html": [
       "<div>\n",
       "<style scoped>\n",
       "    .dataframe tbody tr th:only-of-type {\n",
       "        vertical-align: middle;\n",
       "    }\n",
       "\n",
       "    .dataframe tbody tr th {\n",
       "        vertical-align: top;\n",
       "    }\n",
       "\n",
       "    .dataframe thead th {\n",
       "        text-align: right;\n",
       "    }\n",
       "</style>\n",
       "<table border=\"1\" class=\"dataframe\">\n",
       "  <thead>\n",
       "    <tr style=\"text-align: right;\">\n",
       "      <th></th>\n",
       "      <th>Project_ID</th>\n",
       "      <th>Staff_ID</th>\n",
       "      <th>Transaction_Type</th>\n",
       "      <th>Invoice_Value_Total</th>\n",
       "      <th>Actual_Cost_Total</th>\n",
       "      <th>Units</th>\n",
       "      <th>Rate_Type</th>\n",
       "      <th>Date</th>\n",
       "    </tr>\n",
       "  </thead>\n",
       "  <tbody>\n",
       "    <tr>\n",
       "      <th>32</th>\n",
       "      <td>375778</td>\n",
       "      <td>NaN</td>\n",
       "      <td>Office</td>\n",
       "      <td>-14189.0</td>\n",
       "      <td>0.0000</td>\n",
       "      <td>1.0000</td>\n",
       "      <td>Office expense</td>\n",
       "      <td>2021-08-31</td>\n",
       "    </tr>\n",
       "    <tr>\n",
       "      <th>144</th>\n",
       "      <td>827515</td>\n",
       "      <td>NaN</td>\n",
       "      <td>Bill</td>\n",
       "      <td>0.0</td>\n",
       "      <td>4120.0000</td>\n",
       "      <td>1.0000</td>\n",
       "      <td>Supplier</td>\n",
       "      <td>2021-08-26</td>\n",
       "    </tr>\n",
       "    <tr>\n",
       "      <th>202</th>\n",
       "      <td>896131</td>\n",
       "      <td>NaN</td>\n",
       "      <td>Balance</td>\n",
       "      <td>454.5</td>\n",
       "      <td>0.0000</td>\n",
       "      <td>0.0000</td>\n",
       "      <td>System</td>\n",
       "      <td>2021-09-16</td>\n",
       "    </tr>\n",
       "    <tr>\n",
       "      <th>238</th>\n",
       "      <td>1046499</td>\n",
       "      <td>NaN</td>\n",
       "      <td>Balance</td>\n",
       "      <td>435.0</td>\n",
       "      <td>0.0000</td>\n",
       "      <td>0.0000</td>\n",
       "      <td>System</td>\n",
       "      <td>2021-09-17</td>\n",
       "    </tr>\n",
       "    <tr>\n",
       "      <th>258</th>\n",
       "      <td>1074576</td>\n",
       "      <td>NaN</td>\n",
       "      <td>Bill</td>\n",
       "      <td>3125.0</td>\n",
       "      <td>3125.0000</td>\n",
       "      <td>1.0000</td>\n",
       "      <td>Supplier</td>\n",
       "      <td>2021-08-24</td>\n",
       "    </tr>\n",
       "    <tr>\n",
       "      <th>...</th>\n",
       "      <td>...</td>\n",
       "      <td>...</td>\n",
       "      <td>...</td>\n",
       "      <td>...</td>\n",
       "      <td>...</td>\n",
       "      <td>...</td>\n",
       "      <td>...</td>\n",
       "      <td>...</td>\n",
       "    </tr>\n",
       "    <tr>\n",
       "      <th>547546</th>\n",
       "      <td>756305</td>\n",
       "      <td>NaN</td>\n",
       "      <td>Bill</td>\n",
       "      <td>2730.0</td>\n",
       "      <td>2730.0000</td>\n",
       "      <td>1.0000</td>\n",
       "      <td>Supplier</td>\n",
       "      <td>2022-02-28</td>\n",
       "    </tr>\n",
       "    <tr>\n",
       "      <th>547548</th>\n",
       "      <td>756305</td>\n",
       "      <td>NaN</td>\n",
       "      <td>Bill</td>\n",
       "      <td>25.0</td>\n",
       "      <td>25.0000</td>\n",
       "      <td>1.0000</td>\n",
       "      <td>Supplier</td>\n",
       "      <td>2022-01-13</td>\n",
       "    </tr>\n",
       "    <tr>\n",
       "      <th>547549</th>\n",
       "      <td>756305</td>\n",
       "      <td>NaN</td>\n",
       "      <td>Bill</td>\n",
       "      <td>25.0</td>\n",
       "      <td>25.0000</td>\n",
       "      <td>1.0000</td>\n",
       "      <td>Supplier</td>\n",
       "      <td>2022-01-13</td>\n",
       "    </tr>\n",
       "    <tr>\n",
       "      <th>547638</th>\n",
       "      <td>383337</td>\n",
       "      <td>NaN</td>\n",
       "      <td>Bill</td>\n",
       "      <td>0.0</td>\n",
       "      <td>35.1363</td>\n",
       "      <td>1.0000</td>\n",
       "      <td>Supplier</td>\n",
       "      <td>2022-01-01</td>\n",
       "    </tr>\n",
       "    <tr>\n",
       "      <th>547705</th>\n",
       "      <td>1308860</td>\n",
       "      <td>NaN</td>\n",
       "      <td>Bill</td>\n",
       "      <td>0.0</td>\n",
       "      <td>71.6115</td>\n",
       "      <td>0.1746</td>\n",
       "      <td>Supplier</td>\n",
       "      <td>2022-01-04</td>\n",
       "    </tr>\n",
       "  </tbody>\n",
       "</table>\n",
       "<p>20793 rows × 8 columns</p>\n",
       "</div>"
      ],
      "text/plain": [
       "        Project_ID  Staff_ID Transaction_Type  Invoice_Value_Total  \\\n",
       "32          375778       NaN           Office             -14189.0   \n",
       "144         827515       NaN             Bill                  0.0   \n",
       "202         896131       NaN          Balance                454.5   \n",
       "238        1046499       NaN          Balance                435.0   \n",
       "258        1074576       NaN             Bill               3125.0   \n",
       "...            ...       ...              ...                  ...   \n",
       "547546      756305       NaN             Bill               2730.0   \n",
       "547548      756305       NaN             Bill                 25.0   \n",
       "547549      756305       NaN             Bill                 25.0   \n",
       "547638      383337       NaN             Bill                  0.0   \n",
       "547705     1308860       NaN             Bill                  0.0   \n",
       "\n",
       "        Actual_Cost_Total   Units       Rate_Type       Date  \n",
       "32                 0.0000  1.0000  Office expense 2021-08-31  \n",
       "144             4120.0000  1.0000        Supplier 2021-08-26  \n",
       "202                0.0000  0.0000          System 2021-09-16  \n",
       "238                0.0000  0.0000          System 2021-09-17  \n",
       "258             3125.0000  1.0000        Supplier 2021-08-24  \n",
       "...                   ...     ...             ...        ...  \n",
       "547546          2730.0000  1.0000        Supplier 2022-02-28  \n",
       "547548            25.0000  1.0000        Supplier 2022-01-13  \n",
       "547549            25.0000  1.0000        Supplier 2022-01-13  \n",
       "547638            35.1363  1.0000        Supplier 2022-01-01  \n",
       "547705            71.6115  0.1746        Supplier 2022-01-04  \n",
       "\n",
       "[20793 rows x 8 columns]"
      ]
     },
     "execution_count": 176,
     "metadata": {},
     "output_type": "execute_result"
    }
   ],
   "source": [
    "nulls = pd.DataFrame(transactions['Staff_ID'].isnull())\n",
    "nulls.rename(columns = {'Staff_ID':'checker'}, inplace = True)\n",
    "nulls = nulls.loc[nulls['checker'] == True]\n",
    "unrecorded_staff_ids = list(nulls.index.values)\n",
    "nulls = transactions.iloc[unrecorded_staff_ids]\n",
    "nulls"
   ]
  },
  {
   "cell_type": "code",
   "execution_count": 177,
   "id": "03f5dada",
   "metadata": {},
   "outputs": [
    {
     "data": {
      "text/plain": [
       "Bill       11431\n",
       "Office      7718\n",
       "Balance     1644\n",
       "Name: Transaction_Type, dtype: int64"
      ]
     },
     "execution_count": 177,
     "metadata": {},
     "output_type": "execute_result"
    }
   ],
   "source": [
    "nulls['Transaction_Type'].value_counts()"
   ]
  },
  {
   "cell_type": "code",
   "execution_count": 179,
   "id": "cc567c5c",
   "metadata": {},
   "outputs": [
    {
     "data": {
      "text/plain": [
       "526989"
      ]
     },
     "execution_count": 179,
     "metadata": {},
     "output_type": "execute_result"
    }
   ],
   "source": [
    "len(transactions) - len(unrecorded_staff_ids)"
   ]
  },
  {
   "cell_type": "code",
   "execution_count": 184,
   "id": "ee4ebc9c",
   "metadata": {},
   "outputs": [
    {
     "data": {
      "text/plain": [
       "526989"
      ]
     },
     "execution_count": 184,
     "metadata": {},
     "output_type": "execute_result"
    }
   ],
   "source": [
    "transactions = transactions.drop(index=unrecorded_staff_ids)\n",
    "len(transactions)"
   ]
  },
  {
   "cell_type": "code",
   "execution_count": 186,
   "id": "a50c0eb8",
   "metadata": {},
   "outputs": [],
   "source": [
    "transactions['Staff_ID'] = (transactions['Staff_ID'].astype('int64'))\n",
    "teams = pd.merge(transactions, staff, how='left', on='Staff_ID')\n",
    "len(projects) - teams['Project_ID'].nunique()"
   ]
  },
  {
   "cell_type": "code",
   "execution_count": null,
   "id": "e9449d55",
   "metadata": {},
   "outputs": [],
   "source": [
    "# Num_Teams_Involved\n",
    "df_16 = pd.DataFrame(teams.groupby(['Project_ID'])['Synergy_Team'].nunique()).reset_index()\n",
    "df_16.rename(columns = {'Synergy_Team':'Num_Teams_Involved'}, inplace = True)\n",
    "\n",
    "# Is_Multi_Team\n",
    "df_16['Is_Multi_Team'] = (df_16['Num_Teams_Involved'] > 1)\n",
    "df_16['Is_Multi_Team'].value_counts()\n",
    "\n",
    "# Add 'Num_Teams_Involved' and 'Is_Multi_Team' to the 'Projects' table. Missing values will be accounted for in part 8 (pre-processing).\n",
    "projects = pd.merge(projects, df_16, how='left', on='Project_ID')"
   ]
  },
  {
   "cell_type": "code",
   "execution_count": 235,
   "id": "110518da",
   "metadata": {},
   "outputs": [],
   "source": [
    "# Team_Size\n",
    "df_17 = pd.DataFrame(teams.groupby(['Project_ID'])['Staff_ID'].nunique()).reset_index()\n",
    "df_17.rename(columns = {'Staff_ID':'Team_Size'}, inplace = True)\n",
    "projects = pd.merge(projects, df_17, how='left', on='Project_ID')"
   ]
  },
  {
   "cell_type": "code",
   "execution_count": 294,
   "id": "ece246d2",
   "metadata": {},
   "outputs": [
    {
     "data": {
      "text/html": [
       "<div>\n",
       "<style scoped>\n",
       "    .dataframe tbody tr th:only-of-type {\n",
       "        vertical-align: middle;\n",
       "    }\n",
       "\n",
       "    .dataframe tbody tr th {\n",
       "        vertical-align: top;\n",
       "    }\n",
       "\n",
       "    .dataframe thead th {\n",
       "        text-align: right;\n",
       "    }\n",
       "</style>\n",
       "<table border=\"1\" class=\"dataframe\">\n",
       "  <thead>\n",
       "    <tr style=\"text-align: right;\">\n",
       "      <th></th>\n",
       "      <th>Project_ID</th>\n",
       "      <th>Profit_Margin</th>\n",
       "      <th>Country</th>\n",
       "      <th>Sector</th>\n",
       "      <th>Manager_ID</th>\n",
       "      <th>Office</th>\n",
       "      <th>Project_Start_Date</th>\n",
       "      <th>Project_End_Date</th>\n",
       "      <th>Due_Date</th>\n",
       "      <th>Project_Size_Sort_Order</th>\n",
       "      <th>Is_Multi_Discipline_Project</th>\n",
       "      <th>Is_First_Client_Project</th>\n",
       "      <th>Perc_of_Subcontractors</th>\n",
       "      <th>Is_Front_Loaded</th>\n",
       "      <th>Project_Duration_Weeks</th>\n",
       "      <th>Delivered_on_Time</th>\n",
       "      <th>Director_ID</th>\n",
       "      <th>Director_Team</th>\n",
       "      <th>Director_Empl_Months</th>\n",
       "      <th>Director_Is_Recent</th>\n",
       "      <th>Manager_Team_x</th>\n",
       "      <th>Manager_Empl_Months_x</th>\n",
       "      <th>Manager_Is_Recent_x</th>\n",
       "      <th>Manager_Team_y</th>\n",
       "      <th>Manager_Empl_Months_y</th>\n",
       "      <th>Manager_Is_Recent_y</th>\n",
       "      <th>Num_Teams_Involved</th>\n",
       "      <th>Is_Multi_Team</th>\n",
       "      <th>Team_Size</th>\n",
       "      <th>Perc_of_Team_Recent</th>\n",
       "    </tr>\n",
       "  </thead>\n",
       "  <tbody>\n",
       "    <tr>\n",
       "      <th>0</th>\n",
       "      <td>367704</td>\n",
       "      <td>0.08571</td>\n",
       "      <td>Australia</td>\n",
       "      <td>Ports &amp; Marine</td>\n",
       "      <td>7612852</td>\n",
       "      <td>Whyalla</td>\n",
       "      <td>2015-07-01</td>\n",
       "      <td>2015-08-01</td>\n",
       "      <td>2019-07-31</td>\n",
       "      <td>4</td>\n",
       "      <td>0</td>\n",
       "      <td>1</td>\n",
       "      <td>0.0</td>\n",
       "      <td>True</td>\n",
       "      <td>4.0</td>\n",
       "      <td>True</td>\n",
       "      <td>7612709.0</td>\n",
       "      <td>SA - Industrial</td>\n",
       "      <td>434.0</td>\n",
       "      <td>False</td>\n",
       "      <td>SA - Industrial</td>\n",
       "      <td>128.0</td>\n",
       "      <td>False</td>\n",
       "      <td>SA - Industrial</td>\n",
       "      <td>128.0</td>\n",
       "      <td>False</td>\n",
       "      <td>5.0</td>\n",
       "      <td>True</td>\n",
       "      <td>12.0</td>\n",
       "      <td>8.33</td>\n",
       "    </tr>\n",
       "  </tbody>\n",
       "</table>\n",
       "</div>"
      ],
      "text/plain": [
       "   Project_ID  Profit_Margin    Country          Sector  Manager_ID   Office  \\\n",
       "0      367704        0.08571  Australia  Ports & Marine     7612852  Whyalla   \n",
       "\n",
       "  Project_Start_Date Project_End_Date   Due_Date  Project_Size_Sort_Order  \\\n",
       "0         2015-07-01       2015-08-01 2019-07-31                        4   \n",
       "\n",
       "   Is_Multi_Discipline_Project  Is_First_Client_Project  \\\n",
       "0                            0                        1   \n",
       "\n",
       "   Perc_of_Subcontractors Is_Front_Loaded  Project_Duration_Weeks  \\\n",
       "0                     0.0            True                     4.0   \n",
       "\n",
       "  Delivered_on_Time  Director_ID    Director_Team  Director_Empl_Months  \\\n",
       "0              True    7612709.0  SA - Industrial                 434.0   \n",
       "\n",
       "  Director_Is_Recent   Manager_Team_x  Manager_Empl_Months_x  \\\n",
       "0              False  SA - Industrial                  128.0   \n",
       "\n",
       "   Manager_Is_Recent_x   Manager_Team_y  Manager_Empl_Months_y  \\\n",
       "0                False  SA - Industrial                  128.0   \n",
       "\n",
       "   Manager_Is_Recent_y  Num_Teams_Involved Is_Multi_Team  Team_Size  \\\n",
       "0                False                 5.0          True       12.0   \n",
       "\n",
       "   Perc_of_Team_Recent  \n",
       "0                 8.33  "
      ]
     },
     "execution_count": 294,
     "metadata": {},
     "output_type": "execute_result"
    }
   ],
   "source": [
    "# Perc_of_Team_Recent\n",
    "pr_start_dates = pd.DataFrame(projects[['Project_ID', 'Project_Start_Date']])\n",
    "recency = pd.DataFrame(teams[['Project_ID', 'Staff_ID', 'Employment_Date']])\n",
    "recency.drop_duplicates(inplace = True, ignore_index=True)\n",
    "df_19 = pd.merge(recency, pr_start_dates, how='left', on='Project_ID')\n",
    "df_19['Months_Before_Project'] = (df_19['Project_Start_Date'] - df_19['Employment_Date']).astype('timedelta64[M]')\n",
    "df_19 = df_19[['Project_ID', 'Staff_ID', 'Months_Before_Project']]\n",
    "teams = pd.merge(teams, df_19, how ='left', on=['Project_ID', 'Staff_ID'])\n",
    "\n",
    "Staff_Is_Recent = {}\n",
    "\n",
    "for months in df_19['Months_Before_Project']:\n",
    "    if np.isnan(months) == True:\n",
    "        continue\n",
    "    else:\n",
    "        if months < 6:\n",
    "            Staff_Is_Recent[months] = True\n",
    "        else:\n",
    "            Staff_Is_Recent[months] = False\n",
    "        \n",
    "df_20 = pd.DataFrame([{'Months_Before_Project': months, 'Staff_Is_Recent': recency_status} for (months, recency_status) in Staff_Is_Recent.items()])\n",
    "\n",
    "df_21 = pd.merge(teams, df_20, how='left', on='Months_Before_Project')\n",
    "df_21 = df_21[['Project_ID', 'Staff_ID', 'Staff_Is_Recent']]\n",
    "df_21.drop_duplicates(inplace = True, ignore_index=True)\n",
    "df_22 = pd.DataFrame(df_21.groupby(['Project_ID'])['Staff_Is_Recent'].sum()).reset_index()\n",
    "df_22.rename(columns = {'Staff_Is_Recent':'Num_of_Recent_Staff'}, inplace = True)\n",
    "df_22 = pd.merge(df_17, df_22, how='left', on='Project_ID')\n",
    "df_22['Perc_of_Team_Recent'] = ((df_22['Num_of_Recent_Staff'] / df_22['Team_Size'])*100).round(decimals = 2)\n",
    "df_22 = df_22[['Project_ID', 'Perc_of_Team_Recent']]\n",
    "projects = pd.merge(projects, df_22, how='left', on='Project_ID')\n",
    "projects.head(1)"
   ]
  },
  {
   "cell_type": "markdown",
   "id": "2d9cee98",
   "metadata": {},
   "source": [
    "## 4. <a class=\"anchor\" id=\"4\"></a> Stages"
   ]
  },
  {
   "cell_type": "markdown",
   "id": "47e9767b",
   "metadata": {},
   "source": [
    "This section resulted in *aec.stages* table in RDS for Client X."
   ]
  },
  {
   "cell_type": "code",
   "execution_count": null,
   "id": "8e81ec68",
   "metadata": {},
   "outputs": [],
   "source": [
    "# Read only valid projects' stages\n",
    "stages = pd.read_csv('csv-files/wga_power_bi_stages.csv', encoding = 'ISO-8859-1', low_memory=False)\n",
    "stages = (stages[stages['Project ID'].isin(valid_ids)])\n",
    "stages = stages[(stages['Stage Type'] != 'Proposal')] # We only want professional fees\n",
    "stages = stages[['Project ID', 'Stage ID', 'Stage Fee Type', 'Is Disbursement Stage',\n",
    "                 'Stage Manager', 'Stage Discipline','Stage Start Date','Stage End Date']]\n",
    "\n",
    "stages['Is Disbursement Stage'].replace(['No', 'Yes'], [False, True],inplace=True)\n",
    "stages['Stage Start Date'] = pd.to_datetime(stages['Stage Start Date'])\n",
    "stages['Stage End Date'] = pd.to_datetime(stages['Stage End Date'])\n",
    "stages.columns = stages.columns.str.replace(' ', '_')"
   ]
  },
  {
   "cell_type": "code",
   "execution_count": null,
   "id": "698caac6",
   "metadata": {},
   "outputs": [],
   "source": [
    "stages['Project_ID'].nunique()"
   ]
  },
  {
   "cell_type": "code",
   "execution_count": null,
   "id": "c7a5b27c",
   "metadata": {},
   "outputs": [],
   "source": [
    "stages.info()"
   ]
  },
  {
   "cell_type": "code",
   "execution_count": null,
   "id": "0780597b",
   "metadata": {},
   "outputs": [],
   "source": [
    "for column in stages:\n",
    "    if stages[column].dtype == 'object':\n",
    "        print('Max length of column %s: %s\\n' %  (column, stages[column].map(len).max()))"
   ]
  },
  {
   "cell_type": "markdown",
   "id": "18fac5c9",
   "metadata": {},
   "source": [
    "**1 feature to engineer:**\n",
    "* Perc_of_Stages_with_Fixed_Fee"
   ]
  },
  {
   "cell_type": "code",
   "execution_count": null,
   "id": "59292886",
   "metadata": {},
   "outputs": [],
   "source": [
    "# Perc_of_Stages_with_Fixed_Fee\n",
    "df_9 = pd.DataFrame(stages.groupby(['Project_ID', 'Stage_Fee_Type'])['Stage_ID'].count()).reset_index()\n",
    "df_10 = pd.DataFrame(stages.groupby(['Project_ID'])['Stage_Fee_Type'].count()).reset_index()\n",
    "df_10.rename(columns = {'Stage_Fee_Type':'Total_Num_Stages'}, inplace = True)\n",
    "df_10 = pd.merge(df_9, df_10, how='left', on='Project_ID')\n",
    "df_10.rename(columns = {'Stage_ID':'Num_of_Stages_Per_Type'}, inplace = True)\n",
    "df_11 = df_10[(df_10['Stage_Fee_Type'] == 'Fixed fee')]\n",
    "df_11['Perc_of_Stages_with_Fixed_Fee'] = (df_11['Num_of_Stages_Per_Type'] / df_11['Total_Num_Stages']).round(decimals = 2)\n",
    "df_11 = df_11[['Project_ID', 'Perc_of_Stages_with_Fixed_Fee']]\n",
    "all_stages =  pd.merge(df_10, df_11,  how='left', on='Project_ID')\n",
    "all_stages = all_stages.fillna(0)\n",
    "test = pd.merge(stages, all_stages,  how='left', on='Project_ID')\n",
    "test['Perc_of_Stages_with_Fixed_Fee'].isnull().sum()"
   ]
  },
  {
   "cell_type": "code",
   "execution_count": null,
   "id": "a951f6b7",
   "metadata": {},
   "outputs": [],
   "source": [
    "nulls = pd.DataFrame(test['Perc_of_Stages_with_Fixed_Fee'].isnull())\n",
    "nulls.rename(columns = {'Perc_of_Stages_with_Fixed_Fee':'checker'}, inplace = True)\n",
    "nulls = nulls.loc[nulls['checker'] == True]\n",
    "indexes = list(nulls.index.values)\n",
    "nulls = test.iloc[indexes]\n",
    "nulls"
   ]
  },
  {
   "cell_type": "code",
   "execution_count": null,
   "id": "996d05c5",
   "metadata": {},
   "outputs": [],
   "source": [
    "# Since the projects with mising values don't have fixed fee at all, let's fill them with zero\n",
    "test = test.fillna(0)\n",
    "test['Perc_of_Stages_with_Fixed_Fee'].isnull().sum()"
   ]
  },
  {
   "cell_type": "code",
   "execution_count": null,
   "id": "0cb288b1",
   "metadata": {},
   "outputs": [],
   "source": [
    "test = test[['Project_ID', 'Total_Num_Stages', 'Perc_of_Stages_with_Fixed_Fee']]\n",
    "test.drop_duplicates(inplace = True, ignore_index=True)\n",
    "test"
   ]
  },
  {
   "cell_type": "code",
   "execution_count": null,
   "id": "13f5df32",
   "metadata": {},
   "outputs": [],
   "source": [
    "projects = pd.merge(projects, test,  how ='left', on ='Project_ID')\n",
    "projects['Perc_of_Stages_with_Fixed_Fee'].isnull().sum()"
   ]
  },
  {
   "cell_type": "code",
   "execution_count": null,
   "id": "33fb9bea",
   "metadata": {},
   "outputs": [],
   "source": [
    "nulls = pd.DataFrame(projects['Perc_of_Stages_with_Fixed_Fee'].isnull())\n",
    "nulls.rename(columns = {'Perc_of_Stages_with_Fixed_Fee':'checker'}, inplace = True)\n",
    "nulls = nulls.loc[nulls['checker'] == True]\n",
    "indexes = list(nulls.index.values)\n",
    "nulls = projects.iloc[indexes]\n",
    "nulls"
   ]
  },
  {
   "cell_type": "code",
   "execution_count": null,
   "id": "e2e6bbfd",
   "metadata": {},
   "outputs": [],
   "source": [
    "stages.loc[stages['Project_ID'] == 15907 | 59885 | 60137]"
   ]
  },
  {
   "cell_type": "markdown",
   "id": "85a7f91e",
   "metadata": {},
   "source": [
    "It turns out, 3 projects are not included in the 'stages' tables, so their stages attributes are not recorded."
   ]
  },
  {
   "cell_type": "code",
   "execution_count": null,
   "id": "a620cf2b",
   "metadata": {},
   "outputs": [],
   "source": [
    "# Stage_Duration_Weeks\n",
    "df_4 = pd.DataFrame(stages['Stage_Start_Date'].notnull() & stages['Stage_End_Date'].notnull())\n",
    "df_4.rename(columns = {0:'checker'}, inplace = True)\n",
    "df_4 = df_4.loc[df_4['checker'] == True]\n",
    "\n",
    "stages = pd.merge(stages, df_4, left_index=True, right_index=True)\n",
    "stages['Stage_Duration_Weeks'] = ((stages['Stage_End_Date'] - stages['Stage_Start_Date']).astype('timedelta64[W]'))\n",
    "stages.drop(columns = 'checker', inplace = True)"
   ]
  },
  {
   "cell_type": "markdown",
   "id": "16897d55",
   "metadata": {},
   "source": [
    "## 5. <a class=\"anchor\" id=\"5\"></a> Data health"
   ]
  },
  {
   "cell_type": "markdown",
   "id": "44335ee3",
   "metadata": {},
   "source": [
    "This section resulted in *aec.health* table in RDS for Client X."
   ]
  },
  {
   "cell_type": "code",
   "execution_count": null,
   "id": "7e404917",
   "metadata": {},
   "outputs": [],
   "source": [
    "# Load only valid projects\n",
    "health = pd.read_csv('csv-files/wga_power_bi_stages.csv', encoding = 'ISO-8859-1',  low_memory=False)\n",
    "health = (health[health['Project ID'].isin(valid_ids)])\n",
    "\n",
    "# Only leave columns that are relevant\n",
    "health = health[['Project ID', 'Stage ID',\n",
    "                 'Data Quality - Has Issues',\n",
    "                 'Data Quality - Has Inactive Staff Resourced', \n",
    "                 'Health - % Duration Complete',\n",
    "                 'Health - % Fee Used', 'Health - Stages With Alerts #']]\n",
    "\n",
    "# Convert columns for unified style\n",
    "health.rename(columns = {'Data Quality - Has Issues': 'DQ_Has_Issues',\n",
    "                         'Data Quality - Has Inactive Staff Resourced':'DQ_Has_Inactive_Staff_Resourced',\n",
    "                         'Health - % Duration Complete':'Health_Perc_Duration_Complete',\n",
    "                         'Health - % Fee Used':'Health_Perc_Fee_Used',\n",
    "                         'Health - Stages With Alerts #':'Alerts_Total_Per_Stage'}, inplace = True)\n",
    "\n",
    "health['DQ_Has_Issues'].replace(['No', 'Yes'],[False, True],inplace=True)\n",
    "health['DQ_Has_Inactive_Staff_Resourced'].replace(['No', 'Yes'],[False, True],inplace=True)\n",
    "health.columns = health.columns.str.replace(' ', '_')\n",
    "\n",
    "health.head(1)"
   ]
  },
  {
   "cell_type": "code",
   "execution_count": null,
   "id": "8ac68f06",
   "metadata": {},
   "outputs": [],
   "source": [
    "health.info()"
   ]
  },
  {
   "cell_type": "code",
   "execution_count": null,
   "id": "42c6fa62",
   "metadata": {},
   "outputs": [],
   "source": [
    "health['Health_Perc_Duration_Complete'].value_counts()"
   ]
  },
  {
   "cell_type": "code",
   "execution_count": null,
   "id": "5e363839",
   "metadata": {},
   "outputs": [],
   "source": [
    "(health.loc[health['Health_Perc_Duration_Complete'] == 'â']).head(1)"
   ]
  },
  {
   "cell_type": "markdown",
   "id": "d13260c4",
   "metadata": {},
   "source": [
    "I investigated 'Health - % Duration Complete' column for project ID 1082353 in the original CSV file. The 'â' symbol stands for the infinite sign in Microsoft Excel's encoding. Hence, calculation in DAX must have been incorrect, as percentage cannot be infinite, unless divided by 0. This is why I will switch all of the faulty values to nulls."
   ]
  },
  {
   "cell_type": "code",
   "execution_count": null,
   "id": "6c5e68ca",
   "metadata": {},
   "outputs": [],
   "source": [
    "health['Health_Perc_Duration_Complete'].replace({'â': None},inplace = True)\n",
    "health['Health_Perc_Duration_Complete'] = health['Health_Perc_Duration_Complete'].astype('float')"
   ]
  },
  {
   "cell_type": "code",
   "execution_count": null,
   "id": "c10e5bd9",
   "metadata": {},
   "outputs": [],
   "source": [
    "health.info()"
   ]
  },
  {
   "cell_type": "code",
   "execution_count": null,
   "id": "40ab33da",
   "metadata": {},
   "outputs": [],
   "source": [
    "checker = health[health['Project_ID'].isin([368035]) == True]\n",
    "checker = checker[['Project_ID', 'Stage_ID', 'Alerts_Total_Per_Stage']]\n",
    "checker"
   ]
  },
  {
   "cell_type": "markdown",
   "id": "b34d0550",
   "metadata": {},
   "source": [
    "**1 feature to engineer:**\n",
    "* Total_Data_Issues"
   ]
  },
  {
   "cell_type": "code",
   "execution_count": null,
   "id": "424b35a6",
   "metadata": {},
   "outputs": [],
   "source": [
    "# Alerts_Total_Per_Project\n",
    "issues = health.groupby(['Project_ID'], sort=False).sum('Alerts_Total_Per_Stage').reset_index()\n",
    "issues = issues[['Project_ID', 'Alerts_Total_Per_Stage']]\n",
    "issues.rename(columns = {'Alerts_Total_Per_Stage':'Total_Data_Issues'}, inplace = True)\n",
    "projects = pd.merge(projects, issues, how ='left', on='Project_ID')\n",
    "projects.head(1)"
   ]
  },
  {
   "cell_type": "markdown",
   "id": "32c19eaa",
   "metadata": {},
   "source": [
    "## 6. <a class=\"anchor\" id=\"6\"></a> Clients"
   ]
  },
  {
   "cell_type": "markdown",
   "id": "b896a961",
   "metadata": {},
   "source": [
    "This section resulted in *aec.clients* table in RDS for Client X."
   ]
  },
  {
   "cell_type": "markdown",
   "id": "1b70055d",
   "metadata": {},
   "source": [
    "Step 1: Cleaning all given data, from Synergy API and Power BI."
   ]
  },
  {
   "cell_type": "code",
   "execution_count": null,
   "id": "a6e69387",
   "metadata": {},
   "outputs": [],
   "source": [
    "# Step 1: Cleaning data from Synergy API.\n",
    "api_clients = pd.read_csv('csv-files/wga_synergy_overnight_1_clients.csv')\n",
    "api_clients.drop(columns = {'Client Name', 'Unnamed: 0', 'Contact Type', 'Organisation ID'}, inplace = True)\n",
    "api_clients['Created Date'] = pd.to_datetime(api_clients['Created Date'])\n",
    "\n",
    "# Step 2: Cleaning transformed PowerBI data from S2R Analytics.\n",
    "pbi_clients = pd.read_csv('csv-files/wga_power_bi_clients.csv', encoding = 'ISO-8859-1')\n",
    "pbi_clients = pbi_clients[['Client ID', 'Client Projects - Total No', 'Client Projects - First Project ID']]\n",
    "pbi_clients.rename(columns = {'Client Projects - Total No': 'Client Projects Total No',\n",
    "                              'Client Projects - First Project ID':'1st Project ID'}, inplace = True)\n",
    "\n",
    "# Step 3: Merge the two 'Clients' tables together.\n",
    "clients = pd.merge(api_clients, pbi_clients,  how='left', left_on='Client ID', right_on='Client ID')\n",
    "clients.columns = clients.columns.str.replace(' ', '_')\n",
    "clients.head(1)"
   ]
  },
  {
   "cell_type": "code",
   "execution_count": null,
   "id": "db0e9e9f",
   "metadata": {},
   "outputs": [],
   "source": [
    "clients['Client_ID'].nunique()"
   ]
  },
  {
   "cell_type": "markdown",
   "id": "19f115ff",
   "metadata": {},
   "source": [
    "**3 features to engineer:**\n",
    "* Client_Duration_Months\n",
    "* Client_Is_Repeated\n",
    "* Client_Is_Recent"
   ]
  },
  {
   "cell_type": "code",
   "execution_count": null,
   "id": "bd3e50c0",
   "metadata": {},
   "outputs": [],
   "source": [
    "# Client_Is_Repeated\n",
    "clients['Client_Is_Repeated'] = clients['1st_Project_ID'].notnull()\n",
    "\n",
    "# Client_Duration_Months\n",
    "clients['Client_Duration_Months'] = datetime.now() - clients['Created_Date']\n",
    "clients['Client_Duration_Months'] = (clients['Client_Duration_Months'].astype('timedelta64[M]'))\n",
    "clients['Client_Duration_Months'].isnull().sum()"
   ]
  },
  {
   "cell_type": "code",
   "execution_count": null,
   "id": "852759cc",
   "metadata": {},
   "outputs": [],
   "source": [
    "# Client_Is_Recent\n",
    "\n",
    "Client_Is_Recent = {}\n",
    "\n",
    "for months in clients['Client_Duration_Months']:\n",
    "    if months < 6:\n",
    "        Client_Is_Recent[months] = True\n",
    "    else:\n",
    "        Client_Is_Recent[months] = False\n",
    "         \n",
    "df_12 = pd.DataFrame(\n",
    "    [{'Client_Duration_Months': months, 'Client_Is_Recent': recent_status} for (months, recent_status) in Client_Is_Recent.items()])\n",
    "\n",
    "clients = pd.merge(clients, df_12, how='left', on='Client_Duration_Months')\n",
    "clients.head(1)"
   ]
  },
  {
   "cell_type": "code",
   "execution_count": null,
   "id": "f6342272",
   "metadata": {},
   "outputs": [],
   "source": [
    "clients.info()"
   ]
  },
  {
   "cell_type": "markdown",
   "id": "7312c905",
   "metadata": {},
   "source": [
    "## 7. <a class=\"anchor\" id=\"7\"></a> Clean-up"
   ]
  },
  {
   "cell_type": "code",
   "execution_count": null,
   "id": "37e487aa",
   "metadata": {},
   "outputs": [],
   "source": [
    "projects"
   ]
  },
  {
   "cell_type": "code",
   "execution_count": null,
   "id": "c9e706fc",
   "metadata": {},
   "outputs": [],
   "source": [
    "projects.columns"
   ]
  },
  {
   "cell_type": "code",
   "execution_count": null,
   "id": "523cb6da",
   "metadata": {},
   "outputs": [],
   "source": [
    "len(projects.columns)"
   ]
  },
  {
   "cell_type": "code",
   "execution_count": null,
   "id": "7660b980",
   "metadata": {},
   "outputs": [],
   "source": [
    "# Drop columns unnecessary for analysis and rearrange\n",
    "projects = projects[['Project_ID', 'Country', 'Office', 'Sector', 'Project_Size_Sort_Order', 'Project_Duration_Weeks',\n",
    "                'Total_Num_Stages', 'Is_Multi_Discipline_Project', 'Is_First_Client_Project',\n",
    "                'Perc_of_Stages_with_Fixed_Fee',\n",
    "                'Manager_ID', 'Manager_Is_Recent', 'Manager_Empl_Months',\n",
    "                'Director_ID', 'Director_Is_Recent', 'Director_Empl_Months',\n",
    "                'Perc_of_Subcontractors','Is_Front_Loaded', 'Delivered_on_Time', 'Profit_Margin']]\n",
    "\n",
    "len(projects.columns)"
   ]
  },
  {
   "cell_type": "markdown",
   "id": "81b37f4a",
   "metadata": {},
   "source": [
    "Dropped 3 columns: Project_Status, Due_Date, Execution_Timeframe."
   ]
  },
  {
   "cell_type": "code",
   "execution_count": null,
   "id": "14b11eee",
   "metadata": {},
   "outputs": [],
   "source": [
    "%who DataFrame"
   ]
  },
  {
   "cell_type": "code",
   "execution_count": null,
   "id": "753103a7",
   "metadata": {},
   "outputs": [],
   "source": [
    "# Release all dataframes from Python memory apart from final ones that go into the WGA schema\n",
    "dfs = [active, all_dates, all_projects, all_stages, api_clients, api_projects, checker, custom_fields, dates_prep, df_1, df_10, df_11, df_12, df_13, df_14,\n",
    "       df_2, df_3, df_4, df_5, df_6, df_7, df_8, df_9, directors, external_projects, first_half, health, infinites, issues, leavers,\n",
    "       managers, max_dates, min_dates, neg_weeks, nulls, pbi_clients, pbi_projects, project_dates, project_transactions, staff, stage_transactions, subs,\n",
    "       successful_projects, test, total_hours, total_units]\n",
    "del active, all_dates, all_projects, all_stages, api_clients, api_projects, checker, custom_fields, dates_prep, df_1, df_10, df_11, df_12, df_13, df_14, df_2, df_3, df_4, df_5, df_6, df_7, df_8, df_9, directors, external_projects, first_half, health, infinites, issues, leavers, managers,  max_dates, min_dates, neg_weeks, nulls, pbi_clients, pbi_projects, project_dates, project_transactions, staff, stage_transactions, subs, successful_projects, test, total_hours,total_units\n",
    "del dfs"
   ]
  },
  {
   "cell_type": "code",
   "execution_count": null,
   "id": "34c38825",
   "metadata": {},
   "outputs": [],
   "source": [
    "%who DataFrame"
   ]
  },
  {
   "cell_type": "markdown",
   "id": "3b06ce8f",
   "metadata": {},
   "source": [
    "## 8. <a class=\"anchor\" id=\"8\"></a> Pre-processing"
   ]
  },
  {
   "cell_type": "code",
   "execution_count": null,
   "id": "3b6fa925",
   "metadata": {},
   "outputs": [],
   "source": [
    "df = copy.deepcopy(df1)\n",
    "\n",
    "# See the number of columns having null values in the new dataset with dropped rows\n",
    "cols = df.columns[df.isnull().any()].to_list()\n",
    "\n",
    "for c in cols:\n",
    "    print(c, df[c].isnull().sum())"
   ]
  },
  {
   "cell_type": "code",
   "execution_count": null,
   "id": "03a0cc08",
   "metadata": {},
   "outputs": [],
   "source": [
    "X = df.drop(['Profit_Margin'], axis = 1).copy()\n",
    "X.columns = X.columns.str.replace('_', ' ')\n",
    "\n",
    "corr = X.corr()\n",
    "colors = sns.diverging_palette(37, 12.5, as_cmap = True)\n",
    "plt.labels = []\n",
    "plt.figure(figsize = (12,10))\n",
    "sns.heatmap(round(corr, 3), vmin=-1, vmax=1, cmap='YlGnBu', linewidths=.2)\n",
    "plt.grid(visible=False, color='#f68c1f', alpha=0.1)\n",
    "plt.title('Correlation Matrix', size = 20)\n",
    "plt.show()"
   ]
  },
  {
   "cell_type": "code",
   "execution_count": null,
   "id": "c6082b1b",
   "metadata": {},
   "outputs": [],
   "source": [
    "vif_info = pd.DataFrame()\n",
    "vif_info['VIF'] = [variance_inflation_factor(X.values, i) for i in range(X.shape[1])]\n",
    "vif_info['Column'] = X.columns\n",
    "vif_info.sort_values('VIF', ascending=False)"
   ]
  },
  {
   "cell_type": "code",
   "execution_count": null,
   "id": "beaad3b6",
   "metadata": {},
   "outputs": [],
   "source": [
    "# Save the final dataframes in CSV format\n",
    "projects.to_csv('csv-files/complete_project.csv', index=False)"
   ]
  }
 ],
 "metadata": {
  "accelerator": "GPU",
  "colab": {
   "collapsed_sections": [],
   "name": "Copy of MSIN0097: Predictive Analytics.ipynb",
   "provenance": [
    {
     "file_id": "1wMnYS6Zd-TSClglZnpa6s87vKhDqcJPV",
     "timestamp": 1646991414543
    }
   ]
  },
  "kernelspec": {
   "display_name": "Python 3.10.2 ('venv': venv)",
   "language": "python",
   "name": "python3"
  },
  "language_info": {
   "codemirror_mode": {
    "name": "ipython",
    "version": 3
   },
   "file_extension": ".py",
   "mimetype": "text/x-python",
   "name": "python",
   "nbconvert_exporter": "python",
   "pygments_lexer": "ipython3",
   "version": "3.10.2"
  },
  "vscode": {
   "interpreter": {
    "hash": "32faf87829e52f10b3379fa51fb017496aba8a2082e84bf41be67a5b199752f4"
   }
  }
 },
 "nbformat": 4,
 "nbformat_minor": 5
}
